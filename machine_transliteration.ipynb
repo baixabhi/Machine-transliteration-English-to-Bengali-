{
  "metadata": {
    "kernelspec": {
      "name": "python3",
      "display_name": "Python 3",
      "language": "python"
    },
    "language_info": {
      "name": "python",
      "version": "3.10.13",
      "mimetype": "text/x-python",
      "codemirror_mode": {
        "name": "ipython",
        "version": 3
      },
      "pygments_lexer": "ipython3",
      "nbconvert_exporter": "python",
      "file_extension": ".py"
    },
    "colab": {
      "provenance": [],
      "gpuType": "T4",
      "include_colab_link": true
    },
    "accelerator": "GPU",
    "widgets": {
      "application/vnd.jupyter.widget-state+json": {
        "c8cc9de66fa14b95b57a9acdade4baf1": {
          "model_module": "@jupyter-widgets/controls",
          "model_name": "HBoxModel",
          "model_module_version": "1.5.0",
          "state": {
            "_dom_classes": [],
            "_model_module": "@jupyter-widgets/controls",
            "_model_module_version": "1.5.0",
            "_model_name": "HBoxModel",
            "_view_count": null,
            "_view_module": "@jupyter-widgets/controls",
            "_view_module_version": "1.5.0",
            "_view_name": "HBoxView",
            "box_style": "",
            "children": [
              "IPY_MODEL_1f5f7cbd9de14a65851d62a87d8bd84c",
              "IPY_MODEL_e1c8250365754267ae6c257227ea4acd",
              "IPY_MODEL_b633ea13dff14111b29ba519a7f0f43c"
            ],
            "layout": "IPY_MODEL_8091a685eebe4fef973f380c58770d62"
          }
        },
        "1f5f7cbd9de14a65851d62a87d8bd84c": {
          "model_module": "@jupyter-widgets/controls",
          "model_name": "HTMLModel",
          "model_module_version": "1.5.0",
          "state": {
            "_dom_classes": [],
            "_model_module": "@jupyter-widgets/controls",
            "_model_module_version": "1.5.0",
            "_model_name": "HTMLModel",
            "_view_count": null,
            "_view_module": "@jupyter-widgets/controls",
            "_view_module_version": "1.5.0",
            "_view_name": "HTMLView",
            "description": "",
            "description_tooltip": null,
            "layout": "IPY_MODEL_843ea56843444b3a97829fb899e539e4",
            "placeholder": "​",
            "style": "IPY_MODEL_0e16ac91161d4d27b5f0a094182c0eb1",
            "value": "Downloading builder script: "
          }
        },
        "e1c8250365754267ae6c257227ea4acd": {
          "model_module": "@jupyter-widgets/controls",
          "model_name": "FloatProgressModel",
          "model_module_version": "1.5.0",
          "state": {
            "_dom_classes": [],
            "_model_module": "@jupyter-widgets/controls",
            "_model_module_version": "1.5.0",
            "_model_name": "FloatProgressModel",
            "_view_count": null,
            "_view_module": "@jupyter-widgets/controls",
            "_view_module_version": "1.5.0",
            "_view_name": "ProgressView",
            "bar_style": "success",
            "description": "",
            "description_tooltip": null,
            "layout": "IPY_MODEL_9cc5c5185e494216ac5b62054a98ca2f",
            "max": 2478,
            "min": 0,
            "orientation": "horizontal",
            "style": "IPY_MODEL_3e364f15d446450fa5f915d61c415a96",
            "value": 2478
          }
        },
        "b633ea13dff14111b29ba519a7f0f43c": {
          "model_module": "@jupyter-widgets/controls",
          "model_name": "HTMLModel",
          "model_module_version": "1.5.0",
          "state": {
            "_dom_classes": [],
            "_model_module": "@jupyter-widgets/controls",
            "_model_module_version": "1.5.0",
            "_model_name": "HTMLModel",
            "_view_count": null,
            "_view_module": "@jupyter-widgets/controls",
            "_view_module_version": "1.5.0",
            "_view_name": "HTMLView",
            "description": "",
            "description_tooltip": null,
            "layout": "IPY_MODEL_83502dd5f8844cb7b54e177f8cc850e9",
            "placeholder": "​",
            "style": "IPY_MODEL_5e368d234a024ab8b5f8b6870eeca721",
            "value": " 6.06k/? [00:00&lt;00:00, 222kB/s]"
          }
        },
        "8091a685eebe4fef973f380c58770d62": {
          "model_module": "@jupyter-widgets/base",
          "model_name": "LayoutModel",
          "model_module_version": "1.2.0",
          "state": {
            "_model_module": "@jupyter-widgets/base",
            "_model_module_version": "1.2.0",
            "_model_name": "LayoutModel",
            "_view_count": null,
            "_view_module": "@jupyter-widgets/base",
            "_view_module_version": "1.2.0",
            "_view_name": "LayoutView",
            "align_content": null,
            "align_items": null,
            "align_self": null,
            "border": null,
            "bottom": null,
            "display": null,
            "flex": null,
            "flex_flow": null,
            "grid_area": null,
            "grid_auto_columns": null,
            "grid_auto_flow": null,
            "grid_auto_rows": null,
            "grid_column": null,
            "grid_gap": null,
            "grid_row": null,
            "grid_template_areas": null,
            "grid_template_columns": null,
            "grid_template_rows": null,
            "height": null,
            "justify_content": null,
            "justify_items": null,
            "left": null,
            "margin": null,
            "max_height": null,
            "max_width": null,
            "min_height": null,
            "min_width": null,
            "object_fit": null,
            "object_position": null,
            "order": null,
            "overflow": null,
            "overflow_x": null,
            "overflow_y": null,
            "padding": null,
            "right": null,
            "top": null,
            "visibility": null,
            "width": null
          }
        },
        "843ea56843444b3a97829fb899e539e4": {
          "model_module": "@jupyter-widgets/base",
          "model_name": "LayoutModel",
          "model_module_version": "1.2.0",
          "state": {
            "_model_module": "@jupyter-widgets/base",
            "_model_module_version": "1.2.0",
            "_model_name": "LayoutModel",
            "_view_count": null,
            "_view_module": "@jupyter-widgets/base",
            "_view_module_version": "1.2.0",
            "_view_name": "LayoutView",
            "align_content": null,
            "align_items": null,
            "align_self": null,
            "border": null,
            "bottom": null,
            "display": null,
            "flex": null,
            "flex_flow": null,
            "grid_area": null,
            "grid_auto_columns": null,
            "grid_auto_flow": null,
            "grid_auto_rows": null,
            "grid_column": null,
            "grid_gap": null,
            "grid_row": null,
            "grid_template_areas": null,
            "grid_template_columns": null,
            "grid_template_rows": null,
            "height": null,
            "justify_content": null,
            "justify_items": null,
            "left": null,
            "margin": null,
            "max_height": null,
            "max_width": null,
            "min_height": null,
            "min_width": null,
            "object_fit": null,
            "object_position": null,
            "order": null,
            "overflow": null,
            "overflow_x": null,
            "overflow_y": null,
            "padding": null,
            "right": null,
            "top": null,
            "visibility": null,
            "width": null
          }
        },
        "0e16ac91161d4d27b5f0a094182c0eb1": {
          "model_module": "@jupyter-widgets/controls",
          "model_name": "DescriptionStyleModel",
          "model_module_version": "1.5.0",
          "state": {
            "_model_module": "@jupyter-widgets/controls",
            "_model_module_version": "1.5.0",
            "_model_name": "DescriptionStyleModel",
            "_view_count": null,
            "_view_module": "@jupyter-widgets/base",
            "_view_module_version": "1.2.0",
            "_view_name": "StyleView",
            "description_width": ""
          }
        },
        "9cc5c5185e494216ac5b62054a98ca2f": {
          "model_module": "@jupyter-widgets/base",
          "model_name": "LayoutModel",
          "model_module_version": "1.2.0",
          "state": {
            "_model_module": "@jupyter-widgets/base",
            "_model_module_version": "1.2.0",
            "_model_name": "LayoutModel",
            "_view_count": null,
            "_view_module": "@jupyter-widgets/base",
            "_view_module_version": "1.2.0",
            "_view_name": "LayoutView",
            "align_content": null,
            "align_items": null,
            "align_self": null,
            "border": null,
            "bottom": null,
            "display": null,
            "flex": null,
            "flex_flow": null,
            "grid_area": null,
            "grid_auto_columns": null,
            "grid_auto_flow": null,
            "grid_auto_rows": null,
            "grid_column": null,
            "grid_gap": null,
            "grid_row": null,
            "grid_template_areas": null,
            "grid_template_columns": null,
            "grid_template_rows": null,
            "height": null,
            "justify_content": null,
            "justify_items": null,
            "left": null,
            "margin": null,
            "max_height": null,
            "max_width": null,
            "min_height": null,
            "min_width": null,
            "object_fit": null,
            "object_position": null,
            "order": null,
            "overflow": null,
            "overflow_x": null,
            "overflow_y": null,
            "padding": null,
            "right": null,
            "top": null,
            "visibility": null,
            "width": null
          }
        },
        "3e364f15d446450fa5f915d61c415a96": {
          "model_module": "@jupyter-widgets/controls",
          "model_name": "ProgressStyleModel",
          "model_module_version": "1.5.0",
          "state": {
            "_model_module": "@jupyter-widgets/controls",
            "_model_module_version": "1.5.0",
            "_model_name": "ProgressStyleModel",
            "_view_count": null,
            "_view_module": "@jupyter-widgets/base",
            "_view_module_version": "1.2.0",
            "_view_name": "StyleView",
            "bar_color": null,
            "description_width": ""
          }
        },
        "83502dd5f8844cb7b54e177f8cc850e9": {
          "model_module": "@jupyter-widgets/base",
          "model_name": "LayoutModel",
          "model_module_version": "1.2.0",
          "state": {
            "_model_module": "@jupyter-widgets/base",
            "_model_module_version": "1.2.0",
            "_model_name": "LayoutModel",
            "_view_count": null,
            "_view_module": "@jupyter-widgets/base",
            "_view_module_version": "1.2.0",
            "_view_name": "LayoutView",
            "align_content": null,
            "align_items": null,
            "align_self": null,
            "border": null,
            "bottom": null,
            "display": null,
            "flex": null,
            "flex_flow": null,
            "grid_area": null,
            "grid_auto_columns": null,
            "grid_auto_flow": null,
            "grid_auto_rows": null,
            "grid_column": null,
            "grid_gap": null,
            "grid_row": null,
            "grid_template_areas": null,
            "grid_template_columns": null,
            "grid_template_rows": null,
            "height": null,
            "justify_content": null,
            "justify_items": null,
            "left": null,
            "margin": null,
            "max_height": null,
            "max_width": null,
            "min_height": null,
            "min_width": null,
            "object_fit": null,
            "object_position": null,
            "order": null,
            "overflow": null,
            "overflow_x": null,
            "overflow_y": null,
            "padding": null,
            "right": null,
            "top": null,
            "visibility": null,
            "width": null
          }
        },
        "5e368d234a024ab8b5f8b6870eeca721": {
          "model_module": "@jupyter-widgets/controls",
          "model_name": "DescriptionStyleModel",
          "model_module_version": "1.5.0",
          "state": {
            "_model_module": "@jupyter-widgets/controls",
            "_model_module_version": "1.5.0",
            "_model_name": "DescriptionStyleModel",
            "_view_count": null,
            "_view_module": "@jupyter-widgets/base",
            "_view_module_version": "1.2.0",
            "_view_name": "StyleView",
            "description_width": ""
          }
        },
        "3e8d4806a4da402da42c1d6b66346379": {
          "model_module": "@jupyter-widgets/controls",
          "model_name": "HBoxModel",
          "model_module_version": "1.5.0",
          "state": {
            "_dom_classes": [],
            "_model_module": "@jupyter-widgets/controls",
            "_model_module_version": "1.5.0",
            "_model_name": "HBoxModel",
            "_view_count": null,
            "_view_module": "@jupyter-widgets/controls",
            "_view_module_version": "1.5.0",
            "_view_name": "HBoxView",
            "box_style": "",
            "children": [
              "IPY_MODEL_c8d8ed90bc734ca8b53aeda584bedf3b",
              "IPY_MODEL_6a407062e1e247c09b1958ea4c11cdf8",
              "IPY_MODEL_08d91759c959440dbcc6afbdcf34ca0f"
            ],
            "layout": "IPY_MODEL_ad3517e2a5e743619907fe8497c7ddc0"
          }
        },
        "c8d8ed90bc734ca8b53aeda584bedf3b": {
          "model_module": "@jupyter-widgets/controls",
          "model_name": "HTMLModel",
          "model_module_version": "1.5.0",
          "state": {
            "_dom_classes": [],
            "_model_module": "@jupyter-widgets/controls",
            "_model_module_version": "1.5.0",
            "_model_name": "HTMLModel",
            "_view_count": null,
            "_view_module": "@jupyter-widgets/controls",
            "_view_module_version": "1.5.0",
            "_view_name": "HTMLView",
            "description": "",
            "description_tooltip": null,
            "layout": "IPY_MODEL_5529be532b2a4d3b9bd08cc19e0166fa",
            "placeholder": "​",
            "style": "IPY_MODEL_21c43c7ce3344d208791838ee614fca1",
            "value": "Downloading extra modules: "
          }
        },
        "6a407062e1e247c09b1958ea4c11cdf8": {
          "model_module": "@jupyter-widgets/controls",
          "model_name": "FloatProgressModel",
          "model_module_version": "1.5.0",
          "state": {
            "_dom_classes": [],
            "_model_module": "@jupyter-widgets/controls",
            "_model_module_version": "1.5.0",
            "_model_name": "FloatProgressModel",
            "_view_count": null,
            "_view_module": "@jupyter-widgets/controls",
            "_view_module_version": "1.5.0",
            "_view_name": "ProgressView",
            "bar_style": "success",
            "description": "",
            "description_tooltip": null,
            "layout": "IPY_MODEL_f139b187d92d47b68a7885e7c67637f0",
            "max": 1554,
            "min": 0,
            "orientation": "horizontal",
            "style": "IPY_MODEL_998ff364d75e4387a07b718d2937c84b",
            "value": 1554
          }
        },
        "08d91759c959440dbcc6afbdcf34ca0f": {
          "model_module": "@jupyter-widgets/controls",
          "model_name": "HTMLModel",
          "model_module_version": "1.5.0",
          "state": {
            "_dom_classes": [],
            "_model_module": "@jupyter-widgets/controls",
            "_model_module_version": "1.5.0",
            "_model_name": "HTMLModel",
            "_view_count": null,
            "_view_module": "@jupyter-widgets/controls",
            "_view_module_version": "1.5.0",
            "_view_name": "HTMLView",
            "description": "",
            "description_tooltip": null,
            "layout": "IPY_MODEL_55a3cfc292ab482aa3c997a2e196892f",
            "placeholder": "​",
            "style": "IPY_MODEL_dc0dbb7f3fc543bc801cefcfffb28413",
            "value": " 4.07k/? [00:00&lt;00:00, 164kB/s]"
          }
        },
        "ad3517e2a5e743619907fe8497c7ddc0": {
          "model_module": "@jupyter-widgets/base",
          "model_name": "LayoutModel",
          "model_module_version": "1.2.0",
          "state": {
            "_model_module": "@jupyter-widgets/base",
            "_model_module_version": "1.2.0",
            "_model_name": "LayoutModel",
            "_view_count": null,
            "_view_module": "@jupyter-widgets/base",
            "_view_module_version": "1.2.0",
            "_view_name": "LayoutView",
            "align_content": null,
            "align_items": null,
            "align_self": null,
            "border": null,
            "bottom": null,
            "display": null,
            "flex": null,
            "flex_flow": null,
            "grid_area": null,
            "grid_auto_columns": null,
            "grid_auto_flow": null,
            "grid_auto_rows": null,
            "grid_column": null,
            "grid_gap": null,
            "grid_row": null,
            "grid_template_areas": null,
            "grid_template_columns": null,
            "grid_template_rows": null,
            "height": null,
            "justify_content": null,
            "justify_items": null,
            "left": null,
            "margin": null,
            "max_height": null,
            "max_width": null,
            "min_height": null,
            "min_width": null,
            "object_fit": null,
            "object_position": null,
            "order": null,
            "overflow": null,
            "overflow_x": null,
            "overflow_y": null,
            "padding": null,
            "right": null,
            "top": null,
            "visibility": null,
            "width": null
          }
        },
        "5529be532b2a4d3b9bd08cc19e0166fa": {
          "model_module": "@jupyter-widgets/base",
          "model_name": "LayoutModel",
          "model_module_version": "1.2.0",
          "state": {
            "_model_module": "@jupyter-widgets/base",
            "_model_module_version": "1.2.0",
            "_model_name": "LayoutModel",
            "_view_count": null,
            "_view_module": "@jupyter-widgets/base",
            "_view_module_version": "1.2.0",
            "_view_name": "LayoutView",
            "align_content": null,
            "align_items": null,
            "align_self": null,
            "border": null,
            "bottom": null,
            "display": null,
            "flex": null,
            "flex_flow": null,
            "grid_area": null,
            "grid_auto_columns": null,
            "grid_auto_flow": null,
            "grid_auto_rows": null,
            "grid_column": null,
            "grid_gap": null,
            "grid_row": null,
            "grid_template_areas": null,
            "grid_template_columns": null,
            "grid_template_rows": null,
            "height": null,
            "justify_content": null,
            "justify_items": null,
            "left": null,
            "margin": null,
            "max_height": null,
            "max_width": null,
            "min_height": null,
            "min_width": null,
            "object_fit": null,
            "object_position": null,
            "order": null,
            "overflow": null,
            "overflow_x": null,
            "overflow_y": null,
            "padding": null,
            "right": null,
            "top": null,
            "visibility": null,
            "width": null
          }
        },
        "21c43c7ce3344d208791838ee614fca1": {
          "model_module": "@jupyter-widgets/controls",
          "model_name": "DescriptionStyleModel",
          "model_module_version": "1.5.0",
          "state": {
            "_model_module": "@jupyter-widgets/controls",
            "_model_module_version": "1.5.0",
            "_model_name": "DescriptionStyleModel",
            "_view_count": null,
            "_view_module": "@jupyter-widgets/base",
            "_view_module_version": "1.2.0",
            "_view_name": "StyleView",
            "description_width": ""
          }
        },
        "f139b187d92d47b68a7885e7c67637f0": {
          "model_module": "@jupyter-widgets/base",
          "model_name": "LayoutModel",
          "model_module_version": "1.2.0",
          "state": {
            "_model_module": "@jupyter-widgets/base",
            "_model_module_version": "1.2.0",
            "_model_name": "LayoutModel",
            "_view_count": null,
            "_view_module": "@jupyter-widgets/base",
            "_view_module_version": "1.2.0",
            "_view_name": "LayoutView",
            "align_content": null,
            "align_items": null,
            "align_self": null,
            "border": null,
            "bottom": null,
            "display": null,
            "flex": null,
            "flex_flow": null,
            "grid_area": null,
            "grid_auto_columns": null,
            "grid_auto_flow": null,
            "grid_auto_rows": null,
            "grid_column": null,
            "grid_gap": null,
            "grid_row": null,
            "grid_template_areas": null,
            "grid_template_columns": null,
            "grid_template_rows": null,
            "height": null,
            "justify_content": null,
            "justify_items": null,
            "left": null,
            "margin": null,
            "max_height": null,
            "max_width": null,
            "min_height": null,
            "min_width": null,
            "object_fit": null,
            "object_position": null,
            "order": null,
            "overflow": null,
            "overflow_x": null,
            "overflow_y": null,
            "padding": null,
            "right": null,
            "top": null,
            "visibility": null,
            "width": null
          }
        },
        "998ff364d75e4387a07b718d2937c84b": {
          "model_module": "@jupyter-widgets/controls",
          "model_name": "ProgressStyleModel",
          "model_module_version": "1.5.0",
          "state": {
            "_model_module": "@jupyter-widgets/controls",
            "_model_module_version": "1.5.0",
            "_model_name": "ProgressStyleModel",
            "_view_count": null,
            "_view_module": "@jupyter-widgets/base",
            "_view_module_version": "1.2.0",
            "_view_name": "StyleView",
            "bar_color": null,
            "description_width": ""
          }
        },
        "55a3cfc292ab482aa3c997a2e196892f": {
          "model_module": "@jupyter-widgets/base",
          "model_name": "LayoutModel",
          "model_module_version": "1.2.0",
          "state": {
            "_model_module": "@jupyter-widgets/base",
            "_model_module_version": "1.2.0",
            "_model_name": "LayoutModel",
            "_view_count": null,
            "_view_module": "@jupyter-widgets/base",
            "_view_module_version": "1.2.0",
            "_view_name": "LayoutView",
            "align_content": null,
            "align_items": null,
            "align_self": null,
            "border": null,
            "bottom": null,
            "display": null,
            "flex": null,
            "flex_flow": null,
            "grid_area": null,
            "grid_auto_columns": null,
            "grid_auto_flow": null,
            "grid_auto_rows": null,
            "grid_column": null,
            "grid_gap": null,
            "grid_row": null,
            "grid_template_areas": null,
            "grid_template_columns": null,
            "grid_template_rows": null,
            "height": null,
            "justify_content": null,
            "justify_items": null,
            "left": null,
            "margin": null,
            "max_height": null,
            "max_width": null,
            "min_height": null,
            "min_width": null,
            "object_fit": null,
            "object_position": null,
            "order": null,
            "overflow": null,
            "overflow_x": null,
            "overflow_y": null,
            "padding": null,
            "right": null,
            "top": null,
            "visibility": null,
            "width": null
          }
        },
        "dc0dbb7f3fc543bc801cefcfffb28413": {
          "model_module": "@jupyter-widgets/controls",
          "model_name": "DescriptionStyleModel",
          "model_module_version": "1.5.0",
          "state": {
            "_model_module": "@jupyter-widgets/controls",
            "_model_module_version": "1.5.0",
            "_model_name": "DescriptionStyleModel",
            "_view_count": null,
            "_view_module": "@jupyter-widgets/base",
            "_view_module_version": "1.2.0",
            "_view_name": "StyleView",
            "description_width": ""
          }
        }
      }
    },
    "kaggle": {
      "accelerator": "gpu",
      "dataSources": [
        {
          "sourceId": 7686366,
          "sourceType": "datasetVersion",
          "datasetId": 4485247
        }
      ],
      "dockerImageVersionId": 30648,
      "isInternetEnabled": true,
      "language": "python",
      "sourceType": "notebook",
      "isGpuEnabled": true
    }
  },
  "nbformat_minor": 5,
  "nbformat": 4,
  "cells": [
    {
      "cell_type": "markdown",
      "metadata": {
        "id": "view-in-github",
        "colab_type": "text"
      },
      "source": [
        "<a href=\"https://colab.research.google.com/github/baixabhi/Machine-transliteration-English-to-Bengali-/blob/main/machine_transliteration.ipynb\" target=\"_parent\"><img src=\"https://colab.research.google.com/assets/colab-badge.svg\" alt=\"Open In Colab\"/></a>"
      ]
    },
    {
      "cell_type": "code",
      "source": [
        "!pip install datasets"
      ],
      "metadata": {
        "colab": {
          "base_uri": "https://localhost:8080/"
        },
        "id": "uCkt66e77dEP",
        "outputId": "681333f4-fb35-4c20-adc5-92c6b4bc50d9",
        "execution": {
          "iopub.status.busy": "2024-02-23T16:55:17.292429Z",
          "iopub.execute_input": "2024-02-23T16:55:17.292838Z",
          "iopub.status.idle": "2024-02-23T16:55:29.600428Z",
          "shell.execute_reply.started": "2024-02-23T16:55:17.292806Z",
          "shell.execute_reply": "2024-02-23T16:55:29.599349Z"
        },
        "trusted": true
      },
      "execution_count": null,
      "outputs": [
        {
          "name": "stdout",
          "text": "Requirement already satisfied: datasets in /opt/conda/lib/python3.10/site-packages (2.1.0)\nRequirement already satisfied: numpy>=1.17 in /opt/conda/lib/python3.10/site-packages (from datasets) (1.24.4)\nRequirement already satisfied: pyarrow>=5.0.0 in /opt/conda/lib/python3.10/site-packages (from datasets) (11.0.0)\nRequirement already satisfied: dill in /opt/conda/lib/python3.10/site-packages (from datasets) (0.3.7)\nRequirement already satisfied: pandas in /opt/conda/lib/python3.10/site-packages (from datasets) (2.1.4)\nRequirement already satisfied: requests>=2.19.0 in /opt/conda/lib/python3.10/site-packages (from datasets) (2.31.0)\nRequirement already satisfied: tqdm>=4.62.1 in /opt/conda/lib/python3.10/site-packages (from datasets) (4.66.1)\nRequirement already satisfied: xxhash in /opt/conda/lib/python3.10/site-packages (from datasets) (3.4.1)\nRequirement already satisfied: multiprocess in /opt/conda/lib/python3.10/site-packages (from datasets) (0.70.15)\nRequirement already satisfied: fsspec>=2021.05.0 in /opt/conda/lib/python3.10/site-packages (from fsspec[http]>=2021.05.0->datasets) (2023.12.2)\nRequirement already satisfied: aiohttp in /opt/conda/lib/python3.10/site-packages (from datasets) (3.9.1)\nRequirement already satisfied: huggingface-hub<1.0.0,>=0.1.0 in /opt/conda/lib/python3.10/site-packages (from datasets) (0.20.3)\nRequirement already satisfied: packaging in /opt/conda/lib/python3.10/site-packages (from datasets) (21.3)\nRequirement already satisfied: responses<0.19 in /opt/conda/lib/python3.10/site-packages (from datasets) (0.18.0)\nRequirement already satisfied: attrs>=17.3.0 in /opt/conda/lib/python3.10/site-packages (from aiohttp->datasets) (23.2.0)\nRequirement already satisfied: multidict<7.0,>=4.5 in /opt/conda/lib/python3.10/site-packages (from aiohttp->datasets) (6.0.4)\nRequirement already satisfied: yarl<2.0,>=1.0 in /opt/conda/lib/python3.10/site-packages (from aiohttp->datasets) (1.9.3)\nRequirement already satisfied: frozenlist>=1.1.1 in /opt/conda/lib/python3.10/site-packages (from aiohttp->datasets) (1.4.1)\nRequirement already satisfied: aiosignal>=1.1.2 in /opt/conda/lib/python3.10/site-packages (from aiohttp->datasets) (1.3.1)\nRequirement already satisfied: async-timeout<5.0,>=4.0 in /opt/conda/lib/python3.10/site-packages (from aiohttp->datasets) (4.0.3)\nRequirement already satisfied: filelock in /opt/conda/lib/python3.10/site-packages (from huggingface-hub<1.0.0,>=0.1.0->datasets) (3.13.1)\nRequirement already satisfied: pyyaml>=5.1 in /opt/conda/lib/python3.10/site-packages (from huggingface-hub<1.0.0,>=0.1.0->datasets) (6.0.1)\nRequirement already satisfied: typing-extensions>=3.7.4.3 in /opt/conda/lib/python3.10/site-packages (from huggingface-hub<1.0.0,>=0.1.0->datasets) (4.9.0)\nRequirement already satisfied: pyparsing!=3.0.5,>=2.0.2 in /opt/conda/lib/python3.10/site-packages (from packaging->datasets) (3.1.1)\nRequirement already satisfied: charset-normalizer<4,>=2 in /opt/conda/lib/python3.10/site-packages (from requests>=2.19.0->datasets) (3.3.2)\nRequirement already satisfied: idna<4,>=2.5 in /opt/conda/lib/python3.10/site-packages (from requests>=2.19.0->datasets) (3.6)\nRequirement already satisfied: urllib3<3,>=1.21.1 in /opt/conda/lib/python3.10/site-packages (from requests>=2.19.0->datasets) (1.26.18)\nRequirement already satisfied: certifi>=2017.4.17 in /opt/conda/lib/python3.10/site-packages (from requests>=2.19.0->datasets) (2023.11.17)\nRequirement already satisfied: python-dateutil>=2.8.2 in /opt/conda/lib/python3.10/site-packages (from pandas->datasets) (2.8.2)\nRequirement already satisfied: pytz>=2020.1 in /opt/conda/lib/python3.10/site-packages (from pandas->datasets) (2023.3.post1)\nRequirement already satisfied: tzdata>=2022.1 in /opt/conda/lib/python3.10/site-packages (from pandas->datasets) (2023.4)\nRequirement already satisfied: six>=1.5 in /opt/conda/lib/python3.10/site-packages (from python-dateutil>=2.8.2->pandas->datasets) (1.16.0)\n",
          "output_type": "stream"
        }
      ],
      "id": "uCkt66e77dEP"
    },
    {
      "cell_type": "code",
      "source": [
        "!pip install fasttext"
      ],
      "metadata": {
        "colab": {
          "base_uri": "https://localhost:8080/"
        },
        "id": "CnJCDRqa7vXJ",
        "outputId": "dccf3abd-b5cb-4b1d-df29-755ff419ad7e",
        "execution": {
          "iopub.status.busy": "2024-02-23T16:55:29.602597Z",
          "iopub.execute_input": "2024-02-23T16:55:29.602931Z",
          "iopub.status.idle": "2024-02-23T16:55:41.826152Z",
          "shell.execute_reply.started": "2024-02-23T16:55:29.602896Z",
          "shell.execute_reply": "2024-02-23T16:55:41.825022Z"
        },
        "trusted": true
      },
      "execution_count": null,
      "outputs": [
        {
          "name": "stdout",
          "text": "Requirement already satisfied: fasttext in /opt/conda/lib/python3.10/site-packages (0.9.2)\nRequirement already satisfied: pybind11>=2.2 in /opt/conda/lib/python3.10/site-packages (from fasttext) (2.11.1)\nRequirement already satisfied: setuptools>=0.7.0 in /opt/conda/lib/python3.10/site-packages (from fasttext) (69.0.3)\nRequirement already satisfied: numpy in /opt/conda/lib/python3.10/site-packages (from fasttext) (1.24.4)\n",
          "output_type": "stream"
        }
      ],
      "id": "CnJCDRqa7vXJ"
    },
    {
      "cell_type": "code",
      "source": [
        "import json\n",
        "from tqdm import tqdm\n",
        "import pandas as pd\n",
        "tqdm.pandas()\n",
        "import numpy as np\n",
        "\n",
        "import tensorflow as tf\n",
        "from tensorflow import keras\n",
        "from keras.preprocessing.text import Tokenizer\n",
        "from tensorflow.keras.preprocessing.sequence import pad_sequences\n",
        "from keras.layers import LSTM, Input, TimeDistributed, Dense, Activation, RepeatVector, Embedding,Bidirectional,Concatenate\n",
        "from keras.optimizers import *\n",
        "\n",
        "from tensorflow.keras.utils import to_categorical\n",
        "\n",
        "import pickle\n",
        "from datasets import load_metric\n",
        "\n",
        "from nltk.translate.bleu_score import corpus_bleu\n",
        "import fasttext\n",
        "import tqdm as notebook_tqdm"
      ],
      "metadata": {
        "id": "7774b0b5",
        "execution": {
          "iopub.status.busy": "2024-02-23T16:55:41.827929Z",
          "iopub.execute_input": "2024-02-23T16:55:41.828321Z",
          "iopub.status.idle": "2024-02-23T16:55:41.839282Z",
          "shell.execute_reply.started": "2024-02-23T16:55:41.828291Z",
          "shell.execute_reply": "2024-02-23T16:55:41.838388Z"
        },
        "trusted": true
      },
      "execution_count": null,
      "outputs": [],
      "id": "7774b0b5"
    },
    {
      "cell_type": "code",
      "source": [
        "# Read the training data from JSON file\n",
        "train_data = pd.read_json(\"/kaggle/input/ben-machine/ben_train.json\", lines=True)\n",
        "test_data=pd.read_json(\"/kaggle/input/ben-machine/ben_test.json\", lines=True)"
      ],
      "metadata": {
        "id": "a2201bcf",
        "execution": {
          "iopub.status.busy": "2024-02-23T16:55:41.842101Z",
          "iopub.execute_input": "2024-02-23T16:55:41.842440Z",
          "iopub.status.idle": "2024-02-23T16:55:49.152596Z",
          "shell.execute_reply.started": "2024-02-23T16:55:41.842410Z",
          "shell.execute_reply": "2024-02-23T16:55:49.151765Z"
        },
        "trusted": true
      },
      "execution_count": null,
      "outputs": [],
      "id": "a2201bcf"
    },
    {
      "cell_type": "code",
      "source": [
        "#converts the JSON data into a Pandas DataFrame\n",
        "def correct_json_format(json_file_path):\n",
        "    with open(json_file_path, 'r', encoding='utf-8') as file:\n",
        "        json_data = file.read()\n",
        "\n",
        "    # Process the JSON string to insert commas between objects\n",
        "    json_data = json_data.replace('}\\n{', '},{')\n",
        "    json_list = json.loads(f'[{json_data}]')\n",
        "    df = pd.json_normalize(json_list)\n",
        "\n",
        "    return df\n"
      ],
      "metadata": {
        "id": "45071cb5",
        "execution": {
          "iopub.status.busy": "2024-02-23T16:55:49.153719Z",
          "iopub.execute_input": "2024-02-23T16:55:49.154024Z",
          "iopub.status.idle": "2024-02-23T16:55:49.159896Z",
          "shell.execute_reply.started": "2024-02-23T16:55:49.153999Z",
          "shell.execute_reply": "2024-02-23T16:55:49.158809Z"
        },
        "trusted": true
      },
      "execution_count": null,
      "outputs": [],
      "id": "45071cb5"
    },
    {
      "cell_type": "code",
      "source": [
        "df_train = correct_json_format(\"/kaggle/input/ben-machine/ben_train.json\")\n",
        "df_test = correct_json_format(\"/kaggle/input/ben-machine/ben_test.json\")\n"
      ],
      "metadata": {
        "id": "cb7b7ef0",
        "execution": {
          "iopub.status.busy": "2024-02-23T16:55:49.161055Z",
          "iopub.execute_input": "2024-02-23T16:55:49.161327Z",
          "iopub.status.idle": "2024-02-23T16:55:59.938477Z",
          "shell.execute_reply.started": "2024-02-23T16:55:49.161304Z",
          "shell.execute_reply": "2024-02-23T16:55:59.937516Z"
        },
        "trusted": true
      },
      "execution_count": null,
      "outputs": [],
      "id": "cb7b7ef0"
    },
    {
      "cell_type": "code",
      "source": [
        "df_train\n"
      ],
      "metadata": {
        "colab": {
          "base_uri": "https://localhost:8080/",
          "height": 423
        },
        "id": "a634e838",
        "outputId": "6d982317-c134-4756-a6b0-196efa7f0625",
        "execution": {
          "iopub.status.busy": "2024-02-23T16:55:59.939677Z",
          "iopub.execute_input": "2024-02-23T16:55:59.939967Z",
          "iopub.status.idle": "2024-02-23T16:55:59.954338Z",
          "shell.execute_reply.started": "2024-02-23T16:55:59.939943Z",
          "shell.execute_reply": "2024-02-23T16:55:59.953412Z"
        },
        "trusted": true
      },
      "execution_count": null,
      "outputs": [
        {
          "execution_count": 93,
          "output_type": "execute_result",
          "data": {
            "text/plain": "        unique_identifier     native word    english word     source     score\n0                    ben1           ভীষ্ম           vismo   Dakshina       NaN\n1                    ben2          চরিত্র        choritra   Dakshina       NaN\n2                    ben3       অটোরিক্সা   autorickshawa   Dakshina       NaN\n3                    ben4  জ্যোতির্বিদ্যা      jotirvidya   Dakshina       NaN\n4                    ben5      ভৌগলিকভাবে  bhougleekbhabe   Dakshina       NaN\n...                   ...             ...             ...        ...       ...\n1231423        ben1231424          আদমগড়        adamgarh  IndicCorp -0.070839\n1231424        ben1231425          মনাভাই        manabhai  IndicCorp -0.253134\n1231425        ben1231426         সোনালীর         sonalir  IndicCorp -0.212031\n1231426        ben1231427       প্রসেক্কো        prosekko  IndicCorp -0.194534\n1231427        ben1231428         নাফিসরা         nafisra  IndicCorp -0.223915\n\n[1231428 rows x 5 columns]",
            "text/html": "<div>\n<style scoped>\n    .dataframe tbody tr th:only-of-type {\n        vertical-align: middle;\n    }\n\n    .dataframe tbody tr th {\n        vertical-align: top;\n    }\n\n    .dataframe thead th {\n        text-align: right;\n    }\n</style>\n<table border=\"1\" class=\"dataframe\">\n  <thead>\n    <tr style=\"text-align: right;\">\n      <th></th>\n      <th>unique_identifier</th>\n      <th>native word</th>\n      <th>english word</th>\n      <th>source</th>\n      <th>score</th>\n    </tr>\n  </thead>\n  <tbody>\n    <tr>\n      <th>0</th>\n      <td>ben1</td>\n      <td>ভীষ্ম</td>\n      <td>vismo</td>\n      <td>Dakshina</td>\n      <td>NaN</td>\n    </tr>\n    <tr>\n      <th>1</th>\n      <td>ben2</td>\n      <td>চরিত্র</td>\n      <td>choritra</td>\n      <td>Dakshina</td>\n      <td>NaN</td>\n    </tr>\n    <tr>\n      <th>2</th>\n      <td>ben3</td>\n      <td>অটোরিক্সা</td>\n      <td>autorickshawa</td>\n      <td>Dakshina</td>\n      <td>NaN</td>\n    </tr>\n    <tr>\n      <th>3</th>\n      <td>ben4</td>\n      <td>জ্যোতির্বিদ্যা</td>\n      <td>jotirvidya</td>\n      <td>Dakshina</td>\n      <td>NaN</td>\n    </tr>\n    <tr>\n      <th>4</th>\n      <td>ben5</td>\n      <td>ভৌগলিকভাবে</td>\n      <td>bhougleekbhabe</td>\n      <td>Dakshina</td>\n      <td>NaN</td>\n    </tr>\n    <tr>\n      <th>...</th>\n      <td>...</td>\n      <td>...</td>\n      <td>...</td>\n      <td>...</td>\n      <td>...</td>\n    </tr>\n    <tr>\n      <th>1231423</th>\n      <td>ben1231424</td>\n      <td>আদমগড়</td>\n      <td>adamgarh</td>\n      <td>IndicCorp</td>\n      <td>-0.070839</td>\n    </tr>\n    <tr>\n      <th>1231424</th>\n      <td>ben1231425</td>\n      <td>মনাভাই</td>\n      <td>manabhai</td>\n      <td>IndicCorp</td>\n      <td>-0.253134</td>\n    </tr>\n    <tr>\n      <th>1231425</th>\n      <td>ben1231426</td>\n      <td>সোনালীর</td>\n      <td>sonalir</td>\n      <td>IndicCorp</td>\n      <td>-0.212031</td>\n    </tr>\n    <tr>\n      <th>1231426</th>\n      <td>ben1231427</td>\n      <td>প্রসেক্কো</td>\n      <td>prosekko</td>\n      <td>IndicCorp</td>\n      <td>-0.194534</td>\n    </tr>\n    <tr>\n      <th>1231427</th>\n      <td>ben1231428</td>\n      <td>নাফিসরা</td>\n      <td>nafisra</td>\n      <td>IndicCorp</td>\n      <td>-0.223915</td>\n    </tr>\n  </tbody>\n</table>\n<p>1231428 rows × 5 columns</p>\n</div>"
          },
          "metadata": {}
        }
      ],
      "id": "a634e838"
    },
    {
      "cell_type": "code",
      "source": [
        "df_test"
      ],
      "metadata": {
        "colab": {
          "base_uri": "https://localhost:8080/",
          "height": 423
        },
        "id": "cf3021f1",
        "outputId": "e07c0187-07f7-4d14-84f1-e8e41fc641b3",
        "execution": {
          "iopub.status.busy": "2024-02-23T16:55:59.955531Z",
          "iopub.execute_input": "2024-02-23T16:55:59.955823Z",
          "iopub.status.idle": "2024-02-23T16:55:59.972756Z",
          "shell.execute_reply.started": "2024-02-23T16:55:59.955791Z",
          "shell.execute_reply": "2024-02-23T16:55:59.971793Z"
        },
        "trusted": true
      },
      "execution_count": null,
      "outputs": [
        {
          "execution_count": 94,
          "output_type": "execute_result",
          "data": {
            "text/plain": "      unique_identifier    native word     english word    source\n0                  ben1  প্রতিসংখ্যায়  pratisangkhyaay   AK-Freq\n1                  ben2         অতিষ্ঠ          atishth   AK-Freq\n2                  ben3      অকল্পনীয়       akalpaneey   AK-Freq\n3                  ben4      অ্যান্টের            anter   AK-Freq\n4                  ben5         ছাইখুল        chhaikhul   AK-Freq\n...                 ...            ...              ...       ...\n14162          ben14163     দেবদেবীদের      debdebeeder  Dakshina\n14163          ben14164         যক্ষার          jakkhar  Dakshina\n14164          ben14165       গোষ্ঠীগত       gasthigato  Dakshina\n14165          ben14166      অক্ষরগুলো       akkhargulo  Dakshina\n14166          ben14167        উঠেছিলো        uthechila  Dakshina\n\n[14167 rows x 4 columns]",
            "text/html": "<div>\n<style scoped>\n    .dataframe tbody tr th:only-of-type {\n        vertical-align: middle;\n    }\n\n    .dataframe tbody tr th {\n        vertical-align: top;\n    }\n\n    .dataframe thead th {\n        text-align: right;\n    }\n</style>\n<table border=\"1\" class=\"dataframe\">\n  <thead>\n    <tr style=\"text-align: right;\">\n      <th></th>\n      <th>unique_identifier</th>\n      <th>native word</th>\n      <th>english word</th>\n      <th>source</th>\n    </tr>\n  </thead>\n  <tbody>\n    <tr>\n      <th>0</th>\n      <td>ben1</td>\n      <td>প্রতিসংখ্যায়</td>\n      <td>pratisangkhyaay</td>\n      <td>AK-Freq</td>\n    </tr>\n    <tr>\n      <th>1</th>\n      <td>ben2</td>\n      <td>অতিষ্ঠ</td>\n      <td>atishth</td>\n      <td>AK-Freq</td>\n    </tr>\n    <tr>\n      <th>2</th>\n      <td>ben3</td>\n      <td>অকল্পনীয়</td>\n      <td>akalpaneey</td>\n      <td>AK-Freq</td>\n    </tr>\n    <tr>\n      <th>3</th>\n      <td>ben4</td>\n      <td>অ্যান্টের</td>\n      <td>anter</td>\n      <td>AK-Freq</td>\n    </tr>\n    <tr>\n      <th>4</th>\n      <td>ben5</td>\n      <td>ছাইখুল</td>\n      <td>chhaikhul</td>\n      <td>AK-Freq</td>\n    </tr>\n    <tr>\n      <th>...</th>\n      <td>...</td>\n      <td>...</td>\n      <td>...</td>\n      <td>...</td>\n    </tr>\n    <tr>\n      <th>14162</th>\n      <td>ben14163</td>\n      <td>দেবদেবীদের</td>\n      <td>debdebeeder</td>\n      <td>Dakshina</td>\n    </tr>\n    <tr>\n      <th>14163</th>\n      <td>ben14164</td>\n      <td>যক্ষার</td>\n      <td>jakkhar</td>\n      <td>Dakshina</td>\n    </tr>\n    <tr>\n      <th>14164</th>\n      <td>ben14165</td>\n      <td>গোষ্ঠীগত</td>\n      <td>gasthigato</td>\n      <td>Dakshina</td>\n    </tr>\n    <tr>\n      <th>14165</th>\n      <td>ben14166</td>\n      <td>অক্ষরগুলো</td>\n      <td>akkhargulo</td>\n      <td>Dakshina</td>\n    </tr>\n    <tr>\n      <th>14166</th>\n      <td>ben14167</td>\n      <td>উঠেছিলো</td>\n      <td>uthechila</td>\n      <td>Dakshina</td>\n    </tr>\n  </tbody>\n</table>\n<p>14167 rows × 4 columns</p>\n</div>"
          },
          "metadata": {}
        }
      ],
      "id": "cf3021f1"
    },
    {
      "cell_type": "code",
      "source": [
        "#subset train DataFrame\n",
        "subset_df_train=df_train.sample(frac=0.3).reset_index(drop=True)\n",
        "subset_df_train.shape"
      ],
      "metadata": {
        "colab": {
          "base_uri": "https://localhost:8080/"
        },
        "id": "rMUxstVM-D6N",
        "outputId": "f5a6f374-7af1-477a-aba6-ee4ea2d76735",
        "execution": {
          "iopub.status.busy": "2024-02-23T16:55:59.973893Z",
          "iopub.execute_input": "2024-02-23T16:55:59.974244Z",
          "iopub.status.idle": "2024-02-23T16:56:00.238638Z",
          "shell.execute_reply.started": "2024-02-23T16:55:59.974213Z",
          "shell.execute_reply": "2024-02-23T16:56:00.237725Z"
        },
        "trusted": true
      },
      "execution_count": null,
      "outputs": [
        {
          "execution_count": 95,
          "output_type": "execute_result",
          "data": {
            "text/plain": "(369428, 5)"
          },
          "metadata": {}
        }
      ],
      "id": "rMUxstVM-D6N"
    },
    {
      "cell_type": "code",
      "source": [
        "df_train=subset_df_train\n",
        "df_train.shape"
      ],
      "metadata": {
        "colab": {
          "base_uri": "https://localhost:8080/"
        },
        "id": "1-AKQ76T-rs8",
        "outputId": "f01300bb-4e8c-41bd-a2c7-5d224957467b",
        "execution": {
          "iopub.status.busy": "2024-02-23T16:56:00.242371Z",
          "iopub.execute_input": "2024-02-23T16:56:00.242670Z",
          "iopub.status.idle": "2024-02-23T16:56:00.248677Z",
          "shell.execute_reply.started": "2024-02-23T16:56:00.242644Z",
          "shell.execute_reply": "2024-02-23T16:56:00.247741Z"
        },
        "trusted": true
      },
      "execution_count": null,
      "outputs": [
        {
          "execution_count": 96,
          "output_type": "execute_result",
          "data": {
            "text/plain": "(369428, 5)"
          },
          "metadata": {}
        }
      ],
      "id": "1-AKQ76T-rs8"
    },
    {
      "cell_type": "code",
      "source": [
        " #start symbol \"\\t\" at the beginning of the text and an end symbol \"\\n\" at the end of the text(target_text)\n",
        "def add_start_end(target_text):\n",
        "  text = \"\\t\" + target_text + \"\\n\"\n",
        "  return text\n"
      ],
      "metadata": {
        "id": "de9664f3",
        "execution": {
          "iopub.status.busy": "2024-02-23T16:56:00.249675Z",
          "iopub.execute_input": "2024-02-23T16:56:00.249977Z",
          "iopub.status.idle": "2024-02-23T16:56:00.258629Z",
          "shell.execute_reply.started": "2024-02-23T16:56:00.249953Z",
          "shell.execute_reply": "2024-02-23T16:56:00.257772Z"
        },
        "trusted": true
      },
      "execution_count": null,
      "outputs": [],
      "id": "de9664f3"
    },
    {
      "cell_type": "code",
      "source": [
        "#the DataFrame df_train will have a new column 'target_ass' containing the original text values from the 'native word' column with a start symbol \"\\t\" at the beginning and an end symbol \"\\n\" at the end of each text value.\n",
        "df_train['target_ben'] = df_train['native word'].progress_apply(add_start_end)\n",
        "df_train.head()"
      ],
      "metadata": {
        "colab": {
          "base_uri": "https://localhost:8080/",
          "height": 223
        },
        "id": "d7f9df9b",
        "outputId": "60fcb4a9-85ff-4ae2-f1bc-01aa815c3837",
        "execution": {
          "iopub.status.busy": "2024-02-23T16:56:00.259741Z",
          "iopub.execute_input": "2024-02-23T16:56:00.260016Z",
          "iopub.status.idle": "2024-02-23T16:56:00.954495Z",
          "shell.execute_reply.started": "2024-02-23T16:56:00.259994Z",
          "shell.execute_reply": "2024-02-23T16:56:00.953571Z"
        },
        "trusted": true
      },
      "execution_count": null,
      "outputs": [
        {
          "name": "stderr",
          "text": "100%|██████████| 369428/369428 [00:00<00:00, 556246.21it/s]\n",
          "output_type": "stream"
        },
        {
          "execution_count": 98,
          "output_type": "execute_result",
          "data": {
            "text/plain": "  unique_identifier      native word    english word     source     score  \\\n0        ben1187853         মুদিগিরি        mudigiri  IndicCorp -0.056730   \n1         ben593607  অসম্মতিসত্ত্বেও  osommotisotteo  IndicCorp -0.145597   \n2        ben1003218        আর্মান্ডা         armanda  IndicCorp -0.144504   \n3          ben34892      সর্বোৎকৃষ্ট   sorbotkrishto   Dakshina       NaN   \n4         ben550722           মাজেনি          mageni  IndicCorp -0.341199   \n\n            target_ben  \n0         \\tমুদিগিরি\\n  \n1  \\tঅসম্মতিসত্ত্বেও\\n  \n2        \\tআর্মান্ডা\\n  \n3      \\tসর্বোৎকৃষ্ট\\n  \n4           \\tমাজেনি\\n  ",
            "text/html": "<div>\n<style scoped>\n    .dataframe tbody tr th:only-of-type {\n        vertical-align: middle;\n    }\n\n    .dataframe tbody tr th {\n        vertical-align: top;\n    }\n\n    .dataframe thead th {\n        text-align: right;\n    }\n</style>\n<table border=\"1\" class=\"dataframe\">\n  <thead>\n    <tr style=\"text-align: right;\">\n      <th></th>\n      <th>unique_identifier</th>\n      <th>native word</th>\n      <th>english word</th>\n      <th>source</th>\n      <th>score</th>\n      <th>target_ben</th>\n    </tr>\n  </thead>\n  <tbody>\n    <tr>\n      <th>0</th>\n      <td>ben1187853</td>\n      <td>মুদিগিরি</td>\n      <td>mudigiri</td>\n      <td>IndicCorp</td>\n      <td>-0.056730</td>\n      <td>\\tমুদিগিরি\\n</td>\n    </tr>\n    <tr>\n      <th>1</th>\n      <td>ben593607</td>\n      <td>অসম্মতিসত্ত্বেও</td>\n      <td>osommotisotteo</td>\n      <td>IndicCorp</td>\n      <td>-0.145597</td>\n      <td>\\tঅসম্মতিসত্ত্বেও\\n</td>\n    </tr>\n    <tr>\n      <th>2</th>\n      <td>ben1003218</td>\n      <td>আর্মান্ডা</td>\n      <td>armanda</td>\n      <td>IndicCorp</td>\n      <td>-0.144504</td>\n      <td>\\tআর্মান্ডা\\n</td>\n    </tr>\n    <tr>\n      <th>3</th>\n      <td>ben34892</td>\n      <td>সর্বোৎকৃষ্ট</td>\n      <td>sorbotkrishto</td>\n      <td>Dakshina</td>\n      <td>NaN</td>\n      <td>\\tসর্বোৎকৃষ্ট\\n</td>\n    </tr>\n    <tr>\n      <th>4</th>\n      <td>ben550722</td>\n      <td>মাজেনি</td>\n      <td>mageni</td>\n      <td>IndicCorp</td>\n      <td>-0.341199</td>\n      <td>\\tমাজেনি\\n</td>\n    </tr>\n  </tbody>\n</table>\n</div>"
          },
          "metadata": {}
        }
      ],
      "id": "d7f9df9b"
    },
    {
      "cell_type": "code",
      "source": [
        "# add only the end token\n",
        "# add_end takes a string target_text as input and adds an end symbol \"\\n\"\n",
        "def add_end(target_text):\n",
        "  text = target_text + \"\\n\"\n",
        "  return text"
      ],
      "metadata": {
        "id": "c0ab3ccc",
        "execution": {
          "iopub.status.busy": "2024-02-23T16:56:00.955654Z",
          "iopub.execute_input": "2024-02-23T16:56:00.955943Z",
          "iopub.status.idle": "2024-02-23T16:56:00.960459Z",
          "shell.execute_reply.started": "2024-02-23T16:56:00.955915Z",
          "shell.execute_reply": "2024-02-23T16:56:00.959535Z"
        },
        "trusted": true
      },
      "execution_count": null,
      "outputs": [],
      "id": "c0ab3ccc"
    },
    {
      "cell_type": "code",
      "source": [
        " #adds a new column named 'decoder_target' to the DataFrame df_train. The values in this new column are derived from the values in the 'native word' column.\n",
        "df_train['decoder_target'] = df_train['native word'].progress_apply(add_end)\n",
        "df_train.head()\n"
      ],
      "metadata": {
        "colab": {
          "base_uri": "https://localhost:8080/",
          "height": 223
        },
        "id": "11ccb74c",
        "outputId": "5ca34ce6-7e2e-4cdb-e037-655916f28d7c",
        "execution": {
          "iopub.status.busy": "2024-02-23T16:56:00.961536Z",
          "iopub.execute_input": "2024-02-23T16:56:00.961846Z",
          "iopub.status.idle": "2024-02-23T16:56:01.616846Z",
          "shell.execute_reply.started": "2024-02-23T16:56:00.961813Z",
          "shell.execute_reply": "2024-02-23T16:56:01.615946Z"
        },
        "trusted": true
      },
      "execution_count": null,
      "outputs": [
        {
          "name": "stderr",
          "text": "100%|██████████| 369428/369428 [00:00<00:00, 591066.09it/s]\n",
          "output_type": "stream"
        },
        {
          "execution_count": 100,
          "output_type": "execute_result",
          "data": {
            "text/plain": "  unique_identifier      native word    english word     source     score  \\\n0        ben1187853         মুদিগিরি        mudigiri  IndicCorp -0.056730   \n1         ben593607  অসম্মতিসত্ত্বেও  osommotisotteo  IndicCorp -0.145597   \n2        ben1003218        আর্মান্ডা         armanda  IndicCorp -0.144504   \n3          ben34892      সর্বোৎকৃষ্ট   sorbotkrishto   Dakshina       NaN   \n4         ben550722           মাজেনি          mageni  IndicCorp -0.341199   \n\n            target_ben     decoder_target  \n0         \\tমুদিগিরি\\n         মুদিগিরি\\n  \n1  \\tঅসম্মতিসত্ত্বেও\\n  অসম্মতিসত্ত্বেও\\n  \n2        \\tআর্মান্ডা\\n        আর্মান্ডা\\n  \n3      \\tসর্বোৎকৃষ্ট\\n      সর্বোৎকৃষ্ট\\n  \n4           \\tমাজেনি\\n           মাজেনি\\n  ",
            "text/html": "<div>\n<style scoped>\n    .dataframe tbody tr th:only-of-type {\n        vertical-align: middle;\n    }\n\n    .dataframe tbody tr th {\n        vertical-align: top;\n    }\n\n    .dataframe thead th {\n        text-align: right;\n    }\n</style>\n<table border=\"1\" class=\"dataframe\">\n  <thead>\n    <tr style=\"text-align: right;\">\n      <th></th>\n      <th>unique_identifier</th>\n      <th>native word</th>\n      <th>english word</th>\n      <th>source</th>\n      <th>score</th>\n      <th>target_ben</th>\n      <th>decoder_target</th>\n    </tr>\n  </thead>\n  <tbody>\n    <tr>\n      <th>0</th>\n      <td>ben1187853</td>\n      <td>মুদিগিরি</td>\n      <td>mudigiri</td>\n      <td>IndicCorp</td>\n      <td>-0.056730</td>\n      <td>\\tমুদিগিরি\\n</td>\n      <td>মুদিগিরি\\n</td>\n    </tr>\n    <tr>\n      <th>1</th>\n      <td>ben593607</td>\n      <td>অসম্মতিসত্ত্বেও</td>\n      <td>osommotisotteo</td>\n      <td>IndicCorp</td>\n      <td>-0.145597</td>\n      <td>\\tঅসম্মতিসত্ত্বেও\\n</td>\n      <td>অসম্মতিসত্ত্বেও\\n</td>\n    </tr>\n    <tr>\n      <th>2</th>\n      <td>ben1003218</td>\n      <td>আর্মান্ডা</td>\n      <td>armanda</td>\n      <td>IndicCorp</td>\n      <td>-0.144504</td>\n      <td>\\tআর্মান্ডা\\n</td>\n      <td>আর্মান্ডা\\n</td>\n    </tr>\n    <tr>\n      <th>3</th>\n      <td>ben34892</td>\n      <td>সর্বোৎকৃষ্ট</td>\n      <td>sorbotkrishto</td>\n      <td>Dakshina</td>\n      <td>NaN</td>\n      <td>\\tসর্বোৎকৃষ্ট\\n</td>\n      <td>সর্বোৎকৃষ্ট\\n</td>\n    </tr>\n    <tr>\n      <th>4</th>\n      <td>ben550722</td>\n      <td>মাজেনি</td>\n      <td>mageni</td>\n      <td>IndicCorp</td>\n      <td>-0.341199</td>\n      <td>\\tমাজেনি\\n</td>\n      <td>মাজেনি\\n</td>\n    </tr>\n  </tbody>\n</table>\n</div>"
          },
          "metadata": {}
        }
      ],
      "id": "11ccb74c"
    },
    {
      "cell_type": "code",
      "source": [
        "def tokenize(lang):\n",
        "# Create tokenizer\n",
        "    #(filters)means that all characters in the input text will be considered for tokenization,(char_lvl)each character will be treated as a separate token.\n",
        "    tokenizer = Tokenizer(filters='',char_level=True)\n",
        "    # Fit texts\n",
        "     #creates the vocabulary based on the characters present in the corpus.\n",
        "    tokenizer.fit_on_texts(lang)\n",
        "    word_index = tokenizer.word_index\n",
        "    return tokenizer,word_index"
      ],
      "metadata": {
        "id": "3112327d",
        "execution": {
          "iopub.status.busy": "2024-02-23T16:56:01.618290Z",
          "iopub.execute_input": "2024-02-23T16:56:01.618953Z",
          "iopub.status.idle": "2024-02-23T16:56:01.624409Z",
          "shell.execute_reply.started": "2024-02-23T16:56:01.618918Z",
          "shell.execute_reply": "2024-02-23T16:56:01.623527Z"
        },
        "trusted": true
      },
      "execution_count": null,
      "outputs": [],
      "id": "3112327d"
    },
    {
      "cell_type": "code",
      "source": [
        "# Tokenize words\n",
        "roman_words = df_train['english word']\n",
        "ben_words = df_train['target_ben']\n",
        "\n",
        "roman_tokenizer, roman_tokens = tokenize(roman_words)\n",
        "ben_tokenizer, ben_tokens = tokenize(ben_words)\n",
        "\n",
        "\n",
        "print(roman_tokens)\n",
        "\n",
        "print(\"No.of unique input tokens:\", len(roman_tokens))\n"
      ],
      "metadata": {
        "colab": {
          "base_uri": "https://localhost:8080/"
        },
        "id": "25afd5f7",
        "outputId": "3e5e767d-d295-46ab-f826-70aefb79bfd5",
        "execution": {
          "iopub.status.busy": "2024-02-23T16:56:01.625838Z",
          "iopub.execute_input": "2024-02-23T16:56:01.626120Z",
          "iopub.status.idle": "2024-02-23T16:56:06.501306Z",
          "shell.execute_reply.started": "2024-02-23T16:56:01.626097Z",
          "shell.execute_reply": "2024-02-23T16:56:06.500332Z"
        },
        "trusted": true
      },
      "execution_count": null,
      "outputs": [
        {
          "name": "stdout",
          "text": "{'a': 1, 'r': 2, 'i': 3, 'o': 4, 'e': 5, 'h': 6, 'n': 7, 't': 8, 's': 9, 'k': 10, 'u': 11, 'd': 12, 'b': 13, 'l': 14, 'm': 15, 'p': 16, 'g': 17, 'c': 18, 'j': 19, 'y': 20, 'v': 21, 'f': 22, 'z': 23, 'w': 24, 'x': 25, 'q': 26}\nNo.of unique input tokens: 26\n",
          "output_type": "stream"
        }
      ],
      "id": "25afd5f7"
    },
    {
      "cell_type": "code",
      "source": [
        "ben_words"
      ],
      "metadata": {
        "colab": {
          "base_uri": "https://localhost:8080/"
        },
        "id": "Pl_7zK-rvZE9",
        "outputId": "768b2d6a-d719-4d2b-9c61-4deb272c1743",
        "execution": {
          "iopub.status.busy": "2024-02-23T16:56:06.502750Z",
          "iopub.execute_input": "2024-02-23T16:56:06.503228Z",
          "iopub.status.idle": "2024-02-23T16:56:06.511010Z",
          "shell.execute_reply.started": "2024-02-23T16:56:06.503194Z",
          "shell.execute_reply": "2024-02-23T16:56:06.510063Z"
        },
        "trusted": true
      },
      "execution_count": null,
      "outputs": [
        {
          "execution_count": 103,
          "output_type": "execute_result",
          "data": {
            "text/plain": "0                \\tমুদিগিরি\\n\n1         \\tঅসম্মতিসত্ত্বেও\\n\n2               \\tআর্মান্ডা\\n\n3             \\tসর্বোৎকৃষ্ট\\n\n4                  \\tমাজেনি\\n\n                 ...         \n369423           \\tসরযন্ত্র\\n\n369424         \\tসুন্দরবনির\\n\n369425             \\tকারাবখ\\n\n369426       \\tধোনিপ্রেমীরা\\n\n369427            \\tস্যাডার\\n\nName: target_ben, Length: 369428, dtype: object"
          },
          "metadata": {}
        }
      ],
      "id": "Pl_7zK-rvZE9"
    },
    {
      "cell_type": "code",
      "source": [
        "roman_words[15]"
      ],
      "metadata": {
        "colab": {
          "base_uri": "https://localhost:8080/",
          "height": 36
        },
        "id": "S7H0FwASMgnN",
        "outputId": "c08da547-9020-4441-fb21-1b0519256dd5",
        "execution": {
          "iopub.status.busy": "2024-02-23T16:56:06.512280Z",
          "iopub.execute_input": "2024-02-23T16:56:06.512580Z",
          "iopub.status.idle": "2024-02-23T16:56:06.523536Z",
          "shell.execute_reply.started": "2024-02-23T16:56:06.512547Z",
          "shell.execute_reply": "2024-02-23T16:56:06.522641Z"
        },
        "trusted": true
      },
      "execution_count": null,
      "outputs": [
        {
          "execution_count": 104,
          "output_type": "execute_result",
          "data": {
            "text/plain": "'nirbahokolpe'"
          },
          "metadata": {}
        }
      ],
      "id": "S7H0FwASMgnN"
    },
    {
      "cell_type": "code",
      "source": [
        "print(ben_tokens )\n",
        "print(\"No.of unique output tokens:\", len(ben_tokens))\n"
      ],
      "metadata": {
        "id": "c40bf9bc",
        "colab": {
          "base_uri": "https://localhost:8080/"
        },
        "outputId": "521a05ea-1b3c-413d-f0c3-e2183994ac47",
        "execution": {
          "iopub.status.busy": "2024-02-23T16:56:06.524747Z",
          "iopub.execute_input": "2024-02-23T16:56:06.525093Z",
          "iopub.status.idle": "2024-02-23T16:56:06.534780Z",
          "shell.execute_reply.started": "2024-02-23T16:56:06.525070Z",
          "shell.execute_reply": "2024-02-23T16:56:06.533930Z"
        },
        "trusted": true
      },
      "execution_count": null,
      "outputs": [
        {
          "name": "stdout",
          "text": "{'\\t': 1, '\\n': 2, 'া': 3, 'র': 4, '্': 5, 'ি': 6, 'ে': 7, 'ন': 8, 'ক': 9, 'স': 10, 'ব': 11, 'ল': 12, 'ত': 13, 'ম': 14, 'ু': 15, 'প': 16, 'দ': 17, 'য': 18, 'ট': 19, 'গ': 20, 'ো': 21, 'জ': 22, 'হ': 23, 'ী': 24, 'শ': 25, 'ই': 26, 'ভ': 27, 'চ': 28, 'ড': 29, '়': 30, 'ও': 31, 'ধ': 32, 'ষ': 33, 'ফ': 34, 'ণ': 35, 'অ': 36, 'আ': 37, 'থ': 38, 'খ': 39, 'ং': 40, 'উ': 41, 'এ': 42, 'ছ': 43, 'ূ': 44, 'ৃ': 45, 'ঙ': 46, 'ঞ': 47, 'ঘ': 48, 'ঠ': 49, 'ৌ': 50, 'ঁ': 51, 'ৈ': 52, 'ঝ': 53, 'ৎ': 54, 'ঃ': 55, 'ঢ': 56, 'ঐ': 57, 'ঋ': 58, 'ঈ': 59, 'ঔ': 60, 'ঊ': 61, '।': 62, '২': 63}\nNo.of unique output tokens: 63\n",
          "output_type": "stream"
        }
      ],
      "id": "c40bf9bc"
    },
    {
      "cell_type": "code",
      "source": [
        "# vocab size (no. of unique characters for each script)\n",
        "\n",
        "roman_vocab = len(roman_tokens)+1\n",
        "ben_vocab = len(ben_tokens)+1\n",
        "roman_vocab,ben_vocab"
      ],
      "metadata": {
        "colab": {
          "base_uri": "https://localhost:8080/"
        },
        "id": "6bf77492",
        "outputId": "8b513432-72e1-4e5d-f380-6cf560a5ba0e",
        "execution": {
          "iopub.status.busy": "2024-02-23T16:56:06.536015Z",
          "iopub.execute_input": "2024-02-23T16:56:06.536602Z",
          "iopub.status.idle": "2024-02-23T16:56:06.546913Z",
          "shell.execute_reply.started": "2024-02-23T16:56:06.536570Z",
          "shell.execute_reply": "2024-02-23T16:56:06.546026Z"
        },
        "trusted": true
      },
      "execution_count": null,
      "outputs": [
        {
          "execution_count": 106,
          "output_type": "execute_result",
          "data": {
            "text/plain": "(27, 64)"
          },
          "metadata": {}
        }
      ],
      "id": "6bf77492"
    },
    {
      "cell_type": "code",
      "source": [
        "roman_vocab"
      ],
      "metadata": {
        "colab": {
          "base_uri": "https://localhost:8080/"
        },
        "id": "QdO_nHkSwBTd",
        "outputId": "2f9ce48f-8ca0-464e-c4d6-32a1505e073f",
        "execution": {
          "iopub.status.busy": "2024-02-23T16:56:06.548182Z",
          "iopub.execute_input": "2024-02-23T16:56:06.548541Z",
          "iopub.status.idle": "2024-02-23T16:56:06.557436Z",
          "shell.execute_reply.started": "2024-02-23T16:56:06.548510Z",
          "shell.execute_reply": "2024-02-23T16:56:06.556582Z"
        },
        "trusted": true
      },
      "execution_count": null,
      "outputs": [
        {
          "execution_count": 107,
          "output_type": "execute_result",
          "data": {
            "text/plain": "27"
          },
          "metadata": {}
        }
      ],
      "id": "QdO_nHkSwBTd"
    },
    {
      "cell_type": "code",
      "source": [
        "roman_words[45],ben_words[45]"
      ],
      "metadata": {
        "colab": {
          "base_uri": "https://localhost:8080/"
        },
        "id": "3e36dba2",
        "outputId": "a3f7cfa1-73d4-457b-d7e8-5e52f9879c9d",
        "execution": {
          "iopub.status.busy": "2024-02-23T16:56:06.558554Z",
          "iopub.execute_input": "2024-02-23T16:56:06.558835Z",
          "iopub.status.idle": "2024-02-23T16:56:06.567542Z",
          "shell.execute_reply.started": "2024-02-23T16:56:06.558812Z",
          "shell.execute_reply": "2024-02-23T16:56:06.566704Z"
        },
        "trusted": true
      },
      "execution_count": null,
      "outputs": [
        {
          "execution_count": 108,
          "output_type": "execute_result",
          "data": {
            "text/plain": "('muthukumaran', '\\tমুথুকুমারন\\n')"
          },
          "metadata": {}
        }
      ],
      "id": "3e36dba2"
    },
    {
      "cell_type": "code",
      "source": [
        "# convert words to int sequence\n",
        "\n",
        "roman_words_in_ids = roman_tokenizer.texts_to_sequences(roman_words)\n",
        "ben_words_in_ids = ben_tokenizer.texts_to_sequences(ben_words)"
      ],
      "metadata": {
        "id": "11a64736",
        "execution": {
          "iopub.status.busy": "2024-02-23T16:56:06.568517Z",
          "iopub.execute_input": "2024-02-23T16:56:06.568762Z",
          "iopub.status.idle": "2024-02-23T16:56:11.251831Z",
          "shell.execute_reply.started": "2024-02-23T16:56:06.568741Z",
          "shell.execute_reply": "2024-02-23T16:56:11.250788Z"
        },
        "trusted": true
      },
      "execution_count": null,
      "outputs": [],
      "id": "11a64736"
    },
    {
      "cell_type": "code",
      "source": [
        "roman_words_in_ids[45],ben_words_in_ids[45]"
      ],
      "metadata": {
        "id": "fSagRKOeMDur",
        "colab": {
          "base_uri": "https://localhost:8080/"
        },
        "outputId": "afaf8f8a-0f02-418a-d2f3-3b1670b61e76",
        "execution": {
          "iopub.status.busy": "2024-02-23T16:56:11.258320Z",
          "iopub.execute_input": "2024-02-23T16:56:11.258627Z",
          "iopub.status.idle": "2024-02-23T16:56:11.265120Z",
          "shell.execute_reply.started": "2024-02-23T16:56:11.258601Z",
          "shell.execute_reply": "2024-02-23T16:56:11.264141Z"
        },
        "trusted": true
      },
      "execution_count": null,
      "outputs": [
        {
          "execution_count": 110,
          "output_type": "execute_result",
          "data": {
            "text/plain": "([15, 11, 8, 6, 11, 10, 11, 15, 1, 2, 1, 7],\n [1, 14, 15, 38, 15, 9, 15, 14, 3, 4, 8, 2])"
          },
          "metadata": {}
        }
      ],
      "id": "fSagRKOeMDur"
    },
    {
      "cell_type": "code",
      "source": [
        "roman_words_in_ids"
      ],
      "metadata": {
        "id": "cXpBW5VBLtvG",
        "colab": {
          "base_uri": "https://localhost:8080/"
        },
        "outputId": "43e56372-bd64-4827-bdf3-45c1f83115b9",
        "execution": {
          "iopub.status.busy": "2024-02-23T16:56:11.266568Z",
          "iopub.execute_input": "2024-02-23T16:56:11.266927Z",
          "iopub.status.idle": "2024-02-23T16:56:11.474784Z",
          "shell.execute_reply.started": "2024-02-23T16:56:11.266895Z",
          "shell.execute_reply": "2024-02-23T16:56:11.473821Z"
        },
        "trusted": true
      },
      "execution_count": null,
      "outputs": [
        {
          "execution_count": 111,
          "output_type": "execute_result",
          "data": {
            "text/plain": "[[15, 11, 12, 3, 17, 3, 2, 3],\n [4, 9, 4, 15, 15, 4, 8, 3, 9, 4, 8, 8, 5, 4],\n [1, 2, 15, 1, 7, 12, 1],\n [9, 4, 2, 13, 4, 8, 10, 2, 3, 9, 6, 8, 4],\n [15, 1, 17, 5, 7, 3],\n [10, 5, 8, 5, 2],\n [12, 4, 8, 8, 4, 7, 18, 6, 4],\n [1, 7, 8, 4, 2, 19, 1, 8, 3, 10, 15, 1, 7, 5, 2],\n [13, 6, 3, 8, 4, 2, 17, 11, 14, 4, 8, 5],\n [6, 3, 9, 1, 2, 1, 10],\n [10, 4, 13, 3, 8, 1, 9, 4, 6, 4],\n [13, 11, 12, 12, 6, 1, 9, 20, 1],\n [11, 3, 2, 1, 10, 11, 7],\n [15, 4, 6, 1, 13, 3, 9, 24, 4, 10, 5],\n [12, 6, 3, 14, 3, 10, 1],\n [7, 3, 2, 13, 1, 6, 4, 10, 4, 14, 16, 5],\n [13, 11, 2, 11, 7, 19, 3],\n [1, 6, 4, 15, 5, 12, 5, 2, 5],\n [4, 21, 3, 13, 1, 13, 4, 10, 12, 5, 2, 4],\n [16, 1, 12, 1, 15, 9, 5, 5],\n [6, 1, 21, 5, 21, 1, 13, 5],\n [19, 1, 19, 17, 1, 7, 5, 2],\n [13, 20, 1, 8, 3, 10, 2, 1, 15, 3, 10, 5],\n [10, 1, 15, 2, 1, 15, 5],\n [10, 6, 20, 1, 8, 18, 6, 3, 14, 4],\n [13, 20, 1, 10, 8, 3, 7, 3, 2, 13, 6, 1, 2, 1, 8, 1],\n [7, 4, 8, 6, 3, 10, 5, 3],\n [7, 3, 2, 19, 1, 9, 17, 11, 14, 4],\n [21, 5, 7, 8, 11, 2],\n [4, 2, 8, 6, 4, 7, 3, 2, 15, 4, 14, 4, 8, 1, 2],\n [16, 2, 4, 19, 4, 7, 4, 7, 13, 3, 12, 5, 2],\n [13, 4, 12, 4, 13, 5],\n [12, 1, 22, 2, 1, 8],\n [16, 4, 8, 4, 13, 6, 11, 15, 3, 4],\n [18, 6, 3, 10, 3, 8, 9, 1, 13, 3, 17, 17, 1, 7, 4],\n [9, 1, 15, 20, 1, 13, 4, 9, 8, 6, 1, 2],\n [2, 4, 18, 10, 9, 8, 5, 2, 9],\n [13, 3, 12, 20, 1, 12, 6, 1, 2, 3, 8, 5],\n [8, 6, 5, 4, 12, 4, 2, 1],\n [16, 4, 2, 3, 18, 6, 4, 20, 16, 4, 8, 2, 4, 8, 3],\n [16, 4, 11, 2, 1, 21, 3],\n [9, 5, 19, 3],\n [9, 16, 5, 5, 12, 20],\n [15, 1, 14, 21, 11, 15, 3, 17, 11, 14, 4],\n [3, 9, 8, 5, 10, 1, 15, 1, 8],\n [15, 11, 8, 6, 11, 10, 11, 15, 1, 2, 1, 7],\n [9, 1, 7, 17, 9, 6, 4, 12, 6, 1, 7, 3, 9, 1, 6, 1],\n [15, 11, 19, 1, 6, 3, 12, 12, 3, 7, 5, 2, 1],\n [15, 1, 7, 9, 4, 11, 2, 1],\n [13, 1, 9, 5, 14, 7, 1],\n [17, 1, 15, 5, 16, 14, 1, 7, 5],\n [1, 15, 1, 8, 4],\n [13, 6, 1, 10, 8, 3, 4],\n [18, 6, 1, 2, 8, 11, 16, 1, 2, 9, 6, 24, 5, 2],\n [9, 11, 16, 1, 12, 13, 1, 13, 11],\n [15, 5, 6, 4, 10, 5, 2],\n [9, 1, 15, 16, 1, 12, 1, 10, 13, 2, 3, 7, 12, 1],\n [18, 6, 1, 8, 11, 10, 1, 2, 12, 5, 2],\n [5, 25, 5, 25],\n [1, 9, 6, 22, 1, 26, 12, 5, 2],\n [15, 11, 19, 3, 13, 15, 4, 7, 18, 6, 4],\n [21, 1, 7, 3, 2],\n [9, 4, 7, 1, 12, 1, 6, 1],\n [7, 1, 17, 9, 5, 7, 1],\n [7, 5, 19, 3, 9, 1, 2],\n [12, 1, 22, 1, 12, 1, 2],\n [16, 1, 7, 15, 11, 7, 19, 1, 15, 5],\n [9, 8, 1, 2, 10, 12, 5, 2],\n [9, 1, 13, 6, 1, 16, 1, 8, 3, 8, 8, 5],\n [3, 14, 14, 1, 6],\n [15, 1, 6, 1, 9, 9, 5, 8, 1],\n [15, 4, 7, 11, 16, 3, 9, 3, 2],\n [12, 2, 1, 17, 6, 3, 15, 1, 7, 17, 9, 6, 5, 2],\n [12, 4, 17, 4, 12, 6, 4, 3],\n [9, 1, 9, 3, 10, 3, 2, 1, 7],\n [13, 1, 11, 14, 12, 1, 14, 5, 2],\n [8, 4, 3, 14, 4, 10, 10, 6, 4],\n [9, 4, 15, 4, 19, 5, 2],\n [15, 1, 2, 10, 14, 5],\n [16, 11, 19, 3, 13, 1, 12, 5],\n [16, 4, 12, 15, 4, 9, 6, 3, 13, 3, 2, 5],\n [5, 2, 7, 5, 2, 9],\n [18, 6, 11, 3, 2, 1],\n [11, 15, 13, 3, 14, 3, 18, 1, 14],\n [3, 2, 9, 6, 24, 1, 7, 7, 3, 8, 4],\n [7, 5, 8, 1, 10, 5, 8, 1, 12, 5, 2],\n [10, 1, 8, 19, 11, 10, 5],\n [13, 6, 1, 19, 3, 20, 5],\n [10, 1, 15, 1, 14, 16, 2, 5, 5, 8],\n [19, 4, 7, 7, 1, 17, 3, 2, 3],\n [10, 6, 1, 14, 14, 1, 12],\n [17, 11, 1, 2, 12, 4, 7, 9],\n [16, 1, 2, 10, 3, 7, 9, 4, 7, 5, 2],\n [9, 14, 3, 12, 5, 14, 20],\n [8, 1, 12, 24, 1, 2, 1, 7, 17],\n [16, 3, 8, 6, 1, 15, 16, 11, 2],\n [9, 1, 15, 5, 7, 5, 3],\n [11, 16, 4, 14, 4, 17, 5, 14, 1, 2],\n [7, 3, 9, 8, 6, 11, 2, 4, 8, 1, 10, 5, 4],\n [9, 8, 1, 6, 14],\n [16, 2, 3, 7, 8, 4, 7],\n [19, 4, 13, 3, 2, 11, 14, 10, 5],\n [22, 3, 2, 4, 23, 1, 4],\n [2, 1, 10, 3, 13, 10, 5],\n [22, 14, 1, 9, 6, 15, 1, 7],\n [19, 1, 7, 13, 1, 6, 4, 7, 8, 3, 10, 5],\n [9, 6, 14, 3, 16, 16, 3, 7, 17],\n [17, 1, 14, 1, 25, 20, 8, 5],\n [2, 3, 10, 13, 6, 1, 13, 5],\n [24, 5, 8, 14, 3, 22, 8, 3, 7, 17],\n [16, 11, 2, 1, 8, 4, 7, 17, 11, 14, 4, 10, 5],\n [8, 2, 1, 3, 7, 21, 3, 8, 8, 3, 10],\n [17, 4, 13, 5, 9, 6, 4, 10, 13, 2, 3, 7, 12, 4],\n [19, 4, 15, 3, 12, 1, 2, 13, 4, 2, 17, 5, 2],\n [19, 4, 7, 4, 13, 4, 14, 17, 4, 8, 4],\n [7, 4, 7, 17, 13, 3, 9, 8, 1, 2, 3, 8, 4],\n [2, 1, 7, 1, 7],\n [13, 1, 9, 11, 2, 18, 6, 1, 2],\n [13, 6, 1, 9, 6, 4, 7, 17, 11, 14, 4, 8, 5, 3],\n [15, 1, 6, 1, 7, 1, 7, 12, 5, 3],\n [12, 3, 7, 15, 11, 19, 11, 2, 3],\n [9, 4, 10, 10, 4, 14, 5, 2, 5],\n [9, 1, 15, 8, 1, 7, 3],\n [9, 1, 1, 15, 2, 1, 1, 19, 20, 4, 17, 11, 14, 4, 2],\n [1, 7, 9, 1, 2, 11],\n [5, 17, 14, 4, 7],\n [13, 3, 14, 12, 6, 1, 15, 11],\n [2, 4, 1, 9, 8, 5, 2, 3, 7, 17],\n [12, 4, 4, 2, 1, 16, 1, 8, 6, 5],\n [22, 1, 3, 9, 1, 14, 10, 1, 16, 1, 12, 3, 1],\n [21, 5, 2, 4, 15],\n [9, 1, 6, 1, 19, 20, 5, 2],\n [2, 1, 8, 7, 1, 9, 1, 15, 11, 6, 5],\n [10, 6, 1, 7, 7, 10, 1, 14, 5],\n [16, 11, 2, 11, 9, 6, 1, 7, 8, 1, 2, 5],\n [8, 4, 15, 1, 2, 10, 1, 8, 6, 1],\n [16, 2, 4, 9, 6, 7, 1, 13, 4, 14, 3, 8, 5],\n [9, 6, 4, 10, 8, 4, 13, 2, 3, 7, 8, 5],\n [4, 12, 1, 10, 1, 14, 11],\n [22, 3, 8, 11, 2, 5, 17, 11, 14, 4, 8, 5],\n [16, 2, 4, 8, 4, 18, 8, 3, 4, 7, 9],\n [13, 5, 14, 1, 16, 1, 17, 14, 1],\n [16, 2, 5, 25],\n [7, 1, 7, 12, 1, 2, 1, 7, 3, 10, 5],\n [1, 7, 5, 9, 8, 6, 5, 8, 3, 9, 8, 9],\n [19, 1, 12, 1, 13, 14, 1, 14],\n [3, 21, 10, 5],\n [13, 4, 2, 7, 4, 15, 3, 14, 4, 7, 5, 2],\n [16, 1, 9, 6, 4, 7, 12, 4],\n [1, 13, 1, 7, 8, 3, 10, 1, 10, 5, 4],\n [4, 10, 1, 19, 5, 2],\n [1, 23, 1, 7, 11],\n [1, 11, 14, 1, 12, 11, 23, 23, 1, 15, 1, 7],\n [22, 4, 10, 16, 1, 14],\n [18, 6, 3, 10, 3, 8, 9, 1, 10, 5, 7, 12, 2, 4, 8, 3, 8, 5],\n [16, 4, 2, 3, 18, 6, 1, 14, 4, 10, 9, 11, 14, 4, 21],\n [10, 11, 2, 11, 9, 4, 3, 7, 7, 5, 2],\n [11, 16, 4, 6, 1],\n [18, 5, 2, 21, 3],\n [16, 4, 4, 19, 5],\n [6, 5, 15, 17, 1, 7, 19],\n [13, 11, 8, 6, 2, 1, 10, 10, 6, 1],\n [15, 1, 17, 11, 2, 11, 14, 3, 8, 5],\n [12, 6, 1, 7, 11, 18, 6, 3],\n [17, 4, 21, 1, 7, 12, 3],\n [7, 4, 19, 4, 7, 5, 2],\n [5, 10, 11, 22, 11, 14],\n [13, 5, 12, 10, 4, 21, 5, 2],\n [13, 11, 9, 13, 1, 2],\n [9, 1, 15, 1, 8, 1, 13, 3, 12, 6, 1, 7],\n [9, 1, 15, 1, 19, 13, 3, 2, 4, 12, 6, 3, 2, 1, 3],\n [16, 2, 4, 16, 5, 14, 14, 5, 2],\n [11, 8, 6, 13, 5, 7, 4],\n [9, 6, 4, 21, 3, 8, 1, 4],\n [19, 4, 7, 4, 13, 3, 6, 3, 7],\n [9, 3, 14, 9, 3, 14, 1, 20],\n [10, 8, 8, 3, 10, 1, 2],\n [17, 4, 14, 2, 1, 10, 10, 6, 1, 10, 9, 1, 6, 1],\n [10, 1, 13, 20, 1, 13, 3, 13, 5, 18, 6, 1, 7, 1, 4],\n [15, 4, 17, 5, 2, 15, 11, 14, 11, 10, 5],\n [1, 10, 3, 14, 16, 11, 2],\n [6, 20, 14, 3, 7, 5],\n [2, 4, 7, 6, 4, 14, 1, 2],\n [15, 1, 2, 18, 5, 14],\n [9, 4, 19, 3, 8, 23],\n [9, 4, 11, 18, 6, 1, 17, 1, 2, 5, 2],\n [9, 15, 3, 2, 7, 4, 21, 1],\n [11, 8, 8, 4, 2, 15, 11, 10, 6, 5, 3],\n [10, 6, 5, 8, 2, 5, 3, 10, 3, 18, 6, 11],\n [6, 1, 17, 3, 13, 3, 9, 5, 2],\n [1, 2, 1, 9, 6, 7, 1, 17, 1, 2],\n [9, 1, 6, 11, 14, 3],\n [12, 11, 2, 10, 4, 2, 1, 2],\n [15, 11, 2, 1, 14, 6, 1],\n [17, 12, 22],\n [21, 3, 21, 3, 16, 5, 8, 4, 8, 4],\n [13, 3, 12, 5],\n [18, 6, 1, 14, 8, 1, 13, 1, 17, 1, 7],\n [3, 7, 18, 4, 15, 16, 14, 5, 8, 5, 7, 5, 9, 9],\n [9, 1, 8, 20, 1, 8, 3],\n [17, 4, 2, 3, 15, 1, 10, 5, 3],\n [16, 2, 4, 9, 6, 7, 4, 8, 5, 4],\n [10, 14, 1, 7, 8, 3, 10, 5, 3],\n [18, 1, 9, 8, 5, 14, 14, 4, 7],\n [3, 1, 7, 7],\n [9, 20, 7, 7, 4, 8, 8],\n [1, 2, 4, 10, 10, 6, 1, 2],\n [18, 14, 3],\n [13, 2, 5, 8, 8, 4, 7],\n [17, 2, 1, 15, 16, 11, 14, 3, 9, 6],\n [12, 4, 7, 8, 23],\n [15, 4, 2, 5, 3, 7],\n [13, 4, 7, 12, 6, 4, 10, 5, 3],\n [19, 1, 7, 19, 1, 14, 10, 11, 12, 1, 7, 3],\n [13, 3, 14, 1, 8, 11],\n [10, 14, 3, 7, 10],\n [13, 11, 19, 18, 6, 5],\n [13, 4, 12, 2, 3, 12, 1, 9, 10, 5],\n [16, 1, 2, 8, 6, 10, 20, 5, 2],\n [6, 1, 10, 11, 9, 1, 7],\n [1, 2, 19, 1, 7, 10, 1, 2, 20],\n [9, 16, 5, 7, 12, 3, 2],\n [10, 5, 14, 10, 5],\n [17, 5, 5, 8, 17, 11, 14, 4],\n [1, 13, 3, 2, 11, 12, 12, 3, 7],\n [9, 15, 2, 3, 8, 3, 9, 4, 11, 12, 12, 6, 4],\n [16, 4, 2, 3, 12, 6, 1, 2, 5],\n [13, 6, 11, 8, 4, 17, 2, 4, 9, 8, 6, 4],\n [3, 7, 9, 8, 2, 11, 15, 5, 7, 8, 17, 11, 14, 4],\n [9, 6, 1, 2, 3, 22, 7, 1, 17, 1, 2],\n [13, 3, 15, 1, 7, 10, 1, 7, 8, 3],\n [17, 11, 7, 1, 9, 1, 17, 1, 2],\n [9, 11, 16, 1, 6, 3, 2, 4],\n [9, 11, 22, 3, 10, 5],\n [16, 6, 4, 8, 4, 13, 4, 15, 13],\n [1, 15, 18, 6, 1, 2, 18, 6, 1],\n [10, 6, 1, 3, 2, 1, 9, 6, 4, 14, 5, 2],\n [16, 1, 8, 6, 1, 2, 13, 6, 1, 7, 17, 1],\n [2, 18, 9, 9],\n [19, 4, 7, 7, 11],\n [9, 1, 6, 1, 20, 1, 8, 1, 16, 2, 1, 16, 8, 1],\n [18, 6, 1, 7, 12, 1, 13, 1, 19, 5, 2],\n [16, 3, 8, 6, 1, 10, 6, 1, 7, 1],\n [11, 12, 1, 7, 17, 11, 14, 3, 8, 5],\n [10, 2, 3, 9, 6, 7, 1, 7, 1, 17, 1, 2, 3, 10],\n [15, 4, 23, 13, 4, 4, 8],\n [13, 3, 17, 6, 4, 9, 2, 3, 9, 6, 8, 3],\n [19, 1, 14, 1, 13, 11, 19, 1],\n [18, 4, 16, 3, 7, 17, 5, 14, 3, 7, 17],\n [3, 7, 9, 8, 3, 8, 11, 8, 3, 4, 7, 17, 11, 14, 3, 2],\n [18, 6, 1, 10, 11, 2, 3, 18, 6, 20, 11, 8, 3, 9, 1, 6, 1],\n [8, 22, 8],\n [22, 2, 3, 5, 12, 1, 17, 5],\n [1, 13, 12, 11, 14, 16, 11, 2],\n [17, 6, 11, 7, 17, 2, 1, 8, 5],\n [18, 1, 13, 1, 14, 3, 9, 8],\n [1, 14, 13, 3, 2, 1],\n [1, 15, 1, 2, 7, 1, 8, 6, 10, 5, 4],\n [17, 1, 2, 9, 4, 7, 5, 2],\n [8, 5, 15, 16, 14, 5, 8, 8, 3, 2],\n [13, 3, 18, 6, 1, 2, 14, 1, 21],\n [2, 4, 18, 10, 9, 8, 1, 2, 12, 5, 2],\n [16, 4, 7, 5, 2, 13, 1, 2, 5, 2],\n [8, 5, 18, 8, 11, 2, 5, 12],\n [15, 4, 22, 1, 18, 6, 6, 5, 7, 11, 14],\n [10, 1, 2, 15, 1, 10, 11, 9, 6, 1, 14, 1],\n [4, 9, 4, 15, 16, 4],\n [4, 21, 3, 5, 12, 4],\n [2, 1, 18, 6, 3, 8, 1, 7, 17],\n [13, 3, 14, 24, 5, 9, 6, 24, 1, 2, 5],\n [13, 2, 4, 8, 4, 18, 6, 1, 2, 3, 2],\n [16, 1, 10, 3, 16, 7, 1],\n [12, 1, 6, 3, 17],\n [10, 2, 3, 8, 4, 9, 4, 7, 17, 19, 4, 15, 4, 9, 20, 4],\n [14, 11, 10, 1, 16, 1],\n [19, 5, 5, 13, 4, 7, 3, 8, 5],\n [13, 4, 10, 1, 18, 6, 11, 12, 1],\n [17, 1, 14, 5, 2, 3, 1],\n [19, 20, 4, 8, 3, 2, 15, 1, 20, 1, 7, 1, 7, 12, 1],\n [10, 11, 8, 11, 2, 3, 8, 5],\n [19, 3, 7, 3, 9, 3, 8, 3, 8, 5],\n [3, 7, 12, 11, 4],\n [15, 11, 7, 1, 10, 10, 1, 14, 5, 2],\n [18, 2, 3, 15, 5, 3, 2, 1],\n [16, 1, 21, 14, 4, 9],\n [10, 6, 1, 8, 11, 7, 3],\n [17, 1, 2, 11, 13, 1, 8, 6, 1, 7],\n [7, 4, 14, 5, 23, 8, 1],\n [1, 12, 6, 20, 1, 12, 6, 11, 7, 3, 10],\n [13, 1, 14, 20, 1, 7, 1, 15],\n [16, 2, 4, 8, 3, 9, 8, 6, 3, 8, 4, 10, 4, 2, 4, 7, 5],\n [16, 1, 12, 11, 1],\n [9, 18, 6, 3, 15, 16, 5, 2],\n [2, 5, 16, 4, 2, 8, 20, 2],\n [11, 7, 7, 4, 20, 4, 7, 16, 2, 4, 10, 4, 14, 16, 5],\n [5, 10, 1, 7, 8, 3],\n [16, 2, 4, 8, 1, 6, 1, 2],\n [9, 3, 2, 8, 5, 2],\n [9, 6, 1, 12, 3, 6],\n [16, 1, 2, 1, 9, 6, 1, 10, 8, 3, 17, 11, 14, 1],\n [17, 4, 9, 8, 6, 3, 9, 24, 1, 2, 8, 6, 5],\n [19, 6, 4, 14, 8, 5],\n [16, 11, 2, 1, 18, 6, 18, 6, 5],\n [9, 1, 7, 2, 1, 10, 10, 6, 3, 8, 1, 13, 20, 1],\n [19, 1, 11, 7, 1, 13, 6, 1, 7, 17, 3],\n [16, 1, 2, 3, 16, 1, 9, 6, 24, 3, 10, 5],\n [12, 6, 11, 15, 16, 2, 1, 7, 17],\n [14, 1, 12, 5, 7, 5],\n [7, 3, 7, 5, 4, 2],\n [8, 5, 6, 19, 3, 15],\n [13, 3, 9, 24, 4, 2, 5, 10, 4, 2, 12, 8, 3, 4],\n [15, 1, 6, 1, 16, 1, 7, 12, 3, 8, 1, 18, 6, 1, 2, 20, 1],\n [16, 4, 14, 3, 7, 5, 2],\n [5, 10, 1, 1, 12, 4, 9, 6, 5, 2],\n [13, 3, 4, 8, 5, 18, 6, 7, 4, 14, 4, 17, 20],\n [7, 3, 15, 7, 4, 18, 6, 1, 16, 8, 3, 10, 5],\n [4, 20, 1, 6, 3, 12, 11, 19, 19, 1, 15, 1, 7, 10, 5],\n [12, 24, 1, 2, 16, 1, 7, 5],\n [1, 8, 15, 4, 7, 3, 13, 5, 12, 3, 8, 4],\n [5, 18, 6, 6, 1, 7, 5],\n [9, 1, 8, 6, 1, 2, 1, 7],\n [6, 11, 3, 8, 22, 4, 2, 12],\n [10, 6, 1, 14, 5, 22],\n [17, 2, 5, 5, 18, 5, 20, 5],\n [9, 11, 2, 20, 1, 16, 11, 2, 3],\n [3, 7, 8, 5, 2, 16, 5, 5, 12],\n [22, 2, 5, 5, 23, 3, 5, 2],\n [13, 4, 3, 10, 5, 4],\n [15, 4, 12, 3, 22, 3, 5, 12],\n [16, 1, 8, 2, 1, 15, 4, 18, 6, 3],\n [12, 5, 6, 1, 13, 4, 7, 12, 6, 4],\n [9, 6, 2, 4, 13, 4, 7, 12, 4, 2, 9, 6, 4, 7],\n [13, 1, 17, 1, 7, 13, 3, 14, 1, 9, 5, 2],\n [13, 20, 1, 16, 8, 3, 10, 1, 14],\n [19, 1, 8, 2, 1, 7, 1, 14, 1],\n [9, 2, 3, 9, 6, 2, 3, 9, 6, 18, 6, 1, 7, 12, 2, 1],\n [13, 4, 13, 20, 1, 13, 4, 9, 8, 6, 1],\n [5, 21, 1, 18, 11, 5, 5],\n [16, 3, 9, 3, 4, 12, 3],\n [13, 6, 2, 1, 7, 8, 3, 8, 3],\n [7, 3, 2, 12, 6, 1, 15, 1],\n [1, 7, 8, 1, 2, 13, 6, 11, 10, 8, 4],\n [12, 4, 18, 11, 15, 5, 7, 8, 17, 11, 14, 4, 8, 5],\n [8, 16, 18, 4],\n [15, 4, 2, 3, 9, 6, 3, 4],\n [10, 4, 10, 5, 2, 1],\n [18, 6, 3, 23, 10, 5],\n [16, 3, 7, 19, 3, 2, 1],\n [3, 7, 21, 5, 7, 8, 4, 2, 20],\n [16, 5, 2, 9, 4, 7, 7, 5, 14, 14, 5],\n [10, 5, 5, 8, 10, 5],\n [18, 6, 6, 1, 20, 1, 18, 6, 6, 4, 13, 3, 8, 5, 4],\n [13, 6, 11, 8, 16, 2, 5, 8, 1, 12, 3],\n [17, 5, 8, 18, 4, 2, 5],\n [12, 6, 11, 14, 3, 20, 1, 7],\n [9, 11, 7, 13, 14, 4, 18, 10, 5, 2],\n [9, 5, 3, 10, 1, 14, 5, 2],\n [15, 11, 9, 1, 13, 13, 3, 2, 11],\n [10, 2, 4, 9, 22, 3, 2, 5],\n [9, 4, 14, 13, 5, 7, 12, 2, 4, 10, 5],\n [7, 5, 9, 6, 5, 7],\n [17, 2, 5, 8, 5, 9, 8, 5],\n [15, 5, 7, 5, 7, 3],\n [15, 4, 19, 1, 8, 3],\n [1, 14, 4, 18, 6, 1, 7, 1, 18, 6, 1, 10, 2, 5, 2],\n [15, 1, 15, 15, 4, 7, 5, 2],\n [13, 5, 7, 12, 5, 13],\n [12, 11, 17, 1, 16, 11, 2],\n [8, 3, 7, 12, 5, 2, 13, 4, 25],\n [9, 6, 11, 13, 6, 4, 19, 11, 8, 5],\n [15, 3, 9, 6, 2, 1, 7, 17, 11, 14, 3, 2],\n [9, 24, 5, 18, 6, 18, 6, 1, 9, 5, 13, 1, 2],\n [12, 5, 9, 6, 19, 4, 7, 4, 7, 3],\n [17, 6, 1, 23, 3, 16, 11, 2, 13, 1, 9, 3],\n [16, 11, 7, 19, 3, 10, 2, 3, 8, 4],\n [2, 4, 21, 3, 7, 17],\n [12, 1, 3, 12, 1, 2, 1, 13, 4, 8, 18, 6, 3],\n [4, 9, 24, 1, 9, 8, 6, 4, 10, 4, 2, 4, 3],\n [16, 2, 4, 13, 6, 1, 13, 17, 11, 14, 3, 10, 5],\n [13, 4, 14, 14, 4, 10, 1, 14, 5, 2],\n [9, 6, 1, 9, 1, 7, 15, 11, 10, 8, 3, 2],\n [16, 11, 12, 12, 3, 22, 4, 4, 8, 5, 2],\n [26, 11, 1, 2, 12, 3, 7, 1, 8, 4, 2],\n [10, 14, 3, 16, 17, 11, 14, 4, 10, 5],\n [17, 2, 5, 17, 4, 2, 3, 4],\n [1, 7, 1, 7, 17, 1, 16, 1, 14, 5, 2],\n [10, 1, 2, 3, 20, 5, 18, 6, 3, 14, 11, 15],\n [18, 2, 20, 16, 8, 4, 18, 11, 2, 2, 5, 7, 18, 3, 8, 5],\n [9, 6, 3, 15, 16, 1, 7, 19, 3, 12, 5, 2, 4],\n [1, 13, 6, 3, 12, 6, 1],\n [13, 4, 2, 3, 18, 6, 4, 21],\n [3, 7, 2, 1],\n [13, 6, 4, 10, 8, 4, 9, 6, 10, 4, 14, 5],\n [6, 3, 17, 6, 8, 5, 7, 12],\n [1, 26, 11, 1, 8, 3, 7, 8],\n [15, 3, 7, 10],\n [10, 6, 1, 8, 1, 9],\n [9, 15, 2, 3, 8, 3, 15, 1, 7, 12, 3, 2, 8, 3],\n [7, 3, 2, 1, 7, 19, 1, 7, 12, 1, 10, 5],\n [10, 1, 20, 5, 10, 13, 6, 1, 17, 5, 2],\n [1, 14, 4, 18, 6, 1, 7, 1, 10, 2, 1],\n [9, 5, 7, 1, 13, 1, 6, 3, 7, 3, 17, 11, 14, 3, 2],\n [15, 4, 8, 1, 12, 4, 2, 9, 6, 4, 17, 11, 14, 4],\n [6, 1, 7, 9, 6, 11, 3],\n [1, 14, 3, 15, 4, 7],\n [1, 10, 10, 6, 4, 11, 6, 3, 7, 3, 8, 5],\n [18, 6, 6, 4, 2, 1, 18, 6, 18, 6, 3, 14, 5],\n [2, 1, 19, 1, 8, 8, 1, 10, 1, 14, 5, 2],\n [2, 5, 18, 10, 12, 5, 2, 10],\n [6, 11, 15, 3, 7, 3, 8, 3, 5, 9],\n [13, 3, 21, 4, 10, 8, 4, 10, 2, 3, 8, 4],\n [9, 4, 11, 13, 6, 1, 17, 20, 1, 2],\n [16, 1, 14, 4, 7, 3, 11, 9],\n [8, 4, 20, 4, 4, 10, 1],\n [4, 7, 4, 13, 4, 12, 6, 1, 7, 13, 4, 9, 6, 4, 8, 4],\n [7, 1, 15, 12, 3],\n [18, 6, 6, 5, 7, 1, 14, 3],\n [22, 3, 2, 5, 17, 5, 18, 6, 5, 7],\n [10, 6, 4, 2, 9, 6, 5, 12, 5, 2],\n [9, 6, 5, 6, 23, 1, 1, 12, 1],\n [1, 7, 10, 3, 20, 5, 2],\n [10, 6, 1, 14, 3, 22, 11, 14],\n [18, 20, 2, 3, 14, 14, 9],\n [18, 6, 5, 8, 9, 3, 7, 17, 6],\n [10, 1, 9, 6, 3, 10, 1, 13, 2, 3, 8, 8, 3],\n [18, 6, 5, 20, 5, 18, 6, 3, 9],\n [22, 2, 4, 9, 6, 7, 5, 2],\n [13, 11, 18, 6, 5, 4, 7],\n [1, 12, 5, 9, 6, 15, 1, 8],\n [1, 2, 4, 6, 1, 7, 2, 1, 8, 1],\n [1, 17, 1, 2, 10, 1, 2, 12, 5, 2],\n [10, 1, 2, 11, 10, 1, 2, 19, 4, 15, 4, 20, 4, 8, 1],\n [9, 5, 7, 16, 1, 14, 14, 3],\n [2, 1, 7, 17, 3, 2, 10, 11, 14],\n [15, 4, 6, 1, 15, 1, 8, 2, 4, 17, 4, 7, 5, 2],\n [10, 4, 2, 4, 13, 4, 14, 5, 2],\n [13, 5, 14, 3, 22, 10, 5],\n [18, 6, 5, 7, 14, 1],\n [11, 12, 6, 2, 3, 8, 4],\n [13, 1, 2, 1, 22, 9, 6, 11, 13, 6, 2, 1],\n [7, 1, 19, 3, 2, 6, 1, 8, 15, 11, 10, 6, 3],\n [13, 3, 18, 6, 4, 10, 10, 6, 4, 7],\n [7, 3, 2, 1, 9, 8, 2, 5, 5, 10, 4, 2, 4, 7],\n [13, 4, 3, 12, 6, 4, 10, 4, 2, 4, 7, 5],\n [15, 11, 10, 8, 1, 15, 1, 7, 18, 6, 5, 4],\n [1, 12, 1, 15, 10, 6, 1, 7, 3, 2],\n [15, 1, 2, 8, 1, 13, 1, 7],\n [11, 18, 6, 11, 8, 5, 4],\n [7, 1, 11, 12, 1, 9, 20, 11],\n [16, 1, 2, 17, 1, 7, 1, 2],\n [16, 11, 19, 1, 2, 3, 2, 1],\n [15, 11, 8, 6, 11, 9, 24, 1, 15, 3, 10, 5],\n [9, 15, 3, 8, 1, 12, 5, 21, 3],\n [13, 4, 10, 6, 2, 1],\n [13, 1, 13, 11, 8, 3, 10, 5],\n [9, 6, 4, 24, 3, 10],\n [12, 4, 18, 8, 2, 3, 7],\n [10, 1, 14, 20, 1, 7, 18, 6, 5, 8, 1, 7, 1],\n [7, 3, 13, 5, 12, 7, 1, 7, 18, 6, 1],\n [7, 3, 5, 14, 5, 2, 9],\n [6, 1, 10, 9, 1, 2],\n [13, 6, 11, 3, 7, 20, 1],\n [24, 4, 2, 10, 16, 2, 3, 7, 8],\n [15, 1, 7, 3, 20, 1, 18, 6, 18, 6, 3],\n [3, 9, 8, 5, 5, 14],\n [12, 1, 5, 5, 7, 1, 7, 12, 3, 7, 7, 1, 17, 1, 2, 3, 10],\n [1, 7, 5, 9, 8, 6, 5, 9, 3, 4, 14, 4, 17, 3, 9, 8],\n [12, 4, 10, 4, 7, 5, 2],\n [13, 4, 12, 20, 2],\n [15, 1, 17, 1, 12, 1, 9, 20, 11],\n [8, 2, 1, 12, 3, 8, 3, 4, 7, 1, 14, 14, 20],\n [22, 1, 10, 3, 2, 1, 18, 6, 1, 7],\n [18, 6, 3, 15, 3],\n [16, 4, 2, 9, 8],\n [13, 4, 7, 12, 6, 20, 4, 10, 4, 2, 4, 7, 5, 2],\n [8, 1, 7, 8, 2, 4, 19, 4, 17],\n [13, 1, 17, 6, 8, 3, 2],\n [18, 6, 4, 14, 4, 18, 6, 18, 6, 3, 14, 4],\n [6, 1, 8, 3, 18, 6, 1, 16, 1],\n [18, 6, 11, 10, 11, 2, 3, 19, 3, 13, 3],\n [10, 4, 11, 9, 6, 3, 10, 5, 2, 1],\n [14, 5, 11, 10, 5, 15, 3, 1],\n [12, 3, 1, 2, 2, 6, 5, 1, 14],\n [8, 4, 8, 6, 20, 4, 13, 3, 9, 6, 14, 5, 9, 6, 4, 7, 3],\n [19, 1, 15, 1, 3, 15, 5, 14, 1],\n [16, 11, 2, 1, 9, 11, 7, 12, 1],\n [9, 5, 13, 4, 10, 12, 3, 17, 5, 2],\n [5, 14, 5, 18, 8, 2, 4, 7, 17, 11, 14, 3, 10, 5],\n [15, 1, 7, 3, 10, 1, 2, 7, 3, 10, 1, 10, 5],\n [12, 6, 20, 1, 16, 1, 2],\n [13, 6, 1, 2, 1, 16, 11, 19, 6, 1, 2],\n [15, 5, 12, 3, 8, 4, 2],\n [14, 11, 8, 1, 4],\n [19, 4, 15, 15, 4, 9, 8, 6, 1, 7, 5],\n [1, 7, 8, 4, 6, 4, 7, 18, 6, 4, 14],\n [10, 6, 1, 14, 3, 15, 16, 11, 2, 5],\n [2, 4, 23, 17, 1, 2, 5],\n [12, 6, 4, 2, 15, 3, 20, 4, 15, 4, 8, 5],\n [2, 1, 17, 6, 11, 7, 1, 8, 6, 1, 7, 10, 5],\n [3, 7, 9, 8, 3, 8, 11, 8, 3, 4, 7, 5, 3],\n [9, 4, 15, 1, 19, 1, 10, 5],\n [9, 5, 7, 17, 9, 6, 4, 7],\n [2, 1, 9, 6, 8, 2, 4, 13, 6, 1, 2],\n [15, 1, 10, 6, 1, 7, 19, 3, 10, 5],\n [10, 1, 12, 1, 10, 1, 15, 16, 1, 14, 14, 20],\n [15, 4, 6, 9, 5, 7, 3, 7],\n [12, 1, 10, 10, 6, 3, 7, 12, 3, 10, 5],\n [3, 15, 16, 2, 4, 21, 3, 12, 5],\n [7, 4, 13, 3, 7, 13, 1, 13, 11, 12, 5, 2],\n [13, 11, 12, 6, 1, 10, 5],\n [9, 1, 14, 21, 3, 4],\n [2, 11, 23, 11, 10, 2, 1, 15, 5],\n [9, 8, 11, 2, 17, 5, 4, 7],\n [2, 11, 10, 11, 12, 3, 12, 3, 2],\n [6, 20, 16, 5, 2, 9, 5, 7, 9, 3, 8, 3, 21, 3, 8, 20],\n [14, 5, 21, 3, 7, 1],\n [9, 16, 4, 2, 9, 4, 7, 19, 4, 17, 17, 4],\n [12, 6, 3, 7, 17, 2, 1],\n [6, 4, 14, 21, 5, 2, 9, 4, 7],\n [16, 4, 9, 18, 6, 1, 8, 17, 4, 8, 4],\n [13, 1, 14, 3, 8, 6, 1],\n [13, 19, 22, 18, 3],\n [1, 7, 8, 20, 5, 9, 6, 8, 3, 13, 3, 9, 6, 1, 20, 1, 10],\n [19, 4, 10, 10, 6, 4, 16, 4, 8, 3, 2],\n [13, 3, 2, 4, 9, 6, 3],\n [11, 16, 4, 16, 4, 2, 13, 4, 10, 5],\n [1, 7, 11, 13, 1, 12, 17, 11, 14, 4, 8, 5],\n [18, 6, 1, 10, 13, 1, 23, 1, 2],\n [15, 4, 20, 5, 9, 6, 18, 6, 1, 2, 10, 5],\n [16, 14, 1, 8, 5, 10, 5, 3],\n [1, 9, 10, 1, 14, 1, 7, 3],\n [16, 4, 9, 18, 6, 3, 15, 9, 4, 7, 17, 19, 4, 17],\n [7, 1, 10, 9, 6, 1, 14, 12, 1, 15, 1, 7, 5, 2],\n [3, 9, 15, 1, 10, 5],\n [13, 1, 18, 5, 12, 3, 4, 15, 20, 18, 5, 8, 5, 9],\n [6, 2, 3, 8, 16, 3, 7, 12, 4, 10, 5, 4],\n [19, 1, 14, 3, 5, 18, 6, 3, 14],\n [16, 2, 1, 16, 8, 3, 9, 1, 15, 13, 6, 1, 13, 1, 15],\n [4, 11, 16, 4, 2, 3, 9, 8, 4, 10, 1, 7, 8, 4],\n [13, 4, 11, 7, 3, 8, 20],\n [16, 2, 4, 8, 5, 18, 8, 3, 4, 7, 10, 5],\n [18, 6, 1, 13, 1, 14, 3, 8, 4],\n [9, 4, 21, 1, 6, 1, 7, 5, 2],\n [6, 1, 9, 3, 10, 1, 14, 1, 15, 3],\n [18, 4, 15, 16, 4, 9, 11, 2, 5, 9],\n [13, 1, 9, 6, 10, 1, 7, 12, 3],\n [2, 1, 3, 14, 16, 4, 8, 6, 9, 4, 7, 17, 9, 14, 3, 9, 8],\n [9, 5, 7, 17, 2, 1, 15],\n [13, 6, 1, 19, 14, 1, 15],\n [15, 4, 7, 8, 2, 4, 9, 6, 3, 9, 9, 6, 4],\n [22, 4, 2, 8, 11, 3, 7],\n [9, 1, 13, 10, 4, 8, 3],\n [11, 16, 4, 2, 3, 8, 4, 14, 4, 9, 8, 6, 4],\n [18, 6, 1, 14, 1, 7, 8, 3],\n [1, 10, 9, 6, 1, 8, 4],\n [9, 5, 7, 13, 1, 6, 3, 7, 3, 2],\n [14, 3, 7, 5, 9, 5, 2],\n [1, 22, 2, 3, 22],\n [19, 1, 17, 20, 1, 12, 24, 1, 2, 1],\n [9, 6, 1, 9, 1, 3, 1, 6],\n [3, 8, 3, 13, 2, 3, 8, 8, 4, 10, 4, 8, 6, 1],\n [13, 1, 6, 11, 15, 11, 8, 2, 1],\n [22, 5, 14, 18, 6, 3],\n [1, 13, 4, 20, 9, 3, 7, 17, 6, 5],\n [5, 10, 4, 2, 4, 7, 17, 5, 2],\n [15, 1, 2, 10, 9, 6, 5, 5, 8, 5],\n [1, 9, 6, 2, 1, 15, 5, 2, 4],\n [12, 5, 13, 1, 2, 8, 6, 5],\n [19, 4, 11, 13, 4, 7, 9, 6, 2, 5, 5, 2],\n [13, 1, 10, 6, 8, 11, 2],\n [8, 3, 21, 3, 8, 4],\n [18, 14, 3, 15, 13, 3, 7, 17],\n [6, 5, 2, 4, 12, 4, 8, 11, 9],\n [4, 20, 1, 19, 5, 14, 5, 2],\n [13, 3, 10, 1, 9, 6, 15, 1, 7, 4, 8, 1, 2],\n [15, 5, 16, 5, 13, 11, 19, 6, 5],\n [11, 7, 3, 8, 5, 12, 1, 20],\n [1, 9, 6, 24, 1, 10, 10, 6, 11, 2, 5],\n [3, 7, 18, 14, 11, 9, 3, 21, 5, 7, 5, 9, 9],\n [9, 1, 7, 17, 9, 3, 12, 12, 6, 3, 7, 17],\n [10, 4, 7, 4, 17, 11, 7, 5],\n [11, 16, 4, 12, 24, 3, 16, 4, 13, 1, 9, 3, 2],\n [15, 4, 8, 4, 2, 18, 20, 18, 14, 5, 17, 11, 14, 4, 10, 5],\n [3, 9, 16, 1],\n [16, 4, 8, 1, 10, 1, 8, 4, 14, 5, 3],\n [19, 4, 17, 4, 8, 17, 11, 14, 4, 2],\n [10, 6, 1, 17, 1, 16, 1, 9, 6, 1],\n [19, 11, 19, 11, 8, 9, 11, 2],\n [16, 2, 4, 8, 1, 16, 4, 12, 1, 4],\n [13, 11, 12, 12, 6, 3, 9, 6, 11, 12, 12, 6, 3, 8, 5],\n [10, 1, 14, 3, 15, 1, 7, 12, 3, 2, 5],\n [13, 19, 2, 1, 7, 1, 7, 12, 1],\n [2, 22, 9],\n [14, 4, 11, 13, 7, 1],\n [6, 5, 15, 1, 7, 17, 15, 4, 6, 1, 7],\n [4, 10, 5, 18, 6, 11, 10, 11],\n [7, 3, 8, 3, 17, 2, 1, 6, 1, 7, 5, 2],\n [9, 6, 2, 4, 15, 3, 10, 16, 3, 18, 6, 11],\n [7, 3, 2, 4, 9, 8, 2, 4, 13, 6, 1, 13, 5],\n [9, 6, 3, 7, 17, 7, 1],\n [17, 20, 1, 16, 4, 7, 5],\n [2, 1, 6, 3, 15, 11, 7, 7, 5, 9, 9, 1],\n [7, 8, 5, 9],\n [7, 1, 21, 14, 1, 10, 6, 1],\n [13, 1, 14, 20, 1, 13, 5, 14, 1],\n [8, 5, 2, 15, 3, 7, 1, 14, 8, 3, 8, 5],\n [2, 5, 21, 3, 9, 5, 12],\n [18, 1, 2, 21, 1, 14, 6, 4, 2, 5],\n [13, 1, 6, 3, 7, 3, 17, 11, 14, 4, 2, 7, 3, 2, 12, 5, 9, 6],\n [1, 13, 23, 1, 14, 11, 2],\n [12, 3, 9, 3, 16, 3, 8, 5],\n [13, 4, 9, 4, 8, 3, 8, 5],\n [1, 3, 10, 1, 23],\n [7, 1, 7, 12, 1, 7, 8, 1, 8, 8, 24, 1, 10, 5],\n [8, 4, 16, 4, 9, 6, 18, 6, 4, 3, 13, 4],\n [10, 1, 8, 1, 8, 3],\n [9, 1, 2, 10, 1, 2, 13, 1, 13, 4, 9, 8, 6, 1, 2],\n [1, 8, 15, 1, 9, 1, 15, 1, 2, 16, 1, 7, 5, 2],\n [8, 11, 14, 22, 1],\n [9, 6, 4, 10, 1, 18, 6, 18, 6, 4, 7, 7, 4, 8, 1, 2],\n [9, 5, 2, 1, 19, 20, 5],\n [12, 5, 15, 4, 8, 3, 25],\n [13, 4, 20, 19, 11, 12, 12, 3, 7, 5, 2],\n [1, 12, 6, 10, 1, 2, 3, 10, 5, 2, 1],\n [13, 6, 1, 9, 8, 1, 2],\n [18, 1, 15, 5, 2, 15, 1, 7],\n [9, 24, 3, 10, 1, 2, 19, 4, 9, 4, 15, 11, 6, 4],\n [9, 11, 7, 12, 1, 2, 13, 4, 12, 6, 5, 2],\n [19, 4, 11, 7, 4, 16, 1, 18, 6, 1, 2],\n [13, 5, 5, 9, 24, 1, 9, 15, 4, 8, 5],\n [10, 6, 4, 1, 3, 13, 1, 2],\n [8, 2, 1, 7, 9, 5, 11, 7, 8, 5],\n [22, 4, 11, 7, 12, 5, 9, 6, 5, 2],\n [7, 1, 2, 3, 21, 4, 10, 8, 4, 10, 5],\n [12, 5, 10, 6, 3, 20, 5, 2, 1],\n [9, 3, 7, 17, 6, 3, 20, 1, 2],\n [15, 18, 12, 4, 7, 7, 1, 6],\n [5, 15, 26, 15],\n [2, 1, 8, 1, 7, 16, 11, 16, 11, 2],\n [17, 11, 7, 15, 1, 7, 10, 5],\n [16, 11, 2, 13, 4, 16, 11, 2, 11, 9, 6, 5, 2, 1],\n [7, 1, 15, 17, 11, 14, 1, 2],\n [6, 1, 8, 13, 1, 2, 5, 3],\n [15, 3, 14, 1, 7, 12, 6, 1, 2, 15, 3],\n [14, 11, 16, 8, 1, 9, 20, 1],\n [13, 2, 11, 20, 7, 10, 5],\n [13, 6, 1, 8, 3, 10, 6, 1, 7, 1],\n [8, 2, 3, 12, 3, 16, 1],\n [18, 1, 16, 15],\n [12, 6, 11, 15, 10, 5, 8, 11, 3],\n [14, 5, 17, 1, 9, 16, 3, 2],\n [15, 1, 2, 14, 4, 7, 5],\n [16, 1, 2, 8, 3, 17, 11, 14, 4, 2],\n [1, 12, 6, 3, 19, 11, 17, 8, 3, 2],\n [13, 3, 10, 1, 14, 16, 1, 17, 11, 14, 3, 4],\n [16, 3, 5, 9, 9, 3],\n [22, 1, 10, 3, 10, 1, 2, 3],\n [6, 20, 16, 4, 8, 6, 5, 2, 15, 3, 1],\n [10, 5, 15, 10, 4],\n [7, 3, 14, 10, 6, 5, 8, 2, 5, 2],\n [18, 1, 9, 1, 14, 12, 14, 3, 17, 1],\n [10, 1, 7, 17, 9, 6, 5, 2, 10, 11, 2],\n [1, 8, 8, 5, 7, 13, 2, 4],\n [9, 4, 7, 1, 16, 4, 4, 2],\n [10, 1, 8, 6, 1, 15, 1, 14, 1, 8, 5, 3],\n [9, 6, 1, 8, 1, 12, 3],\n [15, 4, 9, 14, 1, 2],\n [16, 4, 9, 6, 1, 14],\n [7, 5, 21, 7, 4, 2],\n [16, 3, 15],\n [18, 4, 15, 16, 2, 5, 9, 9, 5, 12],\n [15, 1, 7, 4, 15, 4, 20, 8, 1, 2],\n [9, 1, 15, 13, 6, 1, 19, 3],\n [13, 2, 5, 1, 9, 8, 16, 14, 1, 8, 5],\n [8, 14, 1, 3, 13],\n [17, 1, 13, 1, 14, 1],\n [17, 6, 1, 8, 1, 10, 6, 1, 14, 3],\n [19, 3, 7, 12, 5, 17, 3, 8, 5],\n [24, 3, 18, 10, 5, 8, 9, 4, 7, 17, 2, 1, 6, 4, 10],\n [14, 1, 8, 1, 10, 2, 3, 9, 6, 3, 2],\n [16, 1, 12, 15, 1, 12, 3, 12, 3],\n [13, 6, 1, 9, 10, 1, 2, 5, 9, 6, 24, 1, 2],\n [19, 1, 7, 7, 1, 8, 3, 17, 1, 7],\n [19, 1, 12, 5, 13],\n [15, 4, 9, 8, 3, 9, 6, 10, 4, 10, 5, 2],\n [9, 3, 7, 4],\n [16, 4, 2, 4, 13, 4, 2, 8, 5],\n [13, 6, 2, 1, 15, 20, 4, 15, 1, 7, 9, 4, 6, 4],\n [1, 7, 1, 17, 2, 1, 6, 1, 9, 1, 2],\n [13, 11, 13, 13, 4, 7, 3, 1],\n [22, 3, 8, 23, 17, 5, 2, 1, 14, 12, 5, 2],\n [13, 20, 1, 8, 3, 2, 5],\n [19, 4, 7, 4, 16, 4, 12, 5, 3],\n [17, 1, 18, 6, 1, 8, 5],\n [10, 4, 8, 13, 1, 23, 1, 2],\n [16, 2, 4, 7, 4, 12, 4, 7, 1, 10, 5],\n [22, 3, 10, 3, 2, 18, 6, 1, 7, 12],\n [3, 9, 16, 18, 1, 7],\n [21, 3, 17, 5, 5],\n [9, 6, 4, 8, 1, 7, 17, 4],\n [9, 6, 3, 9, 6, 11, 13, 6, 4, 14, 1, 7, 4],\n [9, 11, 13, 13, 1, 2, 1, 20, 1, 7],\n [7, 3, 16, 6, 1, 9, 5, 2],\n [18, 6, 4, 11, 10, 1, 8, 6, 5, 2],\n [16, 2, 3, 12, 5, 20],\n [11, 16, 4, 10, 1, 2, 1, 17, 1, 2, 5],\n [9, 3, 15, 11, 14, 5, 9, 1, 7, 1],\n [15, 5, 2, 12, 5, 10, 1],\n [16, 2, 1, 17, 20, 1, 13, 1, 2, 12, 6, 1, 7],\n [1, 2, 17, 5, 7, 8, 3, 7, 5],\n [15, 4, 20, 15, 11, 7, 1],\n [18, 14, 4, 9, 11, 2, 5, 8, 20],\n [18, 11, 2, 3, 7, 4],\n [9, 6, 3, 9, 6, 11, 10, 5, 21, 3, 8, 1, 15, 3, 7],\n [4, 3, 5],\n [13, 1, 14, 10, 2, 3, 9, 6, 7, 1, 7, 10, 5],\n [6, 1, 14, 1, 13, 5, 2],\n [12, 1, 17, 5, 9, 8, 1, 7],\n [16, 11, 15, 16, 14, 4, 7, 1],\n [10, 15, 10, 9],\n [9, 24, 1, 2, 17, 1, 13, 6, 2, 1, 9, 6, 8, 1],\n [9, 6, 1, 9, 1, 7, 1, 12, 6, 3, 7],\n [10, 5, 8, 4, 17, 5, 7, 3, 18],\n [8, 4, 11, 2, 1, 7, 3, 10, 5],\n [2, 11, 15, 13, 14, 3, 7, 17],\n [2, 5, 22, 3, 7, 5, 12],\n [1, 7, 3, 15, 3, 9, 6],\n [10, 1, 8, 15, 1, 2, 10],\n [14, 1, 15, 16, 1, 2, 12, 12, 5, 2],\n [9, 1, 2, 1, 8, 4, 21],\n [16, 5, 2, 4, 7, 1, 14],\n [1, 7, 11, 13, 6, 11, 8, 3, 17, 11, 14, 1],\n [21, 1, 14, 22, 4, 14],\n [13, 5, 22, 1, 10, 11, 14],\n [17, 11, 14, 4, 16, 4, 2, 1, 15, 4, 2, 9, 6, 4, 17, 11, 14, 4],\n [2, 1, 15, 16, 2, 4, 9, 1, 12, 10, 5],\n [13, 1, 2, 3, 8, 4, 7, 5],\n [10, 6, 5, 18, 6, 14, 1, 15],\n [17, 3, 7, 17, 3, 21, 3, 8, 3, 5, 9],\n [16, 2, 4, 12, 6, 1, 7, 4, 8, 4],\n [7, 5, 16, 8, 6, 4, 14, 5, 5, 7, 5, 2],\n [13, 3, 18, 6, 1, 2, 1, 7, 9, 6, 3, 14, 1, 8, 1],\n [10, 6, 5, 14, 8, 5, 13, 3, 9, 8, 1, 2, 3, 8, 4],\n [9, 6, 2, 11, 8, 3, 2, 11, 16],\n [1, 12, 1, 15, 1, 7, 3],\n [16, 2, 4, 8, 6, 3, 15, 4, 12, 6, 20, 5],\n [19, 1, 9, 3, 15, 11, 14],\n [11, 16, 4, 17, 2, 4, 6, 4, 15, 1, 14, 1, 2],\n [2, 1, 19, 16, 2, 1, 9, 1, 12, 5, 2],\n [1, 3, 2, 9, 8, 2, 3, 16],\n [3, 7, 17, 14, 5, 9],\n [4, 7, 11, 11, 16, 4, 9, 8, 6, 3, 8, 4],\n [9, 5, 15, 5, 3],\n [15, 4, 6, 5, 9, 6, 17, 2, 1, 15, 5, 2],\n [5, 9, 2],\n [7, 1, 2, 9, 3, 16, 11, 2, 1],\n [8, 3, 16, 9, 8, 5, 2, 5],\n [12, 6, 1, 7, 3, 2, 1, 15],\n [15, 11, 14, 7, 3, 8, 3, 2],\n [18, 6, 1, 15, 10, 5, 18, 6, 3],\n [15, 11, 9, 14, 5, 15, 11, 7],\n [13, 3, 17, 12, 5],\n [3, 12, 4],\n [13, 5, 7, 5, 13, 5, 8, 3, 2],\n [18, 6, 11, 14, 10, 1, 14],\n [21, 1, 2, 8, 6, 11, 2],\n [9, 4, 10, 10, 6, 4, 15, 5],\n [16, 11, 7, 4, 16, 2, 4, 8, 3, 9, 8, 6, 1, 10, 5],\n [13, 2, 1, 6, 15, 1, 13, 6, 1, 2, 17, 1, 13, 16, 11, 2, 1, 7],\n [16, 3, 5, 13, 4, 14, 5, 2],\n [2, 5, 18, 5, 14, 14, 5, 2],\n [10, 1, 15, 1, 2, 16, 1, 12, 1, 17, 6, 1, 8],\n [7, 3, 9, 6, 3, 10, 1, 14],\n [17, 6, 4, 7, 3, 9, 8, 6, 4, 12, 5, 2, 10, 5, 4],\n [19, 20, 4, 8, 3, 7, 12, 2, 4, 7, 1, 8, 6, 5, 2],\n [15, 1, 8, 1, 14, 5, 2, 1],\n [19, 3, 8, 4, 13, 5, 3],\n [16, 4, 14, 3, 9, 8, 1],\n [22, 1, 14, 14, 1, 18, 6, 3],\n [10, 1, 23, 10, 1, 2, 1],\n [5, 12, 3, 18, 6, 3, 16, 3],\n [18, 6, 6, 11, 14, 5, 2],\n [11, 12, 6, 13, 6, 3, 8],\n [9, 6, 2, 4, 8, 1, 8, 5, 2],\n [16, 4, 2, 1, 15, 4, 2, 9, 6, 4, 8, 1, 10, 5],\n [9, 6, 11, 14, 16, 4, 15, 11, 10, 8, 4],\n [10, 1, 3, 8],\n [3, 2, 1, 7, 3, 19, 3],\n [16, 6, 1, 2, 9, 3, 3],\n [8, 4, 8, 5, 15, 16, 11],\n [9, 1, 7, 10, 1, 14, 8, 3],\n [8, 2, 3, 7, 4, 16, 4, 2, 19, 1, 20, 5],\n [1, 8, 3, 10, 2, 3, 8, 3, 8, 5],\n [9, 2, 3, 9, 2, 3, 19, 17, 1, 7, 7, 1, 8, 6],\n [22, 1, 2, 11, 26, 3],\n [13, 14, 4, 18, 10, 18, 6, 1, 3, 7, 5, 2],\n [22, 3, 2, 13, 5, 7, 1],\n [13, 3, 9, 24, 4, 13, 2, 4, 15, 6, 1, 7, 12, 4, 10, 5],\n [9, 1, 7, 17, 13, 1, 6, 1, 7],\n [16, 2, 4, 12, 6, 1, 7, 5, 2],\n [19, 3, 7, 12, 1, 16, 1, 14, 10, 5],\n [16, 2, 4, 19, 5, 10, 9, 4, 7, 5, 2],\n [6, 3, 5, 2, 2, 4],\n [12, 24, 3, 8, 3, 16, 2, 3, 20, 1, 10, 5],\n [17, 6, 11, 7, 3, 20, 5],\n [5, 8, 4, 12, 13, 6, 3, 7, 7, 4],\n [17, 5, 7, 8, 9],\n [9, 4, 15, 13, 6, 1, 2, 4, 7, 1, 2],\n [4, 14, 3, 21, 5, 3, 2, 1],\n [5, 10, 18, 6, 4, 7, 1],\n [6, 1, 15, 1, 19, 1],\n [2, 1, 9, 6, 8, 2, 4, 13, 3, 17, 17, 1, 7, 3, 2, 3],\n [4, 9, 4, 13, 6, 20, 4, 13, 6, 1, 13, 5],\n [22, 1, 10, 3, 7, 7, 3, 2],\n [15, 11, 7, 7, 1, 13, 1, 3],\n [10, 1, 7, 9, 6, 3, 4],\n [13, 3, 18, 6, 20, 11, 8, 3, 10, 5, 4],\n [1, 7, 8, 1, 2, 3, 10, 1, 8, 1],\n [1, 2, 4, 16, 4, 7, 5, 2],\n [17, 4, 7, 4, 9, 4, 18, 6, 5, 8, 4, 7, 4, 8, 1, 15, 11, 14, 4, 10],\n [10, 4, 12, 3, 2],\n [19, 6, 3, 7, 11, 10, 8, 1, 2],\n [3, 7, 21, 5, 9, 8, 15, 5, 7, 8, 5, 2, 4],\n [13, 3, 9, 6, 24, 4, 16, 4, 2, 13, 5, 2],\n [17, 1, 9, 8, 2, 1, 14, 3, 21, 5, 2],\n [15, 1, 11, 14, 1, 13, 6, 1, 13, 1, 23, 1, 2],\n [15, 1, 6, 11, 14, 3],\n [16, 4, 11, 8, 2, 4, 12, 3, 17, 10, 5],\n [15, 5, 2, 2, 5, 8, 8],\n [8, 6, 3, 10, 20, 3],\n [13, 3, 7, 1, 15, 11, 14, 20, 5],\n [4, 25, 20, 9, 16, 4, 2, 11, 15],\n [9, 8, 4, 2, 1, 17, 5, 17, 11, 14, 4, 8, 5],\n [1, 8, 6, 1, 4, 14, 5, 3],\n [16, 1, 2, 4, 9, 6, 20, 4, 13, 6, 1, 9, 6, 1],\n [13, 20, 1, 13, 1, 9, 1, 20, 3, 15, 1, 6, 1, 14, 5],\n [9, 6, 3, 10, 5, 8],\n [12, 2, 11, 16, 10, 1],\n [13, 2, 1, 21, 5, 6, 5, 1, 2, 8, 5, 2],\n [9, 5, 16, 8, 5, 15, 21, 1, 2, 1],\n [22, 2, 5, 5, 21, 1, 13, 5],\n [19, 4, 7, 15, 4, 13, 1, 2, 9, 6, 3, 10, 3, 8, 5, 3],\n [18, 5, 7, 4, 13, 3, 8, 3, 18],\n [10, 1, 2, 4, 7, 1, 7, 8, 4, 2, 5],\n [3, 7, 9, 8, 1, 14, 14, 5, 2, 8, 20],\n [12, 2, 11, 7, 10, 5, 7],\n [9, 4, 15, 3, 23, 3, 7, 17],\n [18, 4, 7, 18, 5, 2, 7, 5, 2],\n [13, 1, 2, 1, 16, 2, 1, 9, 1, 12, 5, 2],\n [22, 2, 1, 7, 18, 1, 3, 9, 5],\n [10, 24, 1, 9, 5, 2],\n [16, 4, 14, 1, 20, 4, 7, 10, 1, 2, 3, 2],\n [1, 8, 4, 13],\n [15, 11, 7, 19, 3],\n [12, 6, 1, 7, 8, 1, 7, 8, 2, 5, 2],\n [13, 4, 9, 4, 13, 1, 9, 5, 4],\n [13, 4, 17, 2, 1, 15, 5, 2],\n [15, 5, 2, 1, 15, 1, 8, 10, 1, 2, 1, 7],\n [16, 2, 4, 15, 4, 8, 8, 4, 8, 1, 10, 5],\n [19, 1, 7, 4, 9, 1, 7, 17, 6, 3, 2, 1, 3],\n [19, 11, 2, 3, 16],\n [1, 18, 6, 5, 7, 4],\n [7, 1, 17, 1, 2, 13, 3, 7, 4, 12, 1, 7],\n [15, 3, 8, 5, 9, 6, 10, 5],\n [13, 1, 14, 5, 9, 6, 24, 1, 2, 9, 1, 6, 1],\n [13, 4, 2, 7, 4, 13, 3, 12, 24, 5, 9, 6, 3, 15, 11, 14, 4, 10],\n [1, 3, 10, 5, 7],\n [15, 1, 8, 3, 20, 1, 7, 3],\n [16, 2, 3, 9, 8, 4],\n [16, 4, 2, 4, 9, 16, 4, 2, 13, 3, 2, 4, 12, 6, 5, 7],\n [16, 3, 17, 11, 5, 8],\n [8, 6, 1, 7, 8],\n [12, 6, 1, 2, 8, 1, 3],\n [9, 1, 12, 4, 11, 8, 3, 10, 5],\n [2, 3, 6, 14, 1, 8],\n [16, 4, 2, 18, 6, 3, 14, 1, 15],\n [9, 1, 17, 3, 2, 1, 10, 5],\n [4, 3, 8, 3, 19, 19, 4, 13, 4, 6, 4, 7, 10, 1, 2, 3],\n [10, 4, 2, 8, 4, 13, 20, 4, 17, 11, 14, 3, 10, 5],\n [13, 1, 6, 1, 7, 19, 4, 17, 20, 4],\n [8, 6, 3, 10, 1, 13, 6, 1, 13, 5],\n [9, 6, 11, 14, 8, 1, 7],\n [19, 5, 9, 15, 3, 8, 1, 2],\n [16, 2, 1, 12, 6, 20, 1, 7, 7, 4],\n [9, 11, 2, 1, 17, 20, 1, 7],\n [17, 11, 14, 3, 12, 12, 6, 3],\n [11, 7, 5, 9, 18, 4, 2, 5],\n [7, 4, 4, 2, 19, 5, 6, 1, 7],\n [10, 11, 14, 7, 1, 9, 6, 1, 7, 1],\n [13, 1, 9, 26, 5, 8, 1, 13, 1, 14],\n [8, 5, 7, 23, 3, 9, 8, 5, 2],\n [15, 1, 19, 2, 1, 15, 11, 12, 1],\n [8, 5, 17, 8, 3],\n [18, 6, 14, 4, 2, 9, 5, 2, 3, 7, 5],\n [18, 6, 6, 1, 8, 2, 4, 14, 3, 17, 5, 2, 9, 4, 6, 4],\n [15, 2, 3, 8, 20, 11, 12, 1, 7, 12, 1, 3],\n [4, 10, 16, 5, 2, 3, 2],\n [7, 11, 2, 4, 4, 7],\n [16, 11, 7, 8, 3, 12, 5, 2],\n [9, 3, 14, 5, 18, 14, 5],\n [8, 20, 7, 12, 1, 14, 14],\n [15, 1, 6, 11, 1],\n [7, 3, 2, 19, 1, 8, 4, 10, 5, 2],\n [13, 2, 3, 7, 12, 1, 10, 6, 1, 14, 3, 8, 5],\n [8, 6, 1, 10, 11, 2, 17, 6, 1, 2, 10, 6, 1, 7, 3],\n [3, 13, 3, 7, 5, 2],\n [10, 1, 8, 4, 8, 1, 15],\n [16, 3, 23],\n [14, 1, 9, 8, 4, 15],\n [18, 6, 3, 8, 2, 4, 17, 1, 6, 4, 10],\n [8, 3, 18, 6, 1, 2, 9, 6, 1],\n [9, 11, 10, 20, 7, 1],\n [9, 1, 6, 11, 19, 3],\n [2, 11, 9, 6, 1, 3, 12],\n [12, 4, 2, 9, 6, 4, 7, 19, 4, 17, 17, 4, 8, 1],\n [13, 1, 8, 6, 9, 11, 1],\n [8, 1, 2, 3, 10, 11, 14, 14, 1, 6, 1, 2],\n [5, 25, 8, 3, 7, 17, 11, 3, 9, 6, 5, 2],\n [13, 3, 14, 5, 2],\n [12, 1, 2, 3, 10, 1],\n [13, 1, 7, 12, 6, 8, 11, 15],\n [8, 5, 18, 8, 11, 7, 5, 9, 12, 4, 24, 7, 14, 4, 1, 12],\n [9, 4, 15, 16, 1, 12, 4, 10, 3, 20, 4, 10, 5],\n [13, 1, 9, 8, 4, 13, 4, 8, 1, 17, 11, 14, 4, 10, 5],\n [12, 1, 7, 12, 1, 17, 11, 14, 4, 8, 5],\n [12, 6, 1, 2, 15, 1, 18, 6, 1, 7, 12, 2, 3, 10, 1],\n [18, 6, 1, 15, 16, 1, 8],\n [10, 5, 15, 13, 2, 3, 12, 17, 5, 2],\n [13, 4, 2, 13, 4, 7, 5],\n [12, 3, 10, 18, 6, 4, 10, 2, 4, 13, 1, 14, 5, 2],\n [8, 1, 1, 15, 2, 1, 14, 3, 16, 3, 5],\n [5, 15, 1, 2, 4, 8, 5, 2],\n [3, 13, 1, 2, 4, 8, 17, 11, 14, 4],\n [13, 1, 12, 1, 14, 3, 9, 1, 6, 1],\n [16, 2, 4, 21, 1, 9, 6],\n [1, 26, 11, 1],\n [15, 4, 15, 12, 1, 7, 5],\n [18, 4, 7, 9, 8, 1, 7, 18, 5],\n [12, 3, 9, 16, 11, 8],\n [15, 3, 6, 1, 23, 14, 4, 21, 3, 18, 6],\n [11, 7, 12, 5, 2, 16, 1, 9, 9, 5, 2],\n [15, 4, 8, 5, 2, 13, 1, 23, 1, 2],\n [21, 11, 9, 18, 4],\n [18, 6, 1, 9, 6, 3, 13, 6, 1, 3, 2, 1],\n [11, 16, 4, 9, 4, 7, 17, 6, 1, 2, 10, 5],\n [13, 2, 4, 15, 6, 4, 12, 4, 3, 8, 8, 5],\n [13, 6, 11, 10, 8, 4, 13, 6, 11, 17, 3, 12, 5, 2],\n [13, 1, 14, 4, 10, 13, 1, 14, 3, 10, 1, 10, 5],\n [16, 2, 4, 9, 6, 3, 10, 10, 6, 4, 7, 14, 4, 13, 12, 6, 4],\n [16, 11, 2, 21, 3, 20, 1],\n [16, 5, 7, 8, 1, 8, 6, 14, 4, 7],\n [8, 1, 9, 10, 4, 10, 10, 6, 4],\n [9, 18, 5, 7, 3, 18],\n [16, 4, 18, 6, 10, 1, 7, 24, 1, 14, 1, 2],\n [12, 6, 1, 2, 1, 1, 18, 6, 6, 4, 7, 20, 1, 1, 2],\n [1, 2, 11, 7, 5, 9, 6],\n [13, 1, 9, 12, 2, 4, 7, 3],\n [5, 22, 12, 3, 1, 2, 9, 4, 7, 17, 10, 2, 1, 7, 8, 4],\n [10, 1, 7, 17, 2, 5, 9, 1, 9, 1, 7, 17, 1],\n [22, 2, 5, 12, 3, 17, 11, 7, 12, 5, 2],\n [6, 4, 8, 20, 1, 10, 1, 7, 12, 5],\n [4, 16, 9, 4, 7, 3, 7],\n [16, 2, 4, 9, 4, 7, 7, 4, 18, 6, 3, 8, 8, 4],\n [15, 11, 18, 6, 6, 1, 3, 20, 1],\n [15, 1, 6, 4, 6, 1, 2],\n [10, 1, 2, 19, 4, 12, 3, 13, 5, 9, 5],\n [16, 1, 19, 3, 8, 1],\n [9, 1, 18, 6, 5, 8, 5, 7, 1, 8, 1],\n [7, 5, 2, 17, 11, 7, 12, 3],\n [17, 1, 7, 19, 1, 7, 1, 15, 11, 14, 1, 10],\n [16, 2, 1, 9, 8, 1, 13, 3, 8, 4],\n [19, 4, 7, 1, 14, 5, 3],\n [19, 3, 13, 3, 10, 1, 2, 19, 1, 7, 10, 5],\n [18, 6, 3, 10, 11, 8, 5],\n [19, 1, 14, 12, 6, 1, 10, 1, 8, 5, 4],\n [15, 3, 7, 8, 9],\n [12, 5, 5, 7, 12, 1, 20, 1, 14],\n [9, 11, 8, 2, 5, 4],\n [10, 2, 11, 9, 18, 6, 5, 21, 16, 4, 7, 8, 6, 3],\n [7, 1, 11, 12, 1, 8, 5],\n [16, 11, 19, 1, 15, 1, 7, 12, 1, 16, 17, 11, 14, 4, 2],\n [17, 2, 1, 15, 17, 11, 14, 4, 8, 5, 4],\n [11, 12, 12, 6, 4, 13, 4, 2, 5],\n [10, 1, 7, 17, 13, 1, 14],\n [1, 19, 4, 12, 6, 20, 1, 2, 1, 15],\n [9, 6, 1, 2, 3, 22, 10, 5],\n [17, 6, 4, 7, 3, 9, 8, 4, 19, 4, 7, 2, 1],\n [16, 11, 2, 13, 1, 13, 6, 1, 9, 4],\n [9, 24, 1, 17, 1, 18, 6, 18, 6, 1, 8, 11],\n [13, 5, 19, 16, 11, 10, 11, 2],\n [2, 1, 21, 3, 2],\n [6, 20, 1, 9],\n [11, 8, 9, 1, 2, 17, 3, 10, 2, 3, 8, 4],\n [18, 1, 9, 8, 3, 14, 3, 1, 7],\n [19, 4, 6, 1, 7, 9, 9, 4, 7],\n [6, 11, 5, 14, 9, 5, 7, 13, 5, 18, 10],\n [17, 5, 4, 2, 17, 3, 7, 6, 4, 2, 5],\n [19, 6, 3, 15, 11, 7, 3, 10, 5],\n [13, 2, 1, 7, 12, 20],\n [2, 1, 10, 8, 1, 10, 1, 14, 1, 7, 17],\n ...]"
          },
          "metadata": {}
        }
      ],
      "id": "cXpBW5VBLtvG"
    },
    {
      "cell_type": "code",
      "source": [
        "roman_words[5]"
      ],
      "metadata": {
        "colab": {
          "base_uri": "https://localhost:8080/",
          "height": 36
        },
        "id": "8T95KPuTLysE",
        "outputId": "1dcf732b-1018-4d13-b644-7f6d6faf3a24",
        "execution": {
          "iopub.status.busy": "2024-02-23T16:56:11.476054Z",
          "iopub.execute_input": "2024-02-23T16:56:11.476369Z",
          "iopub.status.idle": "2024-02-23T16:56:11.482515Z",
          "shell.execute_reply.started": "2024-02-23T16:56:11.476342Z",
          "shell.execute_reply": "2024-02-23T16:56:11.481601Z"
        },
        "trusted": true
      },
      "execution_count": null,
      "outputs": [
        {
          "execution_count": 112,
          "output_type": "execute_result",
          "data": {
            "text/plain": "'keter'"
          },
          "metadata": {}
        }
      ],
      "id": "8T95KPuTLysE"
    },
    {
      "cell_type": "code",
      "source": [
        "ben_words_in_ids[5]\n"
      ],
      "metadata": {
        "colab": {
          "base_uri": "https://localhost:8080/"
        },
        "id": "c0ec1ef0",
        "outputId": "f60197d2-002f-4d9d-fc89-2939b99521e7",
        "execution": {
          "iopub.status.busy": "2024-02-23T16:56:11.483847Z",
          "iopub.execute_input": "2024-02-23T16:56:11.484256Z",
          "iopub.status.idle": "2024-02-23T16:56:11.494225Z",
          "shell.execute_reply.started": "2024-02-23T16:56:11.484205Z",
          "shell.execute_reply": "2024-02-23T16:56:11.493319Z"
        },
        "trusted": true
      },
      "execution_count": null,
      "outputs": [
        {
          "execution_count": 113,
          "output_type": "execute_result",
          "data": {
            "text/plain": "[1, 9, 7, 13, 7, 4, 2]"
          },
          "metadata": {}
        }
      ],
      "id": "c0ec1ef0"
    },
    {
      "cell_type": "code",
      "source": [
        "roman_words_in_ids[5]"
      ],
      "metadata": {
        "colab": {
          "base_uri": "https://localhost:8080/"
        },
        "id": "SazdzpXEwpsc",
        "outputId": "7e677efa-c76f-4a3a-f022-0c584edbc5e6",
        "execution": {
          "iopub.status.busy": "2024-02-23T16:56:11.502919Z",
          "iopub.execute_input": "2024-02-23T16:56:11.503281Z",
          "iopub.status.idle": "2024-02-23T16:56:11.509047Z",
          "shell.execute_reply.started": "2024-02-23T16:56:11.503257Z",
          "shell.execute_reply": "2024-02-23T16:56:11.508146Z"
        },
        "trusted": true
      },
      "execution_count": null,
      "outputs": [
        {
          "execution_count": 114,
          "output_type": "execute_result",
          "data": {
            "text/plain": "[10, 5, 8, 5, 2]"
          },
          "metadata": {}
        }
      ],
      "id": "SazdzpXEwpsc"
    },
    {
      "cell_type": "code",
      "source": [
        "label_words = df_train[\"decoder_target\"]\n",
        "print(label_words[6])\n",
        "#convert the text sequences in label_words into sequences of integers\n",
        "y_train = ass_tokenizer.texts_to_sequences(label_words)\n",
        "y_train"
      ],
      "metadata": {
        "colab": {
          "base_uri": "https://localhost:8080/"
        },
        "id": "066db9fc",
        "outputId": "254b3bb6-0887-445e-f75c-a3d205f7b6df",
        "execution": {
          "iopub.status.busy": "2024-02-23T16:56:11.510165Z",
          "iopub.execute_input": "2024-02-23T16:56:11.510484Z",
          "iopub.status.idle": "2024-02-23T16:56:15.006034Z",
          "shell.execute_reply.started": "2024-02-23T16:56:11.510455Z",
          "shell.execute_reply": "2024-02-23T16:56:15.005070Z"
        },
        "trusted": true
      },
      "execution_count": null,
      "outputs": [
        {
          "name": "stdout",
          "text": "দত্তঞ্চ\n\n",
          "output_type": "stream"
        },
        {
          "execution_count": 115,
          "output_type": "execute_result",
          "data": {
            "text/plain": "[[14, 15, 17, 6, 21, 6, 4, 6, 2],\n [36, 10, 14, 5, 14, 13, 6, 10, 13, 5, 13, 5, 11, 7, 31, 2],\n [37, 4, 5, 14, 3, 8, 5, 29, 3, 2],\n [10, 4, 5, 11, 20, 54, 9, 45, 33, 5, 19, 2],\n [14, 3, 22, 7, 8, 6, 2],\n [9, 7, 13, 7, 4, 2],\n [17, 13, 5, 13, 47, 5, 28, 2],\n [37, 8, 5, 13, 4, 5, 22, 3, 13, 6, 9, 14, 3, 8, 7, 4, 2],\n [27, 6, 13, 4, 21, 15, 12, 20, 13, 7, 2],\n [23, 6, 10, 3, 4, 9, 2],\n [9, 11, 6, 13, 3, 10, 23, 2],\n [11, 15, 17, 5, 32, 10, 5, 18, 2],\n [41, 26, 4, 3, 9, 15, 8, 2],\n [14, 23, 3, 11, 6, 25, 5, 11, 9, 7, 2],\n [32, 6, 12, 6, 9, 3, 2],\n [8, 6, 4, 5, 11, 3, 23, 9, 12, 5, 16, 7, 2],\n [11, 15, 4, 15, 47, 5, 22, 6, 2],\n [37, 23, 14, 7, 17, 7, 4, 7, 2],\n [36, 27, 6, 11, 3, 11, 9, 17, 7, 4, 31, 2],\n [16, 3, 17, 3, 14, 10, 6, 2],\n [23, 3, 27, 7, 27, 3, 11, 7, 2],\n [22, 22, 21, 35, 7, 4, 2],\n [11, 5, 18, 13, 6, 9, 5, 4, 14, 24, 9, 7, 2],\n [9, 3, 14, 4, 3, 14, 7, 2],\n [38, 5, 18, 3, 13, 43, 6, 12, 2],\n [11, 5, 18, 9, 5, 13, 6, 8, 6, 4, 5, 27, 4, 13, 3, 2],\n [8, 40, 6, 9, 7, 26, 2],\n [8, 6, 4, 5, 18, 3, 10, 21, 15, 12, 20, 2],\n [27, 7, 8, 5, 19, 15, 4, 2],\n [36, 4, 5, 40, 8, 6, 4, 5, 14, 12, 13, 3, 4, 2],\n [16, 5, 4, 22, 8, 8, 11, 6, 17, 7, 4, 2],\n [11, 17, 11, 7, 2],\n [17, 34, 4, 13, 2],\n [16, 19, 27, 44, 14, 6, 31, 2],\n [28, 6, 9, 6, 54, 10, 3, 11, 6, 22, 5, 47, 3, 8, 31, 2],\n [10, 3, 14, 5, 18, 3, 11, 10, 5, 40, 3, 4, 2],\n [4, 9, 10, 5, 19, 3, 4, 10, 2],\n [11, 6, 17, 5, 18, 3, 32, 4, 24, 13, 7, 2],\n [40, 6, 31, 29, 20, 4, 3, 4, 2],\n [16, 4, 6, 28, 18, 30, 16, 13, 5, 4, 19, 6, 2],\n [16, 50, 4, 11, 24, 2],\n [10, 7, 22, 6, 2],\n [10, 5, 16, 24, 29, 6, 2],\n [14, 3, 12, 27, 44, 14, 6, 21, 15, 12, 20, 2],\n [26, 10, 5, 13, 7, 9, 3, 14, 3, 13, 2],\n [14, 15, 40, 15, 9, 15, 14, 3, 4, 8, 2],\n [10, 39, 25, 20, 32, 8, 24, 10, 23, 2],\n [14, 15, 22, 3, 23, 6, 17, 5, 17, 6, 8, 7, 4, 3, 2],\n [14, 3, 8, 5, 10, 15, 4, 3, 2],\n [11, 3, 10, 7, 12, 8, 3, 2],\n [21, 7, 14, 16, 5, 12, 5, 18, 3, 8, 7, 2],\n [37, 14, 3, 13, 20, 2],\n [27, 9, 5, 13, 6, 31, 2],\n [28, 4, 5, 13, 15, 16, 3, 4, 5, 25, 5, 11, 7, 4, 2],\n [10, 15, 16, 17, 11, 3, 11, 15, 2],\n [14, 7, 23, 9, 7, 4, 2],\n [10, 14, 5, 16, 17, 3, 9, 11, 45, 8, 5, 17, 2],\n [28, 3, 19, 15, 9, 3, 4, 17, 7, 4, 2],\n [42, 9, 5, 10, 7, 9, 5, 10, 2],\n [37, 25, 34, 3, 9, 17, 7, 4, 2],\n [14, 15, 22, 6, 11, 14, 47, 5, 28, 2],\n [27, 5, 18, 3, 8, 6, 4, 2],\n [10, 20, 8, 3, 17, 23, 2],\n [8, 3, 21, 10, 7, 8, 3, 2],\n [8, 7, 22, 6, 10, 3, 4, 2],\n [17, 3, 34, 3, 17, 3, 4, 2],\n [16, 3, 8, 14, 15, 8, 22, 3, 14, 7, 2],\n [10, 5, 19, 3, 4, 5, 9, 17, 7, 4, 2],\n [10, 27, 3, 16, 13, 6, 13, 5, 11, 7, 2],\n [26, 12, 5, 12, 3, 23, 5, 2],\n [14, 23, 3, 25, 5, 11, 7, 13, 3, 2],\n [14, 8, 15, 16, 6, 10, 6, 4, 2],\n [17, 5, 4, 3, 48, 6, 14, 3, 39, 25, 7, 4, 2],\n [17, 21, 32, 26, 2],\n [25, 25, 24, 9, 6, 4, 35, 2],\n [11, 3, 41, 12, 17, 12, 7, 4, 2],\n [13, 52, 12, 9, 5, 33, 2],\n [10, 14, 22, 7, 4, 2],\n [14, 4, 5, 9, 7, 12, 2],\n [16, 15, 22, 6, 11, 3, 17, 7, 2],\n [16, 17, 5, 14, 25, 6, 11, 6, 4, 7, 2],\n [37, 4, 5, 8, 3, 4, 5, 10, 2],\n [28, 15, 26, 4, 3, 2],\n [37, 14, 5, 11, 6, 12, 6, 9, 3, 12, 2],\n [58, 4, 5, 25, 5, 11, 3, 8, 5, 11, 6, 13, 2],\n [8, 7, 13, 3, 9, 7, 13, 3, 17, 7, 4, 2],\n [9, 3, 19, 22, 15, 9, 7, 2],\n [27, 3, 22, 6, 18, 30, 7, 2],\n [9, 14, 12, 16, 5, 4, 24, 13, 2],\n [22, 20, 8, 5, 8, 3, 21, 6, 4, 6, 2],\n [38, 12, 5, 12, 3, 17, 2],\n [21, 3, 4, 5, 29, 8, 5, 10, 2],\n [16, 3, 4, 9, 6, 8, 10, 8, 7, 4, 2],\n [10, 5, 12, 3, 26, 29, 12, 6, 2],\n [13, 17, 5, 11, 4, 39, 2],\n [16, 6, 40, 14, 16, 15, 4, 2],\n [10, 3, 14, 7, 8, 7, 26, 2],\n [41, 16, 12, 22, 7, 12, 3, 4, 2],\n [8, 6, 33, 5, 49, 15, 4, 13, 3, 9, 7, 31, 2],\n [10, 5, 19, 7, 23, 12, 2],\n [16, 5, 4, 6, 8, 5, 19, 8, 2],\n [22, 11, 6, 4, 15, 12, 9, 7, 2],\n [34, 6, 4, 20, 22, 3, 31, 2],\n [4, 3, 9, 6, 11, 9, 7, 2],\n [34, 5, 12, 5, 18, 3, 25, 14, 5, 18, 3, 8, 2],\n [18, 3, 8, 11, 3, 23, 8, 19, 6, 9, 7, 2],\n [25, 5, 12, 6, 16, 6, 39, 2],\n [21, 5, 18, 3, 12, 3, 9, 5, 10, 6, 13, 7, 2],\n [4, 6, 9, 27, 3, 11, 7, 2],\n [31, 18, 30, 7, 19, 12, 6, 34, 5, 19, 6, 39, 2],\n [16, 15, 4, 3, 13, 8, 21, 15, 12, 20, 9, 7, 2],\n [19, 5, 4, 7, 8, 27, 6, 13, 5, 13, 6, 9, 2],\n [21, 11, 7, 33, 9, 11, 45, 8, 5, 17, 2],\n [22, 14, 6, 17, 3, 4, 11, 4, 5, 21, 7, 4, 2],\n [22, 8, 11, 12, 21, 13, 2],\n [8, 39, 11, 6, 10, 5, 13, 3, 4, 6, 13, 2],\n [4, 3, 8, 3, 8, 2],\n [11, 10, 15, 4, 28, 4, 2],\n [27, 3, 33, 35, 21, 15, 12, 20, 13, 7, 26, 2],\n [14, 23, 3, 8, 8, 5, 17, 7, 26, 2],\n [17, 6, 8, 14, 15, 22, 15, 4, 6, 2],\n [10, 9, 5, 9, 12, 7, 4, 7, 2],\n [10, 3, 14, 13, 3, 8, 6, 2],\n [10, 3, 14, 5, 4, 3, 22, 5, 18, 21, 15, 12, 20, 4, 2],\n [37, 8, 10, 3, 4, 15, 2],\n [26, 21, 5, 12, 20, 8, 2],\n [11, 6, 12, 32, 3, 14, 15, 2],\n [4, 20, 10, 5, 19, 3, 4, 6, 39, 2],\n [17, 44, 4, 16, 40, 7, 2],\n [34, 18, 30, 10, 3, 12, 9, 3, 16, 3, 29, 6, 18, 30, 3, 2],\n [27, 7, 4, 14, 2],\n [10, 3, 23, 3, 18, 5, 18, 7, 4, 2],\n [4, 13, 5, 8, 10, 14, 44, 23, 7, 2],\n [38, 8, 8, 9, 3, 12, 7, 2],\n [16, 15, 4, 15, 33, 3, 8, 5, 13, 4, 7, 2],\n [13, 20, 14, 3, 4, 9, 40, 3, 2],\n [16, 5, 4, 25, 5, 8, 3, 11, 12, 6, 13, 7, 2],\n [25, 9, 5, 13, 11, 45, 8, 5, 13, 7, 2],\n [31, 29, 3, 9, 3, 12, 15, 2],\n [34, 6, 28, 3, 4, 21, 15, 12, 20, 13, 7, 2],\n [16, 5, 4, 20, 19, 9, 25, 8, 5, 10, 2],\n [11, 7, 12, 3, 16, 3, 21, 12, 3, 2],\n [16, 5, 4, 7, 9, 5, 10, 2],\n [8, 8, 5, 17, 4, 3, 8, 24, 9, 7, 2],\n [42, 8, 7, 10, 5, 40, 7, 19, 6, 10, 5, 19, 10, 2],\n [18, 3, 17, 11, 12, 3, 12, 2],\n [37, 26, 27, 6, 9, 7, 2],\n [11, 4, 5, 35, 14, 6, 12, 8, 7, 4, 2],\n [16, 3, 33, 35, 5, 29, 2],\n [36, 11, 8, 5, 13, 6, 9, 3, 9, 7, 31, 2],\n [31, 9, 3, 22, 7, 4, 2],\n [37, 22, 3, 8, 15, 2],\n [37, 31, 12, 3, 17, 15, 22, 5, 22, 3, 14, 3, 8, 2],\n [34, 20, 9, 16, 3, 12, 2],\n [28, 6, 9, 6, 54, 10, 3, 9, 7, 8, 5, 17, 5, 4, 19, 6, 13, 7, 2],\n [16, 4, 6, 28, 3, 12, 9, 10, 15, 12, 27, 2],\n [9, 15, 4, 15, 10, 52, 8, 5, 18, 7, 4, 2],\n [41, 16, 23, 3, 2],\n [10, 7, 4, 27, 6, 2],\n [16, 20, 22, 2],\n [23, 7, 14, 21, 47, 5, 22, 2],\n [11, 15, 40, 4, 9, 5, 33, 3, 2],\n [14, 3, 21, 15, 4, 15, 12, 6, 13, 7, 2],\n [32, 8, 15, 28, 6, 2],\n [21, 20, 27, 3, 8, 5, 29, 6, 2],\n [8, 22, 8, 7, 4, 2],\n [42, 9, 15, 34, 15, 12, 2],\n [11, 7, 29, 9, 27, 3, 4, 7, 4, 2],\n [11, 15, 10, 11, 3, 4, 2],\n [10, 14, 13, 3, 11, 6, 32, 3, 8, 2],\n [10, 14, 3, 22, 11, 6, 4, 20, 32, 24, 4, 3, 26, 2],\n [16, 5, 4, 20, 16, 7, 12, 3, 4, 2],\n [41, 49, 11, 7, 8, 31, 2],\n [25, 20, 27, 6, 13, 3, 31, 2],\n [22, 8, 11, 6, 23, 24, 8, 2],\n [10, 6, 12, 10, 6, 12, 7, 2],\n [38, 19, 5, 11, 6, 9, 3, 4, 2],\n [21, 20, 12, 4, 9, 5, 33, 9, 10, 23, 2],\n [9, 3, 11, 5, 18, 11, 6, 11, 7, 28, 8, 3, 31, 2],\n [14, 21, 7, 4, 14, 15, 12, 15, 9, 7, 2],\n [37, 9, 6, 12, 16, 15, 4, 7, 4, 2],\n [23, 3, 26, 12, 3, 26, 8, 2],\n [4, 8, 23, 20, 12, 3, 4, 2],\n [14, 3, 4, 5, 10, 7, 12, 2],\n [10, 20, 22, 6, 19, 22, 2],\n [10, 50, 28, 3, 21, 3, 4, 7, 4, 2],\n [10, 5, 14, 6, 4, 8, 20, 27, 3, 2],\n [41, 13, 5, 13, 4, 14, 15, 38, 7, 26, 2],\n [9, 5, 33, 7, 13, 5, 4, 7, 26, 9, 6, 43, 15, 2],\n [23, 3, 21, 6, 11, 6, 10, 7, 4, 2],\n [37, 4, 25, 8, 21, 4, 2],\n [10, 3, 23, 15, 12, 6, 2],\n [17, 44, 4, 9, 4, 3, 4, 2],\n [14, 15, 4, 3, 12, 23, 3, 2],\n [22, 6, 29, 6, 42, 34, 2],\n [27, 6, 27, 6, 16, 7, 19, 13, 2],\n [11, 3, 26, 29, 2],\n [28, 3, 12, 13, 3, 11, 3, 21, 3, 8, 2],\n [26, 8, 9, 14, 16, 5, 12, 6, 19, 8, 7, 10, 2],\n [10, 13, 5, 18, 19, 6, 2],\n [21, 4, 6, 14, 3, 9, 7, 26, 2],\n [16, 5, 4, 25, 5, 8, 13, 7, 31, 2],\n [9, 5, 12, 3, 8, 5, 13, 6, 9, 7, 26, 2],\n [9, 3, 10, 5, 13, 7, 12, 8, 2],\n [37, 26, 42, 42, 8, 42, 8, 2],\n [10, 3, 26, 8, 20, 19, 2],\n [37, 4, 9, 5, 33, 3, 4, 2],\n [10, 6, 42, 12, 37, 26, 2],\n [11, 5, 4, 7, 19, 8, 2],\n [21, 5, 4, 3, 14, 16, 15, 12, 6, 25, 2],\n [29, 20, 8, 5, 19, 22, 2],\n [14, 20, 4, 7, 26, 8, 2],\n [11, 8, 5, 32, 9, 7, 26, 2],\n [22, 47, 5, 22, 3, 12, 9, 15, 29, 30, 3, 8, 6, 2],\n [11, 6, 12, 3, 13, 15, 2],\n [9, 5, 12, 6, 46, 5, 9, 2],\n [11, 15, 22, 43, 7, 2],\n [11, 17, 5, 4, 6, 17, 3, 10, 9, 7, 2],\n [16, 3, 4, 5, 40, 9, 5, 18, 7, 4, 2],\n [23, 3, 9, 15, 10, 3, 8, 2],\n [36, 4, 5, 22, 8, 9, 3, 4, 24, 2],\n [10, 5, 16, 7, 8, 5, 29, 6, 4, 2],\n [9, 7, 12, 9, 7, 2],\n [21, 24, 13, 21, 15, 12, 20, 2],\n [37, 11, 6, 4, 15, 17, 5, 17, 6, 8, 2],\n [10, 5, 14, 45, 13, 6, 10, 50, 17, 5, 32, 2],\n [16, 4, 6, 32, 3, 4, 7, 2],\n [27, 44, 13, 21, 5, 4, 10, 5, 40, 2],\n [26, 8, 6, 10, 5, 19, 5, 4, 15, 14, 7, 8, 5, 19, 21, 15, 12, 20, 2],\n [25, 4, 6, 34, 8, 21, 4, 2],\n [11, 6, 14, 3, 8, 9, 3, 8, 5, 13, 6, 2],\n [21, 15, 35, 10, 3, 21, 4, 2],\n [10, 15, 16, 3, 23, 6, 4, 20, 2],\n [10, 15, 34, 24, 9, 7, 2],\n [34, 19, 20, 11, 14, 5, 11, 2],\n [37, 14, 28, 4, 5, 28, 3, 2],\n [38, 18, 30, 4, 3, 25, 20, 12, 7, 4, 2],\n [16, 3, 40, 4, 27, 3, 46, 5, 21, 3, 2],\n [37, 4, 10, 6, 42, 10, 42, 10, 2],\n [22, 8, 5, 8, 15, 2],\n [10, 23, 3, 18, 30, 13, 3, 16, 5, 4, 3, 16, 5, 13, 2],\n [28, 3, 8, 5, 17, 3, 11, 3, 22, 7, 4, 2],\n [16, 6, 49, 3, 38, 3, 8, 3, 2],\n [41, 29, 30, 3, 8, 21, 15, 12, 6, 13, 7, 2],\n [9, 45, 33, 5, 35, 8, 3, 21, 4, 6, 9, 2],\n [14, 22, 11, 15, 13, 2],\n [11, 6, 48, 10, 45, 33, 5, 19, 6, 2],\n [22, 12, 3, 11, 15, 22, 3, 2],\n [9, 16, 6, 47, 5, 22, 12, 6, 39, 2],\n [26, 8, 10, 5, 19, 6, 19, 6, 41, 25, 8, 21, 15, 12, 6, 4, 2],\n [28, 3, 9, 15, 4, 24, 28, 5, 18, 15, 13, 6, 10, 23, 2],\n [19, 6, 42, 34, 19, 6, 2],\n [34, 5, 4, 3, 26, 29, 7, 22, 2],\n [37, 11, 5, 17, 15, 12, 5, 12, 3, 23, 16, 15, 4, 2],\n [48, 15, 39, 4, 3, 13, 7, 2],\n [9, 3, 11, 3, 12, 6, 10, 5, 19, 2],\n [37, 12, 11, 6, 4, 3, 4, 2],\n [36, 14, 4, 8, 3, 40, 9, 7, 31, 2],\n [21, 3, 4, 10, 8, 7, 4, 2],\n [19, 7, 14, 16, 5, 12, 7, 19, 19, 6, 4, 2],\n [11, 6, 28, 3, 4, 12, 3, 27, 2],\n [4, 9, 10, 5, 19, 3, 4, 17, 7, 4, 2],\n [16, 8, 7, 4, 11, 3, 4, 7, 4, 2],\n [19, 7, 9, 28, 3, 4, 5, 29, 2],\n [14, 20, 34, 3, 28, 5, 43, 7, 8, 15, 12, 2],\n [9, 4, 5, 14, 9, 15, 25, 12, 3, 2],\n [36, 10, 14, 5, 16, 2],\n [31, 27, 6, 18, 30, 7, 29, 20, 2],\n [4, 28, 6, 13, 3, 39, 2],\n [11, 6, 12, 5, 11, 7, 25, 5, 11, 4, 7, 2],\n [11, 5, 4, 13, 28, 3, 4, 6, 4, 2],\n [16, 3, 9, 6, 16, 8, 3, 2],\n [29, 3, 23, 6, 21, 2],\n [9, 45, 13, 10, 39, 18, 14, 10, 5, 18, 2],\n [12, 15, 9, 3, 16, 3, 2],\n [22, 24, 11, 8, 24, 13, 7, 2],\n [11, 20, 9, 3, 28, 15, 17, 3, 2],\n [21, 5, 18, 3, 12, 3, 4, 6, 18, 30, 3, 2],\n [22, 5, 18, 20, 13, 6, 4, 5, 14, 18, 30, 3, 8, 8, 5, 17, 2],\n [9, 15, 19, 15, 4, 6, 13, 7, 2],\n [22, 6, 8, 6, 10, 6, 19, 6, 13, 7, 2],\n [26, 8, 5, 17, 15, 31, 2],\n [14, 15, 8, 3, 9, 5, 9, 3, 12, 7, 4, 2],\n [9, 5, 4, 6, 14, 6, 4, 3, 2],\n [16, 5, 18, 3, 27, 12, 10, 2],\n [38, 3, 19, 15, 8, 6, 2],\n [21, 4, 15, 11, 3, 40, 3, 8, 2],\n [8, 12, 7, 22, 19, 3, 2],\n [36, 32, 5, 18, 3, 32, 15, 8, 6, 9, 2],\n [11, 3, 12, 5, 18, 8, 3, 14, 2],\n [16, 5, 4, 13, 6, 33, 5, 49, 6, 13, 9, 4, 35, 7, 2],\n [16, 17, 15, 18, 30, 3, 2],\n [25, 6, 14, 5, 16, 3, 4, 2],\n [4, 6, 16, 20, 4, 5, 19, 6, 4, 2],\n [41, 8, 5, 8, 18, 30, 8, 16, 5, 4, 9, 12, 5, 16, 7, 2],\n [42, 9, 3, 8, 5, 13, 6, 2],\n [16, 5, 4, 13, 3, 23, 3, 4, 2],\n [10, 6, 4, 5, 13, 7, 4, 2],\n [25, 3, 17, 6, 23, 2],\n [16, 4, 3, 25, 9, 5, 13, 6, 21, 15, 12, 3, 2],\n [21, 20, 33, 5, 49, 6, 10, 5, 11, 3, 4, 5, 40, 7, 2],\n [53, 12, 13, 7, 2],\n [16, 15, 4, 3, 28, 5, 43, 7, 2],\n [10, 39, 4, 9, 5, 33, 6, 13, 11, 5, 18, 2],\n [18, 50, 8, 27, 46, 5, 21, 24, 2],\n [16, 3, 4, 6, 16, 3, 25, 5, 11, 6, 9, 7, 2],\n [32, 15, 14, 16, 5, 4, 3, 39, 2],\n [12, 3, 29, 7, 8, 7, 2],\n [8, 6, 8, 6, 31, 4, 2],\n [13, 7, 23, 22, 6, 14, 2],\n [11, 6, 25, 5, 11, 4, 7, 9, 4, 5, 29, 19, 6, 31, 2],\n [14, 23, 3, 16, 8, 5, 29, 6, 13, 3, 28, 3, 4, 5, 18, 2],\n [16, 12, 6, 8, 7, 4, 2],\n [42, 9, 3, 17, 25, 7, 4, 2],\n [11, 3, 18, 30, 20, 19, 7, 9, 8, 12, 22, 6, 2],\n [8, 6, 14, 5, 8, 28, 3, 16, 19, 6, 9, 7, 2],\n [31, 18, 30, 3, 23, 6, 17, 15, 22, 5, 22, 3, 14, 3, 8, 9, 7, 2],\n [17, 5, 11, 3, 4, 16, 3, 8, 7, 2],\n [37, 13, 5, 14, 8, 6, 11, 7, 17, 6, 13, 2],\n [42, 43, 3, 8, 7, 2],\n [10, 3, 40, 3, 4, 8, 2],\n [23, 15, 26, 19, 34, 20, 4, 5, 29, 2],\n [38, 3, 12, 7, 34, 2],\n [21, 5, 4, 24, 10, 7, 2],\n [10, 44, 4, 5, 18, 16, 15, 4, 24, 2],\n [26, 8, 5, 19, 3, 4, 16, 6, 29, 2],\n [34, 5, 4, 6, 22, 6, 18, 30, 3, 4, 2],\n [11, 26, 9, 7, 31, 2],\n [14, 20, 29, 6, 34, 3, 26, 29, 2],\n [16, 13, 5, 4, 14, 20, 28, 6, 2],\n [17, 7, 23, 3, 11, 8, 5, 32, 2],\n [25, 5, 4, 11, 35, 17, 4, 5, 25, 8, 2],\n [11, 3, 21, 3, 8, 11, 6, 12, 3, 10, 7, 4, 2],\n [11, 5, 18, 3, 16, 5, 13, 24, 9, 3, 12, 2],\n [18, 3, 13, 5, 4, 3, 8, 3, 12, 3, 2],\n [25, 5, 4, 24, 25, 5, 4, 24, 25, 28, 8, 5, 17, 5, 4, 2],\n [11, 11, 5, 18, 11, 10, 5, 40, 3, 2],\n [26, 27, 3, 9, 15, 2],\n [16, 6, 10, 6, 31, 29, 6, 2],\n [27, 5, 4, 3, 8, 5, 13, 6, 19, 6, 2],\n [8, 6, 4, 5, 32, 14, 3, 2],\n [36, 4, 5, 8, 5, 13, 27, 15, 9, 5, 13, 2],\n [29, 9, 15, 14, 7, 8, 5, 19, 21, 15, 12, 20, 13, 7, 2],\n [19, 6, 16, 6, 10, 6, 31, 2],\n [14, 20, 4, 6, 25, 6, 31, 2],\n [9, 20, 9, 7, 4, 3, 2],\n [28, 6, 22, 9, 7, 2],\n [16, 6, 47, 5, 22, 6, 4, 3, 4, 2],\n [26, 8, 27, 7, 8, 5, 19, 5, 4, 6, 2],\n [16, 3, 4, 10, 20, 8, 7, 12, 7, 2],\n [9, 24, 19, 9, 7, 2],\n [43, 3, 18, 30, 3, 43, 11, 6, 13, 7, 31, 2],\n [27, 44, 13, 16, 5, 4, 7, 13, 3, 17, 6, 2],\n [21, 7, 19, 9, 20, 4, 2],\n [32, 15, 12, 6, 18, 30, 3, 8, 2],\n [10, 3, 8, 11, 5, 12, 9, 7, 4, 2],\n [10, 7, 26, 9, 3, 12, 7, 4, 2],\n [14, 15, 10, 3, 11, 5, 11, 6, 4, 15, 2],\n [9, 5, 4, 10, 34, 3, 18, 30, 3, 4, 2],\n [10, 12, 11, 7, 8, 5, 17, 5, 4, 9, 7, 2],\n [8, 7, 25, 7, 8, 2],\n [21, 5, 4, 7, 19, 7, 10, 5, 19, 7, 2],\n [14, 7, 8, 7, 8, 6, 2],\n [14, 20, 22, 3, 19, 6, 2],\n [37, 12, 20, 28, 8, 3, 28, 9, 5, 4, 7, 4, 2],\n [14, 5, 18, 3, 14, 8, 7, 4, 2],\n [11, 7, 8, 17, 7, 11, 2],\n [17, 15, 21, 3, 16, 15, 4, 2],\n [19, 6, 8, 5, 29, 3, 4, 11, 9, 5, 10, 2],\n [25, 15, 27, 18, 15, 13, 7, 2],\n [14, 6, 25, 5, 4, 8, 21, 15, 12, 6, 4, 2],\n [10, 5, 11, 7, 28, 5, 43, 3, 10, 7, 11, 3, 4, 2],\n [17, 7, 25, 22, 8, 8, 24, 2],\n [21, 3, 22, 24, 16, 15, 4, 11, 3, 10, 24, 2],\n [16, 15, 47, 5, 22, 24, 9, 45, 13, 2],\n [4, 20, 27, 6, 39, 2],\n [29, 3, 26, 29, 3, 4, 3, 11, 20, 19, 28, 6, 2],\n [36, 10, 5, 11, 3, 10, 5, 40, 5, 18, 9, 4, 26, 2],\n [16, 5, 4, 27, 3, 11, 21, 15, 12, 6, 9, 7, 2],\n [11, 12, 5, 18, 9, 3, 12, 7, 4, 2],\n [25, 3, 10, 8, 14, 15, 9, 5, 13, 6, 4, 2],\n [16, 15, 29, 5, 29, 6, 34, 15, 19, 7, 4, 2],\n [9, 20, 18, 30, 3, 4, 5, 29, 6, 8, 7, 19, 4, 2],\n [9, 5, 12, 6, 16, 21, 15, 12, 20, 9, 7, 2],\n [21, 5, 4, 7, 21, 20, 4, 6, 31, 2],\n [36, 8, 46, 5, 21, 16, 3, 12, 7, 4, 2],\n [9, 4, 6, 18, 30, 7, 43, 6, 12, 15, 14, 2],\n [9, 5, 4, 6, 16, 5, 19, 20, 9, 3, 4, 7, 8, 5, 10, 6, 13, 7, 2],\n [25, 6, 14, 5, 16, 3, 47, 5, 22, 6, 17, 7, 4, 31, 2],\n [36, 27, 6, 32, 3, 2],\n [11, 20, 4, 6, 28, 27, 2],\n [37, 26, 42, 8, 37, 4, 42, 2],\n [27, 9, 5, 13, 10, 9, 12, 7, 2],\n [23, 3, 26, 19, 7, 8, 5, 29, 2],\n [37, 9, 20, 18, 30, 3, 19, 6, 8, 5, 19, 2],\n [14, 6, 46, 5, 9, 2],\n [38, 3, 19, 3, 10, 2],\n [10, 5, 14, 45, 13, 6, 14, 8, 5, 17, 6, 4, 19, 6, 2],\n [8, 6, 4, 47, 5, 22, 8, 17, 3, 9, 7, 2],\n [9, 18, 30, 7, 9, 27, 3, 21, 7, 4, 2],\n [37, 12, 20, 28, 8, 3, 9, 4, 3, 2],\n [10, 7, 8, 3, 11, 3, 23, 6, 8, 24, 21, 15, 12, 6, 4, 2],\n [14, 13, 3, 17, 4, 5, 25, 21, 15, 12, 20, 2],\n [23, 3, 8, 25, 15, 26, 2],\n [37, 12, 6, 14, 8, 2],\n [36, 9, 5, 33, 50, 23, 6, 35, 24, 13, 7, 2],\n [43, 29, 30, 3, 28, 5, 43, 6, 12, 7, 2],\n [4, 3, 22, 13, 5, 11, 9, 3, 12, 7, 4, 2],\n [4, 7, 9, 29, 7, 4, 5, 9, 2],\n [23, 6, 41, 14, 6, 8, 6, 19, 6, 10, 23, 2],\n [11, 6, 27, 9, 5, 13, 9, 45, 13, 2],\n [10, 50, 27, 3, 21, 5, 18, 4, 2],\n [16, 3, 12, 20, 8, 6, 18, 30, 3, 10, 2],\n [19, 18, 30, 20, 9, 3, 2],\n [36, 8, 11, 32, 3, 8, 11, 25, 13, 2],\n [8, 3, 14, 17, 6, 2],\n [43, 7, 8, 3, 12, 24, 2],\n [34, 6, 4, 7, 21, 7, 43, 7, 8, 2],\n [38, 20, 4, 25, 7, 17, 7, 4, 2],\n [25, 7, 23, 22, 3, 17, 3, 2],\n [37, 51, 9, 6, 18, 30, 7, 4, 2],\n [38, 3, 12, 6, 34, 15, 12, 2],\n [10, 6, 4, 6, 12, 10, 2],\n [28, 7, 13, 10, 6, 39, 23, 2],\n [9, 3, 25, 6, 9, 3, 11, 45, 13, 5, 13, 6, 2],\n [28, 7, 18, 30, 7, 43, 6, 10, 2],\n [34, 5, 4, 25, 5, 8, 7, 4, 2],\n [11, 15, 28, 7, 31, 8, 2],\n [37, 17, 7, 25, 14, 13, 2],\n [37, 4, 20, 23, 8, 4, 13, 2],\n [37, 21, 3, 4, 9, 3, 4, 17, 7, 4, 2],\n [9, 3, 4, 15, 9, 3, 4, 5, 18, 14, 18, 30, 13, 3, 2],\n [10, 7, 8, 16, 12, 5, 12, 6, 2],\n [4, 46, 5, 21, 24, 4, 9, 15, 12, 2],\n [14, 23, 3, 14, 3, 13, 5, 4, 21, 35, 7, 4, 2],\n [9, 4, 20, 11, 12, 7, 4, 2],\n [11, 7, 12, 6, 34, 9, 7, 2],\n [28, 7, 8, 12, 3, 2],\n [41, 32, 45, 13, 2],\n [11, 4, 34, 25, 15, 27, 5, 4, 2],\n [8, 3, 22, 6, 4, 23, 3, 19, 14, 15, 38, 24, 2],\n [11, 6, 28, 9, 5, 33, 35, 2],\n [8, 6, 4, 10, 5, 13, 5, 4, 24, 9, 4, 35, 2],\n [11, 52, 32, 9, 4, 35, 7, 2],\n [14, 15, 9, 5, 13, 14, 47, 5, 28, 7, 31, 2],\n [37, 17, 14, 38, 3, 8, 24, 4, 2],\n [14, 3, 4, 5, 13, 3, 11, 3, 8, 2],\n [41, 28, 15, 13, 7, 31, 2],\n [8, 50, 17, 10, 5, 18, 15, 2],\n [16, 3, 4, 21, 3, 8, 3, 4, 2],\n [16, 15, 22, 3, 4, 6, 4, 3, 2],\n [14, 15, 40, 15, 10, 5, 11, 3, 14, 24, 9, 7, 2],\n [10, 5, 14, 6, 13, 3, 17, 7, 11, 24, 2],\n [11, 20, 38, 4, 3, 2],\n [11, 3, 11, 15, 19, 6, 9, 7, 2],\n [25, 50, 27, 6, 9, 2],\n [29, 9, 5, 19, 5, 4, 6, 8, 2],\n [9, 12, 5, 18, 3, 35, 28, 7, 13, 8, 3, 2],\n [8, 6, 11, 7, 17, 8, 47, 5, 28, 2],\n [8, 6, 12, 3, 4, 10, 2],\n [23, 9, 5, 10, 4, 2],\n [27, 44, 51, 26, 18, 30, 3, 2],\n [31, 18, 30, 3, 4, 5, 9, 16, 5, 4, 6, 8, 5, 19, 2],\n [14, 3, 8, 6, 18, 30, 3, 28, 5, 28, 6, 2],\n [10, 5, 19, 6, 12, 2],\n [17, 52, 8, 8, 5, 17, 6, 8, 8, 3, 21, 4, 6, 9, 2],\n [42, 8, 7, 10, 5, 40, 7, 10, 6, 31, 12, 22, 6, 10, 5, 19, 2],\n [17, 20, 9, 8, 7, 4, 2],\n [11, 29, 6, 4, 2],\n [14, 21, 17, 10, 5, 18, 15, 2],\n [19, 5, 4, 7, 29, 6, 25, 8, 3, 12, 2],\n [34, 9, 6, 4, 3, 28, 3, 8, 2],\n [28, 6, 14, 6, 2],\n [16, 20, 4, 5, 10, 5, 19, 2],\n [11, 8, 5, 32, 5, 18, 9, 4, 35, 7, 4, 2],\n [13, 8, 5, 13, 5, 4, 18, 20, 21, 2],\n [11, 3, 48, 19, 6, 4, 2],\n [28, 12, 28, 5, 43, 6, 12, 2],\n [23, 3, 13, 6, 28, 3, 16, 3, 2],\n [28, 15, 9, 15, 4, 6, 22, 24, 11, 6, 2],\n [9, 50, 25, 6, 9, 7, 4, 3, 2],\n [12, 6, 41, 9, 7, 14, 6, 18, 30, 3, 2],\n [29, 3, 26, 4, 6, 18, 30, 3, 12, 2],\n [13, 40, 5, 18, 11, 6, 25, 5, 12, 7, 33, 35, 24, 2],\n [22, 3, 14, 3, 26, 14, 7, 12, 3, 2],\n [16, 15, 4, 3, 10, 15, 8, 5, 17, 3, 2],\n [10, 7, 11, 9, 17, 6, 21, 7, 4, 2],\n [26, 12, 7, 9, 5, 19, 5, 4, 8, 21, 15, 12, 6, 9, 7, 2],\n [14, 8, 6, 9, 4, 5, 35, 6, 9, 3, 9, 7, 2],\n [32, 5, 18, 3, 16, 3, 4, 2],\n [27, 3, 4, 3, 16, 15, 53, 3, 4, 2],\n [14, 7, 29, 6, 19, 4, 2],\n [12, 15, 19, 3, 31, 2],\n [22, 14, 5, 14, 10, 5, 40, 3, 8, 7, 2],\n [37, 8, 5, 13, 55, 36, 47, 5, 28, 12, 2],\n [38, 3, 12, 6, 14, 16, 15, 4, 7, 2],\n [4, 20, 22, 21, 3, 4, 7, 2],\n [32, 4, 5, 14, 24, 18, 30, 14, 13, 7, 2],\n [4, 48, 15, 8, 3, 40, 8, 9, 7, 2],\n [26, 8, 10, 5, 19, 6, 19, 6, 41, 25, 8, 7, 26, 2],\n [10, 14, 3, 22, 3, 9, 7, 2],\n [10, 7, 39, 25, 8, 2],\n [4, 3, 33, 5, 19, 5, 4, 27, 3, 4, 2],\n [14, 3, 38, 3, 47, 5, 22, 24, 9, 7, 2],\n [9, 29, 30, 9, 14, 16, 12, 5, 12, 6, 2],\n [14, 20, 23, 10, 7, 8, 6, 8, 2],\n [17, 9, 5, 33, 6, 35, 17, 6, 9, 7, 2],\n [26, 14, 16, 5, 4, 20, 27, 3, 26, 29, 2],\n [8, 11, 24, 8, 11, 3, 11, 15, 17, 7, 4, 2],\n [11, 15, 32, 3, 9, 7, 2],\n [10, 3, 12, 27, 6, 31, 2],\n [4, 15, 22, 15, 9, 5, 4, 14, 7, 2],\n [10, 5, 19, 3, 4, 22, 7, 8, 2],\n [4, 15, 9, 15, 17, 6, 17, 6, 4, 2],\n [23, 3, 26, 16, 3, 4, 10, 7, 8, 10, 6, 19, 6, 27, 6, 19, 6, 2],\n [12, 7, 27, 6, 8, 3, 2],\n [10, 5, 16, 4, 5, 25, 8, 18, 20, 21, 5, 18, 2],\n [32, 6, 39, 4, 3, 4, 2],\n [23, 20, 12, 27, 3, 4, 5, 10, 8, 2],\n [16, 25, 5, 28, 3, 54, 21, 13, 2],\n [11, 3, 12, 6, 40, 3, 2],\n [11, 6, 22, 7, 42, 34, 10, 6, 37, 26, 2],\n [36, 8, 5, 13, 5, 18, 7, 33, 5, 19, 6, 11, 6, 33, 18, 30, 9, 2],\n [18, 9, 5, 33, 16, 13, 6, 4, 2],\n [11, 6, 4, 20, 25, 24, 2],\n [41, 16, 16, 4, 5, 11, 9, 7, 2],\n [36, 8, 15, 11, 3, 17, 21, 15, 12, 20, 13, 7, 2],\n [28, 9, 11, 3, 22, 3, 4, 2],\n [14, 18, 30, 7, 25, 5, 28, 3, 4, 9, 7, 2],\n [16, 5, 12, 7, 19, 9, 7, 26, 2],\n [37, 10, 9, 3, 12, 3, 8, 24, 2],\n [16, 25, 5, 28, 6, 14, 10, 39, 18, 20, 21, 2],\n [8, 9, 25, 3, 12, 17, 14, 8, 7, 4, 2],\n [26, 10, 14, 3, 9, 7, 2],\n [11, 5, 18, 3, 10, 6, 29, 6, 31, 14, 3, 26, 10, 7, 19, 6, 10, 2],\n [23, 45, 54, 16, 6, 35, 5, 29, 9, 7, 31, 2],\n [22, 3, 12, 6, 18, 30, 7, 43, 6, 12, 2],\n [16, 5, 4, 3, 16, 5, 13, 6, 10, 14, 5, 27, 11, 14, 5, 2],\n [60, 16, 4, 6, 33, 5, 19, 9, 3, 8, 5, 13, 2],\n [11, 3, 41, 8, 6, 19, 6, 2],\n [16, 5, 4, 19, 7, 9, 25, 8, 9, 7, 2],\n [28, 3, 11, 3, 12, 6, 13, 2],\n [10, 20, 27, 3, 23, 3, 8, 7, 4, 2],\n [23, 3, 10, 6, 9, 12, 14, 6, 2],\n [9, 14, 5, 16, 20, 22, 3, 4, 5, 10, 2],\n [11, 3, 25, 9, 3, 8, 5, 17, 6, 2],\n [4, 7, 12, 16, 40, 10, 39, 25, 5, 12, 6, 33, 5, 19, 2],\n [10, 7, 8, 21, 5, 4, 3, 14, 2],\n [27, 3, 22, 12, 3, 14, 2],\n [14, 8, 5, 13, 5, 4, 25, 6, 33, 5, 18, 2],\n [34, 20, 4, 19, 15, 26, 8, 2],\n [10, 11, 9, 19, 6, 2],\n [41, 16, 4, 6, 13, 12, 10, 5, 40, 2],\n [28, 12, 8, 5, 13, 6, 2],\n [42, 9, 25, 13, 2],\n [10, 7, 8, 11, 3, 23, 6, 8, 24, 4, 2],\n [12, 3, 26, 8, 10, 7, 4, 2],\n [37, 34, 4, 6, 34, 2],\n [18, 22, 5, 47, 17, 5, 11, 3, 4, 3, 2],\n [25, 3, 10, 3, 26, 18, 30, 3, 2],\n [26, 13, 6, 11, 45, 13, 5, 13, 9, 40, 3, 2],\n [11, 23, 15, 14, 44, 13, 5, 4, 2],\n [34, 7, 12, 28, 6, 2],\n [36, 11, 18, 30, 10, 6, 39, 23, 7, 2],\n [42, 9, 4, 46, 7, 4, 2],\n [14, 3, 4, 5, 9, 10, 24, 19, 7, 2],\n [37, 25, 5, 4, 14, 7, 4, 31, 2],\n [29, 6, 11, 3, 4, 5, 40, 2],\n [18, 50, 11, 8, 25, 5, 4, 24, 4, 2],\n [11, 3, 38, 13, 15, 4, 2],\n [19, 6, 27, 6, 19, 20, 2],\n [9, 5, 12, 3, 26, 14, 5, 11, 6, 39, 42, 4, 2],\n [23, 7, 4, 20, 29, 20, 19, 3, 10, 2],\n [31, 18, 30, 3, 22, 7, 12, 7, 4, 2],\n [11, 6, 9, 3, 25, 14, 3, 8, 13, 3, 4, 2],\n [14, 7, 16, 7, 11, 15, 53, 7, 2],\n [26, 41, 8, 3, 26, 19, 29, 7, 2],\n [36, 25, 5, 11, 9, 5, 33, 15, 4, 7, 2],\n [26, 8, 9, 5, 12, 15, 10, 6, 27, 8, 7, 10, 2],\n [10, 39, 10, 6, 17, 5, 32, 6, 39, 2],\n [9, 20, 8, 20, 21, 15, 8, 7, 2],\n [41, 16, 17, 5, 11, 24, 16, 11, 3, 10, 24, 4, 2],\n [14, 20, 19, 4, 10, 3, 26, 9, 7, 12, 21, 15, 12, 20, 9, 7, 2],\n [37, 26, 42, 10, 16, 6, 42, 2],\n [16, 13, 3, 9, 3, 13, 12, 7, 26, 2],\n [22, 21, 54, 21, 15, 12, 20, 4, 2],\n [38, 3, 21, 3, 16, 3, 25, 3, 2],\n [22, 15, 22, 15, 54, 10, 15, 4, 2],\n [16, 5, 4, 13, 3, 16, 17, 3, 31, 2],\n [11, 15, 17, 5, 32, 6, 25, 15, 17, 5, 32, 6, 13, 7, 2],\n [9, 3, 12, 24, 14, 8, 5, 17, 6, 4, 7, 2],\n [11, 5, 22, 5, 4, 3, 8, 8, 5, 17, 2],\n [37, 4, 42, 34, 42, 10, 2],\n [12, 15, 11, 8, 3, 2],\n [23, 7, 14, 3, 46, 5, 21, 14, 20, 23, 8, 2],\n [31, 9, 7, 28, 15, 9, 15, 2],\n [8, 24, 13, 6, 21, 5, 4, 23, 35, 7, 4, 2],\n [25, 5, 4, 14, 6, 9, 16, 6, 43, 15, 2],\n [8, 6, 4, 10, 5, 13, 5, 4, 27, 3, 11, 7, 2],\n [25, 6, 39, 8, 3, 2],\n [22, 5, 47, 3, 16, 8, 7, 2],\n [4, 23, 6, 14, 15, 8, 5, 8, 6, 10, 3, 2],\n [42, 8, 19, 6, 26, 42, 10, 2],\n [8, 3, 27, 3, 12, 9, 3, 2],\n [11, 3, 12, 5, 18, 11, 7, 12, 3, 2],\n [19, 3, 4, 5, 14, 6, 8, 3, 12, 19, 6, 13, 7, 2],\n [4, 6, 27, 3, 26, 22, 29, 2],\n [9, 3, 4, 5, 27, 3, 12, 23, 20, 4, 2],\n [11, 3, 23, 6, 8, 24, 21, 15, 12, 20, 4, 8, 6, 4, 5, 17, 7, 25, 2],\n [37, 11, 22, 3, 12, 15, 4, 2],\n [29, 6, 10, 6, 16, 6, 13, 7, 2],\n [11, 10, 13, 24, 13, 7, 2],\n [42, 26, 9, 3, 22, 2],\n [8, 8, 5, 17, 8, 13, 13, 5, 13, 5, 11, 9, 7, 2],\n [13, 16, 25, 5, 28, 52, 11, 2],\n [9, 3, 19, 3, 13, 6, 2],\n [10, 4, 9, 3, 4, 11, 5, 18, 11, 10, 5, 40, 3, 4, 2],\n [37, 13, 5, 14, 10, 14, 4, 5, 16, 35, 7, 4, 2],\n [13, 15, 12, 34, 3, 2],\n [25, 20, 9, 3, 28, 5, 43, 8, 5, 8, 13, 3, 4, 2],\n [10, 7, 4, 3, 22, 5, 18, 7, 2],\n [29, 7, 14, 20, 19, 6, 9, 5, 10, 2],\n [11, 18, 30, 22, 15, 17, 5, 17, 6, 8, 7, 4, 2],\n [37, 32, 9, 3, 4, 6, 9, 7, 4, 3, 2],\n [27, 3, 10, 5, 13, 3, 4, 2],\n [9, 5, 18, 3, 14, 7, 4, 14, 5, 18, 3, 8, 2],\n [10, 5, 11, 24, 9, 3, 4, 5, 18, 10, 14, 44, 23, 2],\n [10, 15, 8, 5, 17, 4, 11, 20, 32, 7, 4, 2],\n [18, 50, 8, 16, 3, 28, 3, 4, 2],\n [11, 6, 25, 5, 11, 3, 10, 14, 13, 7, 2],\n [38, 20, 18, 30, 3, 26, 11, 3, 4, 2],\n [19, 5, 4, 3, 8, 10, 15, 8, 7, 19, 2],\n [34, 3, 41, 8, 5, 29, 7, 25, 7, 4, 2],\n [8, 3, 4, 24, 27, 9, 5, 13, 9, 7, 2],\n [17, 7, 38, 6, 18, 30, 7, 4, 3, 2],\n [10, 6, 46, 5, 48, 6, 18, 30, 3, 4, 2],\n [14, 5, 18, 3, 9, 29, 8, 3, 23, 2],\n [42, 14, 9, 6, 41, 42, 14, 2],\n [4, 13, 8, 16, 15, 16, 15, 4, 2],\n [21, 15, 8, 14, 3, 8, 9, 7, 2],\n [16, 44, 4, 5, 11, 16, 15, 4, 15, 33, 7, 4, 3, 2],\n [8, 3, 14, 21, 15, 12, 20, 4, 2],\n [23, 3, 19, 11, 3, 4, 7, 26, 2],\n [14, 6, 12, 8, 32, 4, 5, 14, 24, 2],\n [12, 15, 16, 5, 13, 10, 5, 18, 2],\n [11, 5, 4, 15, 26, 8, 9, 7, 2],\n [27, 3, 19, 6, 38, 3, 8, 3, 2],\n [13, 5, 4, 6, 17, 6, 16, 3, 2],\n [10, 6, 42, 16, 6, 42, 14, 2],\n [32, 44, 14, 9, 7, 13, 15, 26, 2],\n [12, 7, 21, 3, 10, 16, 6, 4, 2],\n [14, 3, 4, 12, 20, 8, 2],\n [16, 3, 4, 5, 19, 6, 21, 15, 12, 20, 4, 2],\n [36, 32, 6, 18, 15, 21, 19, 6, 4, 2],\n [11, 6, 9, 12, 5, 16, 21, 15, 12, 6, 31, 2],\n [16, 6, 42, 10, 10, 6, 2],\n [34, 9, 6, 9, 3, 4, 6, 2],\n [23, 3, 26, 16, 20, 40, 3, 4, 14, 6, 18, 30, 3, 18, 30, 2],\n [9, 7, 14, 9, 20, 2],\n [8, 24, 12, 9, 5, 33, 7, 13, 5, 4, 7, 4, 2],\n [9, 3, 10, 3, 12, 17, 3, 12, 6, 21, 3, 2],\n [9, 39, 25, 7, 4, 9, 15, 4, 2],\n [36, 5, 18, 3, 19, 7, 8, 11, 5, 4, 20, 2],\n [10, 20, 8, 3, 16, 15, 4, 2],\n [9, 40, 3, 14, 3, 12, 3, 13, 7, 26, 2],\n [25, 13, 3, 17, 6, 2],\n [14, 10, 12, 3, 4, 2],\n [16, 20, 33, 3, 12, 2],\n [8, 7, 27, 8, 20, 4, 2],\n [16, 6, 14, 5, 2],\n [9, 14, 5, 16, 5, 4, 7, 10, 2],\n [14, 8, 20, 14, 18, 30, 13, 3, 4, 2],\n [10, 3, 14, 5, 27, 3, 22, 6, 2],\n [11, 5, 4, 7, 10, 5, 19, 16, 5, 12, 7, 19, 2],\n [13, 3, 12, 3, 26, 11, 2],\n [21, 3, 11, 3, 12, 3, 2],\n [48, 19, 38, 3, 12, 24, 2],\n [22, 6, 8, 5, 17, 7, 21, 24, 13, 7, 2],\n [41, 26, 9, 7, 19, 10, 39, 21, 5, 4, 3, 23, 9, 2],\n [12, 13, 3, 9, 45, 33, 6, 4, 2],\n [16, 17, 5, 14, 17, 6, 17, 6, 2],\n [27, 3, 10, 5, 9, 4, 7, 25, 5, 11, 4, 2],\n [22, 3, 8, 5, 8, 3, 13, 6, 21, 35, 2],\n [18, 3, 17, 7, 11, 2],\n [14, 10, 5, 13, 6, 33, 5, 9, 9, 7, 4, 2],\n [10, 3, 26, 8, 20, 2],\n [16, 4, 11, 4, 5, 13, 7, 2],\n [27, 5, 4, 3, 14, 5, 18, 14, 3, 8, 10, 23, 2],\n [36, 8, 21, 5, 4, 23, 10, 4, 2],\n [11, 15, 11, 20, 8, 6, 18, 30, 3, 2],\n [34, 6, 19, 22, 7, 4, 3, 12, 5, 29, 7, 4, 2],\n [11, 5, 18, 13, 6, 4, 7, 2],\n [22, 8, 16, 17, 7, 26, 2],\n [21, 3, 43, 3, 13, 7, 2],\n [9, 20, 19, 11, 3, 22, 3, 4, 2],\n [16, 5, 4, 35, 20, 17, 8, 3, 9, 7, 2],\n [34, 6, 9, 6, 4, 28, 3, 51, 17, 2],\n [37, 26, 42, 10, 16, 6, 10, 6, 42, 42, 8, 2],\n [27, 6, 21, 6, 2],\n [25, 13, 3, 46, 5, 21, 2],\n [25, 6, 25, 15, 27, 20, 12, 3, 8, 20, 2],\n [10, 15, 11, 5, 11, 3, 4, 3, 18, 30, 8, 2],\n [8, 6, 34, 3, 10, 7, 4, 2],\n [28, 50, 9, 3, 49, 7, 4, 2],\n [16, 5, 4, 3, 26, 29, 7, 2],\n [41, 16, 9, 3, 4, 3, 21, 3, 4, 7, 2],\n [10, 6, 14, 15, 12, 7, 25, 8, 2],\n [14, 7, 4, 17, 7, 9, 3, 2],\n [16, 5, 4, 22, 5, 47, 3, 11, 4, 5, 32, 8, 2],\n [37, 4, 5, 22, 7, 8, 5, 19, 6, 8, 24, 18, 30, 2],\n [14, 18, 30, 14, 15, 8, 3, 2],\n [9, 5, 12, 20, 22, 3, 4, 19, 6, 2],\n [9, 15, 4, 6, 8, 20, 2],\n [25, 6, 25, 15, 9, 7, 27, 6, 19, 3, 14, 6, 8, 2],\n [31, 37, 26, 26, 2],\n [11, 3, 12, 9, 45, 33, 5, 35, 8, 9, 7, 2],\n [23, 3, 12, 3, 11, 7, 4, 2],\n [17, 7, 21, 7, 10, 5, 13, 3, 8, 2],\n [16, 3, 14, 5, 16, 12, 20, 8, 3, 2],\n [9, 7, 42, 14, 9, 7, 42, 10, 2],\n [10, 5, 11, 4, 5, 21, 27, 5, 4, 33, 5, 19, 2],\n [25, 3, 10, 8, 3, 32, 24, 8, 2],\n [9, 6, 19, 20, 22, 7, 8, 6, 9, 2],\n [13, 50, 4, 3, 8, 24, 9, 7, 2],\n [4, 3, 14, 5, 11, 12, 6, 39, 2],\n [4, 6, 34, 3, 26, 8, 5, 29, 2],\n [36, 8, 6, 14, 6, 33, 2],\n [9, 3, 19, 14, 3, 4, 5, 9, 2],\n [12, 5, 18, 3, 14, 5, 16, 3, 4, 5, 29, 17, 7, 4, 2],\n [10, 3, 4, 3, 19, 20, 27, 2],\n [16, 7, 4, 20, 8, 3, 12, 2],\n [36, 8, 15, 27, 44, 13, 6, 21, 15, 12, 3, 2],\n [27, 3, 12, 34, 12, 2],\n [11, 7, 34, 3, 9, 15, 12, 2],\n [21, 15, 12, 20, 16, 4, 3, 14, 4, 5, 25, 21, 15, 12, 20, 2],\n [4, 3, 14, 16, 5, 4, 10, 3, 17, 9, 7, 2],\n [11, 5, 18, 3, 4, 6, 19, 20, 8, 7, 2],\n [38, 7, 28, 12, 3, 14, 2],\n [22, 6, 8, 22, 6, 27, 6, 19, 6, 10, 2],\n [16, 5, 4, 32, 3, 35, 13, 2],\n [8, 7, 16, 40, 12, 6, 8, 7, 4, 2],\n [11, 6, 28, 4, 35, 25, 24, 12, 13, 3, 2],\n [38, 7, 12, 13, 7, 11, 6, 10, 5, 13, 3, 4, 6, 13, 2],\n [25, 5, 4, 15, 13, 6, 4, 44, 16, 2],\n [37, 17, 3, 14, 8, 6, 2],\n [16, 5, 4, 40, 6, 14, 32, 5, 18, 7, 2],\n [22, 10, 24, 14, 15, 12, 2],\n [41, 16, 21, 5, 4, 23, 14, 3, 12, 3, 4, 2],\n [4, 3, 22, 16, 5, 4, 3, 10, 3, 17, 7, 4, 2],\n [42, 18, 30, 3, 4, 10, 5, 19, 5, 4, 6, 16, 2],\n [26, 46, 5, 21, 7, 12, 10, 2],\n [36, 8, 15, 41, 16, 10, 5, 40, 6, 13, 2],\n [10, 7, 14, 7, 26, 2],\n [14, 23, 7, 25, 21, 5, 4, 3, 14, 7, 4, 2],\n [26, 42, 10, 37, 4, 2],\n [8, 4, 10, 6, 16, 15, 4, 3, 2],\n [19, 6, 16, 10, 5, 19, 3, 4, 7, 2],\n [32, 3, 8, 24, 4, 3, 14, 2],\n [14, 44, 12, 8, 24, 13, 6, 4, 2],\n [28, 14, 9, 7, 43, 6, 2],\n [14, 15, 10, 12, 7, 14, 15, 8, 2],\n [11, 6, 21, 29, 7, 2],\n [37, 26, 29, 6, 31, 2],\n [11, 7, 8, 7, 11, 7, 19, 6, 4, 2],\n [28, 15, 12, 9, 3, 12, 2],\n [27, 3, 4, 40, 15, 4, 2],\n [10, 9, 5, 33, 14, 7, 2],\n [16, 15, 8, 55, 16, 5, 4, 13, 6, 33, 5, 49, 3, 9, 7, 2],\n [11, 5, 4, 23, 5, 14, 27, 3, 4, 5, 21, 11, 16, 15, 4, 3, 35, 2],\n [16, 6, 11, 12, 7, 4, 2],\n [4, 6, 10, 7, 12, 3, 4, 2],\n [9, 3, 14, 3, 4, 16, 3, 29, 30, 3, 48, 3, 19, 2],\n [8, 6, 25, 6, 9, 3, 12, 2],\n [48, 8, 6, 33, 5, 49, 17, 7, 4, 9, 7, 31, 2],\n [22, 5, 18, 20, 13, 6, 4, 6, 8, 5, 17, 5, 4, 8, 3, 40, 7, 4, 2],\n [14, 3, 13, 3, 12, 7, 4, 3, 2],\n [22, 6, 13, 11, 7, 26, 2],\n [16, 12, 6, 10, 5, 13, 3, 2],\n [34, 3, 12, 5, 12, 3, 28, 6, 2],\n [9, 3, 22, 9, 4, 3, 2],\n [42, 29, 6, 28, 6, 16, 6, 2],\n [43, 15, 12, 7, 4, 2],\n [41, 17, 5, 27, 6, 17, 2],\n [25, 5, 4, 20, 13, 3, 13, 7, 4, 2],\n [16, 4, 3, 14, 4, 5, 25, 19, 3, 9, 7, 2],\n [25, 15, 12, 5, 16, 14, 15, 9, 5, 13, 2],\n [9, 3, 13, 2],\n [26, 4, 3, 8, 6, 22, 6, 2],\n [34, 3, 4, 5, 10, 6, 2],\n [19, 20, 19, 7, 14, 5, 16, 15, 2],\n [10, 39, 9, 12, 19, 6, 2],\n [13, 45, 35, 16, 4, 5, 18, 3, 18, 30, 7, 2],\n [36, 13, 6, 9, 45, 13, 6, 13, 7, 2],\n [25, 5, 4, 24, 25, 5, 4, 24, 22, 21, 8, 5, 8, 3, 40, 2],\n [34, 3, 4, 15, 9, 6, 2],\n [11, 5, 12, 9, 28, 7, 26, 8, 7, 4, 2],\n [34, 6, 4, 11, 7, 8, 3, 2],\n [11, 6, 25, 5, 11, 11, 5, 4, 23, 5, 14, 3, 35, 5, 29, 9, 7, 2],\n [10, 39, 11, 23, 8, 2],\n [16, 5, 4, 32, 3, 8, 7, 4, 2],\n [22, 6, 8, 5, 17, 3, 16, 12, 9, 7, 2],\n [16, 5, 4, 22, 7, 9, 25, 8, 7, 4, 2],\n [23, 6, 18, 30, 7, 4, 20, 2],\n [17, 5, 11, 6, 13, 6, 16, 5, 4, 6, 18, 30, 3, 9, 7, 2],\n [48, 15, 8, 6, 18, 30, 7, 2],\n [42, 13, 17, 5, 27, 6, 8, 5, 8, 2],\n [22, 7, 8, 5, 19, 10, 5, 2],\n [10, 14, 5, 27, 3, 4, 8, 3, 4, 2],\n [31, 12, 6, 27, 6, 18, 30, 7, 4, 2],\n [42, 9, 28, 8, 3, 2],\n [23, 3, 14, 22, 3, 2],\n [4, 3, 33, 5, 19, 5, 4, 11, 6, 22, 5, 47, 3, 8, 24, 4, 26, 2],\n [36, 10, 27, 5, 18, 27, 3, 11, 7, 2],\n [34, 9, 6, 8, 5, 8, 24, 4, 2],\n [14, 15, 8, 5, 8, 3, 11, 3, 58, 2],\n [9, 3, 51, 25, 6, 31, 2],\n [11, 6, 28, 5, 18, 15, 13, 6, 9, 7, 31, 2],\n [37, 8, 5, 13, 4, 6, 9, 13, 3, 2],\n [37, 4, 20, 16, 8, 7, 4, 2],\n [21, 35, 10, 28, 7, 13, 8, 13, 3, 14, 44, 12, 9, 2],\n [9, 20, 29, 6, 4, 2],\n [53, 6, 8, 15, 9, 19, 3, 4, 2],\n [26, 8, 27, 7, 10, 5, 19, 14, 7, 8, 5, 19, 7, 4, 31, 2],\n [11, 6, 25, 5, 11, 16, 4, 5, 11, 7, 4, 2],\n [21, 5, 18, 3, 10, 5, 19, 5, 4, 7, 12, 6, 27, 3, 4, 2],\n [14, 50, 12, 27, 11, 3, 22, 3, 4, 2],\n [14, 23, 15, 12, 6, 2],\n [16, 50, 13, 5, 4, 17, 6, 21, 9, 7, 2],\n [14, 7, 4, 7, 19, 2],\n [49, 6, 9, 26, 2],\n [11, 6, 8, 3, 14, 44, 12, 5, 18, 7, 2],\n [36, 9, 5, 10, 6, 10, 5, 16, 20, 4, 3, 14, 2],\n [10, 5, 19, 20, 4, 7, 22, 21, 15, 12, 20, 13, 7, 2],\n [37, 40, 3, 31, 12, 7, 26, 2],\n [16, 3, 4, 10, 5, 18, 27, 3, 33, 3, 2],\n [11, 5, 18, 11, 10, 3, 18, 30, 24, 14, 23, 12, 7, 2],\n [25, 6, 9, 7, 13, 2],\n [17, 5, 4, 15, 16, 9, 3, 2],\n [11, 5, 4, 7, 27, 23, 3, 4, 5, 19, 7, 4, 2],\n [10, 7, 16, 5, 19, 7, 14, 5, 11, 4, 2],\n [34, 5, 4, 6, 27, 3, 11, 7, 2],\n [22, 8, 5, 14, 11, 3, 4, 5, 33, 6, 9, 24, 13, 7, 26, 2],\n [10, 7, 8, 20, 11, 3, 26, 19, 6, 9, 2],\n [9, 3, 4, 35, 3, 8, 5, 13, 4, 7, 2],\n [26, 8, 10, 5, 19, 12, 3, 4, 19, 6, 2],\n [29, 5, 4, 3, 46, 5, 9, 7, 8, 2],\n [10, 14, 6, 22, 6, 39, 2],\n [9, 8, 10, 3, 4, 5, 8, 7, 4, 2],\n [11, 4, 16, 5, 4, 10, 3, 17, 7, 4, 2],\n [34, 5, 4, 3, 8, 5, 10, 6, 10, 2],\n [9, 5, 11, 3, 10, 7, 4, 2],\n [16, 12, 3, 18, 30, 8, 9, 3, 4, 24, 4, 2],\n [37, 13, 11, 2],\n [14, 15, 8, 22, 6, 2],\n [32, 8, 13, 8, 5, 13, 5, 4, 7, 4, 2],\n [11, 10, 11, 3, 10, 7, 31, 2],\n [11, 20, 21, 5, 4, 3, 14, 7, 4, 2],\n [14, 7, 4, 3, 14, 13, 9, 4, 35, 2],\n [16, 5, 4, 14, 13, 5, 13, 13, 3, 9, 7, 2],\n [22, 8, 10, 46, 5, 48, 24, 4, 3, 26, 2],\n [22, 15, 4, 6, 16, 2],\n [37, 43, 7, 8, 20, 2],\n [8, 21, 4, 11, 6, 8, 20, 17, 8, 2],\n [14, 6, 13, 7, 25, 9, 7, 2],\n [11, 12, 7, 25, 5, 11, 4, 10, 23, 2],\n [11, 4, 5, 35, 11, 6, 17, 5, 11, 7, 33, 24, 14, 44, 12, 9, 2],\n [37, 26, 9, 7, 8, 2],\n [14, 3, 13, 6, 18, 30, 3, 8, 6, 2],\n [16, 45, 33, 5, 19, 2],\n [16, 4, 10, 5, 16, 4, 11, 6, 4, 20, 32, 7, 8, 2],\n [16, 6, 21, 15, 26, 18, 30, 7, 19, 2],\n [40, 3, 8, 5, 19, 2],\n [32, 4, 13, 3, 26, 2],\n [10, 17, 50, 19, 6, 9, 7, 2],\n [4, 6, 23, 12, 3, 13, 2],\n [16, 4, 43, 6, 12, 3, 14, 2],\n [10, 3, 21, 6, 4, 3, 9, 7, 2],\n [57, 13, 6, 23, 5, 18, 11, 23, 8, 9, 3, 4, 24, 2],\n [9, 4, 5, 13, 11, 5, 18, 21, 15, 12, 6, 9, 7, 2],\n [11, 23, 8, 18, 20, 21, 5, 18, 2],\n [49, 6, 9, 3, 27, 3, 11, 7, 2],\n [10, 15, 12, 13, 3, 8, 2],\n [22, 7, 10, 14, 6, 13, 3, 4, 2],\n [16, 5, 4, 3, 32, 5, 18, 3, 8, 5, 18, 2],\n [10, 15, 4, 22, 5, 47, 3, 8, 2],\n [21, 15, 12, 6, 17, 5, 32, 6, 2],\n [26, 41, 8, 7, 10, 5, 9, 20, 4, 2],\n [8, 44, 4, 22, 7, 23, 3, 8, 2],\n [9, 15, 12, 8, 3, 25, 8, 2],\n [11, 3, 10, 5, 9, 7, 19, 11, 12, 2],\n [19, 7, 8, 22, 6, 10, 5, 19, 3, 4, 2],\n [14, 3, 22, 4, 3, 14, 15, 29, 30, 3, 2],\n [19, 7, 21, 19, 6, 2],\n [9, 5, 12, 20, 4, 10, 6, 4, 6, 8, 2],\n [43, 3, 13, 5, 4, 12, 24, 21, 7, 4, 10, 23, 2],\n [14, 45, 13, 5, 18, 15, 17, 35, 5, 29, 26, 2],\n [31, 9, 16, 7, 4, 6, 4, 2],\n [8, 44, 4, 15, 8, 2],\n [16, 15, 51, 19, 6, 17, 7, 4, 2],\n [10, 3, 26, 12, 9, 7, 12, 2],\n [19, 6, 8, 5, 29, 3, 12, 2],\n [14, 23, 15, 18, 30, 3, 2],\n [8, 6, 4, 5, 18, 3, 13, 9, 7, 4, 2],\n [11, 45, 8, 5, 17, 3, 38, 3, 12, 6, 13, 7, 2],\n [49, 3, 9, 15, 4, 48, 4, 38, 3, 8, 6, 2],\n [26, 11, 6, 8, 7, 4, 2],\n [9, 3, 19, 20, 13, 3, 14, 2],\n [16, 6, 22, 2],\n [12, 3, 10, 5, 13, 14, 2],\n [28, 6, 13, 5, 4, 21, 3, 23, 9, 2],\n [19, 6, 28, 3, 4, 5, 10, 2],\n [10, 15, 9, 6, 8, 3, 2],\n [10, 3, 23, 15, 22, 6, 2],\n [4, 15, 25, 3, 26, 17, 2],\n [17, 4, 5, 25, 8, 18, 20, 21, 5, 18, 13, 3, 2],\n [11, 3, 40, 10, 15, 18, 30, 3, 2],\n [13, 4, 6, 9, 15, 12, 5, 12, 3, 23, 4, 2],\n [42, 9, 5, 10, 19, 6, 39, 21, 15, 26, 25, 3, 4, 7, 4, 2],\n [11, 6, 12, 7, 4, 2],\n [29, 3, 4, 6, 9, 3, 2],\n [11, 3, 51, 32, 13, 15, 14, 2],\n [19, 7, 9, 19, 6, 41, 8, 10, 29, 3, 41, 8, 12, 20, 29, 2],\n [10, 14, 5, 16, 3, 17, 9, 24, 18, 30, 9, 7, 2],\n [11, 3, 10, 5, 13, 11, 13, 3, 21, 15, 12, 20, 9, 7, 2],\n [17, 35, 5, 29, 21, 15, 12, 20, 13, 7, 2],\n [32, 4, 5, 14, 28, 8, 5, 17, 5, 4, 6, 9, 3, 2],\n [28, 14, 5, 16, 13, 2],\n [9, 7, 14, 5, 11, 5, 4, 6, 22, 7, 4, 2],\n [11, 20, 4, 11, 20, 8, 2],\n [17, 6, 9, 28, 9, 5, 4, 11, 3, 12, 7, 4, 2],\n [13, 3, 14, 5, 4, 12, 6, 16, 6, 26, 2],\n [26, 14, 3, 4, 13, 7, 4, 2],\n [26, 11, 3, 4, 13, 21, 15, 12, 20, 2],\n [11, 17, 12, 6, 10, 23, 2],\n [16, 5, 4, 27, 3, 33, 2],\n [36, 5, 18, 3, 9, 15, 2],\n [14, 20, 14, 17, 3, 8, 7, 2],\n [9, 8, 10, 5, 19, 5, 18, 3, 8, 5, 10, 2],\n [29, 6, 10, 5, 16, 15, 19, 2],\n [14, 6, 23, 3, 22, 12, 20, 27, 6, 28, 2],\n [37, 8, 5, 29, 3, 4, 16, 3, 10, 7, 4, 2],\n [14, 20, 19, 7, 4, 11, 3, 22, 3, 4, 2],\n [27, 15, 10, 9, 20, 2],\n [28, 3, 33, 6, 27, 3, 26, 4, 3, 2],\n [41, 16, 10, 39, 23, 3, 4, 9, 7, 2],\n [11, 5, 4, 23, 5, 14, 17, 52, 13, 5, 18, 7, 2],\n [27, 15, 9, 5, 13, 27, 15, 21, 24, 17, 7, 4, 2],\n [11, 3, 12, 9, 11, 3, 12, 6, 9, 3, 9, 7, 2],\n [16, 5, 4, 25, 6, 9, 5, 33, 8, 12, 11, 5, 32, 2],\n [16, 44, 4, 5, 11, 24, 18, 30, 2],\n [16, 7, 8, 5, 19, 3, 40, 12, 8, 2],\n [13, 3, 10, 9, 9, 5, 33, 2],\n [10, 6, 8, 7, 9, 2],\n [16, 20, 28, 9, 3, 8, 31, 18, 30, 3, 12, 3, 4, 2],\n [32, 4, 3, 43, 20, 51, 18, 30, 3, 4, 2],\n [36, 4, 15, 8, 7, 25, 2],\n [11, 3, 51, 25, 17, 5, 4, 20, 35, 24, 2],\n [42, 34, 29, 6, 37, 4, 10, 39, 9, 5, 4, 3, 8, 5, 13, 2],\n [9, 39, 21, 5, 4, 7, 10, 10, 46, 5, 21, 2],\n [34, 5, 4, 7, 29, 6, 21, 15, 35, 5, 29, 7, 4, 2],\n [23, 13, 5, 18, 3, 9, 3, 8, 5, 29, 7, 2],\n [36, 16, 10, 20, 8, 6, 8, 2],\n [16, 5, 4, 10, 8, 5, 8, 28, 6, 13, 5, 13, 2],\n [14, 15, 43, 3, 26, 18, 30, 3, 2],\n [14, 23, 20, 23, 4, 2],\n [9, 3, 4, 5, 18, 17, 6, 11, 7, 10, 7, 2],\n [16, 3, 22, 6, 13, 3, 2],\n [10, 28, 7, 13, 7, 8, 13, 3, 2],\n [8, 7, 4, 21, 15, 8, 5, 29, 6, 2],\n [21, 47, 5, 22, 8, 3, 14, 44, 12, 9, 2],\n [16, 5, 4, 3, 10, 5, 13, 3, 11, 6, 13, 2],\n [22, 8, 3, 12, 7, 26, 2],\n [22, 24, 11, 6, 9, 3, 4, 5, 22, 8, 9, 7, 2],\n [28, 6, 9, 15, 13, 7, 2],\n [22, 12, 56, 3, 9, 3, 13, 7, 31, 2],\n [14, 6, 8, 5, 19, 10, 2],\n [17, 6, 8, 17, 18, 30, 3, 12, 2],\n [10, 44, 13, 5, 4, 7, 31, 2],\n [9, 5, 4, 15, 25, 5, 28, 7, 27, 16, 8, 5, 40, 24, 2],\n [8, 31, 17, 3, 13, 7, 2],\n [16, 44, 22, 3, 14, 8, 5, 29, 16, 21, 15, 12, 20, 4, 2],\n [21, 5, 4, 3, 14, 21, 15, 12, 20, 13, 7, 31, 2],\n [41, 17, 5, 32, 11, 4, 7, 2],\n [9, 39, 11, 12, 2],\n [36, 18, 20, 32, 5, 18, 3, 4, 3, 14, 2],\n [25, 4, 6, 34, 9, 7, 2],\n [48, 8, 6, 33, 5, 19, 22, 8, 4, 3, 2],\n [16, 44, 4, 5, 11, 3, 27, 3, 10, 31, 2],\n [10, 5, 11, 21, 28, 5, 43, 13, 15, 2],\n [11, 7, 22, 16, 15, 9, 15, 4, 2],\n [4, 3, 27, 6, 4, 2],\n [23, 5, 18, 3, 25, 2],\n [41, 54, 10, 4, 5, 21, 6, 9, 45, 13, 2],\n [9, 3, 10, 5, 13, 6, 12, 6, 18, 30, 3, 8, 2],\n [22, 20, 23, 3, 8, 10, 8, 2],\n [23, 6, 41, 12, 10, 7, 8, 11, 5, 18, 3, 9, 2],\n [22, 4, 5, 22, 6, 8, 23, 20, 4, 2],\n [53, 6, 14, 15, 8, 6, 9, 7, 2],\n [11, 5, 4, 5, 18, 3, 35, 5, 29, 6, 2],\n [4, 9, 5, 13, 9, 3, 12, 39, 2],\n ...]"
          },
          "metadata": {}
        }
      ],
      "id": "066db9fc"
    },
    {
      "cell_type": "code",
      "source": [
        "y_train[9]"
      ],
      "metadata": {
        "colab": {
          "base_uri": "https://localhost:8080/"
        },
        "id": "aw8gVFMlK-de",
        "outputId": "b9843ad2-4724-413b-cae0-46a6f822ec2e",
        "execution": {
          "iopub.status.busy": "2024-02-23T16:56:15.007518Z",
          "iopub.execute_input": "2024-02-23T16:56:15.007909Z",
          "iopub.status.idle": "2024-02-23T16:56:15.014220Z",
          "shell.execute_reply.started": "2024-02-23T16:56:15.007860Z",
          "shell.execute_reply": "2024-02-23T16:56:15.013342Z"
        },
        "trusted": true
      },
      "execution_count": null,
      "outputs": [
        {
          "execution_count": 116,
          "output_type": "execute_result",
          "data": {
            "text/plain": "[23, 6, 10, 3, 4, 9, 2]"
          },
          "metadata": {}
        }
      ],
      "id": "aw8gVFMlK-de"
    },
    {
      "cell_type": "code",
      "source": [
        "print(label_words[9])"
      ],
      "metadata": {
        "colab": {
          "base_uri": "https://localhost:8080/"
        },
        "id": "MNwA6y8LAkYK",
        "outputId": "8c4f782e-c9be-40d7-cd21-803ea88cbc4a",
        "execution": {
          "iopub.status.busy": "2024-02-23T16:56:15.015504Z",
          "iopub.execute_input": "2024-02-23T16:56:15.015790Z",
          "iopub.status.idle": "2024-02-23T16:56:15.025372Z",
          "shell.execute_reply.started": "2024-02-23T16:56:15.015767Z",
          "shell.execute_reply": "2024-02-23T16:56:15.024569Z"
        },
        "trusted": true
      },
      "execution_count": null,
      "outputs": [
        {
          "name": "stdout",
          "text": "হিসারক\n\n",
          "output_type": "stream"
        }
      ],
      "id": "MNwA6y8LAkYK"
    },
    {
      "cell_type": "code",
      "source": [
        "# max sequence length\n",
        "\n",
        "max_encoder_seq_length_roman = df_train['english word'].str.len().max()\n",
        "max_decoder_seq_length_ben = df_train['target_ben'].str.len().max()\n",
        "\n",
        "max_encoder_seq_length_roman, max_decoder_seq_length_ben"
      ],
      "metadata": {
        "colab": {
          "base_uri": "https://localhost:8080/"
        },
        "id": "aa83f7dd",
        "outputId": "7916f122-9eab-49f2-83a2-4dd17f4b1149",
        "execution": {
          "iopub.status.busy": "2024-02-23T16:56:15.026660Z",
          "iopub.execute_input": "2024-02-23T16:56:15.027104Z",
          "iopub.status.idle": "2024-02-23T16:56:15.532167Z",
          "shell.execute_reply.started": "2024-02-23T16:56:15.027071Z",
          "shell.execute_reply": "2024-02-23T16:56:15.531215Z"
        },
        "trusted": true
      },
      "execution_count": null,
      "outputs": [
        {
          "execution_count": 118,
          "output_type": "execute_result",
          "data": {
            "text/plain": "(28, 31)"
          },
          "metadata": {}
        }
      ],
      "id": "aa83f7dd"
    },
    {
      "cell_type": "code",
      "source": [
        "def post_padding(data_in_int_seq, max_seq_len):\n",
        "  return pad_sequences(data_in_int_seq, max_seq_len, padding = \"post\")\n",
        "# padding\n",
        "\n",
        "roman_padded = post_padding(roman_words_in_ids, max_encoder_seq_length_roman)\n",
        "ben_padded = post_padding(ben_words_in_ids, max_decoder_seq_length_ben)\n",
        "y_train_padded = post_padding(y_train, max_decoder_seq_length_ben)\n",
        "\n",
        "print(roman_padded[16], len(roman_padded[16]))\n",
        "print(ben_padded[16], len(ben_padded[16]))\n",
        "print(y_train_padded[16],len(y_train_padded[16]))"
      ],
      "metadata": {
        "colab": {
          "base_uri": "https://localhost:8080/"
        },
        "id": "9aca2bd3",
        "outputId": "e1f64a2e-8b88-470c-8460-1bce9a11fb87",
        "execution": {
          "iopub.status.busy": "2024-02-23T16:56:15.533363Z",
          "iopub.execute_input": "2024-02-23T16:56:15.533688Z",
          "iopub.status.idle": "2024-02-23T16:56:20.457238Z",
          "shell.execute_reply.started": "2024-02-23T16:56:15.533661Z",
          "shell.execute_reply": "2024-02-23T16:56:20.456299Z"
        },
        "trusted": true
      },
      "execution_count": null,
      "outputs": [
        {
          "name": "stdout",
          "text": "[13 11  2 11  7 19  3  0  0  0  0  0  0  0  0  0  0  0  0  0  0  0  0  0\n  0  0  0  0] 28\n[ 1 11 15  4 15 47  5 22  6  2  0  0  0  0  0  0  0  0  0  0  0  0  0  0\n  0  0  0  0  0  0  0] 31\n[11 15  4 15 47  5 22  6  2  0  0  0  0  0  0  0  0  0  0  0  0  0  0  0\n  0  0  0  0  0  0  0] 31\n",
          "output_type": "stream"
        }
      ],
      "id": "9aca2bd3"
    },
    {
      "cell_type": "code",
      "source": [
        "latent_dim = 64\n",
        "emb_dim = 100"
      ],
      "metadata": {
        "id": "897947be",
        "execution": {
          "iopub.status.busy": "2024-02-23T16:56:20.458498Z",
          "iopub.execute_input": "2024-02-23T16:56:20.458790Z",
          "iopub.status.idle": "2024-02-23T16:56:20.463070Z",
          "shell.execute_reply.started": "2024-02-23T16:56:20.458764Z",
          "shell.execute_reply": "2024-02-23T16:56:20.462035Z"
        },
        "trusted": true
      },
      "execution_count": null,
      "outputs": [],
      "id": "897947be"
    },
    {
      "cell_type": "code",
      "source": [
        "# Define the encoder model\n",
        "encoder_inputs = Input(shape=(max_encoder_seq_length_roman,), name=\"encoder_input\")\n",
        "emb_encoder = Embedding(roman_vocab, emb_dim, mask_zero=True, name=\"encoder_embedding\")(encoder_inputs)\n",
        "\n",
        "encoder_outputs, forward_h, forward_c, backward_h, backward_c = Bidirectional(LSTM(latent_dim, return_state=True, return_sequences=False),name=\"BiLSTM\",merge_mode=\"mul\")(emb_encoder)\n"
      ],
      "metadata": {
        "id": "20b7ed9f",
        "execution": {
          "iopub.status.busy": "2024-02-23T16:56:20.464394Z",
          "iopub.execute_input": "2024-02-23T16:56:20.465158Z",
          "iopub.status.idle": "2024-02-23T16:56:22.172083Z",
          "shell.execute_reply.started": "2024-02-23T16:56:20.465121Z",
          "shell.execute_reply": "2024-02-23T16:56:22.171270Z"
        },
        "trusted": true
      },
      "execution_count": null,
      "outputs": [],
      "id": "20b7ed9f"
    },
    {
      "cell_type": "code",
      "source": [
        "# concatenate along the last dimension\n",
        "encoder_h = Concatenate(axis=-1,name=\"concat_h\")([forward_h, backward_h])\n",
        "encoder_c = Concatenate(axis=-1,name=\"concat_c\")([forward_c, backward_c])\n",
        "encoder_h, encoder_c\n"
      ],
      "metadata": {
        "colab": {
          "base_uri": "https://localhost:8080/"
        },
        "id": "ozwJwSdgCPJD",
        "outputId": "37409e94-50c7-47ec-c163-917e5f5de8f3",
        "execution": {
          "iopub.status.busy": "2024-02-23T16:56:22.173161Z",
          "iopub.execute_input": "2024-02-23T16:56:22.173444Z",
          "iopub.status.idle": "2024-02-23T16:56:22.189871Z",
          "shell.execute_reply.started": "2024-02-23T16:56:22.173419Z",
          "shell.execute_reply": "2024-02-23T16:56:22.189020Z"
        },
        "trusted": true
      },
      "execution_count": null,
      "outputs": [
        {
          "execution_count": 122,
          "output_type": "execute_result",
          "data": {
            "text/plain": "(<KerasTensor: shape=(None, 128) dtype=float32 (created by layer 'concat_h')>,\n <KerasTensor: shape=(None, 128) dtype=float32 (created by layer 'concat_c')>)"
          },
          "metadata": {}
        }
      ],
      "id": "ozwJwSdgCPJD"
    },
    {
      "cell_type": "code",
      "source": [
        "encoder_states = [encoder_h,encoder_c]\n",
        "encoder_states"
      ],
      "metadata": {
        "colab": {
          "base_uri": "https://localhost:8080/"
        },
        "id": "bRXm0Tm3ENxS",
        "outputId": "7a1f6298-6d55-4708-db9c-64fc24140d6e",
        "execution": {
          "iopub.status.busy": "2024-02-23T16:56:22.190976Z",
          "iopub.execute_input": "2024-02-23T16:56:22.191243Z",
          "iopub.status.idle": "2024-02-23T16:56:22.196636Z",
          "shell.execute_reply.started": "2024-02-23T16:56:22.191220Z",
          "shell.execute_reply": "2024-02-23T16:56:22.195716Z"
        },
        "trusted": true
      },
      "execution_count": null,
      "outputs": [
        {
          "execution_count": 123,
          "output_type": "execute_result",
          "data": {
            "text/plain": "[<KerasTensor: shape=(None, 128) dtype=float32 (created by layer 'concat_h')>,\n <KerasTensor: shape=(None, 128) dtype=float32 (created by layer 'concat_c')>]"
          },
          "metadata": {}
        }
      ],
      "id": "bRXm0Tm3ENxS"
    },
    {
      "cell_type": "code",
      "source": [
        "# decoder with two lstm layers\n",
        "\n",
        "decoder_inputs = keras.Input(shape=(None,),name=\"decoder_input\")\n",
        "\n",
        "decoder_emb = Embedding(ben_vocab, emb_dim, mask_zero=True, name=\"decoder_embedding\")(decoder_inputs)\n",
        "d_lstm_out,d_h,d_c = LSTM(128, return_state=True, return_sequences=True, name=\"decoder_lstm_1\")(decoder_emb, initial_state=encoder_states)\n",
        "decoder_dense = keras.layers.Dense(ben_vocab, activation=\"softmax\")\n",
        "decoder_outputs = decoder_dense(d_lstm_out)"
      ],
      "metadata": {
        "id": "UJmavU_aET2L",
        "execution": {
          "iopub.status.busy": "2024-02-23T16:56:22.197742Z",
          "iopub.execute_input": "2024-02-23T16:56:22.198025Z",
          "iopub.status.idle": "2024-02-23T16:56:23.042033Z",
          "shell.execute_reply.started": "2024-02-23T16:56:22.198003Z",
          "shell.execute_reply": "2024-02-23T16:56:23.041264Z"
        },
        "trusted": true
      },
      "execution_count": null,
      "outputs": [],
      "id": "UJmavU_aET2L"
    },
    {
      "cell_type": "code",
      "source": [
        "model = keras.Model([encoder_inputs, decoder_inputs], decoder_outputs)\n",
        "loss = tf.keras.losses.SparseCategoricalCrossentropy()\n",
        "optimizer = tf.keras.optimizers.RMSprop(learning_rate=0.01, rho=0.9)\n",
        "\n",
        "model.compile(optimizer=optimizer, loss=loss, metrics=[\"accuracy\"])\n",
        "model.summary()"
      ],
      "metadata": {
        "colab": {
          "base_uri": "https://localhost:8080/"
        },
        "id": "yXqiKG_9EeVH",
        "outputId": "cd79f16d-efb5-4244-a5c0-ad77858d5895",
        "execution": {
          "iopub.status.busy": "2024-02-23T16:56:23.043095Z",
          "iopub.execute_input": "2024-02-23T16:56:23.043358Z",
          "iopub.status.idle": "2024-02-23T16:56:23.092676Z",
          "shell.execute_reply.started": "2024-02-23T16:56:23.043336Z",
          "shell.execute_reply": "2024-02-23T16:56:23.091846Z"
        },
        "trusted": true
      },
      "execution_count": null,
      "outputs": [
        {
          "name": "stdout",
          "text": "Model: \"model_3\"\n__________________________________________________________________________________________________\n Layer (type)                Output Shape                 Param #   Connected to                  \n==================================================================================================\n encoder_input (InputLayer)  [(None, 28)]                 0         []                            \n                                                                                                  \n encoder_embedding (Embeddi  (None, 28, 100)              2700      ['encoder_input[0][0]']       \n ng)                                                                                              \n                                                                                                  \n decoder_input (InputLayer)  [(None, None)]               0         []                            \n                                                                                                  \n BiLSTM (Bidirectional)      [(None, 64),                 84480     ['encoder_embedding[0][0]']   \n                              (None, 64),                                                         \n                              (None, 64),                                                         \n                              (None, 64),                                                         \n                              (None, 64)]                                                         \n                                                                                                  \n decoder_embedding (Embeddi  (None, None, 100)            6400      ['decoder_input[0][0]']       \n ng)                                                                                              \n                                                                                                  \n concat_h (Concatenate)      (None, 128)                  0         ['BiLSTM[0][1]',              \n                                                                     'BiLSTM[0][3]']              \n                                                                                                  \n concat_c (Concatenate)      (None, 128)                  0         ['BiLSTM[0][2]',              \n                                                                     'BiLSTM[0][4]']              \n                                                                                                  \n decoder_lstm_1 (LSTM)       [(None, None, 128),          117248    ['decoder_embedding[0][0]',   \n                              (None, 128),                           'concat_h[0][0]',            \n                              (None, 128)]                           'concat_c[0][0]']            \n                                                                                                  \n dense_1 (Dense)             (None, None, 64)             8256      ['decoder_lstm_1[0][0]']      \n                                                                                                  \n==================================================================================================\nTotal params: 219084 (855.80 KB)\nTrainable params: 219084 (855.80 KB)\nNon-trainable params: 0 (0.00 Byte)\n__________________________________________________________________________________________________\n",
          "output_type": "stream"
        }
      ],
      "id": "yXqiKG_9EeVH"
    },
    {
      "cell_type": "code",
      "source": [
        "roman_padded[45]"
      ],
      "metadata": {
        "colab": {
          "base_uri": "https://localhost:8080/"
        },
        "id": "kHhq3_fRF9lW",
        "outputId": "99e30632-d759-4fb4-cb88-1b7c9f500f1f",
        "execution": {
          "iopub.status.busy": "2024-02-23T16:56:23.094131Z",
          "iopub.execute_input": "2024-02-23T16:56:23.094494Z",
          "iopub.status.idle": "2024-02-23T16:56:23.101444Z",
          "shell.execute_reply.started": "2024-02-23T16:56:23.094461Z",
          "shell.execute_reply": "2024-02-23T16:56:23.100386Z"
        },
        "trusted": true
      },
      "execution_count": null,
      "outputs": [
        {
          "execution_count": 126,
          "output_type": "execute_result",
          "data": {
            "text/plain": "array([15, 11,  8,  6, 11, 10, 11, 15,  1,  2,  1,  7,  0,  0,  0,  0,  0,\n        0,  0,  0,  0,  0,  0,  0,  0,  0,  0,  0], dtype=int32)"
          },
          "metadata": {}
        }
      ],
      "id": "kHhq3_fRF9lW"
    },
    {
      "cell_type": "code",
      "source": [
        "roman_words[45]"
      ],
      "metadata": {
        "colab": {
          "base_uri": "https://localhost:8080/",
          "height": 36
        },
        "id": "LNmj_PpHJCIl",
        "outputId": "116d3815-ae43-49b3-e662-28005fa544dc",
        "execution": {
          "iopub.status.busy": "2024-02-23T16:56:23.102744Z",
          "iopub.execute_input": "2024-02-23T16:56:23.103025Z",
          "iopub.status.idle": "2024-02-23T16:56:23.111823Z",
          "shell.execute_reply.started": "2024-02-23T16:56:23.103002Z",
          "shell.execute_reply": "2024-02-23T16:56:23.110931Z"
        },
        "trusted": true
      },
      "execution_count": null,
      "outputs": [
        {
          "execution_count": 127,
          "output_type": "execute_result",
          "data": {
            "text/plain": "'muthukumaran'"
          },
          "metadata": {}
        }
      ],
      "id": "LNmj_PpHJCIl"
    },
    {
      "cell_type": "code",
      "source": [
        "\n",
        "ben_padded[45]"
      ],
      "metadata": {
        "colab": {
          "base_uri": "https://localhost:8080/"
        },
        "id": "AVYAkf78GM-p",
        "outputId": "d87b147b-2461-47a2-f587-cc58081a8f67",
        "execution": {
          "iopub.status.busy": "2024-02-23T16:56:23.112986Z",
          "iopub.execute_input": "2024-02-23T16:56:23.113276Z",
          "iopub.status.idle": "2024-02-23T16:56:23.122158Z",
          "shell.execute_reply.started": "2024-02-23T16:56:23.113253Z",
          "shell.execute_reply": "2024-02-23T16:56:23.121237Z"
        },
        "trusted": true
      },
      "execution_count": null,
      "outputs": [
        {
          "execution_count": 128,
          "output_type": "execute_result",
          "data": {
            "text/plain": "array([ 1, 14, 15, 38, 15,  9, 15, 14,  3,  4,  8,  2,  0,  0,  0,  0,  0,\n        0,  0,  0,  0,  0,  0,  0,  0,  0,  0,  0,  0,  0,  0],\n      dtype=int32)"
          },
          "metadata": {}
        }
      ],
      "id": "AVYAkf78GM-p"
    },
    {
      "cell_type": "code",
      "source": [
        "y_train_padded[53587]"
      ],
      "metadata": {
        "colab": {
          "base_uri": "https://localhost:8080/"
        },
        "id": "-HM_lFvFGSn0",
        "outputId": "c71b717f-b4f2-4b26-b8f5-014f33762eb2",
        "execution": {
          "iopub.status.busy": "2024-02-23T16:56:23.123361Z",
          "iopub.execute_input": "2024-02-23T16:56:23.123631Z",
          "iopub.status.idle": "2024-02-23T16:56:23.132940Z",
          "shell.execute_reply.started": "2024-02-23T16:56:23.123608Z",
          "shell.execute_reply": "2024-02-23T16:56:23.132027Z"
        },
        "trusted": true
      },
      "execution_count": null,
      "outputs": [
        {
          "execution_count": 129,
          "output_type": "execute_result",
          "data": {
            "text/plain": "array([26, 46,  5, 21,  6, 13, 21,  4,  5, 27,  2,  0,  0,  0,  0,  0,  0,\n        0,  0,  0,  0,  0,  0,  0,  0,  0,  0,  0,  0,  0,  0],\n      dtype=int32)"
          },
          "metadata": {}
        }
      ],
      "id": "-HM_lFvFGSn0"
    },
    {
      "cell_type": "code",
      "source": [
        "batch_size = 64\n",
        "epochs = 50\n",
        "\n",
        "\n",
        "\n",
        "\n",
        "model.fit(\n",
        "    [roman_padded, ben_padded],\n",
        "    y_train_padded,\n",
        "    batch_size=batch_size,\n",
        "    epochs=epochs,\n",
        "    validation_split=0.2,\n",
        ")\n",
        "model.save(\"/kaggle/working/mt_bilstm_1l.h5\")"
      ],
      "metadata": {
        "colab": {
          "base_uri": "https://localhost:8080/"
        },
        "id": "Qr8YhIgCEtTO",
        "outputId": "ea7f05a0-187e-46b2-e90d-28aa4a251681",
        "execution": {
          "iopub.status.busy": "2024-02-23T16:56:23.134144Z",
          "iopub.execute_input": "2024-02-23T16:56:23.134410Z",
          "iopub.status.idle": "2024-02-23T17:48:46.366781Z",
          "shell.execute_reply.started": "2024-02-23T16:56:23.134387Z",
          "shell.execute_reply": "2024-02-23T17:48:46.365803Z"
        },
        "trusted": true
      },
      "execution_count": null,
      "outputs": [
        {
          "name": "stdout",
          "text": "Epoch 1/50\n4618/4618 [==============================] - 78s 15ms/step - loss: 0.5609 - accuracy: 0.8216 - val_loss: 0.3719 - val_accuracy: 0.8777\nEpoch 2/50\n4618/4618 [==============================] - 63s 14ms/step - loss: 0.3410 - accuracy: 0.8876 - val_loss: 0.3288 - val_accuracy: 0.8917\nEpoch 3/50\n4618/4618 [==============================] - 63s 14ms/step - loss: 0.3122 - accuracy: 0.8973 - val_loss: 0.3071 - val_accuracy: 0.9000\nEpoch 4/50\n4618/4618 [==============================] - 64s 14ms/step - loss: 0.2977 - accuracy: 0.9019 - val_loss: 0.3098 - val_accuracy: 0.8987\nEpoch 5/50\n4618/4618 [==============================] - 63s 14ms/step - loss: 0.2885 - accuracy: 0.9050 - val_loss: 0.2942 - val_accuracy: 0.9044\nEpoch 6/50\n4618/4618 [==============================] - 65s 14ms/step - loss: 0.2820 - accuracy: 0.9069 - val_loss: 0.2961 - val_accuracy: 0.9030\nEpoch 7/50\n4618/4618 [==============================] - 64s 14ms/step - loss: 0.2775 - accuracy: 0.9087 - val_loss: 0.2982 - val_accuracy: 0.9036\nEpoch 8/50\n4618/4618 [==============================] - 63s 14ms/step - loss: 0.2734 - accuracy: 0.9100 - val_loss: 0.2850 - val_accuracy: 0.9073\nEpoch 9/50\n4618/4618 [==============================] - 63s 14ms/step - loss: 0.2703 - accuracy: 0.9111 - val_loss: 0.2816 - val_accuracy: 0.9084\nEpoch 10/50\n4618/4618 [==============================] - 63s 14ms/step - loss: 0.2680 - accuracy: 0.9118 - val_loss: 0.2872 - val_accuracy: 0.9067\nEpoch 11/50\n4618/4618 [==============================] - 63s 14ms/step - loss: 0.2659 - accuracy: 0.9125 - val_loss: 0.2817 - val_accuracy: 0.9090\nEpoch 12/50\n4618/4618 [==============================] - 62s 14ms/step - loss: 0.2638 - accuracy: 0.9132 - val_loss: 0.2794 - val_accuracy: 0.9098\nEpoch 13/50\n4618/4618 [==============================] - 62s 13ms/step - loss: 0.2626 - accuracy: 0.9137 - val_loss: 0.2799 - val_accuracy: 0.9093\nEpoch 14/50\n4618/4618 [==============================] - 63s 14ms/step - loss: 0.2609 - accuracy: 0.9142 - val_loss: 0.2797 - val_accuracy: 0.9100\nEpoch 15/50\n4618/4618 [==============================] - 62s 13ms/step - loss: 0.2601 - accuracy: 0.9146 - val_loss: 0.2804 - val_accuracy: 0.9097\nEpoch 16/50\n4618/4618 [==============================] - 62s 14ms/step - loss: 0.2586 - accuracy: 0.9153 - val_loss: 0.2741 - val_accuracy: 0.9116\nEpoch 17/50\n4618/4618 [==============================] - 63s 14ms/step - loss: 0.2580 - accuracy: 0.9153 - val_loss: 0.2773 - val_accuracy: 0.9106\nEpoch 18/50\n4618/4618 [==============================] - 62s 14ms/step - loss: 0.2571 - accuracy: 0.9156 - val_loss: 0.2773 - val_accuracy: 0.9108\nEpoch 19/50\n4618/4618 [==============================] - 63s 14ms/step - loss: 0.2561 - accuracy: 0.9161 - val_loss: 0.2748 - val_accuracy: 0.9112\nEpoch 20/50\n4618/4618 [==============================] - 62s 13ms/step - loss: 0.2553 - accuracy: 0.9163 - val_loss: 0.2730 - val_accuracy: 0.9118\nEpoch 21/50\n4618/4618 [==============================] - 63s 14ms/step - loss: 0.2549 - accuracy: 0.9164 - val_loss: 0.2733 - val_accuracy: 0.9119\nEpoch 22/50\n4618/4618 [==============================] - 62s 14ms/step - loss: 0.2547 - accuracy: 0.9165 - val_loss: 0.2721 - val_accuracy: 0.9123\nEpoch 23/50\n4618/4618 [==============================] - 62s 13ms/step - loss: 0.2539 - accuracy: 0.9168 - val_loss: 0.2742 - val_accuracy: 0.9116\nEpoch 24/50\n4618/4618 [==============================] - 62s 14ms/step - loss: 0.2534 - accuracy: 0.9168 - val_loss: 0.2746 - val_accuracy: 0.9119\nEpoch 25/50\n4618/4618 [==============================] - 62s 13ms/step - loss: 0.2529 - accuracy: 0.9170 - val_loss: 0.2729 - val_accuracy: 0.9128\nEpoch 26/50\n4618/4618 [==============================] - 62s 14ms/step - loss: 0.2522 - accuracy: 0.9173 - val_loss: 0.2741 - val_accuracy: 0.9121\nEpoch 27/50\n4618/4618 [==============================] - 62s 13ms/step - loss: 0.2520 - accuracy: 0.9175 - val_loss: 0.2712 - val_accuracy: 0.9126\nEpoch 28/50\n4618/4618 [==============================] - 62s 14ms/step - loss: 0.2513 - accuracy: 0.9177 - val_loss: 0.2738 - val_accuracy: 0.9123\nEpoch 29/50\n4618/4618 [==============================] - 63s 14ms/step - loss: 0.2505 - accuracy: 0.9180 - val_loss: 0.2724 - val_accuracy: 0.9128\nEpoch 30/50\n4618/4618 [==============================] - 62s 13ms/step - loss: 0.2506 - accuracy: 0.9178 - val_loss: 0.2710 - val_accuracy: 0.9131\nEpoch 31/50\n4618/4618 [==============================] - 63s 14ms/step - loss: 0.2507 - accuracy: 0.9179 - val_loss: 0.2733 - val_accuracy: 0.9118\nEpoch 32/50\n4618/4618 [==============================] - 62s 13ms/step - loss: 0.2499 - accuracy: 0.9181 - val_loss: 0.2733 - val_accuracy: 0.9125\nEpoch 33/50\n4618/4618 [==============================] - 62s 13ms/step - loss: 0.2492 - accuracy: 0.9183 - val_loss: 0.2724 - val_accuracy: 0.9122\nEpoch 34/50\n4618/4618 [==============================] - 63s 14ms/step - loss: 0.2497 - accuracy: 0.9182 - val_loss: 0.2739 - val_accuracy: 0.9123\nEpoch 35/50\n4618/4618 [==============================] - 63s 14ms/step - loss: 0.2494 - accuracy: 0.9182 - val_loss: 0.2741 - val_accuracy: 0.9123\nEpoch 36/50\n4618/4618 [==============================] - 62s 13ms/step - loss: 0.2487 - accuracy: 0.9187 - val_loss: 0.2750 - val_accuracy: 0.9119\nEpoch 37/50\n4618/4618 [==============================] - 62s 13ms/step - loss: 0.2485 - accuracy: 0.9187 - val_loss: 0.2730 - val_accuracy: 0.9121\nEpoch 38/50\n4618/4618 [==============================] - 62s 13ms/step - loss: 0.2485 - accuracy: 0.9187 - val_loss: 0.2733 - val_accuracy: 0.9126\nEpoch 39/50\n4618/4618 [==============================] - 62s 13ms/step - loss: 0.2482 - accuracy: 0.9188 - val_loss: 0.2709 - val_accuracy: 0.9132\nEpoch 40/50\n4618/4618 [==============================] - 62s 13ms/step - loss: 0.2474 - accuracy: 0.9189 - val_loss: 0.2748 - val_accuracy: 0.9120\nEpoch 41/50\n4618/4618 [==============================] - 62s 13ms/step - loss: 0.2479 - accuracy: 0.9188 - val_loss: 0.2726 - val_accuracy: 0.9128\nEpoch 42/50\n4618/4618 [==============================] - 62s 14ms/step - loss: 0.2475 - accuracy: 0.9189 - val_loss: 0.2726 - val_accuracy: 0.9128\nEpoch 43/50\n4618/4618 [==============================] - 62s 13ms/step - loss: 0.2474 - accuracy: 0.9190 - val_loss: 0.2723 - val_accuracy: 0.9129\nEpoch 44/50\n4618/4618 [==============================] - 63s 14ms/step - loss: 0.2477 - accuracy: 0.9189 - val_loss: 0.2752 - val_accuracy: 0.9120\nEpoch 45/50\n4618/4618 [==============================] - 62s 13ms/step - loss: 0.2476 - accuracy: 0.9190 - val_loss: 0.2712 - val_accuracy: 0.9136\nEpoch 46/50\n4618/4618 [==============================] - 62s 13ms/step - loss: 0.2476 - accuracy: 0.9189 - val_loss: 0.2704 - val_accuracy: 0.9138\nEpoch 47/50\n4618/4618 [==============================] - 63s 14ms/step - loss: 0.2479 - accuracy: 0.9188 - val_loss: 0.2710 - val_accuracy: 0.9128\nEpoch 48/50\n4618/4618 [==============================] - 63s 14ms/step - loss: 0.2479 - accuracy: 0.9189 - val_loss: 0.2712 - val_accuracy: 0.9132\nEpoch 49/50\n4618/4618 [==============================] - 63s 14ms/step - loss: 0.2479 - accuracy: 0.9188 - val_loss: 0.2720 - val_accuracy: 0.9132\nEpoch 50/50\n4618/4618 [==============================] - 63s 14ms/step - loss: 0.2474 - accuracy: 0.9192 - val_loss: 0.2721 - val_accuracy: 0.9131\n",
          "output_type": "stream"
        },
        {
          "name": "stderr",
          "text": "/opt/conda/lib/python3.10/site-packages/keras/src/engine/training.py:3103: UserWarning: You are saving your model as an HDF5 file via `model.save()`. This file format is considered legacy. We recommend using instead the native Keras format, e.g. `model.save('my_model.keras')`.\n  saving_api.save_model(\n",
          "output_type": "stream"
        }
      ],
      "id": "Qr8YhIgCEtTO"
    },
    {
      "cell_type": "code",
      "source": [
        "#Load saved model\n",
        "saved_model = tf.keras.models.load_model('/kaggle/working/mt_bilstm_1l.h5')\n",
        "saved_model.summary()"
      ],
      "metadata": {
        "colab": {
          "base_uri": "https://localhost:8080/"
        },
        "id": "U65em7_QGQ9K",
        "outputId": "5e2114c3-6a9d-4527-d5d8-7483e69fe149",
        "execution": {
          "iopub.status.busy": "2024-02-23T17:48:46.368304Z",
          "iopub.execute_input": "2024-02-23T17:48:46.368752Z",
          "iopub.status.idle": "2024-02-23T17:48:48.891706Z",
          "shell.execute_reply.started": "2024-02-23T17:48:46.368718Z",
          "shell.execute_reply": "2024-02-23T17:48:48.890760Z"
        },
        "trusted": true
      },
      "execution_count": null,
      "outputs": [
        {
          "name": "stdout",
          "text": "Model: \"model_3\"\n__________________________________________________________________________________________________\n Layer (type)                Output Shape                 Param #   Connected to                  \n==================================================================================================\n encoder_input (InputLayer)  [(None, 28)]                 0         []                            \n                                                                                                  \n encoder_embedding (Embeddi  (None, 28, 100)              2700      ['encoder_input[0][0]']       \n ng)                                                                                              \n                                                                                                  \n decoder_input (InputLayer)  [(None, None)]               0         []                            \n                                                                                                  \n BiLSTM (Bidirectional)      [(None, 64),                 84480     ['encoder_embedding[0][0]']   \n                              (None, 64),                                                         \n                              (None, 64),                                                         \n                              (None, 64),                                                         \n                              (None, 64)]                                                         \n                                                                                                  \n decoder_embedding (Embeddi  (None, None, 100)            6400      ['decoder_input[0][0]']       \n ng)                                                                                              \n                                                                                                  \n concat_h (Concatenate)      (None, 128)                  0         ['BiLSTM[0][1]',              \n                                                                     'BiLSTM[0][3]']              \n                                                                                                  \n concat_c (Concatenate)      (None, 128)                  0         ['BiLSTM[0][2]',              \n                                                                     'BiLSTM[0][4]']              \n                                                                                                  \n decoder_lstm_1 (LSTM)       [(None, None, 128),          117248    ['decoder_embedding[0][0]',   \n                              (None, 128),                           'concat_h[0][0]',            \n                              (None, 128)]                           'concat_c[0][0]']            \n                                                                                                  \n dense_1 (Dense)             (None, None, 64)             8256      ['decoder_lstm_1[0][0]']      \n                                                                                                  \n==================================================================================================\nTotal params: 219084 (855.80 KB)\nTrainable params: 219084 (855.80 KB)\nNon-trainable params: 0 (0.00 Byte)\n__________________________________________________________________________________________________\n",
          "output_type": "stream"
        }
      ],
      "id": "U65em7_QGQ9K"
    },
    {
      "cell_type": "code",
      "source": [
        "inputs = saved_model.get_layer('encoder_input').output                    #Encoder input\n",
        "bi_lstm_out,f_h,f_c,b_h,b_c = saved_model.get_layer('BiLSTM').output   #Encoder LSTM output\n",
        "\n",
        "concate_h = saved_model.get_layer('concat_h').output\n",
        "concate_c = saved_model.get_layer('concat_c').output"
      ],
      "metadata": {
        "id": "ccJv6JCSTQwh",
        "execution": {
          "iopub.status.busy": "2024-02-23T17:48:48.893061Z",
          "iopub.execute_input": "2024-02-23T17:48:48.893674Z",
          "iopub.status.idle": "2024-02-23T17:48:48.899540Z",
          "shell.execute_reply.started": "2024-02-23T17:48:48.893630Z",
          "shell.execute_reply": "2024-02-23T17:48:48.898689Z"
        },
        "trusted": true
      },
      "execution_count": null,
      "outputs": [],
      "id": "ccJv6JCSTQwh"
    },
    {
      "cell_type": "code",
      "source": [
        "bi_lstm_out"
      ],
      "metadata": {
        "colab": {
          "base_uri": "https://localhost:8080/"
        },
        "id": "1kSBojyqTmvv",
        "outputId": "644762e4-c711-458f-d88f-7d7e11a526e1",
        "execution": {
          "iopub.status.busy": "2024-02-23T17:48:48.900606Z",
          "iopub.execute_input": "2024-02-23T17:48:48.900866Z",
          "iopub.status.idle": "2024-02-23T17:48:48.913087Z",
          "shell.execute_reply.started": "2024-02-23T17:48:48.900844Z",
          "shell.execute_reply": "2024-02-23T17:48:48.912178Z"
        },
        "trusted": true
      },
      "execution_count": null,
      "outputs": [
        {
          "execution_count": 133,
          "output_type": "execute_result",
          "data": {
            "text/plain": "<KerasTensor: shape=(None, 64) dtype=float32 (created by layer 'BiLSTM')>"
          },
          "metadata": {}
        }
      ],
      "id": "1kSBojyqTmvv"
    },
    {
      "cell_type": "code",
      "source": [
        "targets = saved_model.get_layer('decoder_input').output           # Decoder input\n",
        "embedding_layer = saved_model.get_layer('decoder_embedding')      # Decoder Embedding layer\n",
        "decoder_lstm1 = saved_model.get_layer('decoder_lstm_1')          # Decoder LSTM layer\n",
        "dense1 = saved_model.get_layer('dense_1')                           # Updated layer name"
      ],
      "metadata": {
        "id": "VpTWYPum5wPA",
        "execution": {
          "iopub.status.busy": "2024-02-23T17:51:14.694988Z",
          "iopub.execute_input": "2024-02-23T17:51:14.695606Z",
          "iopub.status.idle": "2024-02-23T17:51:14.700727Z",
          "shell.execute_reply.started": "2024-02-23T17:51:14.695574Z",
          "shell.execute_reply": "2024-02-23T17:51:14.699733Z"
        },
        "trusted": true
      },
      "execution_count": null,
      "outputs": [],
      "id": "VpTWYPum5wPA"
    },
    {
      "cell_type": "code",
      "source": [
        "#Encoder\n",
        "encoder = keras.Model(inputs, [concate_h, concate_c])\n",
        "encoder.summary()"
      ],
      "metadata": {
        "colab": {
          "base_uri": "https://localhost:8080/"
        },
        "id": "hLzt7zC2TtL-",
        "outputId": "223c0d9f-754b-402c-ae30-39c743f0b4b2",
        "execution": {
          "iopub.status.busy": "2024-02-23T17:51:16.812903Z",
          "iopub.execute_input": "2024-02-23T17:51:16.813614Z",
          "iopub.status.idle": "2024-02-23T17:51:16.847215Z",
          "shell.execute_reply.started": "2024-02-23T17:51:16.813585Z",
          "shell.execute_reply": "2024-02-23T17:51:16.846309Z"
        },
        "trusted": true
      },
      "execution_count": null,
      "outputs": [
        {
          "name": "stdout",
          "text": "Model: \"model_4\"\n__________________________________________________________________________________________________\n Layer (type)                Output Shape                 Param #   Connected to                  \n==================================================================================================\n encoder_input (InputLayer)  [(None, 28)]                 0         []                            \n                                                                                                  \n encoder_embedding (Embeddi  (None, 28, 100)              2700      ['encoder_input[0][0]']       \n ng)                                                                                              \n                                                                                                  \n BiLSTM (Bidirectional)      [(None, 64),                 84480     ['encoder_embedding[0][0]']   \n                              (None, 64),                                                         \n                              (None, 64),                                                         \n                              (None, 64),                                                         \n                              (None, 64)]                                                         \n                                                                                                  \n concat_h (Concatenate)      (None, 128)                  0         ['BiLSTM[0][1]',              \n                                                                     'BiLSTM[0][3]']              \n                                                                                                  \n concat_c (Concatenate)      (None, 128)                  0         ['BiLSTM[0][2]',              \n                                                                     'BiLSTM[0][4]']              \n                                                                                                  \n==================================================================================================\nTotal params: 87180 (340.55 KB)\nTrainable params: 87180 (340.55 KB)\nNon-trainable params: 0 (0.00 Byte)\n__________________________________________________________________________________________________\n",
          "output_type": "stream"
        }
      ],
      "id": "hLzt7zC2TtL-"
    },
    {
      "cell_type": "code",
      "source": [
        "#Decoder\n",
        "\n",
        "decoder_input_h1 = Input(shape=(128,))\n",
        "decoder_input_c1 = Input(shape=(128,))\n",
        "\n",
        "x = embedding_layer(targets)"
      ],
      "metadata": {
        "id": "lNu7iQI6Uj3q",
        "execution": {
          "iopub.status.busy": "2024-02-23T17:51:18.059920Z",
          "iopub.execute_input": "2024-02-23T17:51:18.060776Z",
          "iopub.status.idle": "2024-02-23T17:51:18.076689Z",
          "shell.execute_reply.started": "2024-02-23T17:51:18.060745Z",
          "shell.execute_reply": "2024-02-23T17:51:18.075503Z"
        },
        "trusted": true
      },
      "execution_count": null,
      "outputs": [],
      "id": "lNu7iQI6Uj3q"
    },
    {
      "cell_type": "code",
      "source": [
        "x"
      ],
      "metadata": {
        "id": "XPmBtcvVUo_W",
        "colab": {
          "base_uri": "https://localhost:8080/"
        },
        "outputId": "e3340ff0-e38b-42de-8ee6-2cf974daf566",
        "execution": {
          "iopub.status.busy": "2024-02-23T17:51:19.289616Z",
          "iopub.execute_input": "2024-02-23T17:51:19.290492Z",
          "iopub.status.idle": "2024-02-23T17:51:19.296192Z",
          "shell.execute_reply.started": "2024-02-23T17:51:19.290457Z",
          "shell.execute_reply": "2024-02-23T17:51:19.295267Z"
        },
        "trusted": true
      },
      "execution_count": null,
      "outputs": [
        {
          "execution_count": 140,
          "output_type": "execute_result",
          "data": {
            "text/plain": "<KerasTensor: shape=(None, None, 100) dtype=float32 (created by layer 'decoder_embedding')>"
          },
          "metadata": {}
        }
      ],
      "id": "XPmBtcvVUo_W"
    },
    {
      "cell_type": "code",
      "source": [
        "x,d_out_h,d_out_c = decoder_lstm1(x, initial_state=[decoder_input_h1, decoder_input_c1])"
      ],
      "metadata": {
        "id": "Zla1FeUPUt7o",
        "execution": {
          "iopub.status.busy": "2024-02-23T17:51:20.229780Z",
          "iopub.execute_input": "2024-02-23T17:51:20.230433Z",
          "iopub.status.idle": "2024-02-23T17:51:21.025019Z",
          "shell.execute_reply.started": "2024-02-23T17:51:20.230402Z",
          "shell.execute_reply": "2024-02-23T17:51:21.024024Z"
        },
        "trusted": true
      },
      "execution_count": null,
      "outputs": [],
      "id": "Zla1FeUPUt7o"
    },
    {
      "cell_type": "code",
      "source": [
        "d_out_h"
      ],
      "metadata": {
        "colab": {
          "base_uri": "https://localhost:8080/"
        },
        "id": "Kwj8eynKNzFF",
        "outputId": "d25144f2-877d-4d93-9e07-d794cb673efd",
        "execution": {
          "iopub.status.busy": "2024-02-23T17:51:21.405232Z",
          "iopub.execute_input": "2024-02-23T17:51:21.405601Z",
          "iopub.status.idle": "2024-02-23T17:51:21.411672Z",
          "shell.execute_reply.started": "2024-02-23T17:51:21.405572Z",
          "shell.execute_reply": "2024-02-23T17:51:21.410772Z"
        },
        "trusted": true
      },
      "execution_count": null,
      "outputs": [
        {
          "execution_count": 142,
          "output_type": "execute_result",
          "data": {
            "text/plain": "<KerasTensor: shape=(None, 128) dtype=float32 (created by layer 'decoder_lstm_1')>"
          },
          "metadata": {}
        }
      ],
      "id": "Kwj8eynKNzFF"
    },
    {
      "cell_type": "code",
      "source": [
        "#x = decoder_lstm2(x, initial_state=[decoder_input_h1, decoder_input_c1])\n",
        "x = dense1(x)\n",
        "x.shape"
      ],
      "metadata": {
        "colab": {
          "base_uri": "https://localhost:8080/"
        },
        "id": "ntDC6WYJUxtC",
        "outputId": "bc02b17e-cd4b-43a3-9ffd-f95b1756bdd3",
        "execution": {
          "iopub.status.busy": "2024-02-23T17:51:22.940818Z",
          "iopub.execute_input": "2024-02-23T17:51:22.941498Z",
          "iopub.status.idle": "2024-02-23T17:51:22.967170Z",
          "shell.execute_reply.started": "2024-02-23T17:51:22.941465Z",
          "shell.execute_reply": "2024-02-23T17:51:22.966283Z"
        },
        "trusted": true
      },
      "execution_count": null,
      "outputs": [
        {
          "execution_count": 143,
          "output_type": "execute_result",
          "data": {
            "text/plain": "TensorShape([None, None, 64])"
          },
          "metadata": {}
        }
      ],
      "id": "ntDC6WYJUxtC"
    },
    {
      "cell_type": "code",
      "source": [
        "decoder = keras.Model([targets, decoder_input_h1, decoder_input_c1], [x, d_out_h, d_out_c])\n",
        "decoder.summary()"
      ],
      "metadata": {
        "colab": {
          "base_uri": "https://localhost:8080/"
        },
        "id": "ZMcnxiVd6Tor",
        "outputId": "6159a9ed-4d79-4821-c057-0e02ac8f8d14",
        "execution": {
          "iopub.status.busy": "2024-02-23T17:51:24.425871Z",
          "iopub.execute_input": "2024-02-23T17:51:24.426265Z",
          "iopub.status.idle": "2024-02-23T17:51:24.455728Z",
          "shell.execute_reply.started": "2024-02-23T17:51:24.426236Z",
          "shell.execute_reply": "2024-02-23T17:51:24.454655Z"
        },
        "trusted": true
      },
      "execution_count": null,
      "outputs": [
        {
          "name": "stdout",
          "text": "Model: \"model_5\"\n__________________________________________________________________________________________________\n Layer (type)                Output Shape                 Param #   Connected to                  \n==================================================================================================\n decoder_input (InputLayer)  [(None, None)]               0         []                            \n                                                                                                  \n decoder_embedding (Embeddi  (None, None, 100)            6400      ['decoder_input[0][0]']       \n ng)                                                                                              \n                                                                                                  \n input_3 (InputLayer)        [(None, 128)]                0         []                            \n                                                                                                  \n input_4 (InputLayer)        [(None, 128)]                0         []                            \n                                                                                                  \n decoder_lstm_1 (LSTM)       [(None, None, 128),          117248    ['decoder_embedding[1][0]',   \n                              (None, 128),                           'input_3[0][0]',             \n                              (None, 128)]                           'input_4[0][0]']             \n                                                                                                  \n dense_1 (Dense)             (None, None, 64)             8256      ['decoder_lstm_1[1][0]']      \n                                                                                                  \n==================================================================================================\nTotal params: 131904 (515.25 KB)\nTrainable params: 131904 (515.25 KB)\nNon-trainable params: 0 (0.00 Byte)\n__________________________________________________________________________________________________\n",
          "output_type": "stream"
        }
      ],
      "id": "ZMcnxiVd6Tor"
    },
    {
      "cell_type": "code",
      "source": [
        "reverse_input_char_index = dict((i, char) for char, i in roman_tokens.items())\n",
        "reverse_target_char_index = dict((i, char) for char, i in ben_tokens.items())"
      ],
      "metadata": {
        "id": "ESQd2LqjU6Ch",
        "execution": {
          "iopub.status.busy": "2024-02-23T17:51:25.919924Z",
          "iopub.execute_input": "2024-02-23T17:51:25.920599Z",
          "iopub.status.idle": "2024-02-23T17:51:25.925445Z",
          "shell.execute_reply.started": "2024-02-23T17:51:25.920571Z",
          "shell.execute_reply": "2024-02-23T17:51:25.924440Z"
        },
        "trusted": true
      },
      "execution_count": null,
      "outputs": [],
      "id": "ESQd2LqjU6Ch"
    },
    {
      "cell_type": "code",
      "source": [
        "reverse_input_char_index"
      ],
      "metadata": {
        "id": "MyLf2ekyU9-I",
        "colab": {
          "base_uri": "https://localhost:8080/"
        },
        "outputId": "2befbc76-7538-4918-9764-5d5b0b669735",
        "execution": {
          "iopub.status.busy": "2024-02-23T17:51:27.029871Z",
          "iopub.execute_input": "2024-02-23T17:51:27.030972Z",
          "iopub.status.idle": "2024-02-23T17:51:27.037323Z",
          "shell.execute_reply.started": "2024-02-23T17:51:27.030932Z",
          "shell.execute_reply": "2024-02-23T17:51:27.036350Z"
        },
        "trusted": true
      },
      "execution_count": null,
      "outputs": [
        {
          "execution_count": 146,
          "output_type": "execute_result",
          "data": {
            "text/plain": "{1: 'a',\n 2: 'r',\n 3: 'i',\n 4: 'o',\n 5: 'e',\n 6: 'h',\n 7: 'n',\n 8: 't',\n 9: 's',\n 10: 'k',\n 11: 'u',\n 12: 'd',\n 13: 'b',\n 14: 'l',\n 15: 'm',\n 16: 'p',\n 17: 'g',\n 18: 'c',\n 19: 'j',\n 20: 'y',\n 21: 'v',\n 22: 'f',\n 23: 'z',\n 24: 'w',\n 25: 'x',\n 26: 'q'}"
          },
          "metadata": {}
        }
      ],
      "id": "MyLf2ekyU9-I"
    },
    {
      "cell_type": "code",
      "source": [
        "reverse_target_char_index"
      ],
      "metadata": {
        "id": "anwvjmD3VHup",
        "colab": {
          "base_uri": "https://localhost:8080/"
        },
        "outputId": "895f12c6-efcb-411f-9685-18e3fbf367cb",
        "execution": {
          "iopub.status.busy": "2024-02-23T17:51:28.194972Z",
          "iopub.execute_input": "2024-02-23T17:51:28.195690Z",
          "iopub.status.idle": "2024-02-23T17:51:28.203589Z",
          "shell.execute_reply.started": "2024-02-23T17:51:28.195662Z",
          "shell.execute_reply": "2024-02-23T17:51:28.202582Z"
        },
        "trusted": true
      },
      "execution_count": null,
      "outputs": [
        {
          "execution_count": 147,
          "output_type": "execute_result",
          "data": {
            "text/plain": "{1: '\\t',\n 2: '\\n',\n 3: 'া',\n 4: 'র',\n 5: '্',\n 6: 'ি',\n 7: 'ে',\n 8: 'ন',\n 9: 'ক',\n 10: 'স',\n 11: 'ব',\n 12: 'ল',\n 13: 'ত',\n 14: 'ম',\n 15: 'ু',\n 16: 'প',\n 17: 'দ',\n 18: 'য',\n 19: 'ট',\n 20: 'গ',\n 21: 'ো',\n 22: 'জ',\n 23: 'হ',\n 24: 'ী',\n 25: 'শ',\n 26: 'ই',\n 27: 'ভ',\n 28: 'চ',\n 29: 'ড',\n 30: '়',\n 31: 'ও',\n 32: 'ধ',\n 33: 'ষ',\n 34: 'ফ',\n 35: 'ণ',\n 36: 'অ',\n 37: 'আ',\n 38: 'থ',\n 39: 'খ',\n 40: 'ং',\n 41: 'উ',\n 42: 'এ',\n 43: 'ছ',\n 44: 'ূ',\n 45: 'ৃ',\n 46: 'ঙ',\n 47: 'ঞ',\n 48: 'ঘ',\n 49: 'ঠ',\n 50: 'ৌ',\n 51: 'ঁ',\n 52: 'ৈ',\n 53: 'ঝ',\n 54: 'ৎ',\n 55: 'ঃ',\n 56: 'ঢ',\n 57: 'ঐ',\n 58: 'ঋ',\n 59: 'ঈ',\n 60: 'ঔ',\n 61: 'ঊ',\n 62: '।',\n 63: '২'}"
          },
          "metadata": {}
        }
      ],
      "id": "anwvjmD3VHup"
    },
    {
      "cell_type": "code",
      "source": [
        "v = np.reshape(roman_padded[6], (1, -1))\n"
      ],
      "metadata": {
        "id": "zZ7Eqgm8VLwy",
        "execution": {
          "iopub.status.busy": "2024-02-23T17:51:29.075424Z",
          "iopub.execute_input": "2024-02-23T17:51:29.076290Z",
          "iopub.status.idle": "2024-02-23T17:51:29.080604Z",
          "shell.execute_reply.started": "2024-02-23T17:51:29.076254Z",
          "shell.execute_reply": "2024-02-23T17:51:29.079492Z"
        },
        "trusted": true
      },
      "execution_count": null,
      "outputs": [],
      "id": "zZ7Eqgm8VLwy"
    },
    {
      "cell_type": "code",
      "source": [
        "v.shape"
      ],
      "metadata": {
        "colab": {
          "base_uri": "https://localhost:8080/"
        },
        "id": "M6z5JzhmVBzm",
        "outputId": "87764e9d-2195-48e5-8e72-51ac35dcab2c",
        "execution": {
          "iopub.status.busy": "2024-02-23T17:51:30.924972Z",
          "iopub.execute_input": "2024-02-23T17:51:30.925345Z",
          "iopub.status.idle": "2024-02-23T17:51:30.931293Z",
          "shell.execute_reply.started": "2024-02-23T17:51:30.925316Z",
          "shell.execute_reply": "2024-02-23T17:51:30.930349Z"
        },
        "trusted": true
      },
      "execution_count": null,
      "outputs": [
        {
          "execution_count": 149,
          "output_type": "execute_result",
          "data": {
            "text/plain": "(1, 28)"
          },
          "metadata": {}
        }
      ],
      "id": "M6z5JzhmVBzm"
    },
    {
      "cell_type": "code",
      "source": [
        "encoder.predict(v,verbose=0)"
      ],
      "metadata": {
        "colab": {
          "base_uri": "https://localhost:8080/"
        },
        "id": "yq9sUWpzVSsB",
        "outputId": "265030c1-bca8-4699-e1a9-f93b927d2ee1",
        "execution": {
          "iopub.status.busy": "2024-02-23T17:51:32.074929Z",
          "iopub.execute_input": "2024-02-23T17:51:32.075303Z",
          "iopub.status.idle": "2024-02-23T17:51:34.327669Z",
          "shell.execute_reply.started": "2024-02-23T17:51:32.075276Z",
          "shell.execute_reply": "2024-02-23T17:51:34.326586Z"
        },
        "trusted": true
      },
      "execution_count": null,
      "outputs": [
        {
          "execution_count": 150,
          "output_type": "execute_result",
          "data": {
            "text/plain": "[array([[ 8.22370887e-01,  2.31054429e-11,  2.63541686e-08,\n          2.53154917e-06, -2.89788120e-04, -3.72258434e-03,\n          9.64171529e-01, -6.20303126e-06,  3.06345499e-03,\n          2.18851983e-05, -3.91420326e-05, -9.44051027e-01,\n         -4.39377964e-01,  3.32376640e-03, -1.99740706e-03,\n          9.57324207e-01,  3.72104277e-03,  1.44721300e-04,\n         -6.05136214e-04,  8.91537726e-01,  3.68310253e-08,\n          3.87517692e-11,  5.02334103e-07, -7.82405823e-06,\n          1.16324172e-05,  9.30604152e-03,  2.00181294e-05,\n         -1.80713433e-09,  5.11930346e-01,  2.12721425e-04,\n          9.99231458e-01,  4.93230313e-01, -2.58472021e-04,\n          3.05923801e-02, -7.81142712e-01, -3.56496871e-01,\n          1.37937960e-07, -4.24176551e-06,  3.00967167e-06,\n         -9.87526476e-01, -1.88572589e-08, -2.56394942e-05,\n         -1.18201569e-06, -7.61394560e-01, -1.23111764e-04,\n         -9.74524438e-01,  4.96900976e-02,  1.67166558e-03,\n          1.60590619e-09, -9.93969381e-01, -7.36986935e-01,\n          2.21843538e-06, -1.80374682e-01, -1.29928568e-03,\n         -2.47353083e-03, -1.51714197e-09, -9.00078123e-10,\n          9.42728996e-01, -4.87233698e-03, -9.99672234e-01,\n          7.24361257e-07, -6.85624764e-06,  1.48034673e-02,\n         -6.49149207e-11, -1.88691702e-04, -1.66045684e-05,\n          2.16501206e-01,  4.59600016e-02, -6.26848928e-09,\n         -5.53531345e-06, -6.21974505e-02, -1.28722422e-06,\n          2.71426863e-08,  7.26287514e-02, -7.47769415e-01,\n          3.19579267e-05, -1.01296224e-01, -3.97232361e-03,\n         -2.42224942e-05,  4.50990573e-02, -4.93323171e-07,\n         -2.85466886e-05,  5.95699355e-04, -5.34061583e-05,\n          8.47414017e-01, -2.84829810e-02, -1.14347786e-01,\n          2.38775268e-01,  1.33284077e-03, -1.27947330e-03,\n          8.80019128e-01,  2.07675930e-06,  2.24134031e-10,\n         -2.61463463e-01,  4.34276990e-06, -2.36305950e-05,\n         -4.79283926e-06, -4.27321356e-05,  3.37788612e-01,\n          1.79862618e-05,  3.39097576e-03, -1.12044618e-04,\n          1.87870719e-10, -1.16625465e-02,  1.85029174e-04,\n          7.10592330e-01, -1.63283214e-01,  4.75032687e-01,\n         -3.22499574e-07, -2.17638399e-06,  2.26467073e-05,\n          2.35549538e-04,  6.50363266e-01,  1.20381464e-03,\n          1.48962826e-01, -3.44059849e-03,  7.50386477e-01,\n         -6.50877580e-02,  4.68412145e-05, -3.13070640e-02,\n         -4.58370708e-02, -7.53442287e-01,  2.53230945e-04,\n         -3.54443216e-07, -9.69647110e-01, -8.90396722e-03,\n          3.08434106e-02,  9.69188750e-01]], dtype=float32),\n array([[ 1.30003011e+00,  4.61936921e-01,  2.19746089e+00,\n          1.04211891e+00, -3.41681391e-01, -3.82754509e-03,\n          2.01180577e+00, -7.85855344e-04,  4.11751717e-02,\n          2.48807366e-03, -1.40555131e+00, -1.79515445e+00,\n         -1.85332036e+00,  5.35517812e-01, -1.13358808e+00,\n          1.92912996e+00,  1.10382354e-02,  9.76838589e-01,\n         -6.05136272e-04,  1.43331969e+00,  1.11596429e+00,\n          4.63985465e-03,  9.99994636e-01, -3.66750330e-01,\n          3.54958139e-02,  1.38257043e-02,  1.84831047e+00,\n         -5.17953849e-05,  5.65346301e-01,  1.75900534e-01,\n          3.93187428e+00,  5.46834350e-01, -2.94373453e-01,\n          3.23496437e+00, -1.05078316e+00, -3.77733290e-01,\n          5.00318289e+00, -4.60669965e-01,  1.02007341e+00,\n         -2.53892970e+00, -1.35875911e-01, -1.76749969e+00,\n         -1.01420796e+00, -9.99998212e-01, -2.06704414e-03,\n         -3.98598504e+00,  1.94762313e+00,  1.30021727e+00,\n          3.41103226e-02, -2.90138674e+00, -9.99999285e-01,\n          5.22073269e-01, -1.82401881e-01, -3.96426749e+00,\n         -2.47353734e-03, -3.31240511e+00, -1.87090551e-03,\n          2.13404870e+00, -9.94994104e-01, -4.38977909e+00,\n          1.06630530e-02, -5.76221105e-03,  9.59767342e-01,\n         -4.06236458e+00, -3.65434694e+00, -2.03574109e+00,\n          2.92498326e+00,  9.80135262e-01, -1.77474678e-01,\n         -1.96928942e+00, -5.65104008e-01, -1.30711138e+00,\n          5.42233527e-01,  8.95308256e-01, -9.95623767e-01,\n          1.15179026e+00, -8.66509736e-01, -3.55936140e-01,\n         -2.95499146e-01,  2.29451823e+00, -3.45600128e-01,\n         -4.52751935e-01,  1.56047678e+00, -9.91011620e-01,\n          1.32352006e+00, -1.90324104e+00, -1.22119196e-01,\n          2.31803727e+00,  3.20675969e-02, -5.91270812e-03,\n          1.39525867e+00,  5.14158607e-02,  9.84378219e-01,\n         -4.00483638e-01,  4.24164712e-01, -1.56457081e-01,\n         -8.65795135e-01, -4.21522826e-01,  3.53152484e-01,\n          9.76531625e-01,  1.03194678e+00, -1.14896047e+00,\n          2.07236230e-01, -2.12673402e+00,  1.95568442e+00,\n          8.94906402e-01, -9.94025648e-01,  7.44596899e-01,\n         -1.22655225e+00, -2.30816126e+00,  1.94601595e+00,\n          4.84558678e+00,  9.99668658e-01,  9.91092384e-01,\n          1.50079548e-01, -3.44061852e-03,  9.74045157e-01,\n         -2.47130609e+00,  1.07249081e+00, -1.42153430e+00,\n         -3.85518742e+00, -9.98396635e-01,  2.62681278e-04,\n         -8.45920265e-01, -2.08635902e+00, -5.87732136e-01,\n          2.95193529e+00,  2.24809909e+00]], dtype=float32)]"
          },
          "metadata": {}
        }
      ],
      "id": "yq9sUWpzVSsB"
    },
    {
      "cell_type": "code",
      "source": [
        "def predict_list_of_words(list_source_words_in_padded_int_seq):\n",
        "  list_pred_words = []\n",
        "  start_token = np.zeros((1, 1))\n",
        "  start_token[0] = ass_tokenizer.word_index['\\t']\n",
        "  print(start_token)\n",
        "\n",
        "  for x in tqdm(range(len(list_source_words_in_padded_int_seq))):\n",
        "    source_seq = start_token\n",
        "    pred_word = ''\n",
        "    v = np.reshape(list_source_words_in_padded_int_seq[x], (1, -1))\n",
        "    next_h, next_c = encoder.predict(v,verbose=0)\n",
        "    for i in range(max_decoder_seq_length_ass):\n",
        "      output, next_h, next_c = decoder.predict([source_seq] + [next_h, next_c],verbose=0)\n",
        "      next_token = np.argmax(output[0, 0, :])\n",
        "      next_char = reverse_target_char_index[next_token]\n",
        "      if next_char == '\\n':\n",
        "        break\n",
        "      else:\n",
        "        pred_word += next_char\n",
        "        source_seq = np.zeros((1, 1))\n",
        "        source_seq[0] = next_token\n",
        "    list_pred_words.append(pred_word)\n",
        "  return list_pred_words"
      ],
      "metadata": {
        "id": "h0QUAgF9Vbjx",
        "execution": {
          "iopub.status.busy": "2024-02-23T17:51:35.341268Z",
          "iopub.execute_input": "2024-02-23T17:51:35.341636Z",
          "iopub.status.idle": "2024-02-23T17:51:35.350192Z",
          "shell.execute_reply.started": "2024-02-23T17:51:35.341608Z",
          "shell.execute_reply": "2024-02-23T17:51:35.349155Z"
        },
        "trusted": true
      },
      "execution_count": null,
      "outputs": [],
      "id": "h0QUAgF9Vbjx"
    },
    {
      "cell_type": "code",
      "source": [
        "predicted = predict_list_of_words(roman_padded[:20])"
      ],
      "metadata": {
        "id": "3pEOScyZVpyW",
        "colab": {
          "base_uri": "https://localhost:8080/"
        },
        "outputId": "dade4844-14ee-4d94-db43-b6db7c163078",
        "execution": {
          "iopub.status.busy": "2024-02-23T17:51:36.825140Z",
          "iopub.execute_input": "2024-02-23T17:51:36.825517Z",
          "iopub.status.idle": "2024-02-23T17:51:52.379031Z",
          "shell.execute_reply.started": "2024-02-23T17:51:36.825487Z",
          "shell.execute_reply": "2024-02-23T17:51:52.378064Z"
        },
        "trusted": true
      },
      "execution_count": null,
      "outputs": [
        {
          "name": "stdout",
          "text": "[[1.]]\n",
          "output_type": "stream"
        },
        {
          "name": "stderr",
          "text": "100%|██████████| 20/20 [00:15<00:00,  1.29it/s]\n",
          "output_type": "stream"
        }
      ],
      "id": "3pEOScyZVpyW"
    },
    {
      "cell_type": "code",
      "source": [
        "df_analyse = pd.DataFrame()\n",
        "df_analyse[\"source\"] = roman_words[:20]\n",
        "df_analyse[\"predicted\"] = predicted\n",
        "df_analyse[\"ground_truth\"] = df_train[\"native word\"]\n",
        "df_analyse"
      ],
      "metadata": {
        "id": "KsGPSID8Vs_6",
        "colab": {
          "base_uri": "https://localhost:8080/",
          "height": 676
        },
        "outputId": "1f369676-103b-41da-c34a-753ef53d2da2",
        "execution": {
          "iopub.status.busy": "2024-02-23T17:51:52.380732Z",
          "iopub.execute_input": "2024-02-23T17:51:52.381067Z",
          "iopub.status.idle": "2024-02-23T17:51:52.395814Z",
          "shell.execute_reply.started": "2024-02-23T17:51:52.381042Z",
          "shell.execute_reply": "2024-02-23T17:51:52.394761Z"
        },
        "trusted": true
      },
      "execution_count": null,
      "outputs": [
        {
          "execution_count": 153,
          "output_type": "execute_result",
          "data": {
            "text/plain": "             source          predicted      ground_truth\n0          mudigiri          মুদিোোোোো          মুদিগিরি\n1    osommotisotteo      অসম্মতিষ্টতেও   অসম্মতিসত্ত্বেও\n2           armanda           আরমান্দা         আর্মান্ডা\n3     sorbotkrishto         সর্বতকৃষ্ট       সর্বোৎকৃষ্ট\n4            mageni             মাজেনি            মাজেনি\n5             keter              কেটের             কেতের\n6         dottoncho            দত্তন্চ           দত্তঞ্চ\n7   antorjatikmaner  আন্তর্জামিক্তানের  আন্তর্জাতিকমানের\n8      bhitorgulote       ভিতরোোোোোলগে        ভিতরগুলোতে\n9           hisarak             হিসারক            হিসারক\n10       kobitasoho            কবিতাসহ           কবিতাসহ\n11        buddhasya           বুদ্ধস্য          বুদ্ধস্য\n12          uirakun            উইরাকুন           উইরাকুন\n13      mohabiswoke         মহাবিস্বকে        মহাবিশ্বকে\n14          dhilika             ধীলিকা            ধিলিকা\n15     nirbahokolpe       নির্বাহকল্পে      নির্বাহকল্পে\n16          burunji           বুরুঞ্জি          বুরুঞ্জি\n17        ahomedere           অহমেদেরে          আহমেদেরে\n18     ovibabokdero        অভিবাবকদেরও       অভিবাবকদেরও\n19         padamsee            পাদামসি           পাদামসি",
            "text/html": "<div>\n<style scoped>\n    .dataframe tbody tr th:only-of-type {\n        vertical-align: middle;\n    }\n\n    .dataframe tbody tr th {\n        vertical-align: top;\n    }\n\n    .dataframe thead th {\n        text-align: right;\n    }\n</style>\n<table border=\"1\" class=\"dataframe\">\n  <thead>\n    <tr style=\"text-align: right;\">\n      <th></th>\n      <th>source</th>\n      <th>predicted</th>\n      <th>ground_truth</th>\n    </tr>\n  </thead>\n  <tbody>\n    <tr>\n      <th>0</th>\n      <td>mudigiri</td>\n      <td>মুদিোোোোো</td>\n      <td>মুদিগিরি</td>\n    </tr>\n    <tr>\n      <th>1</th>\n      <td>osommotisotteo</td>\n      <td>অসম্মতিষ্টতেও</td>\n      <td>অসম্মতিসত্ত্বেও</td>\n    </tr>\n    <tr>\n      <th>2</th>\n      <td>armanda</td>\n      <td>আরমান্দা</td>\n      <td>আর্মান্ডা</td>\n    </tr>\n    <tr>\n      <th>3</th>\n      <td>sorbotkrishto</td>\n      <td>সর্বতকৃষ্ট</td>\n      <td>সর্বোৎকৃষ্ট</td>\n    </tr>\n    <tr>\n      <th>4</th>\n      <td>mageni</td>\n      <td>মাজেনি</td>\n      <td>মাজেনি</td>\n    </tr>\n    <tr>\n      <th>5</th>\n      <td>keter</td>\n      <td>কেটের</td>\n      <td>কেতের</td>\n    </tr>\n    <tr>\n      <th>6</th>\n      <td>dottoncho</td>\n      <td>দত্তন্চ</td>\n      <td>দত্তঞ্চ</td>\n    </tr>\n    <tr>\n      <th>7</th>\n      <td>antorjatikmaner</td>\n      <td>আন্তর্জামিক্তানের</td>\n      <td>আন্তর্জাতিকমানের</td>\n    </tr>\n    <tr>\n      <th>8</th>\n      <td>bhitorgulote</td>\n      <td>ভিতরোোোোোলগে</td>\n      <td>ভিতরগুলোতে</td>\n    </tr>\n    <tr>\n      <th>9</th>\n      <td>hisarak</td>\n      <td>হিসারক</td>\n      <td>হিসারক</td>\n    </tr>\n    <tr>\n      <th>10</th>\n      <td>kobitasoho</td>\n      <td>কবিতাসহ</td>\n      <td>কবিতাসহ</td>\n    </tr>\n    <tr>\n      <th>11</th>\n      <td>buddhasya</td>\n      <td>বুদ্ধস্য</td>\n      <td>বুদ্ধস্য</td>\n    </tr>\n    <tr>\n      <th>12</th>\n      <td>uirakun</td>\n      <td>উইরাকুন</td>\n      <td>উইরাকুন</td>\n    </tr>\n    <tr>\n      <th>13</th>\n      <td>mohabiswoke</td>\n      <td>মহাবিস্বকে</td>\n      <td>মহাবিশ্বকে</td>\n    </tr>\n    <tr>\n      <th>14</th>\n      <td>dhilika</td>\n      <td>ধীলিকা</td>\n      <td>ধিলিকা</td>\n    </tr>\n    <tr>\n      <th>15</th>\n      <td>nirbahokolpe</td>\n      <td>নির্বাহকল্পে</td>\n      <td>নির্বাহকল্পে</td>\n    </tr>\n    <tr>\n      <th>16</th>\n      <td>burunji</td>\n      <td>বুরুঞ্জি</td>\n      <td>বুরুঞ্জি</td>\n    </tr>\n    <tr>\n      <th>17</th>\n      <td>ahomedere</td>\n      <td>অহমেদেরে</td>\n      <td>আহমেদেরে</td>\n    </tr>\n    <tr>\n      <th>18</th>\n      <td>ovibabokdero</td>\n      <td>অভিবাবকদেরও</td>\n      <td>অভিবাবকদেরও</td>\n    </tr>\n    <tr>\n      <th>19</th>\n      <td>padamsee</td>\n      <td>পাদামসি</td>\n      <td>পাদামসি</td>\n    </tr>\n  </tbody>\n</table>\n</div>"
          },
          "metadata": {}
        }
      ],
      "id": "KsGPSID8Vs_6"
    },
    {
      "cell_type": "code",
      "source": [
        "test_roman_words = df_test['english word']\n",
        "test_target_words = df_test['native word']\n",
        "test_roman_words[2],test_target_words[2]"
      ],
      "metadata": {
        "id": "Q_JFesTcVzc8",
        "colab": {
          "base_uri": "https://localhost:8080/"
        },
        "outputId": "5fa68603-b2f0-48cc-a983-4f7de0a0ba64",
        "execution": {
          "iopub.status.busy": "2024-02-23T17:51:52.397013Z",
          "iopub.execute_input": "2024-02-23T17:51:52.397310Z",
          "iopub.status.idle": "2024-02-23T17:51:52.407200Z",
          "shell.execute_reply.started": "2024-02-23T17:51:52.397286Z",
          "shell.execute_reply": "2024-02-23T17:51:52.406274Z"
        },
        "trusted": true
      },
      "execution_count": null,
      "outputs": [
        {
          "execution_count": 154,
          "output_type": "execute_result",
          "data": {
            "text/plain": "('akalpaneey', 'অকল্পনীয়')"
          },
          "metadata": {}
        }
      ],
      "id": "Q_JFesTcVzc8"
    },
    {
      "cell_type": "code",
      "source": [
        "test_roman_words_in_ids = roman_tokenizer.texts_to_sequences(test_roman_words)\n",
        "test_target_words_in_ids = ass_tokenizer.texts_to_sequences(test_target_words)\n",
        "\n",
        "print(test_roman_words_in_ids[4])\n",
        "print(test_target_words_in_ids[4])"
      ],
      "metadata": {
        "id": "Bt-UDPUnV7ZF",
        "colab": {
          "base_uri": "https://localhost:8080/"
        },
        "outputId": "7cc774ed-b29b-457b-da05-15fcb8a7b9b4",
        "execution": {
          "iopub.status.busy": "2024-02-23T17:51:52.409336Z",
          "iopub.execute_input": "2024-02-23T17:51:52.409602Z",
          "iopub.status.idle": "2024-02-23T17:51:52.519226Z",
          "shell.execute_reply.started": "2024-02-23T17:51:52.409579Z",
          "shell.execute_reply": "2024-02-23T17:51:52.518295Z"
        },
        "trusted": true
      },
      "execution_count": null,
      "outputs": [
        {
          "name": "stdout",
          "text": "[18, 6, 6, 1, 3, 10, 6, 11, 14]\n[43, 3, 26, 38, 15, 12]\n",
          "output_type": "stream"
        }
      ],
      "id": "Bt-UDPUnV7ZF"
    },
    {
      "cell_type": "code",
      "source": [
        "#2. padding\n",
        "\n",
        "test_roman_padded = post_padding(test_roman_words_in_ids, max_encoder_seq_length_roman)\n",
        "test_target_padded = post_padding(test_target_words_in_ids, max_decoder_seq_length_ass)\n",
        "\n",
        "print(test_roman_padded[2])\n",
        "print(test_target_padded[2])"
      ],
      "metadata": {
        "id": "OTj2pl9UWF5r",
        "colab": {
          "base_uri": "https://localhost:8080/"
        },
        "outputId": "93c2c169-0de9-4d8b-c1b1-05e7234dd404",
        "execution": {
          "iopub.status.busy": "2024-02-23T17:51:52.520659Z",
          "iopub.execute_input": "2024-02-23T17:51:52.521053Z",
          "iopub.status.idle": "2024-02-23T17:51:52.651578Z",
          "shell.execute_reply.started": "2024-02-23T17:51:52.521018Z",
          "shell.execute_reply": "2024-02-23T17:51:52.650599Z"
        },
        "trusted": true
      },
      "execution_count": null,
      "outputs": [
        {
          "name": "stdout",
          "text": "[ 1 10  1 14 16  1  7  5  5 20  0  0  0  0  0  0  0  0  0  0  0  0  0  0\n  0  0  0  0]\n[36  9 12  5 16  8 24 18 30  0  0  0  0  0  0  0  0  0  0  0  0  0  0  0\n  0  0  0  0  0  0  0  0]\n",
          "output_type": "stream"
        }
      ],
      "id": "OTj2pl9UWF5r"
    },
    {
      "cell_type": "code",
      "source": [
        "len(test_roman_padded[2]), len(test_target_padded[2])"
      ],
      "metadata": {
        "id": "zf5vvJ20WP0s",
        "colab": {
          "base_uri": "https://localhost:8080/"
        },
        "outputId": "1d93b196-6f9a-46ce-dd51-07308f49fcba",
        "execution": {
          "iopub.status.busy": "2024-02-23T17:51:52.652642Z",
          "iopub.execute_input": "2024-02-23T17:51:52.652953Z",
          "iopub.status.idle": "2024-02-23T17:51:52.659410Z",
          "shell.execute_reply.started": "2024-02-23T17:51:52.652926Z",
          "shell.execute_reply": "2024-02-23T17:51:52.658474Z"
        },
        "trusted": true
      },
      "execution_count": null,
      "outputs": [
        {
          "execution_count": 157,
          "output_type": "execute_result",
          "data": {
            "text/plain": "(28, 32)"
          },
          "metadata": {}
        }
      ],
      "id": "zf5vvJ20WP0s"
    },
    {
      "cell_type": "code",
      "source": [
        "# prediction on test set\n",
        "predicted_test = predict_list_of_words(test_roman_padded[:1500])"
      ],
      "metadata": {
        "id": "ecb4jFFoWd3T",
        "colab": {
          "base_uri": "https://localhost:8080/"
        },
        "outputId": "776cf4bb-f3e5-4db4-c202-c910b4b697b4",
        "execution": {
          "iopub.status.busy": "2024-02-23T17:51:52.660546Z",
          "iopub.execute_input": "2024-02-23T17:51:52.660806Z",
          "iopub.status.idle": "2024-02-23T18:12:42.647686Z",
          "shell.execute_reply.started": "2024-02-23T17:51:52.660783Z",
          "shell.execute_reply": "2024-02-23T18:12:42.646679Z"
        },
        "trusted": true
      },
      "execution_count": null,
      "outputs": [
        {
          "name": "stdout",
          "text": "[[1.]]\n",
          "output_type": "stream"
        },
        {
          "name": "stderr",
          "text": "100%|██████████| 1500/1500 [20:49<00:00,  1.20it/s]\n",
          "output_type": "stream"
        }
      ],
      "id": "ecb4jFFoWd3T"
    },
    {
      "cell_type": "code",
      "source": [
        "# analyse\n",
        "df_analyse_test = pd.DataFrame()\n",
        "df_analyse_test[\"source\"] = test_roman_words[:1500]\n",
        "df_analyse_test[\"predicted\"] = predicted_test\n",
        "df_analyse_test[\"ground_truth_label\"] = df_test[\"native word\"][:1500]\n",
        "\n",
        "df_analyse_test.head(10)"
      ],
      "metadata": {
        "id": "B2f20WU3Whu4",
        "colab": {
          "base_uri": "https://localhost:8080/",
          "height": 363
        },
        "outputId": "28976ce8-a436-4068-fb97-0099963da04f",
        "execution": {
          "iopub.status.busy": "2024-02-23T18:12:42.648999Z",
          "iopub.execute_input": "2024-02-23T18:12:42.649299Z",
          "iopub.status.idle": "2024-02-23T18:12:42.665354Z",
          "shell.execute_reply.started": "2024-02-23T18:12:42.649274Z",
          "shell.execute_reply": "2024-02-23T18:12:42.664317Z"
        },
        "trusted": true
      },
      "execution_count": null,
      "outputs": [
        {
          "execution_count": 159,
          "output_type": "execute_result",
          "data": {
            "text/plain": "            source          predicted ground_truth_label\n0  pratisangkhyaay  প্রতিসখ্যানওয়ায়      প্রতিসংখ্যায়\n1          atishth             অতিষ্ঠ             অতিষ্ঠ\n2       akalpaneey            আকালপনি          অকল্পনীয়\n3            anter          অ্যান্টার          অ্যান্টের\n4        chhaikhul             ছাইথুল             ছাইখুল\n5    bipadaseemaar         বিপাদেসমূর          বিপদসীমার\n6   janmaashtaamee          জন্মশতামি        জন্মাষ্টামী\n7      naayikaader        নাইয়াকেদের         নায়িকাদের\n8      pratishtaai        প্রতিষ্টায়         প্রতিষ্টাই\n9  vyanililaamaaid     ভ্যালিনাইলামীদ      ভ্যনিলিলামাইড",
            "text/html": "<div>\n<style scoped>\n    .dataframe tbody tr th:only-of-type {\n        vertical-align: middle;\n    }\n\n    .dataframe tbody tr th {\n        vertical-align: top;\n    }\n\n    .dataframe thead th {\n        text-align: right;\n    }\n</style>\n<table border=\"1\" class=\"dataframe\">\n  <thead>\n    <tr style=\"text-align: right;\">\n      <th></th>\n      <th>source</th>\n      <th>predicted</th>\n      <th>ground_truth_label</th>\n    </tr>\n  </thead>\n  <tbody>\n    <tr>\n      <th>0</th>\n      <td>pratisangkhyaay</td>\n      <td>প্রতিসখ্যানওয়ায়</td>\n      <td>প্রতিসংখ্যায়</td>\n    </tr>\n    <tr>\n      <th>1</th>\n      <td>atishth</td>\n      <td>অতিষ্ঠ</td>\n      <td>অতিষ্ঠ</td>\n    </tr>\n    <tr>\n      <th>2</th>\n      <td>akalpaneey</td>\n      <td>আকালপনি</td>\n      <td>অকল্পনীয়</td>\n    </tr>\n    <tr>\n      <th>3</th>\n      <td>anter</td>\n      <td>অ্যান্টার</td>\n      <td>অ্যান্টের</td>\n    </tr>\n    <tr>\n      <th>4</th>\n      <td>chhaikhul</td>\n      <td>ছাইথুল</td>\n      <td>ছাইখুল</td>\n    </tr>\n    <tr>\n      <th>5</th>\n      <td>bipadaseemaar</td>\n      <td>বিপাদেসমূর</td>\n      <td>বিপদসীমার</td>\n    </tr>\n    <tr>\n      <th>6</th>\n      <td>janmaashtaamee</td>\n      <td>জন্মশতামি</td>\n      <td>জন্মাষ্টামী</td>\n    </tr>\n    <tr>\n      <th>7</th>\n      <td>naayikaader</td>\n      <td>নাইয়াকেদের</td>\n      <td>নায়িকাদের</td>\n    </tr>\n    <tr>\n      <th>8</th>\n      <td>pratishtaai</td>\n      <td>প্রতিষ্টায়</td>\n      <td>প্রতিষ্টাই</td>\n    </tr>\n    <tr>\n      <th>9</th>\n      <td>vyanililaamaaid</td>\n      <td>ভ্যালিনাইলামীদ</td>\n      <td>ভ্যনিলিলামাইড</td>\n    </tr>\n  </tbody>\n</table>\n</div>"
          },
          "metadata": {}
        }
      ],
      "id": "B2f20WU3Whu4"
    },
    {
      "cell_type": "code",
      "source": [
        "\n",
        "def split_characters(text_string):\n",
        "  return [character for character in text_string]\n",
        "\n",
        "split_characters('চ' 'তু' 'ৰ্থ')"
      ],
      "metadata": {
        "id": "IkC0oLWTaikf",
        "colab": {
          "base_uri": "https://localhost:8080/"
        },
        "outputId": "b92e12a6-c29f-4c79-d5f3-8aefc65d283d",
        "execution": {
          "iopub.status.busy": "2024-02-23T18:12:42.666871Z",
          "iopub.execute_input": "2024-02-23T18:12:42.667278Z",
          "iopub.status.idle": "2024-02-23T18:12:42.681060Z",
          "shell.execute_reply.started": "2024-02-23T18:12:42.667241Z",
          "shell.execute_reply": "2024-02-23T18:12:42.680094Z"
        },
        "trusted": true
      },
      "execution_count": null,
      "outputs": [
        {
          "execution_count": 160,
          "output_type": "execute_result",
          "data": {
            "text/plain": "['চ', 'ত', 'ু', 'ৰ', '্', 'থ']"
          },
          "metadata": {}
        }
      ],
      "id": "IkC0oLWTaikf"
    },
    {
      "cell_type": "code",
      "source": [
        "df_analyse_test[\"predicted_tokenized\"] = df_analyse_test[\"predicted\"].apply(split_characters)\n",
        "df_analyse_test[\"label_tokenized\"] = df_analyse_test[\"ground_truth_label\"].apply(split_characters)\n",
        "\n",
        "df_analyse_test.head()"
      ],
      "metadata": {
        "id": "A3meo9Eda9WC",
        "colab": {
          "base_uri": "https://localhost:8080/",
          "height": 206
        },
        "outputId": "2d37f9e4-191e-453a-d723-616308605e8b",
        "execution": {
          "iopub.status.busy": "2024-02-23T18:12:42.683997Z",
          "iopub.execute_input": "2024-02-23T18:12:42.684669Z",
          "iopub.status.idle": "2024-02-23T18:12:42.716832Z",
          "shell.execute_reply.started": "2024-02-23T18:12:42.684633Z",
          "shell.execute_reply": "2024-02-23T18:12:42.715949Z"
        },
        "trusted": true
      },
      "execution_count": null,
      "outputs": [
        {
          "execution_count": 161,
          "output_type": "execute_result",
          "data": {
            "text/plain": "            source          predicted ground_truth_label  \\\n0  pratisangkhyaay  প্রতিসখ্যানওয়ায়      প্রতিসংখ্যায়   \n1          atishth             অতিষ্ঠ             অতিষ্ঠ   \n2       akalpaneey            আকালপনি          অকল্পনীয়   \n3            anter          অ্যান্টার          অ্যান্টের   \n4        chhaikhul             ছাইথুল             ছাইখুল   \n\n                                 predicted_tokenized  \\\n0  [প, ্, র, ত, ি, স, খ, ্, য, া, ন, ও, য, ়, া, ...   \n1                                 [অ, ত, ি, ষ, ্, ঠ]   \n2                              [আ, ক, া, ল, প, ন, ি]   \n3                        [অ, ্, য, া, ন, ্, ট, া, র]   \n4                                 [ছ, া, ই, থ, ু, ল]   \n\n                           label_tokenized  \n0  [প, ্, র, ত, ি, স, ং, খ, ্, য, া, য, ়]  \n1                       [অ, ত, ি, ষ, ্, ঠ]  \n2              [অ, ক, ল, ্, প, ন, ী, য, ়]  \n3              [অ, ্, য, া, ন, ্, ট, ে, র]  \n4                       [ছ, া, ই, খ, ু, ল]  ",
            "text/html": "<div>\n<style scoped>\n    .dataframe tbody tr th:only-of-type {\n        vertical-align: middle;\n    }\n\n    .dataframe tbody tr th {\n        vertical-align: top;\n    }\n\n    .dataframe thead th {\n        text-align: right;\n    }\n</style>\n<table border=\"1\" class=\"dataframe\">\n  <thead>\n    <tr style=\"text-align: right;\">\n      <th></th>\n      <th>source</th>\n      <th>predicted</th>\n      <th>ground_truth_label</th>\n      <th>predicted_tokenized</th>\n      <th>label_tokenized</th>\n    </tr>\n  </thead>\n  <tbody>\n    <tr>\n      <th>0</th>\n      <td>pratisangkhyaay</td>\n      <td>প্রতিসখ্যানওয়ায়</td>\n      <td>প্রতিসংখ্যায়</td>\n      <td>[প, ্, র, ত, ি, স, খ, ্, য, া, ন, ও, য, ়, া, ...</td>\n      <td>[প, ্, র, ত, ি, স, ং, খ, ্, য, া, য, ়]</td>\n    </tr>\n    <tr>\n      <th>1</th>\n      <td>atishth</td>\n      <td>অতিষ্ঠ</td>\n      <td>অতিষ্ঠ</td>\n      <td>[অ, ত, ি, ষ, ্, ঠ]</td>\n      <td>[অ, ত, ি, ষ, ্, ঠ]</td>\n    </tr>\n    <tr>\n      <th>2</th>\n      <td>akalpaneey</td>\n      <td>আকালপনি</td>\n      <td>অকল্পনীয়</td>\n      <td>[আ, ক, া, ল, প, ন, ি]</td>\n      <td>[অ, ক, ল, ্, প, ন, ী, য, ়]</td>\n    </tr>\n    <tr>\n      <th>3</th>\n      <td>anter</td>\n      <td>অ্যান্টার</td>\n      <td>অ্যান্টের</td>\n      <td>[অ, ্, য, া, ন, ্, ট, া, র]</td>\n      <td>[অ, ্, য, া, ন, ্, ট, ে, র]</td>\n    </tr>\n    <tr>\n      <th>4</th>\n      <td>chhaikhul</td>\n      <td>ছাইথুল</td>\n      <td>ছাইখুল</td>\n      <td>[ছ, া, ই, থ, ু, ল]</td>\n      <td>[ছ, া, ই, খ, ু, ল]</td>\n    </tr>\n  </tbody>\n</table>\n</div>"
          },
          "metadata": {}
        }
      ],
      "id": "A3meo9Eda9WC"
    },
    {
      "cell_type": "code",
      "source": [
        "def create_reference(tokenized):\n",
        "  return [tokenized]\n",
        "\n",
        "df_analyse_test[\"reference\"] = df_analyse_test[\"label_tokenized\"].apply(create_reference)\n",
        "df_analyse_test.head()"
      ],
      "metadata": {
        "id": "_uRyiYwmbi6G",
        "colab": {
          "base_uri": "https://localhost:8080/",
          "height": 206
        },
        "outputId": "dbde69a0-8d50-4ba2-9fad-68042e7ef1c0",
        "execution": {
          "iopub.status.busy": "2024-02-23T18:12:42.717866Z",
          "iopub.execute_input": "2024-02-23T18:12:42.718191Z",
          "iopub.status.idle": "2024-02-23T18:12:42.739850Z",
          "shell.execute_reply.started": "2024-02-23T18:12:42.718167Z",
          "shell.execute_reply": "2024-02-23T18:12:42.738835Z"
        },
        "trusted": true
      },
      "execution_count": null,
      "outputs": [
        {
          "execution_count": 162,
          "output_type": "execute_result",
          "data": {
            "text/plain": "            source          predicted ground_truth_label  \\\n0  pratisangkhyaay  প্রতিসখ্যানওয়ায়      প্রতিসংখ্যায়   \n1          atishth             অতিষ্ঠ             অতিষ্ঠ   \n2       akalpaneey            আকালপনি          অকল্পনীয়   \n3            anter          অ্যান্টার          অ্যান্টের   \n4        chhaikhul             ছাইথুল             ছাইখুল   \n\n                                 predicted_tokenized  \\\n0  [প, ্, র, ত, ি, স, খ, ্, য, া, ন, ও, য, ়, া, ...   \n1                                 [অ, ত, ি, ষ, ্, ঠ]   \n2                              [আ, ক, া, ল, প, ন, ি]   \n3                        [অ, ্, য, া, ন, ্, ট, া, র]   \n4                                 [ছ, া, ই, থ, ু, ল]   \n\n                           label_tokenized  \\\n0  [প, ্, র, ত, ি, স, ং, খ, ্, য, া, য, ়]   \n1                       [অ, ত, ি, ষ, ্, ঠ]   \n2              [অ, ক, ল, ্, প, ন, ী, য, ়]   \n3              [অ, ্, য, া, ন, ্, ট, ে, র]   \n4                       [ছ, া, ই, খ, ু, ল]   \n\n                                   reference  \n0  [[প, ্, র, ত, ি, স, ং, খ, ্, য, া, য, ়]]  \n1                       [[অ, ত, ি, ষ, ্, ঠ]]  \n2              [[অ, ক, ল, ্, প, ন, ী, য, ়]]  \n3              [[অ, ্, য, া, ন, ্, ট, ে, র]]  \n4                       [[ছ, া, ই, খ, ু, ল]]  ",
            "text/html": "<div>\n<style scoped>\n    .dataframe tbody tr th:only-of-type {\n        vertical-align: middle;\n    }\n\n    .dataframe tbody tr th {\n        vertical-align: top;\n    }\n\n    .dataframe thead th {\n        text-align: right;\n    }\n</style>\n<table border=\"1\" class=\"dataframe\">\n  <thead>\n    <tr style=\"text-align: right;\">\n      <th></th>\n      <th>source</th>\n      <th>predicted</th>\n      <th>ground_truth_label</th>\n      <th>predicted_tokenized</th>\n      <th>label_tokenized</th>\n      <th>reference</th>\n    </tr>\n  </thead>\n  <tbody>\n    <tr>\n      <th>0</th>\n      <td>pratisangkhyaay</td>\n      <td>প্রতিসখ্যানওয়ায়</td>\n      <td>প্রতিসংখ্যায়</td>\n      <td>[প, ্, র, ত, ি, স, খ, ্, য, া, ন, ও, য, ়, া, ...</td>\n      <td>[প, ্, র, ত, ি, স, ং, খ, ্, য, া, য, ়]</td>\n      <td>[[প, ্, র, ত, ি, স, ং, খ, ্, য, া, য, ়]]</td>\n    </tr>\n    <tr>\n      <th>1</th>\n      <td>atishth</td>\n      <td>অতিষ্ঠ</td>\n      <td>অতিষ্ঠ</td>\n      <td>[অ, ত, ি, ষ, ্, ঠ]</td>\n      <td>[অ, ত, ি, ষ, ্, ঠ]</td>\n      <td>[[অ, ত, ি, ষ, ্, ঠ]]</td>\n    </tr>\n    <tr>\n      <th>2</th>\n      <td>akalpaneey</td>\n      <td>আকালপনি</td>\n      <td>অকল্পনীয়</td>\n      <td>[আ, ক, া, ল, প, ন, ি]</td>\n      <td>[অ, ক, ল, ্, প, ন, ী, য, ়]</td>\n      <td>[[অ, ক, ল, ্, প, ন, ী, য, ়]]</td>\n    </tr>\n    <tr>\n      <th>3</th>\n      <td>anter</td>\n      <td>অ্যান্টার</td>\n      <td>অ্যান্টের</td>\n      <td>[অ, ্, য, া, ন, ্, ট, া, র]</td>\n      <td>[অ, ্, য, া, ন, ্, ট, ে, র]</td>\n      <td>[[অ, ্, য, া, ন, ্, ট, ে, র]]</td>\n    </tr>\n    <tr>\n      <th>4</th>\n      <td>chhaikhul</td>\n      <td>ছাইথুল</td>\n      <td>ছাইখুল</td>\n      <td>[ছ, া, ই, থ, ু, ল]</td>\n      <td>[ছ, া, ই, খ, ু, ল]</td>\n      <td>[[ছ, া, ই, খ, ু, ল]]</td>\n    </tr>\n  </tbody>\n</table>\n</div>"
          },
          "metadata": {}
        }
      ],
      "id": "_uRyiYwmbi6G"
    },
    {
      "cell_type": "code",
      "source": [
        "# BLEU Score\n",
        "\n",
        "# Convert DataFrame columns to lists\n",
        "predictions = df_analyse_test['predicted_tokenized'].tolist()\n",
        "true_labels = df_analyse_test['reference'].tolist()"
      ],
      "metadata": {
        "id": "4b6QD4g-bEpE",
        "execution": {
          "iopub.status.busy": "2024-02-23T18:12:42.741272Z",
          "iopub.execute_input": "2024-02-23T18:12:42.741631Z",
          "iopub.status.idle": "2024-02-23T18:12:42.749238Z",
          "shell.execute_reply.started": "2024-02-23T18:12:42.741598Z",
          "shell.execute_reply": "2024-02-23T18:12:42.748248Z"
        },
        "trusted": true
      },
      "execution_count": null,
      "outputs": [],
      "id": "4b6QD4g-bEpE"
    },
    {
      "cell_type": "code",
      "source": [
        "true_labels"
      ],
      "metadata": {
        "id": "BIivLq-lbOxD",
        "colab": {
          "base_uri": "https://localhost:8080/"
        },
        "outputId": "865e9f58-2dee-4c44-963d-6c7454faf2d3",
        "execution": {
          "iopub.status.busy": "2024-02-23T18:12:42.750293Z",
          "iopub.execute_input": "2024-02-23T18:12:42.750557Z",
          "iopub.status.idle": "2024-02-23T18:12:42.971308Z",
          "shell.execute_reply.started": "2024-02-23T18:12:42.750534Z",
          "shell.execute_reply": "2024-02-23T18:12:42.970402Z"
        },
        "trusted": true
      },
      "execution_count": null,
      "outputs": [
        {
          "execution_count": 164,
          "output_type": "execute_result",
          "data": {
            "text/plain": "[[['প', '্', 'র', 'ত', 'ি', 'স', 'ং', 'খ', '্', 'য', 'া', 'য', '়']],\n [['অ', 'ত', 'ি', 'ষ', '্', 'ঠ']],\n [['অ', 'ক', 'ল', '্', 'প', 'ন', 'ী', 'য', '়']],\n [['অ', '্', 'য', 'া', 'ন', '্', 'ট', 'ে', 'র']],\n [['ছ', 'া', 'ই', 'খ', 'ু', 'ল']],\n [['ব', 'ি', 'প', 'দ', 'স', 'ী', 'ম', 'া', 'র']],\n [['জ', 'ন', '্', 'ম', 'া', 'ষ', '্', 'ট', 'া', 'ম', 'ী']],\n [['ন', 'া', 'য', '়', 'ি', 'ক', 'া', 'দ', 'ে', 'র']],\n [['প', '্', 'র', 'ত', 'ি', 'ষ', '্', 'ট', 'া', 'ই']],\n [['ভ', '্', 'য', 'ন', 'ি', 'ল', 'ি', 'ল', 'া', 'ম', 'া', 'ই', 'ড']],\n [['গ', 'ু', 'দ', 'ে', 'র']],\n [['ন', 'া', 'ম', 'জ', 'া', 'দ', 'া']],\n [['ই', 'ন', 'ড', 'ি', 'প', 'ে', 'ন', 'ড', 'ে', 'ন', '্', 'ট', 'ক', 'ে']],\n [['র', 'া', 'জ', 'প', 'র', 'ি', 'ব', 'া', 'র', 'ঃ']],\n [['স', '্', 'থ', 'া', 'ন', 'ী', 'য', '়', 'দ', 'ে', 'র']],\n [['প', 'ো', 'ল', 'া', 'র', 'স', '্', 'ট', 'া', 'র', '্', 'ন', 'ে']],\n [['প', '্', 'র', 'ত', '্', 'য', 'া', 'র', 'ে', 'র']],\n [['র', 'া', 'খ', 'ল']],\n [['স', '্', 'ব', 'া', 'ত', '্', 'ব', 'ি', 'ক']],\n [['ক', '্', 'য', 'া', 'ন', 'গ', 'ু', 'ল', 'ো', 'ত', 'ে']],\n [['অ', '্', 'য', 'া', 'ল', 'ে', 'র']],\n [['ব', 'া', 'ঙ', 'া', 'ল', 'ি', 'আ', 'ন', 'া']],\n [['আ', 'স', 'র', 'গ', 'ু', 'ল', 'ো', 'ক', 'ে']],\n [['দ', 'ৌ', 'প', 'দ', 'ি', 'র']],\n [['স', 'হ', 'য', 'ো', 'গ', 'ী', 'ত', 'া', 'য', '়']],\n [['প', 'ু', 'ত', '্', 'র', 'জ', 'ন', '্', 'ম', 'ন', 'ি']],\n [['ঘ', 'ণ', '্', 'ট', 'া', 'র', 'ও']],\n [['অ', '্', 'য', 'া', 'ড', 'ি', 'শ', 'ন', 'ও']],\n [['অ', 'ট', 'ো', 'চ', 'া', 'ল', 'ক']],\n [['ব', 'ৃ', 'ত', 'ল', 'ে']],\n [['ব', 'ি', 'র', 'ো', 'ধ', 'ী', 'দ', 'ল', 'গ', 'ু', 'ল', 'ো', 'র']],\n [['ত', 'থ', '্', 'য', 'া', 'ন', 'ু', 'য', 'া', 'য', '়', 'ী']],\n [['স', '্', 'থ', 'ল', 'ব', 'ন', '্', 'দ', 'র']],\n [['অ', '্', 'য', 'া', 'স', '্', 'ট', '্', 'র', 'ো', 'ক', 'ে']],\n [['চ', 'া', 'র', 'ি', 'ধ', 'া', 'র', 'ে', 'ই']],\n [['র', 'া', 'ক', 'া', 'ত', 'স', 'া', 'ল', 'া', 'ত']],\n [['জ', 'ন', 'া', 'য', '়']],\n [['ও', 'স', 'ি', 'র']],\n [['প', '্', 'র', 'ি', 'য', '়', 'া', 'ল', 'ে', 'র']],\n [['হ', 'ল', 'র', 'ু']],\n [['শ', 'ৃ', 'ঙ', '্', 'খ', 'ল', 'া', 'ট', 'া', 'ও']],\n [['ন', 'ি', 'য', '়', 'ো', 'গ', 'ক', 'া', 'র', 'ী', 'দ', 'ে', 'র']],\n [['ফ', 'া', 'ও', 'য', '়', 'া', 'জ', 'ে', 'র']],\n [['ল', 'ে', 'প', 'ন']],\n [['ক', 'া', 'র', '্', 'প', 'ণ', '্', 'য']],\n [['ব', 'ি', 'জ', '্', 'ঞ', 'া', 'ন', 'ী', 'দ', 'ে', 'র', 'ক', 'ে']],\n [['স', 'া', 'র', 'থ', 'ি', 'ম', '্']],\n [['আ', 'ক', '্', 'ব', 'ী', 'ক', '্', 'ব', 'া']],\n [['স', 'ো', 'প', 'র', '্', 'দ']],\n [['ত', '্', 'র', 'য', '়', 'ো', 'দ', 'শ']],\n [['উ', 'চ', '্', 'চ', 'ত', 'া', 'য', '়']],\n [['খ', 'ে', 'ল', 'ছ', 'ি', 'ল']],\n [['ম', 'া', 'ন', 'ি', 'ক', 'শ', 'ো']],\n [['প', 'ৃ', 'ষ', '্', 'ঠ', 'প', 'ো', 'ষ', 'ক', 'ত', 'া']],\n [['ব', 'া', 'ঙ', 'া', 'ল', 'ি', 'ট', 'ি']],\n [['ন', 'ি', 'শ', 'ি', 'ম', 'ু', 'র', 'া']],\n [['প', 'া', 'স', 'প', 'ো', 'র', '্', 'ট', 'স', 'ূ', 'ত', '্', 'র', 'ে']],\n [['ষ',\n   'ড',\n   '়',\n   'য',\n   'ন',\n   '্',\n   'ত',\n   '্',\n   'র',\n   'ক',\n   'া',\n   'র',\n   'ী',\n   'দ',\n   'ে',\n   'র',\n   'ক',\n   'ে']],\n [['গ', 'ত', 'ি', 'প', '্', 'র', 'ক', 'ৃ', 'ত', 'ি']],\n [['হ', 'ি', 'ঁ', 'চ', 'ড', '়', 'ে']],\n [['অ', 'স', 'হ', 'ন', 'ী', 'য', '়']],\n [['ল', 'ড', '়', 'া', 'ই', 'য', '়', 'ে', 'র']],\n [['ক', '্', 'য', 'া', 'ম', 'ে', 'র', 'া', 'ব', 'ন', '্', 'দ', 'ি']],\n [['ম', 'া', 'ত', 'ৃ', 'গ', 'ণ', 'ক', 'ে']],\n [['স', 'র', 'ঞ', '্', 'জ', 'া', 'ম', 'া', 'দ', 'ি']],\n [['প',\n   '্',\n   'র',\n   'ত',\n   'ি',\n   'ষ',\n   '্',\n   'ঠ',\n   'া',\n   'ব',\n   'া',\n   'র',\n   '্',\n   'ষ',\n   'ি',\n   'ক',\n   'ী']],\n [['ক', 'ৌ', 'ত', 'ূ', 'হ', 'ল', 'ী']],\n [['ন', 'হ', 'য', '়']],\n [['প', 'র', 'ি', 'চ', 'য', '়', 'দ', 'া', 'ন', 'ক', 'া', 'র', 'ী', 'ক', 'ে']],\n [['অ', 'জ', '্', 'ঞ']],\n [['উ', 'দ', '্', 'ধ', 'ো', 'ধ', 'ন']],\n [['প', 'র', 'ি', 'স', '্', 'থ', 'ি', 'ত', 'ি', 'ত', 'ে', 'ই']],\n [['অ', 'া', 'ঁ', 'ট', 'ি', 'ত', 'ে']],\n [['ল', 'ি', 'খ', 'ল', 'া', 'ম']],\n [['ট', 'া', 'ন', 'ি', 'য', '়', 'া']],\n [['অ', '্', 'য', 'া', 'ন', '্', 'ট', 'ি', 'ক', 'ে', 'র']],\n [['হ', 'ল', 'ফ', 'ন', 'া', 'ম', 'া', 'য', '়']],\n [['ক', 'ন', '্', 'ন', 'া']],\n [['স', '্', 'ট', '্', 'র', 'া', 'ক', 'চ', 'া', 'র', 'গ', 'ু', 'ল', 'ি', 'র']],\n [['প', '্', 'য', 'া', 'ন', '্', 'ড', 'ে', 'ল', 'ও']],\n [['আ', 'ন', 'ন', '্', 'দ', 'ভ', 'ু', 'ক', '্']],\n [['আ', 'ট', 'ক', 'ক', 'ৃ', 'ত', 'র', 'া']],\n [['দ', 'ৃ', 'ষ', '্', 'ট', 'ি', 'গ', 'ু', 'ল', 'ো']],\n [['ক', 'া', 'র', 'ণ', 'ও']],\n [['ম', 'া', 'স', 'ু', 'দ', '্', 'দ', 'ু', 'জ', '্', 'জ', 'া', 'ম', 'া', 'ন']],\n [['ছ', 'া', 'ঁ', 'ট', 'া']],\n [['অ', '্', 'য', 'া', 'স', '্', 'ট', '্', 'র', 'ো', 'ক', 'ে']],\n [['প', 'র', 'ী', 'ক', '্', 'ষ', 'া', 'র', '্', 'থ', 'ী', 'ক', 'ে']],\n [['অ', '্', 'য', 'া', 'ন', '্', 'ট', 'ি', 'ক', 'ে', 'র']],\n [['ব', 'ে', 'ঙ', '্', 'গ', 'ল', 'ও']],\n [['ষ', 'ো', 'ল', 'ো', 'র']],\n [['স', 'ে', 'ব', 'ন']],\n [['ম', 'ু', 'খ', 'ে', 'ও']],\n [['র', 'ি', 'ক', 'শ', 'া', 'ট', 'া', 'ক', 'ে']],\n [['ব', '্', 'য', 'া', 'ন', '্', 'ড', 'গ', 'ু', 'ল', 'ি', 'র']],\n [['স', 'ৈ', 'য', '়', 'দ', 'প', 'ু', 'র']],\n [['ক', 'র', 'ি', 'স']],\n [['অ', 'জ', 'ু', 'হ', 'া', 'ত', 'ে']],\n [['এ', 'স', 'ট', 'ে', 'ক', '্', 'স']],\n [['গ', 'ণ', 'ে', 'শ', 'প', 'ু', 'জ', 'ো']],\n [['প', '্', 'র', 'য', '়', 'ো', 'গ', 'ও']],\n [['ব', 'ি', 'ক', '্', 'র', 'য', '়', 'ক', 'া', 'ল', 'ে']],\n [['ফ', 'া', 'ত', 'া', 'ও', 'আ']],\n [['ক', 'ৃ', 'ষ', 'ি', 'ত', 'ে']],\n [['অ', '্', 'য', 'া', 'ড', 'ে', 'ভ', 'ে', 'ঞ', '্', 'চ', 'া', 'র']],\n [['ও', 'ড', '়', 'া', 'ন', 'ো']],\n [['অ', 'য', 'া', 'চ', 'ি', 'ত']],\n [['ব', 'ি', 'ষ', 'য', '়', 'গ', 'ু', 'ল', 'ি']],\n [['উ', 'প', 'া', 'চ', 'া', 'র', '্', 'য', 'ক', 'ে']],\n [['স', 'ম', 'া', 'জ', 'ত', 'ন', '্', 'ত', '্', 'র', 'ে', 'র', 'ই']],\n [['ক', 'া', 'ল', 'ি', 'র', 'া', 'ঙ', '্', 'গ', 'া']],\n [['প', '্', 'র', 'া', 'ক', 'ৃ', 'ত', 'া', 'ন', 'ি']],\n [['চ', 'র', 'ণ', 'া', 'ব', '্', 'জ', 'য', '়', 'ো', 'ঃ']],\n [['ক', 'া', 'র', 'ে', 'ন', '্', 'ট', 'ব', 'া', 'হ', 'ী']],\n [['ন', 'া', 'ড', '়', 'ি', 'য', '়', 'ে']],\n [['দ', 'ে', 'খ', 'ব']],\n [['চ', 'া', 'ঁ', 'দ', 'া', 'ব', 'া', 'জ', 'ি']],\n [['ত', 'া', 'আ', 'ল', 'া', 'র']],\n [['শ', 'ী', 'র', '্', 'ষ', 'স', '্', 'থ', 'া', 'ন', 'ী', 'য', '়']],\n [['ব', 'স', 'ি']],\n [['ব', '্', 'য', 'ব', 'স', '্', 'থ', 'া', 'প', 'ক', 'ে']],\n [['গ', '্', 'র', 'হ', 'র', 'ত', '্', 'ন', 'া', 'দ', 'ি']],\n [['ক', 'ে', 'ষ', '্', 'ট', 'ব', 'ি', 'ষ', '্', 'ট', 'ু']],\n [['স', 'ু', 'ব', '্', 'র', 'হ', '্', 'ম', 'ণ', '্', 'য', 'ন', 'ই']],\n [['প', '্', 'র', 'স', '্', 'র', 'া', 'ব', 'ে', 'র']],\n [['উ',\n   'চ',\n   '্',\n   'চ',\n   'প',\n   '্',\n   'র',\n   'য',\n   'ু',\n   'ক',\n   '্',\n   'ত',\n   'ি',\n   'ন',\n   'ি',\n   'র',\n   '্',\n   'ভ',\n   'র']],\n [['ক', 'ে', 'ন', '্', 'দ', '্', 'র', 'গ', 'ু', 'ল', 'ি', 'ত', 'ে', 'ও']],\n [['চ', 'র', 'ি', 'ত', 'ৈ', 'র', '্', 'য', 'স', '্', 'য']],\n [['গ', 'ত', 'ক', 'া', 'ল', 'ও']],\n [['ত', 'ৃ', 'ণ', 'ভ', 'ূ', 'ম', 'ি', 'গ', 'ু', 'ল', 'ো', 'ত', 'ে']],\n [['অ', 'প', 'ে', 'ক', '্', 'ষ', 'ম', 'া', 'ন']],\n [['শ', 'ো', 'আ', 'র', 'া', 'র']],\n [['র', 'থ', 'ি', 'দ', 'ে', 'ব']],\n [['প', 'ূ', 'র', '্', 'ব', 'ব', 'র', '্', 'ত', 'ী', 'দ', 'ি', 'গ', 'ে', 'র']],\n [['প', 'র', 'ি', 'চ', 'য', '়', 'ে', 'র']],\n [['ক', 'ত', 'ক', 'ট', 'া']],\n [['ও', 'য', '়', 'া', 'ল', 'ি', 'য', '়', 'া', 'ত', 'ে']],\n [['ত', '্', 'র', 'য', '়', 'ো', 'দ', 'শ']],\n [['শ', 'ৃ', 'ঙ', '্', 'খ', 'ল', 'া', 'ট', 'া', 'ও']],\n [['স', '্', 'ব', 'া', 'স', '্', 'থ', '্', 'য', 'ং']],\n [['অ', 'ন', '্', 'ত', 'র', '্', 'ভ', 'ু', 'ক', '্', 'ত', 'স', 'হ']],\n [['আ', 'ও', 'ব', 'া']],\n [['প', '্', 'র', 'ত', 'ি', 'ব', 'দ', '্', 'ধ']],\n [['চ', 'ে', 'ন', 'য', 'ু', 'ক', '্', 'ত']],\n [['শ', 'ি', 'শ', 'ু', 'শ', 'ি', 'ল', '্', 'প', 'ী', 'দ', 'ে', 'র']],\n [['ই', 'ন', '্', 'ট', 'া', 'র', 'স', 'ে', 'ন', '্', 'ট', 'া', 'র']],\n [['প', '্', 'র', 'ত', 'ি', 'ষ', '্', 'ঠ', 'া', 'ন', 'ি']],\n [['স', '্', 'ম', 'ৃ', 'ত', 'ি', 'ব', 'ি', 'জ', 'ড', '়', 'ি', 'ত']],\n [['ম', 'র', 'ছ', 'ে']],\n [['ক', 'া', 'ও', 'য', '়', 'া', 'ব', 'া', 'ত', 'া']],\n [['এ', 'খ', 'ন', 'ি']],\n [['র', 'া', 'খ', 'ি', 'য', '়', 'া']],\n [['ঘ', 'ট', 'ন', 'া', 'স', '্', 'থ', 'ল', 'গ', 'ু', 'ল', 'ো', 'ত', 'ে']],\n [['জ', 'ো', 'ট', 'ভ', 'ঙ', '্', 'গ', 'ে', 'র']],\n [['শ', 'ো', 'ভ', 'া', 'য', 'া', 'ত', '্', 'র', 'া', 'য', '়']],\n [['আ', 'হ', 'া', 'চ', 'ে', 'ন', 'া']],\n [['ব', '্', 'র', 'া', 'ন', 'স', 'ন', 'স', 'হ']],\n [['অ',\n   '্',\n   'য',\n   'া',\n   'স',\n   'প',\n   '্',\n   'য',\n   'া',\n   'র',\n   'া',\n   'গ',\n   'া',\n   'স',\n   'ে',\n   'র']],\n [['স', '্', 'ম', 'ৃ', 'ত', 'ি', 'স', 'ৌ', 'ধ', 'ে']],\n [['ঢ', 'া', 'ক', 'া', 'স', 'হ']],\n [['ছ', 'ো', 'ঁ', 'য', '়', 'া', 'য', '়']],\n [['শ', 'ৃ', 'ঙ', '্', 'খ', 'ল', 'া', 'ভ', 'ঙ', '্', 'গ', 'ে']],\n [['প', 'ড', '়', 'া', 'শ', 'ো', 'ন', 'া']],\n [['ব', 'দ', 'র', 'ু', 'দ', '্', 'দ', 'ি', 'ন', 'ে', 'র']],\n [['ত', 'ু', 'ষ', '্', 'ট', 'া', 'ন', '্']],\n [['দ', 'ে', 'ব', 'ে', 'ন', '্', 'দ', '্', 'র', 'ে']],\n [['খ', '্', 'র', 'ি', 'ঃ']],\n [['ব',\n   'ি',\n   'দ',\n   '্',\n   'য',\n   'ু',\n   'ৎ',\n   'ক',\n   'ে',\n   'ন',\n   '্',\n   'দ',\n   '্',\n   'র',\n   'গ',\n   'ু',\n   'ল',\n   'ো',\n   'ও']],\n [['ক', 'া', 'ঠ', 'ব', 'ি', 'ড', '়', 'া', 'ল', 'ী', 'ক', 'ে']],\n [['ট', 'প', 'ো', 'স', 'ী', 'ট']],\n [['ট', '্', 'র', '্', 'য', 'া', 'ন', '্', 'স', 'ি', 'ট']],\n [['গ', 'ু', 'দ', 'া', 'ম', 'ে', 'র']],\n [['ব', 'া', 'স', '্', 'ত', 'ব', 'া', 'য', '়', 'ি', 'ত']],\n [['ই', 'ম', '্', 'প', 'ো', 'র', '্', 'ট', 'া', 'র', '্', 'স', 'দ', 'ে', 'র']],\n [['শ', 'ো', 'ন', 'া', 'ন', 'ো']],\n [['স', 'ং', 'শ', '্', 'ল', 'ি', 'ষ', '্', 'ট', 'ত', 'া']],\n [['অ',\n   '্',\n   'য',\n   'া',\n   'স',\n   'প',\n   '্',\n   'য',\n   'া',\n   'র',\n   'া',\n   'গ',\n   'া',\n   'স',\n   'ে',\n   'র']],\n [['ম', 'হ', 'া', 'জ', 'ো', 'ট', 'ব', 'ন', '্', 'ধ', 'ন', 'ে']],\n [['ন', 'ি', 'য', '়', 'ে', 'ছ', 'ে', 'ঃ']],\n [['অ', 'ন', 'ু', 'ভ', 'ূ', 'ত', 'ি', 'ত', 'ে']],\n [['অ', 'ভ', 'ি', 'ন', 'য', '়', 'ক', 'র', '্', 'ম', 'ে', 'র']],\n [['গ', 'ণ', 'ভ', 'ন', 'ে', 'র']],\n [['ক', 'ো', 'প', 'ে']],\n [['প', 'র', 'ী', 'ক', '্', 'ষ', 'া', 'র', '্', 'থ', 'ী']],\n [['প', '্', 'র', 'শ', 'ং', 'স', 'ন', 'ী', 'য', '়', 'ভ', 'া', 'ব', 'ে', 'ই']],\n [['ম', 'ী', 'র', 'জ', 'া', 'ন', 'ে', 'র']],\n [['ড', 'ি', 'র', 'ে', 'ক', '্', 'ট', 'র', 'র', 'া', 'ও']],\n [['প', 'ে', 'শ', 'া', 'জ', 'ী', 'ব', 'ি', 'দ', 'ে', 'র', 'ও']],\n [['শ', 'া', 'হ', 'া', 'জ', 'া', 'ঁ', 'হ', 'া']],\n [['প', '্', 'র', 'ত', 'ি', 'ক', '্', 'র', 'ি', 'য', '়', 'া', 'ক', 'ে', 'ই']],\n [['ব', 'র', 'া', 'ব', 'র', 'ে', 'র']],\n [['য', 'ো', 'গ', 'ি', 'ন', 'া']],\n [['প', 'ড', '়', 'ত', 'া', 'ম']],\n [['স', 'ি', 'ল', 'া', 'ই']],\n [['প', '্', 'র', 'ত', 'ি', 'ব', 'ছ', 'র', 'ই']],\n [['দ', 'ি', 'য', '়', 'া', 'র', 'া', 'ত', 'ে']],\n [['গ', 'া', 'ড', '়', 'ি', 'ট', 'া']],\n [['ব', 'ক', '্', 'স', 'গ', 'ু', 'ল', 'ো', 'র']],\n [['ক', 'ে', 'ল', 'ে', 'ঙ', '্', 'ক', 'া', 'র', 'ি', 'র']],\n [['ব', 'া', 'র', '্', 'ষ', 'ি', 'ক', 'ী', 'ত', 'ে']],\n [['দ', 'ে', 'শ', 'দ', '্', 'র', 'ো', 'হ', 'ী']],\n [['ব', 'ন', '্', 'দ', 'ু', 'ক', 'য', 'ু', 'দ', '্', 'ধ', 'ে', 'র']],\n [['ন', 'ি', 'প', 'ী', 'ড', '়', 'ন', 'ক', 'া', 'র', 'ী', 'র', 'া']],\n [['প', 'র', 'ী', 'ক', '্', 'ষ', 'া', 'র', '্', 'থ', 'ী']],\n [['গ', 'ো', 'প', 'া', 'ল', 'দ', 'া', 'র']],\n [['ট', 'া', 'ন', 'ছ', 'ে']],\n [['প',\n   '্',\n   'র',\n   'য',\n   'ু',\n   'ক',\n   '্',\n   'ত',\n   'ি',\n   'প',\n   '্',\n   'র',\n   'ত',\n   'ি',\n   'ষ',\n   '্',\n   'ঠ',\n   'া',\n   'ন',\n   'ে']],\n [['অ', 'র', '্', 'থ', 'ব', 'ছ', 'র', 'ই']],\n [['দ', '্', 'ব', 'ী', 'প', 'র', 'া', 'জ', '্', 'য']],\n [['গ', 'ব', 'ে', 'ষ', 'ণ', 'া', 'ক', 'া', 'র', 'ী', 'দ', 'ে', 'র']],\n [['প', '্', 'র', 'া', 'ম', 'গ', 'ু', 'ল', 'ো']],\n [['ম', 'া', 'ন', 'ু', 'ষ', 'ট', 'া', 'ক', 'ে']],\n [['স', 'ভ', 'া', 'ত']],\n [['ক', 'র', '্', 'ম', 'া', 'ধ', '্', 'য', 'ক', '্', 'ষ']],\n [['ভ', 'া', 'ল', 'ো', 'ব', 'া', 'স', 'ত', 'ে', 'ন']],\n [['ব', 'ট', 'ল', 'ব', '্', 'র', 'া', 'শ']],\n [['প', 'ূ', 'র', '্', 'ব', '্', 'ব', 'খ', 'ণ', '্', 'ড', 'ে']],\n [['প', 'থ', 'স', 'ভ', 'া']],\n [['ক',\n   'ো',\n   'য',\n   '়',\n   'া',\n   'র',\n   '্',\n   'ট',\n   'া',\n   'র',\n   'গ',\n   'ু',\n   'ল',\n   'ো',\n   'ত',\n   'ে']],\n [['র', 'া', 'ঙ', 'ি', 'য', '়', 'ে']],\n [['আ', 'জ', 'ল', 'ফ']],\n [['খ', 'া', 'ব', 'ি', 'খ', 'া']],\n [['ছ', 'ড', '়', 'া', 'ন', 'ো', 'র']],\n [['ক', 'ি', 'ন', 'ব', 'ে']],\n [['স', 'ন', '্', 'ত', 'া', 'ন', 'স', 'হ']],\n [['গ', 'ণ', 'ত', 'ন', '্', 'ত', '্', 'র', 'া', 'ভ', 'ি', 'ম', 'ু', 'খ', 'ী']],\n [['চ', 'ট', 'া', 'চ', 'ট']],\n [['ক', 'ো', 'র', 'া', 'ন', 'প', 'ন', '্', 'থ', 'ী', 'দ', 'ে', 'র']],\n [['ম', 'হ', 'া', 'ত', 'া', 'ব', 'প', 'ু', 'র', 'ে', 'র']],\n [['ছ', 'ু', 'ট', 'ল']],\n [['অ', 'ব', 'র', '্', 'ত', 'ম', 'া', 'ন', 'ে']],\n [['ন', 'ৃ', 'শ', 'ং', 'স', 'ত', 'া']],\n [['ক', '্', 'য', 'া', 'ন', 'ি', 'র']],\n [['র', 'ূ', 'প', 'ক', 'ল', '্', 'প']],\n [['ট', 'প', 'ন', 'ি', 'ক']],\n [['প', 'া', 'র', '্', 'থ', 'র']],\n [['এ', 'ই', 'ম', 'া', 'ত', '্', 'র']],\n [['আ', 'ই', 'ন', 'শ', 'ৃ', 'ং', 'খ', 'ল', 'া']],\n [['গ', 'া', 'ড', '়', 'ি', 'র']],\n [['ব',\n   '্',\n   'য',\n   'ব',\n   'হ',\n   'া',\n   'র',\n   'ক',\n   'া',\n   'র',\n   'ী',\n   'দ',\n   'ে',\n   'র',\n   'ক',\n   'ে',\n   'ও']],\n [['প', '্', 'য', 'া', 'ন', '্', 'ড', 'ে', 'ল', 'গ', 'ু', 'ল', 'ো', 'ত', 'ে']],\n [['ক', 'া', 'ট', 'া', 'ক', 'া', 'ট', 'ি', 'র']],\n [['প', 'া', 'র', 'া', 'প', 'া', 'র', 'ে']],\n [['ল', 'ও', 'র', 'া']],\n [['প', 'র', 'ি', 'ভ', 'া', 'ষ', 'া', 'য', '়']],\n [['অ', 'ব', 'স', '্', 'থ', 'া', 'য', '়', 'ই']],\n [['ত', 'া', 'শ', 'ে', 'ম']],\n [['ত', 'ত', '্', 'ব', 'ট', 'া']],\n [['দ',\n   'া',\n   'ঁ',\n   'ড',\n   '়',\n   'ি',\n   'য',\n   '়',\n   'া',\n   'প',\n   'া',\n   'ড',\n   '়',\n   'া',\n   'য',\n   '়']],\n [['দ', 'া', 'ফ', 'ন', 'ে', 'র']],\n [['ভ', 'ু', 'ম']],\n [['স', 'ন', '্', 'ত', 'ি', 'ষ', '্', 'ঠ', 'ম', 'া', 'ন', 'ে']],\n [['প', '্', 'য', 'া', 'ন', '্', 'ট', 'গ', 'ু', 'ল', 'ো', 'ত', 'ে']],\n [['য', 'ো', 'গ', 'দ', 'া', 'ন', 'ক', 'র', 'ী']],\n [['ছ', 'া', 'য', '়', 'া', 'ছ', 'ব', 'ি']],\n [['স', 'ম', '্', 'প', 'ূ', 'ণ', 'র', '্', 'ভ', 'া', 'ব', 'ে']],\n [['ব', 'া', 'র', 'ব', 'া', 'র', 'ো', 'স', 'ে', 'স']],\n [['ঝ', 'া', 'প', 'স', 'া']],\n [['দ', 'া', 'ও', 'য', '়', 'া', 'য', '়']],\n [['আ', 'ন', '্', 'ত', 'ন', 'ি', 'র', '্', 'ভ', 'র', 'শ', 'ী', 'ল', 'ত', 'া']],\n [['আ', 'স', 'ি', 'ত', 'ে']],\n [['স', 'ং', 'স', '্', 'থ', 'া', 'ন', 'হ', 'ী', 'ন']],\n [['ভ', '্', 'র', 'ম', 'ণ', 'ক', 'া', 'র', 'ী', 'দ', 'ে', 'র', 'ক', 'ে']],\n [['আ', 'ন', 'ল', 'ে', 'ন']],\n [['গ', 'ম', '্', 'য', 'ম', 'া', 'ন', '্', 'য']],\n [['ক', 'ৃ', 'ষ', 'ক', 'ল', 'ী', 'গ', 'ে', 'র']],\n [['অ', 'ন', 'ু', 'য', 'া', 'য', '়', 'ী']],\n [['প', '্', 'র', 'শ', '্', 'ন', 'ো', 'ত', '্', 'ত', 'র', 'ে', 'র']],\n [['ক', 'া', 'ত', 'র']],\n [['গ', '্', 'র', 'ে', 'ফ', 'ত', 'া', 'র', 'ে']],\n [['চ', 'ে', 'ঁ', 'চ', 'া', 'ম', 'ে', 'চ', 'ি']],\n [['র', 'া', 'খ', 'ছ', 'ি']],\n [['স', 'ৌ', 'ম', '্', 'য', 'শ', '্', 'চ']],\n [['ট', 'প', 'ক']],\n [['জ', 'ে', 'ল', 'খ', 'া', 'ন', 'া', 'য', '়']],\n [['ক', 'ে', 'ন', '্', 'দ', '্']],\n [['ফ', 'া', 'ন', '্', 'ড', 'ট', 'ি', 'র']],\n [['য', 'ু', 'দ', '্', 'ধ', 'ক', 'া', 'র', 'ী', 'দ', 'ে', 'র']],\n [['ঝ', 'া', 'ম', 'ে', 'ল', 'া', 'র']],\n [['ত', 'া', 'ক', 'া', 'ত', 'ে', 'ই']],\n [['ম', 'শ', 'ক']],\n [['ট', 'ি', 'ত', 'ে', 'ই']],\n [['ব', 'ি', 'শ', 'ি', 'ষ', '্', 'ঠ', 'দ', 'ে', 'র']],\n [['ব', 'হ', 'ু', 'দ', 'ূ', 'র']],\n [['চ', 'ল', 'া', 'চ', 'ল', 'ে']],\n [['ক', 'া', 'ঠ', 'ব', 'ি', 'ড', '়', 'া', 'ল', 'ী', 'ক', 'ে']],\n [['ই', 'ল', 'ে', 'ক', 'ট', '্', 'র', '্', 'র', 'ন', 'ি', 'ক']],\n [['গ', 'ৌ', 'র', 'ব', 'ম', 'য', '়']],\n [['হ', 'া', 'ঁ', 'ফ']],\n [['স', '্', 'ম', 'র', 'ণ', 'ী', 'য', '়']],\n [['ম', 'া', 'র', '্', 'ক', 'ে', 'ট', 'গ', 'ু', 'ল', 'ো', 'ত', 'ে']],\n [['চ', 'ন', '্', 'দ', '্']],\n [['প',\n   '্',\n   'র',\n   'ত',\n   'ি',\n   'য',\n   'ো',\n   'গ',\n   'ি',\n   'ত',\n   'া',\n   'গ',\n   'ু',\n   'ল',\n   'ি',\n   'ক',\n   'ে']],\n [['স', 'া', 'র', 'া', 'ভ', 'ন']],\n [['গ', 'র', '্', 'জ', 'ন', 'ই']],\n [['স', 'া', 'ক', '্', 'ষ', 'া', 'ৎ', 'ক', 'া', 'র', 'ী', 'র', 'া']],\n [['ভ', 'া', 'ষ', 'া', 'ত', 'া', 'ত', '্', 'ত', '্', 'ব', 'ি', 'ক', 'ও']],\n [['স', 'হ', 'ি', 'ং', 'স', 'ত', 'া', 'য', '়']],\n [['ধ', 'র', '্', 'ম', 'ী', 'য', '়', 'দ', 'ে', 'র', 'ক', 'ে']],\n [['উ',\n   'চ',\n   '্',\n   'চ',\n   'শ',\n   'ি',\n   'ক',\n   '্',\n   'ষ',\n   'া',\n   'ম',\n   'ন',\n   '্',\n   'ত',\n   '্',\n   'র',\n   'ী']],\n [['প',\n   '্',\n   'র',\n   'ত',\n   'ি',\n   'ষ',\n   '্',\n   'ঠ',\n   'া',\n   'ন',\n   'গ',\n   'ু',\n   'ল',\n   'া',\n   'ক',\n   'ে']],\n [['র', 'া', 'ম', 'ভ', 'ক', '্', 'ত', 'ি', 'ক', 'ে']],\n [['ব', 'ৃ', 'হ', 'স', '্', 'প', 'ত', 'ি', 'ব', 'া', 'র', 'ই']],\n [['ত', 'থ', '্', 'য', 'প', '্', 'র', 'য', 'ু', 'ক', '্', 'ত', 'ি', 'ক', 'ে']],\n [['ল', 'ক', '্', 'ষ', 'ণ', 'ী', 'য', '়']],\n [['দ', 'ে', 'খ', 'ি', 'ল']],\n [['জ', 'া', 'ন', 'া', 'গ', 'ে', 'ছ', 'ে']],\n [['ব', '্', 'র', '্', 'য', 'া', 'ন', '্', 'ড', 'গ', 'ু', 'ল', 'ো', 'ক', 'ে']],\n [['ম', 'া', 'ম', 'া', 'ত', 'ো']],\n [['স', '্', 'ব', 'ল', '্', 'প', 'ো', 'ন', '্', 'ন', 'ত']],\n [['ঝ', 'ল', 'ক', 'া', 'ন', 'ি']],\n [['চ', 'া', 'ই', 'ল', 'া', 'ম']],\n [['শ', '্', 'ল', 'ী', 'ল', 'ত', 'া', 'হ', 'া', 'ন', 'ি']],\n [['আ', 'ধ', 'ি', 'ক', 'া', 'র', 'ি', 'ক', 'ক', 'ে']],\n [['ম', 'ু', 'ক', 'া', 'দ', 'স']],\n [['ত', 'র', 'ু', 'ণ', 'প', 'ু', 'র', 'ু', 'প', '্', 'র', 'ত', 'ি', 'ম', 'া']],\n [['গ', 'া', 'ঁ', 'জ', 'া', 'খ', 'ো', 'র', 'গ', 'ু', 'ল', 'ো', 'র']],\n [['প', 'র', 'ি', 'চ', '্', 'ছ', 'ে', 'দ']],\n [['গ', 'জ', 'ি', 'য', '়', 'ে']],\n [['গ', 'র', 'ফ', 'া']],\n [['এ', 'ত', 'ক', '্', 'ষ', 'ণ']],\n [['ল', 'ি', 'ঃ']],\n [['অ', 'ভ', 'ি', 'য', 'ো', 'গ', 'ট', 'ি']],\n [['প', '্', 'র', 'ে', 'ত', 'ঘ', 'ট', 'ং']],\n [['ঘ', 'ু', 'ম', 'া', 'র', 'ে']],\n [['আ', 'ই', 'ন', 'ট', 'ি', 'র']],\n [['ফ', 'ু', 'ট', 'ছ', 'ে']],\n [['চ', 'ু', 'র', 'ো', 'য', '়']],\n [['র',\n   'ব',\n   'ী',\n   'ন',\n   '্',\n   'দ',\n   '্',\n   'র',\n   'ন',\n   'া',\n   'থ',\n   'ব',\n   'া',\n   'ব',\n   'ু',\n   'র',\n   'া']],\n [['স', 'ু', 'ব', 'ি', 'ধ', 'া', 'ব', 'ঞ', '্', 'চ', 'ি', 'ত']],\n [['অ', '্', 'য', 'া', 'স', '্', 'ট', '্', 'র', 'ো', 'ক', 'ে']],\n [['প', '্', 'র', 'ত', 'ি', 'ষ', '্', 'ঠ', 'া', 'গ', 'ু', 'ল', 'ো', 'র']],\n [['ব', 'া', 'চ', '্', 'চ', 'া', 'ট', 'া']],\n [['ব', 'ি', 'শ', '্', 'ব', 'জ', 'ু', 'ড', '়', 'ে']],\n [['ব', 'ি', 'ত', 'র', 'ণ', 'ে']],\n [['স', 'ফ', 'ট', '্', 'অ', 'য', '়', '্', 'য', 'া', 'র']],\n [['ঘ', 'ু', 'র', 'প', 'া', 'ক']],\n [['ন', 'ৌ', 'ম', 'ন', '্', 'ত', '্', 'র', 'ী']],\n [['ল', 'ি', 'ঙ', '্', 'ক', 'ম', '্', 'য', 'া', 'ন', 'দ', 'ে', 'র']],\n [['প', 'া', 'র', 'ছ', 'ে', 'ন', 'া']],\n [['ন', 'ব', 'া', 'ব', 'গ', 'ো']],\n [['ন', 'ে', 'ত', 'া', 'ক', 'র', '্', 'ম', 'ী', 'স', 'হ']],\n [['দ', '্', 'ব', 'ি', 'ধ', 'া', 'য', '়']],\n [['ক', 'ি', 'ন', 'ল', 'ে', 'ন']],\n [['উ', 'ভ', 'য', '়', 'প', 'ক', '্', 'ষ', 'ে', 'র']],\n [['ছ', 'া', 'ত', '্', 'র', 'ক', 'ল', '্', 'য', 'া', 'ন', 'ে', 'র']],\n [['অ', 'স', 'া', 'ং', 'ব', 'ি', 'ধ', 'া', 'ন', 'ি', 'ক']],\n [['হ', 'ত', 'ভ', 'া', 'গ', 'া', 'গ', 'ু', 'ল', 'ো', 'ক', 'ে']],\n [['ক', 'ি', 'প', 'া', 'র', 'ও']],\n [['ক', 'ু', 'ন', '্', 'দ', 'ন', 'ন', '্', 'দ', 'ি', 'ন', 'ী']],\n [['অ', 'ট', 'ো', 'চ', 'া', 'ল', 'ক']],\n [['গ', 'া', 'ঁ', 'য', '়', 'ে', 'র']],\n [['গ', 'ো', 'য', '়', 'া', 'ল', 'ি', 'ন', 'ি', 'র']],\n [['আ', 'ল', 'া', 'ই', 'হ', 'ি', 'স']],\n [['ক', 'শ', 'ি', 'প', 'ৌ']],\n [['আ', 'ট', 'জ', 'ন', 'ে', 'র']],\n [['ব', 'ড', '়', 'ন', 'ু', 'ন', 'া', 'র', 'ব', 'ি', 'ল']],\n [['প', '্', 'র', 'শ', 'ং', 'স', 'ন', 'ী', 'য', '়']],\n [['ত', 'া', 'ন', 'জ', 'ু', 'র', 'ু', 'ন', 'ে', 'র']],\n [['প', 'ে', 'ট', 'া', 'ন', 'ো', 'র']],\n [['ম', 'ু', 'হ', 'ূ', 'র', '্', 'ত', 'গ', 'ু', 'ল', 'ি']],\n [['আ', 'ন', 'ব']],\n [['এ', 'ক', 'ট', 'ি', 'ও']],\n [['ক', 'র', '্', 'ম', 'প', 'র', 'ি', 'ব', 'ে', 'শ']],\n [['য', 'থ', 'ে', 'ষ', '্', 'ঠ']],\n [['গ', '্', 'র', 'ে', 'ফ', 'ত', 'া', 'র', 'ে']],\n [['ধ', 'ে', 'য', '়', 'ে']],\n [['প',\n   '্',\n   'র',\n   'ত',\n   'ি',\n   'য',\n   'ো',\n   'গ',\n   'ি',\n   'ত',\n   'া',\n   'গ',\n   'ু',\n   'ল',\n   'ি',\n   'ত',\n   'ে',\n   'ও']],\n [['গ', 'ত', 'ব', 'া', 'র']],\n [['ড', 'া', 'ক', 'া', 'ত', 'দ', 'ল']],\n [['অ', 'প', 'ম', 'া', 'ন', 'ে']],\n [['ম',\n   'ন',\n   'ো',\n   'ন',\n   'য',\n   '়',\n   'ন',\n   'প',\n   '্',\n   'র',\n   'ত',\n   '্',\n   'য',\n   'া',\n   'শ',\n   'ী']],\n [['ল', 'ো', 'ক', 'র', 'া']],\n [['ম', 'ি', 'ত', '্', 'র', 'শ', 'ক', '্', 'ত', 'ি', 'গ', 'ু', 'ল', 'ি', 'র']],\n [['স', 'া', 'ক', '্', 'ষ', 'া', 'ৎ', 'ক', 'া', 'র', 'ী', 'র', 'া']],\n [['ত', 'ু', 'র', '্', 'ক', 'ী', 'দ', 'ে', 'র', 'ক', 'ে']],\n [['জ', 'া', 'য', '়', 'গ', 'া', 'ট', 'ি']],\n [['দ', 'ু', 'র', '্', 'ঘ', 'ট', 'ন', 'া', 'গ', 'ু', 'ল', 'ো', 'ক', 'ে']],\n [['ফ', 'া', 'ত', 'া', 'ও', 'আ']],\n [['দ', 'ে', 'শ', 'গ', 'ু', 'ল', 'ো', 'ক', 'ে']],\n [['অ', 'ভ', 'ি', 'য', 'ু', 'ক', '্', 'ত', 'র', 'া']],\n [['ই', 'ভ', 'া', 'ন', 'হ', 'ু']],\n [['ভ', 'া', 'ব', 'া', 'ই']],\n [['গ', 'র', 'ফ', 'া']],\n [['খ', 'া', 'ল', 'ট', 'ি']],\n [['স', 'া', 'হ', 'ি', 'ত', '্', 'য', 'চ', 'র', '্', 'চ', 'া', 'ত', 'ে', 'ও']],\n [['চ', 'ে', 'ত', 'ন', 'া', 'য', '়']],\n [['শ', 'ন', 'ি', 'ত', 'ে']],\n [['ব', '্', 'য', 'ক', '্', 'ত', 'ি', 'ন', 'ি', 'ষ', '্', 'ঠ']],\n [['দ', 'ু', 'র', '্', 'ব', 'ৃ', 'ত', '্', 'ত', 'ম', 'ূ', 'ল', 'ক']],\n [['দ', 'া', 'য', '়', 'ব', 'দ', '্', 'ধ']],\n [['ব', '্', 'য', 'া', 'খ', '্', 'য', 'া', 'য', '়']],\n [['হ', 'ল', 'ফ', 'ন', 'া', 'ম', 'া']],\n [['প', '্', 'র', 'া', 'ম', 'া', 'ণ', 'ি', 'ত']],\n [['ম', 'ন', '্', 'ত', '্', 'র', 'গ', 'ু', 'ল', 'ো', 'ত', 'ে']],\n [['ই', 'উ', 'ক', 'ি', 'ম', 'ি', 'ড', 'ি', 'য', '়', 'া']],\n [['প', 'র', 'ক', 'ী', 'য', '়', 'া', 'র']],\n [['ঘ', 'ু', 'ষ', 'ি']],\n [['গ', 'ো', 'ব', 'ি', 'ন', '্', 'দ', 'ন', 'গ', 'র', 'ে', 'র']],\n [['ত', 'ু', 'ল', 'ব']],\n [['প', 'ু', 'ষ', 'ি', 'য', '়', 'ে']],\n [['স',\n   '্',\n   'ত',\n   '্',\n   'র',\n   'ী',\n   'ল',\n   'ো',\n   'ক',\n   'ম',\n   'া',\n   'ত',\n   '্',\n   'র',\n   'ে',\n   'ই']],\n [['থ', 'া', 'ম', 'ছ', 'ে']],\n [['অ', 'দ', '্', 'ভ', 'ু', 'ত', 'ু', 'ড', '়', 'ে']],\n [['স', 'ু', 'প', 'া', 'র', 'হ', '্', 'য', 'া', 'ব', 'ি', 'ট', 'ে', 'ব', 'ল']],\n [['ম', 'ন', '্', 'ত', 'ব', '্', 'য', 'স', 'ম', 'ু', 'হ']],\n [['উ', 'প', 'ক', 'ম', 'ি', 'শ', 'ন', 'া', 'র']],\n [['য', 'ন', '্', 'ত', '্', 'র', 'ণ', 'া', 'র']],\n [['খ', 'শ', 'ব', 'ে']],\n [['ব', 'ট', 'া', 'ঁ', 'ট', 'ি']],\n [['প', '্', 'র', 'ি', 'ট', 'া', 'র', 'ি', 'য', '়', 'া']],\n [['স', 'ং', 'ব', 'া', 'দ', 'ম', 'া', 'ধ', '্', 'য', 'ম', 'ক', 'ে', 'ই']],\n [['ঘ', 'ে', 'র', 'া', 'ও', 'স', 'হ']],\n [['স', 'া', 'ন', '্', 'ধ', '্', 'য']],\n [['ভ', 'ে', 'ত', 'র', 'ে', 'ত', 'ো']],\n [['ক', 'ৃ', 'ষ', '্', 'ণ', 'ম', 'ন', '্', 'ত', '্', 'র', 'ী']],\n [['ব', '্', 'র', 'ো', 'ন', 'ম', 'ি', 'ক', '্', 'স', 'ড']],\n [['হ', 'ই', 'ত', 'ে', 'ই']],\n [['অ', 'শ', 'া', 'ল', 'ী', 'ন']],\n [['ব', 'ি', 'ষ', 'া', 'ক', '্', 'ত', 'প', '্', 'র', 'া', 'ণ', 'ী']],\n [['উ',\n   'চ',\n   '্',\n   'চ',\n   'শ',\n   'ি',\n   'ক',\n   '্',\n   'ষ',\n   'া',\n   'ব',\n   '্',\n   'য',\n   'ব',\n   'স',\n   '্',\n   'থ',\n   'া']],\n [['গ', 'া', 'ড', '়', 'ি', 'ব', 'হ', 'র', 'ে']],\n [['এ', 'ত', 'দ', 'ি', 'ন', 'ে', 'র']],\n [['শ', 'ো', 'ভ', 'া', 'য', 'া', 'ত', '্', 'র', 'া', 'ট', 'ি']],\n [['প', 'া', 'র', 'ব', 'ি']],\n [['প', '্', 'র', 'য', 'ু', 'ক', '্', 'ত', 'ি', 'ট', 'ি', 'ত', 'ে']],\n [['ঐ', 'ক', '্', 'য', 'ফ', '্', 'র', 'ন', '্', 'ট']],\n [['অ', 'ন', 'ু', 'য', '়', 'া', 'য', '়', 'ী']],\n [['ম', 'া', 'ত', '্']],\n [['দ', '্', 'ব', 'ি', 'শ', '্', 'ব', 'স', 'ন']],\n [['ত', 'ি', 'ল', 'ে']],\n [['ন', '্', 'য', 'া', 'শ', 'ন', 'া', 'ল', 'ে', 'ও']],\n [['ক', 'া', 'ব', 'জ', 'া', 'ব']],\n [['ম', 'ি', 'ল', 'ন', 'া', 'য', '়', 'ত', 'ন']],\n [['গ', 'ো', 'প', 'ন', 'ী', 'য', '়', 'ত', 'া']],\n [['প', '্', 'র', 'ে', 'ম', 'ে', 'ন', '্', 'দ', '্', 'র', 'ব', 'া', 'ব', 'ু']],\n [['উ', 'প', 'দ', '্', 'র', 'ব']],\n [['ত', 'া', 'ত', 'া', 'র', 'র', 'ু', 'স']],\n [['ক', 'ে', 'ড', 'ব', '্', 'ল', 'ু', 'এ']],\n [['প', '্', 'র', 'ব', 'া', 'ল', 'প', '্', 'র', 'া', 'চ', 'ী', 'র']],\n [['স', 'র', '্', 'ব', 'জ', 'ন', 'প', 'া', 'ঠ', '্', 'য', 'ে', 'র']],\n [['ত', 'ো', 'র', 'ল']],\n [['ক', '্', 'ষ', 'ি', 'ত', 'ী', 'শ', 'চ', 'ন', '্', 'দ', '্', 'র']],\n [['ন', 'া', 'ট', 'ো', 'র', 'র']],\n [['জ', 'ন', 'ে', 'র', 'ই']],\n [['এ', 'ন', 'জ', 'ি', 'ও', 'ক', 'র', '্', 'ম', 'ী', 'র', 'া', 'ও']],\n [['ধ', 'া', 'র', 'া', 'ব', 'া', 'হ', 'ি', 'ক', 'ত', 'া', 'য', '়']],\n [['জ', 'ন', 'ক', 'ে', 'ই']],\n [['স', '্', 'প', 'ো', 'র', '্', 'ট', 'ি', 'য', '়', 'া', 'র']],\n [['ভ', 'ু', 'ল', 'ি', 'য', '়', 'ে']],\n [['আ', 'ট', 'ট', 'া', 'র']],\n [['ব', 'ধ', 'ূ', 'র']],\n [['ত', 'ো', 'র', 'ি', 'জ', 'ো']],\n [['স', 'ম', '্', 'প', 'ূ', 'র', '্', 'ণ', 'ম', 'ু', 'ক', '্', 'ত']],\n [['ক', 'ৌ', 'ত', 'ূ', 'হ', 'ল', 'ী']],\n [['অ', 'ন', '্', 'য', 'দ', 'ল', 'গ', 'ু', 'ল', 'ি', 'র']],\n [['অ', 'র', '্', 'থ', 'হ', 'ল', 'ো']],\n [['অ', 'ভ', 'ি', 'ন', 'য', '়', 'শ', 'ি', 'ল', '্', 'প', 'ী']],\n [['স', 'ন', '্', 'ত', '্', 'র', 'া', 'স', 'ী', 'র', 'া']],\n [['ন', 'ক', 'শ', 'া', 'য', '়']],\n [['চ', 'া', 'ঙ', '্', 'গ', 'া']],\n [['উ', 'ভ', 'য', '়', 'প', 'ক', '্', 'ষ', 'ে', 'র']],\n [['উ', 'চ', '্', 'চ', 'ব', 'ি', 'দ', '্', 'য', 'া', 'ল', 'য', '়']],\n [['স', 'ম', 'া', 'ব', 'ে', 'শ', 'স', '্', 'থ']],\n [['ব', '্', 'য', 'ব', 'স', '্', 'থ', 'া', 'প', 'ন', 'া', 'য', '়']],\n [['চ', 'ৌ', 'ও']],\n [['ও', 'য', '়', 'া', 'র', '্', 'ড', 'গ', 'ু', 'ল', 'ি', 'ত', 'ে', 'ও']],\n [['অ', '্', 'য', 'া', 'ন', '্', 'ট', 'ে', 'র']],\n [['ক', 'ম', '্', 'প', 'ন', 'জ', 'া', 'ত']],\n [['ত', 'থ', '্', 'য', 'ম', 'ন', '্', 'ত', '্', 'র', 'ী']],\n [['স', 'ম', '্', 'প', 'ূ', 'ণ', 'র', '্', 'ভ', 'া', 'ব', 'ে']],\n [['এ', 'ক', '্', 'স', 'প', '্', 'র', 'ে', 'স', 'গ', 'ু', 'ল', 'ি', 'ত', 'ে']],\n [['দ', 'ে', 'খ', 'া', 'চ', '্', 'ছ', 'ি', 'ল']],\n [['আ', 'চ', 'ম', 'ক', 'া', 'ই']],\n [['স', 'ৈ', 'য', '়', 'দ', 'প', 'ু', 'র']],\n [['ব', '্', 'য', 'ভ', 'ি', 'চ', 'া', 'র']],\n [['ঝ', 'ল', 'ম', 'ল']],\n [['প', 'ি', 'ষ', 'ে']],\n [['গ', 'র', '্', 'ভ', 'া', 'ব', 'স', '্', 'থ', 'া', 'য', '়']],\n [['য', 'ু', 'ক', '্', 'ত', 'ি', 'ব', 'ু', 'দ', '্', 'ধ', 'ি']],\n [['গ', 'ল', '্', 'প', 'ই']],\n [['প',\n   '্',\n   'র',\n   'ত',\n   'ি',\n   'ন',\n   'ি',\n   'ধ',\n   'ি',\n   'ত',\n   '্',\n   'ব',\n   'ক',\n   'া',\n   'র',\n   'ী',\n   'দ',\n   'ে',\n   'র']],\n [['ম', 'ধ', '্', 'য', 'ম', 'গ', '্', 'র', 'া', 'ম', 'ে', 'র', 'ই']],\n [['গ', 'ণ', 'প', 'র', 'ি', 'ব', 'হ', 'ন', 'ে']],\n [['ভ', 'ী', 'ম', 'া', 'র', '্', 'জ', 'ু', 'ন', 'ক', 'ে']],\n [['চ',\n   'ি',\n   'র',\n   'প',\n   '্',\n   'র',\n   'ত',\n   'ি',\n   'দ',\n   '্',\n   'ব',\n   'ন',\n   '্',\n   'দ',\n   '্',\n   'ব',\n   'ী']],\n [['ন', 'া', 'ত', 'ন', 'ি']],\n [['প', '্', 'র', 'া', 'প', '্', 'ত', 'ি', 'গ', 'ু', 'ল', 'ো', 'র']],\n [['অ', 'র', '্', 'ড', 'া', 'র', 'গ', 'ু', 'ল', 'ো', 'ত', 'ে']],\n [['ড', 'ি', 'উ', 'ট']],\n [['শ', 'ু', 'ন', 'া', 'ন', 'ি', 'র']],\n [['ম', 'া', 'র', 'ফ', 'ু', 'ভ', 'া', 'ব', 'ে']],\n [['প', 'র', 'ি', 'দ', 'র', '্', 'শ', 'ন', 'স', 'হ']],\n [['য', 'ো', 'গ', 'া', 'য', '়']],\n [['শ', 'ব', '্', 'দ', 'ব', 'া', 'জ', 'ি']],\n [['ম', 'ু', 'ক', '্', 'ত', 'প', 'া', 'খ', 'ি']],\n [['গ', 'ছ', 'ে']],\n [['জ', 'া', 'ন', 'ি', 'য', '়', 'ে', 'ছ', 'ি']],\n [['শ', 'া', 'শ', 'ু', 'ড', '়', 'ি', 'ক', 'ে']],\n [['প', '্', 'র', 'য', '়', 'ো', 'জ', 'ন', 'ী', 'য', '়', 'ত', 'া', 'র']],\n [['শ', 'ি', 'ক', '্', 'ষ', 'া', 'প', '্', 'র', 'চ', 'া', 'র', 'ে', 'র']],\n [['এ',\n   'ক',\n   '্',\n   'স',\n   'প',\n   '্',\n   'র',\n   'ে',\n   'শ',\n   'ন',\n   'গ',\n   'ু',\n   'ল',\n   'ো',\n   'ক',\n   'ে']],\n [['প',\n   '্',\n   'র',\n   'ত',\n   'ি',\n   'ব',\n   'া',\n   'দ',\n   'ক',\n   'া',\n   'র',\n   'ী',\n   'দ',\n   'ে',\n   'র',\n   'ই']],\n [['ক', 'া', 'ঁ', 'ক', 'ু', 'ড', '়', 'ি', 'য', '়', 'া', 'য', '়']],\n [['জ', '্', 'ব', 'ল', 'জ', '্', 'ব', 'ল']],\n [['দ', 'ে', 'শ', 'ত']],\n [['হ', 'া', 'স', 'প', 'া', 'ত', 'া', 'ল', 'গ', 'ু', 'ল', 'ো', 'ত', 'ে']],\n [['প', '্', 'র', 'ব', 'ৃ', 'ত', '্', 'ত', 'ি', 'গ', 'ু', 'ল', 'ি', 'ক', 'ে']],\n [['স', '্', 'থ', 'ল', 'া', 'ভ', 'ি', 'ষ', 'ি', 'ক', '্', 'ত']],\n [['ক', 'া', 'ন', 'া', 'ড', '়', 'া', 'ত', 'ে']],\n [['য', 'া', 'ব', 'দ', 'প', 'ু', 'র', 'ে', 'র']],\n [['ন', 'ৌ', 'স', 'ে', 'ন', 'া']],\n [['গ', 'ত', 'র', 'া', 'ত', 'ে']],\n [['প', '্', 'র', 'য', 'ু', 'ক', '্', 'ত', 'ি', 'স', 'ম', 'ূ', 'হ']],\n [['উ', 'প', 'জ', 'ে', 'ল', 'া', 'প', 'র', '্', 'য', 'া', 'য', '়', 'ে', 'র']],\n [['ক', 'া', 'প', 'ড', '়', 'ে', 'ই']],\n [['ধ', 'র', '্', 'ম', 'প', '্', 'র', 'ব', 'র', '্', 'ত', 'ন', 'ে', 'র']],\n [['ধ', 'া', 'ল', 'ি', 'ও', 'য', '়', 'া', 'ল', 'ে', 'র']],\n [['ব', 'ি', 'শ', 'ে', 'ষ', 'জ', '্', 'ঞ', 'জ', 'ন', 'র', 'া']],\n [['স', 'র', 'ক', 'া', 'র', 'দ', 'ল', 'ী', 'য', '়']],\n [['ন', 'া', 'ও', 'ড', 'ো', 'র']],\n [['ধ', 'ী', 'ম', 'ল']],\n [['ও', 'ল', 'ফ', '্']],\n [['ব', 'া', 'হ', 'ি', 'ন', 'ী', 'গ', 'ু', 'ল', 'ো', 'ক', 'ে']],\n [['শ', 'ু', 'ন', 'ল', 'া', 'ম']],\n [['ম', 'ি', 'ন', 'ি', 'স', '্', 'ট', 'া', 'র', 'দ', 'ে', 'র']],\n [['ব', '্', 'য', 'ব', 'স', '্', 'থ', 'া', 'গ', 'ু', 'ল', 'ি']],\n [['ক', 'ে', 'ন', '্', 'দ', '্', 'র', 'স', 'ং', 'ল', 'গ', '্', 'ন']],\n [['ন', 'ব', 'জ', 'া', 'ত', 'ক', 'ক', 'ে']],\n [['প', '্', 'র', 'া', 'স', 'া', 'র', '্', 'ন', 'ে', 'র']],\n [['ন', 'ি', 'র', '্', 'ব', 'া', 'স', 'ী', 'দ', 'ে', 'র']],\n [['শ', 'ু', 'ত', 'ে']],\n [['প', 'ড', '়', 'ু', 'য', '়', 'া', 'ক', 'ে']],\n [['ক', 'র', '্', 'ম', 'স', 'ূ', 'চ', 'ী', 'গ', 'ু', 'ল', 'ো', 'ত', 'ে']],\n [['উ', 'ঝ', 'ে', 'ন']],\n [['য', 'ু', 'ক', '্', 'ত', 'ি', 'প', 'ূ', 'র', '্', 'ণ', 'ভ', 'া', 'ব', 'ে']],\n [['জ', 'ী', 'ব', 'স', 'ম', 'ূ', 'হ']],\n [['হ', 'ু', 'ঁ', 'শ']],\n [['ন', 'ি', 'শ', '্', 'চ', 'য', '়', 'ত', 'া']],\n [['ত', 'া', 'য', '়']],\n [['ব', 'া', 'ে', 'ন']],\n [['ন', 'ু', 'য', '়', 'ে']],\n [['স', 'খ', '্', 'য', 'ত', 'া']],\n [['ম', '্', 'য', 'া', 'ট', '্', 'র', 'ি', 'ক', '্', 'স', 'গ', 'ু', 'ল', 'ি']],\n [['ব', '্', 'য', 'ক', '্', 'ত', 'ি', 'ন', 'ি', 'ষ', '্', 'ঠ']],\n [['য', 'ৌ', 'ত', 'ু', 'ক', 'ে', 'র']],\n [['ব', 'ি', 'ষ', '্', 'ণ', 'ু', 'প', '্', 'র', 'ি', 'য', '়', 'া', 'ক', 'ে']],\n [['স', 'ী', 'র', 'ি', 'ন']],\n [['ব', 'র', '্', 'গ', 'ক', '্', 'ষ', 'ে', 'ত', '্', 'র', 'ক', 'া', 'র']],\n [['দ', 'ু', 'প', 'ু', 'র', 'ে', 'ই']],\n [['দ', 'ে', 'খ', 'া', 'ল', 'ো']],\n [['হ', 'র', 'শ', 'ঙ', '্', 'ক', 'র', 'ক', 'ে']],\n [['চ', 'া', 'ই', 'ল', 'ো']],\n [['র', 'া', 'ম', 'ে', 'ল', 'ি']],\n [['ক',\n   'ো',\n   'য',\n   '়',\n   'া',\n   'র',\n   '্',\n   'ট',\n   'া',\n   'র',\n   'গ',\n   'ু',\n   'ল',\n   'ো',\n   'ত',\n   'ে']],\n [['গ', '্', 'র', 'ি', 'ফ', 'ি', 'ন', '্', 'ড', 'া', 'র', 'দ', 'ে', 'র']],\n [['ক', 'র', 'া', 'ল', 'ব', 'দ', 'ন', 'া']],\n [['স', '্', 'ব', 'চ', 'ক', '্', 'ষ', 'ে']],\n [['ব', 'ই', 'ম', 'ে', 'ল', 'া', 'য', '়']],\n [['চ', 'ি', 'ত', '্', 'র', 'ক', 'ল', '্', 'প', 'গ', 'ু', 'ল', 'ি']],\n [['ছ', 'ে', 'ঁ', 'ক', 'ে']],\n [['ঝ', 'গ', 'ড', '়', 'া', 'ত', 'ে', 'ই']],\n [['ক', 'া', 'র', 'ে', 'ন', '্', 'ট', 'ব', 'া', 'হ', 'ী']],\n [['প', '্', 'র', 'ফ', 'ে', 'শ', 'ন', 'ক', 'ে']],\n [['প', 'ো', 'হ', 'া', 'ল', 'ে', 'ই']],\n [['প', '্', 'র', 'ফ', 'ে', 'শ', 'ন', 'ক', 'ে']],\n [['স', '্', 'ক', 'ু', 'ল', 'ে', 'জ', 'ে', 'র']],\n [['স', 'ম', '্', 'প', 'র', '্', 'ক', 'ও']],\n [['অ',\n   'প',\n   '্',\n   'র',\n   'ত',\n   'ি',\n   'য',\n   'ো',\n   'গ',\n   'ি',\n   'ত',\n   'া',\n   'ম',\n   'ূ',\n   'ল',\n   'ক']],\n [['চ', 'া', 'ল', 'ক', 'ক', 'ে']],\n [['দ', 'র', 'ি', 'চ', 'া', 'র']],\n [['ব', 'ু', 'ন', 'ড', 'ে', 'স', 'র', 'া', 'ট']],\n [['ন', 'ি', 'জ', 'ে', 'র', 'ফ', 'ো', 'ন', 'ে']],\n [['শ', 'ি', 'ক', '্', 'ষ', 'া', 'গ', 'ু', 'ল', 'ি', 'র']],\n [['স', 'ম', 'য', '়', 'স', 'ী', 'ম', 'া', 'র']],\n [['স', 'ং', 'গ', 'ঠ', 'ন', 'গ', 'ু', 'ল', 'ি', 'ত', 'ে']],\n [['প',\n   '্',\n   'র',\n   'ত',\n   'ি',\n   'ষ',\n   '্',\n   'ঠ',\n   'া',\n   'ন',\n   'স',\n   'ং',\n   'ক',\n   '্',\n   'র',\n   'া',\n   'ন',\n   '্',\n   'ত']],\n [['স', 'ং', 'স', 'দ', 'ী', 'য', '়']],\n [['প', '্', 'র', 'থ', 'ম', 'া', 'র', '্', 'ধ', 'ে', 'র']],\n [['ব', '্', 'য', 'া', 'য', '়', 'া', 'ম']],\n [['র', 'া', 'স', '্', 'ত', 'া', 'ত', 'ে', 'ই']],\n [['ব', 'ে', 'র', 'ে', 'ক', 'ে', 'ত']],\n [['ব', 'া', 'ল', 'া', 'ক', 'ও']],\n [['আ', 'ত', 'ং', 'ক', 'ে']],\n [['জ', 'ে', 'ত', 'া', 'ন', 'ো']],\n [['ব', 'ৃ', 'ক', '্', 'ষ', 'র', 'ূ', 'প', 'ী']],\n [['ট', '্', 'র', '্', 'য', 'া', 'ক', 'গ', 'ু', 'ল', 'ো', 'র']],\n [['প', '্', 'র', 'ত', 'ী', 'ক', '্', 'ষ', 'া', 'ক', 'া', 'র', 'ী']],\n [['ধ', 'া', 'র', 'া', 'য', '়']],\n [['গ', 'ণ', 'অ', 'ভ', '্', 'য', 'ত', '্', 'থ', 'া', 'ন']],\n [['ল', 'ে', 'খ', 'া', 'প', 'ড', '়', 'া']],\n [['ব', 'ি', 'দ', '্', 'ব', 'ে', 'ষ', 'ী']],\n [['ঘ', 'ট', 'ত']],\n [['স', 'ক', 'া', 'ল', 'ে', 'ও']],\n [['আ', 'ন', '্', 'ত', 'ন', 'ি', 'র', '্', 'ভ', 'র', 'শ', 'ী', 'ল', 'ত', 'া']],\n [['স', 'ু', 'ম', 'া', 'র', 'া']],\n [['ব', 'র', '্', 'ষ', 'ব', 'র', 'ণ', 'ে', 'র']],\n [['দ', 'া', 'ও', 'য', '়', 'া', 'য', '়']],\n [['স', 'ে', 'ই', 'খ', 'া', 'ন', 'ে']],\n [['প', 'া', 'ছ', 'ত', 'ে', 'ই']],\n [['ঢ', 'া', 'ক', 'া', 'য', '়']],\n [['জ', 'ী', 'ব', 'ন', 'ভ', 'া', 'ণ', '্', 'ড', 'া', 'র', 'ে']],\n [['ন', 'স', '্', 'য', 'া', 'ৎ']],\n [['গ', 'ো', 'প', 'ন', 'ী', 'য', '়']],\n [['ন', 'ি', 'র', '্', 'জ', 'ী', 'ব', 'ে', 'র']],\n [['স', '্', 'ব', 'র', '্', 'গ', 'র', 'া', 'জ', '্', 'য', 'ে']],\n [['ই', 'ৎ', 'ধ', 'হ', 'ঃ', 'ধ']],\n [['ক', 'ি', 'ম', 'া']],\n [['দ', 'ু', 'প', 'ক', '্', 'ষ', 'ে', 'র']],\n [['প',\n   '্',\n   'র',\n   'ত',\n   'ি',\n   'য',\n   'ো',\n   'গ',\n   'ি',\n   'ত',\n   'া',\n   'গ',\n   'ু',\n   'ল',\n   'ি',\n   'ত',\n   'ে']],\n [['অ', 'ভ', 'ি', 'ভ', 'া', 'ব', 'ক', 'র', 'া']],\n [['ব', 'য', '়', 'া', 'ন', 'ে']],\n [['স', 'ং', 'স', '্', 'ক', 'ৃ', 'ত', 'ি', 'ট', 'া', 'ও']],\n [['প', '্', 'র', 'শ', '্', 'ন', 'ও']],\n [['জ',\n   'ন',\n   'প',\n   '্',\n   'র',\n   'ত',\n   'ি',\n   'ষ',\n   '্',\n   'ঠ',\n   'া',\n   'ন',\n   'স',\n   'ম',\n   'ূ',\n   'হ',\n   'ক',\n   'ে']],\n [['ক', 'ি', 'ন', 'ে', 'ছ', 'ি']],\n [['স', '্', 'ট', '্', 'য', 'া', 'ট', 'ে', 'স', '্', 'ট', 'ি', 'ক', '্', 'স']],\n [['প', 'ড', '়', 'া', 'য', '়']],\n [['স', 'া', 'ত', 'ে', 'ক']],\n [['ব', 'স', 'ব']],\n [['র', 'হ', 'ম', 'ত', 'উ', 'ল', '্', 'ল', 'া', 'হ', '্', 'র']],\n [['ক', 'ি', 'ছ', 'ু', 'দ', 'ে', 'র']],\n [['জ', 'ে', 'ড', 'ি', 'র', 'া']],\n [['ম', 'ৌ', 'ল', 'গ', 'ু', 'ল', 'ো', 'ও']],\n [['ক', '্', 'য', 'া', 'র', 'ি', 'য', '়', 'া', 'র', 'গ', 'ু', 'ল', 'ি', 'র']],\n [['স', 'ড', '়', 'ক', 'ট', 'ি', 'র']],\n [['ঝ', 'গ', 'ড', '়', 'া', 'র']],\n [['য', 'থ', 'ে', 'চ', '্', 'ছ']],\n [['স', 'া', 'র', 'া', 'দ', 'ি', 'ন', 'ে', 'র']],\n [['ক', 'ু', 'র', 'আ', 'ন', 'প', '্', 'র', 'ে', 'ম', 'ী', 'দ', 'ে', 'র']],\n [['স', 'ু', 'য', 'ো', 'গ', 'ক', 'ে']],\n [['শ', 'ি', 'ষ', '্', 'য', 'র', 'া']],\n [['প', 'া', 'ল', 'ি', 'য', '়', 'ে', 'ছ', 'ে']],\n [['ও',\n   'র',\n   'ি',\n   'য',\n   '়',\n   'ে',\n   'ন',\n   '্',\n   'ট',\n   'া',\n   'ল',\n   'ি',\n   'স',\n   '্',\n   'ট',\n   'র',\n   'া']],\n [['স', 'ৌ', 'র', 'ী', 'শ', 'চ', 'ন', '্', 'দ', '্', 'র']],\n [['হ', 'ে', 'ন', 'স', '্', 'ত', 'া', 'র']],\n [['প', '্', 'য', 'া', 'ন', '্', 'ড', 'ে', 'ল', 'ও']],\n [['ন', 'ি', 'য', '়', 'ম', 'ে', 'ই']],\n [['দ', 'ু', 'র', '্', 'ন', 'ী', 'ত', 'ি', 'ব', 'া', 'জ', 'দ', 'ে', 'র']],\n [['ক', 'া', 'ল', 'ি', 'র', 'া', 'ঙ', '্', 'গ', 'া']],\n [['ত', 'ড', '়', 'ি', 'ঘ', 'ড', '়', 'ি']],\n [['স', 'ে', 'হ', 'ে', 'ন', 'া']],\n [['দ', 'ু', 'ঃ', 'স', 'ম', 'য', '়', 'ে']],\n [['ধ', 'া', 'ন', 'ে']],\n [['স', 'ং', 'গ', '্', 'র', 'া', 'ম', 'প', 'ু', 'ঞ', '্', 'জ', 'ি', 'ত', 'ে']],\n [['অ', '্', 'য', 'া', 'ড', 'ে', 'ভ', 'ে', 'ঞ', '্', 'চ', 'া', 'র']],\n [['প', '্', 'র', 'ত', 'ি', 'ষ', '্', 'ঠ', 'ি', 'ত', 'ঃ']],\n [['ঘ', 'র', 'ট', 'া']],\n [['শ', 'র', 'উ', 'প', 'া', 'ই']],\n [['প',\n   '্',\n   'র',\n   'শ',\n   'ি',\n   'ক',\n   '্',\n   'ষ',\n   'া',\n   'র',\n   '্',\n   'থ',\n   'ী',\n   'দ',\n   'ে',\n   'র']],\n [['অ', 'ন', '্', 'ধ', 'র', 'ক', 'া', 'র']],\n [['ন', 'া', 'থ', 'ত']],\n [['জ', '্', 'ঞ', 'া', 'ন', 'শ', 'ূ', 'ন', '্', 'য', 'ে', 'র']],\n [['ও', 'ম', 'ি', 'জ', 'ি', 'ড']],\n [['প', 'র', 'ী', 'ক', '্', 'ষ', 'া', 'য', '়']],\n [['ড', 'ি', 'আ', 'ই', 'এ', 'ম', 'এ', 'প', 'ি', 'প', 'ি', 'প', 'ি']],\n [['দ', 'ু', 'র', '্', 'ন', 'ী', 'ত', 'ি', 'ত', 'ে']],\n [['ট', 'া', 'ঙ', 'া', 'ন', 'ো']],\n [['ল', 'া', 'ল', 'স', 'া']],\n [['আ', 'ক', 'র', '্', 'ষ', 'ণ', 'ী', 'য', '়']],\n [['ব', '্', 'য', 'ব', 'স', '্', 'থ', 'া', 'গ', 'ু', 'ল', 'ি', 'ত', 'ে']],\n [['ন', 'ি', 'উ', 'ই', 'য', '়', 'র', '্', 'ক', 'ই']],\n [['র', 'া', 'ষ', '্', 'ট', '্', 'র', 'ধ', 'র', '্', 'ম', 'ে']],\n [['ফ', 'ি', 'ত', 'ে', 'গ', 'ু', 'ল', 'ো']],\n [['গ', 'া', 'ল', 'া', 'গ', 'া', 'ল', 'ি']],\n [['জ', 'ন', 'জ', 'া', 'গ']],\n [['উ', 'ৎ', 'ক', '্', 'ষ', 'ে', 'প', 'ণ', 'ে', 'র']],\n [['ন', 'ে', 'ক', 'স']],\n [['হ', 'ু', 'শ', 'ি', 'য', '়', 'া', 'র', 'ি']],\n [['দ', '্', 'ব', 'ী', 'প', 'প', 'ু', 'ঞ', '্', 'জ', 'স', 'ম', 'ূ', 'হ']],\n [['গ', 'ণ', 'প', 'ি', 'ট', 'ু', 'ন', 'ি']],\n [['ব', 'ন', '্', 'ধ', 'ু', 'ক', 'ধ', 'া', 'র', 'ী', 'দ', 'ে', 'র']],\n [['ন', 'ি', 'য', '়', 'া', 'ম', 'ক']],\n [['প', '্', 'র', 'স', '্', 'ত', 'া', 'ব', 'গ', 'ু', 'ল', 'ি', 'ক', 'ে']],\n [['ধ', 'র', '্', 'ম', 'গ', 'ু', 'ল', 'ো', 'ত', 'ে']],\n [['হ', 'ৃ', 'ৎ', 'প', 'ি', 'ণ', '্', 'ড']],\n [['প', 'ৌ', 'ঁ', 'ছ', 'া', 'র']],\n [['অ',\n   'ং',\n   'শ',\n   'গ',\n   '্',\n   'র',\n   'হ',\n   'ণ',\n   'ক',\n   'া',\n   'র',\n   'ী',\n   'দ',\n   'ে',\n   'র',\n   'ও']],\n [['ট', 'া', 'ক', 'া', 'প', 'য', '়', 'স', 'া']],\n [['ট', 'ু', 'থ', 'জ', 'ে', 'ল']],\n [['ধ', 'ৈ', 'র', '্', 'য', '্', 'য']],\n [['ব', 'ি', 'দ', '্', 'য', 'া', 'ল', 'য', '়', 'গ', 'ু', 'ল', 'ি', 'ক', 'ে']],\n [['প', 'র', 'ি', 'চ', '্', 'ছ', 'ে', 'দ', 'গ', 'ু', 'ল', 'ো']],\n [['ত', 'ি', 'দ', 'ি', 'ন']],\n [['শ', 'র', '্', 'ক', 'র', 'া', 'র']],\n [['ব', '্', 'য', 'ব', 'স', '্', 'থ', 'া', 'গ', 'ু', 'ল', 'ো', 'য', '়']],\n [['ভ', 'া', 'গ', '্', 'য', 'ে', 'ন', '্', 'ন', 'য', '়', 'ন']],\n [['ব', 'ি', 'ন', 'ি', 'য', '়', 'ো', 'গ', 'ক', 'া', 'র', 'ী']],\n [['জ', 'ি', 'ন', 'ি', 'ষ']],\n [['গ', 'া', 'ড', '়', 'ি', 'র']],\n [['অ', 'ব', 'স', '্', 'থ', 'া', 'প', 'ন', 'া', 'য', '়']],\n [['র', 'ট', 'ন', 'া']],\n [['ব',\n   'ি',\n   'দ',\n   '্',\n   'য',\n   'ু',\n   'ৎ',\n   'ক',\n   'ে',\n   'ন',\n   '্',\n   'দ',\n   '্',\n   'র',\n   'গ',\n   'ু',\n   'ল',\n   'ো',\n   'ত',\n   'ে']],\n [['প', '্', 'র', 'ত', '্', 'য', 'হ']],\n [['শ', 'ো', 'ভ', 'া', 'য', 'া', 'ত', '্', 'র', 'া', 'ট', 'ি']],\n [['ম', 'হ', 'ড', '়', 'া']],\n [['প',\n   '্',\n   'র',\n   'য',\n   'ু',\n   'ক',\n   '্',\n   'ত',\n   'ি',\n   'গ',\n   'ত',\n   'ভ',\n   'া',\n   'ব',\n   'ে',\n   'ই']],\n [['এ', 'ত', 'স', 'ব']],\n [['ব', 'ি', 'শ', '্', 'ব', 'ব', 'া', 'ণ', 'ি', 'জ', '্', 'য', 'ে', 'র']],\n [['চ',\n   'ে',\n   'য',\n   '়',\n   'া',\n   'র',\n   'ম',\n   '্',\n   'য',\n   'া',\n   'ন',\n   'ব',\n   'ৃ',\n   'ন',\n   '্',\n   'দ',\n   'ক',\n   'ে']],\n [['ত', 'া', 'ল', 'ি', 'ক', 'া', 'ভ', 'ু', 'ক', '্', 'ত', 'ি', 'ক']],\n [['দ', 'া', 'ঁ', 'ত', 'া', 'ল']],\n [['প', 'দ', 'ক', '্', 'ষ', 'ে', 'প', 'ট', 'ু', 'ক', 'ু']],\n [['দ', 'ে', 'খ', 'ি', 'য', '়', 'ে', 'ই']],\n [['অ',\n   '্',\n   'য',\n   'া',\n   'ন',\n   '্',\n   'ট',\n   'ি',\n   'ক',\n   '্',\n   'স',\n   'ি',\n   'ড',\n   '্',\n   'য',\n   'া',\n   'ন',\n   '্',\n   'ট']],\n [['ব', 'ি', 'ব', 'া', 'হ', 'ট', 'ি']],\n [['ক', 'র', 'ণ', 'ী', 'য', '়']],\n [['ক', 'ু', 'য', '়', 'া', 'শ', 'া', 'য', '়']],\n [['ব',\n   '্',\n   'য',\n   'ব',\n   'স',\n   'া',\n   'প',\n   '্',\n   'র',\n   'ত',\n   'ি',\n   'ষ',\n   '্',\n   'ঠ',\n   'া',\n   'ন']],\n [['ম', 'ে', 'য', '়', 'ে', 'ট', 'ি', 'ক', 'ে']],\n [['দ', 'া', 'ব', 'া', 'ন', 'ল', 'ক', 'ে', 'ই']],\n [['ও', 'স', 'া', 'ম', 'ন', 'ী']],\n [['প', 'ৌ', 'ঁ', 'ছ', 'া', 'য', '়']],\n [['চ', 'ন', '্', 'দ', '্', 'র', 'ন', 'া', 'থ', 'ব', 'া', 'ব', 'ু', 'ক', 'ে']],\n [['প', 'ঁ', 'হ', 'চ', 'ে']],\n [['ন', 'ে', 'ড', '়', 'া', 'প', 'ো', 'ড', '়', 'া']],\n [['অ', '্', 'য', 'া', 'ড', 'ি', 'শ', 'ন', 'ও']],\n [['ক', 'া', 'ল', 'ি', 'ক', 'া', 'ব', 'া', 'ড', '়', 'ি']],\n [['য', 'া', 'ত', '্', 'র', 'া', 'গ', 'ু', 'ল', 'ো', 'র']],\n [['শ', 'ন', 'ি', 'ব', 'া']],\n [['স', '্', 'ব', 'র', 'ূ', 'প', 'ে']],\n [['প', 'দ', 'ক', '্', 'ষ', 'ে', 'প', 'ট', 'ু', 'ক', 'ু']],\n [['জ', 'ন', 'া', 'ই', 'ছ', 'ে']],\n [['এ', 'ম', 'প', 'ি', 'ও', 'ভ', 'ু', 'ক', '্', 'ত']],\n [['প', '্', 'র', 'ত', 'ি', 'ব', 'ে', 'দ', 'ক', 'ঃ']],\n [['য', 'ু', 'দ', '্', 'ধ', 'জ', 'ী', 'ব', 'ী', 'র']],\n [['খ', 'ে', 'য', '়', 'ে', 'ছ', 'ি', 'ল', 'ে', 'ন']],\n [['অ', 'ব', 'ি', 'শ', '্', 'ব', 'া', 'স', 'ে', 'র']],\n [['স', 'হ', 'ি', 'ং', 'স', 'ত', 'া', 'ম', 'ূ', 'ল', 'ক']],\n [['ত', 'র', 'ু', 'ণ', 'ী', 'দ', 'ে', 'র']],\n [['ব', '্', 'য', 'া', 'ক', 'া', 'র', 'ে', 'ট']],\n [['প', '্', 'র', 'া', 'ণ', 'প', 'ণ', 'ে']],\n [['শ', 'র', 'ণ', 'া', 'র', '্', 'থ', 'ী', 'র']],\n [['গ', 'ু', 'ট', 'ি', 'ক', 'য', '়', 'ে', 'ক']],\n [['ন', 'ি', 'ষ', 'া', 'ধ']],\n [['আ', 'ধ', 'ঘ', 'ণ', '্', 'ট', 'া']],\n [['ম', 'া', 'ত', 'া', 'স', 'ু', 'র', 'া']],\n [['প', 'ং', 'চ', 'ক', 'ম', '্']],\n [['ফ', 'ল', 'ম', 'শ', '্', 'ন', 'ু', 'ত', 'ে']],\n [['চ', 'ি', 'ট', 'ফ', 'া', 'ন', '্', 'ড']],\n [['ব',\n   '্',\n   'য',\n   'া',\n   'ক',\n   '্',\n   'ট',\n   'ে',\n   'র',\n   'ি',\n   'য',\n   '়',\n   'া',\n   'গ',\n   'ু',\n   'ল',\n   'ি',\n   'ক',\n   'ে']],\n [['অ', 'র', '্', 'থ', 'ন', 'ী', 'ত', 'ি', 'গ', 'ু', 'ল', 'ো', 'র']],\n [['ই', 'ন', '্', 'ট', 'া', 'র', 'ম', 'ে', 'ট']],\n [['ক', '্', 'য', 'া', 'র', 'ি', 'য', '়', 'া', 'র', 'গ', 'ু', 'ল', 'ি', 'র']],\n [['এ', 'ন', 'ি', 'ম', 'া', 'র', 'ি']],\n [['স', 'য', '়', 'ে']],\n [['ব', 'ন', '্', 'ধ', 'ু', 'ব', 'া', 'ন', '্', 'ধ', 'ব']],\n [['শ',\n   '্',\n   'র',\n   'ে',\n   'ষ',\n   '্',\n   'ঠ',\n   'ত',\n   '্',\n   'ব',\n   'ব',\n   'া',\n   'দ',\n   'ী',\n   'দ',\n   'ে',\n   'র']],\n [['অ', 'প', 'ক', 'র', '্', 'ম']],\n [['আ', 'ক', '্', 'ষ', 'ে', 'প', 'ে', 'র']],\n [['এ', 'র', 'ত', 'ে']],\n [['দ', '্', 'ব', 'ি', 'ত', 'ী', 'য', '়', 'ব', 'া', 'র']],\n [['শ', 'ি', 'ক', '্', 'ষ', 'া', 'ব', 'ন', '্', 'ধ', 'ু', 'র', 'া']],\n [['চ', 'া', 'র', 'া', 'গ', 'ু', 'ল', 'ি', 'ই']],\n [['ন', 'ি', 'র', '্', 'দ', 'ে', 'শ', 'ও']],\n [['ম', 'া', 'দ', 'ক', 'ক', 'া', 'র', 'ব', 'া', 'র', 'স', 'হ']],\n [['ল', 'া', 'ল', 'ু', 'প', '্', 'র', 'স', 'া', 'দ']],\n [['র', 'ক', '্', 'ত', 'ব', 'হ']],\n [['ন', 'ট', 'া']],\n [['আ', 'র', 'ে', 'ক', 'জ', 'ন', 'ক', 'ে']],\n [['প',\n   'ূ',\n   'র',\n   '্',\n   'ণ',\n   'চ',\n   'ন',\n   '্',\n   'দ',\n   '্',\n   'র',\n   'ব',\n   'া',\n   'ব',\n   'ু',\n   'ক',\n   'ে']],\n [['ফ', 'র', '্', 'স', 'া']],\n [['ক', 'ি', 'ম', 'ক', 'ি', 'ম', 'া']],\n [['প',\n   '্',\n   'র',\n   'ত',\n   'ি',\n   'ষ',\n   '্',\n   'ঠ',\n   'া',\n   'ন',\n   'স',\n   'ম',\n   'ূ',\n   'হ',\n   'ে',\n   'র',\n   'ও']],\n [['স', 'প', '্', 'ত', 'া', 'হ', 'খ', 'া', 'ন', 'ে', 'ক']],\n [['র', 'া', 'ষ', '্', 'ট', '্', 'র', 'প', 'ক', '্', 'ষ']],\n [['স', '্', 'ম', 'ৃ', 'ত', 'ি', 'গ', 'ু', 'ল', 'ো', 'ত', 'ে']],\n [['ব', 'ি', 'ক', '্', 'র', 'য', '়', 'ে', 'র']],\n [['ছ', 'া', 'ড', '়', 'ো']],\n [['ট', '্', 'র', '্', 'য', 'া', 'ক', 'গ', 'ু', 'ল', 'ো', 'র']],\n [['হ', 'া', 'ফ', 'স', 'ে', '়', 'ঞ', '্', 'চ', 'ু', 'র', 'ি']],\n [['ব', 'া', 'ঁ', 'চ', 'ি']],\n [['স', 'ম', 'ী', 'ক', '্', 'ষ', 'া', 'য', '়']],\n [['ঘ', 'ট', 'ু', 'ক']],\n [['প', 'ু', 'ত', '্', 'র', 'ব', 'ধ', 'ূ']],\n [['চ', 'া', 'ঁ', 'দ', 'া', 'ব', 'া', 'জ', 'ি', 'র']],\n [['চ', 'ে', 'ষ', '্', 'ট', 'া', 'য', '়']],\n [['ন', 'ত', 'ন', 'ু']],\n [['চ', 'ৌ', 'ধ', 'ু', 'র', 'ী', 'গ', 'ৃ', 'হ', 'ি', 'ণ', 'ী']],\n [['জ', 'ম', 'ি', 'ও', 'য', '়', 'া', 'ল', 'া']],\n [['চ', 'া', 'ই', 'ছ', 'ি', 'ল', 'া', 'ম']],\n [['ক', 'র', '্', 'ম', 'ী', 'দ', 'ে', 'র', 'ক', 'ে']],\n [['ম', 'া', 'র', '্', 'ক', 'ে', 'ট', 'গ', 'ু', 'ল', 'ো', 'ত', 'ে']],\n [['স', 'ম', 'ী', 'ক', '্', 'ষ', 'া', 'য', '়']],\n [['চ', 'া', 'ল', 'ি', 'য', '়', 'ে', 'ছ', 'ি', 'ল']],\n [['চ', 'ু', 'প', 'স', 'া', 'ন', 'ো']],\n [['ব', 'ি', 'জ', '্', 'ঞ', 'া', 'ন', 'ী', 'ত', 'ে']],\n [['খ', 'া', 'ব', 'ি', 'খ', 'া']],\n [['প', 'ু', 'ষ', '্', 'ট', 'ি', 'গ', '্', 'র', 'হ', 'ণ', 'ে', 'র']],\n [['জ', 'ন', 'ে', 'ঃ']],\n [['এ', 'ত', 'ি', 'ম', 'ে', 'র']],\n [['প', '্', 'র', 'ধ', 'া', 'ন', 'ম', 'ন', '্', 'ত', '্', 'র', 'ী', 'র', 'া']],\n [['এ', 'র', 'আ', 'গ', 'ে']],\n [['গ', '্', 'র', 'হ', 'ন', 'য', 'ো', 'গ', '্', 'য', 'ট', 'া', 'ক', 'ে']],\n [['ক', 'থ', 'া', 'ব', 'া', 'র', '্', 'ত', 'া', 'য', '়']],\n [['ব', '্', 'র', 'ো', 'ন', 'ম', 'ি', 'ক', '্', 'স', 'ড']],\n [['অ', 'ব', 'ন', 'ত', 'ি', 'র']],\n [['ত', 'ো', 'ড', '়', 'া']],\n [['অ', 'ন', 'ু', 'ম', 'ত', 'ি', 'ত', 'ে']],\n [['ম', 'া', 'র', 'ও', 'য', '়', 'া', 'র', 'া', 'র']],\n [['জ', 'ি', 'ল', 'হ', 'া', 'জ', '্', 'জ']],\n [['ল', 'ট', 'া', 'র', 'ি', 'স', 'হ']],\n [['উ', 'দ', '্', 'ব', 'ো', 'ধ', 'ন', 'ক', 'া', 'ল', 'ে']],\n [['প', '্', 'র', 'ত', 'ি', 'ক', '্', 'র', 'ি', 'য', '়', 'া', 'ত', 'ে', 'ই']],\n [['ন', 'ি', 'উ', 'ই', 'য', '়', 'র', '্', 'ক', 'ই']],\n [['দ', 'া', 'ব', 'ী', 'গ', 'ু', 'ল', 'ো', 'ক', 'ে']],\n [['ত', 'থ', '্', 'য', 'ম', 'ন', '্', 'ত', '্', 'র', 'ী', 'দ', 'ে', 'র']],\n [['ব', 'ি', 'ণ']],\n [['র', 'ু', 'দ', '্', 'ধ', 'শ', '্', 'ব', 'া', 'স']],\n [['ই', 'হ', 'া', 'ক', 'ে']],\n [['ও', 'য', '়', 'া', 'র', '্', 'ড', 'গ', 'ু', 'ল', 'ি', 'ত', 'ে', 'ও']],\n [['ব', 'ু', 'ড', '়', 'ো', 'ম', 'া', 'ন', 'ু', 'ষ', 'দ', 'ে', 'র']],\n [['র', 'া', 'ষ', '্', 'ট', '্', 'র', 'প', 'ক', '্', 'ষ']],\n [['থ', 'জ', 'ে', 'ক', 'ে']],\n [['ত', 'া', 'ক', 'া', 'ল']],\n [['অ', '্', 'য', 'া', 'ক', '্', 'র', 'ো', 'ব', 'ে', 'ট', 'ি', 'ক', 'ে', 'র']],\n [['প', 'ড', '়', 'ু', 'ক']],\n [['প', '্', 'র', 'র', 'ো', 'চ', 'ন', 'া']],\n [['য', 'ু', 'ক', '্', 'ত', 'ি', 'ব', 'ো', 'ধ', 'ট', 'া', 'ই']],\n [['ধ', 'স', '্', 'ত', 'া', 'ধ', 'স', '্', 'ত', 'ি']],\n [['প', 'া', 'ঠ', 'া', 'ব', 'ে', 'ন']],\n [['আ', 'ন', '্', 'ত', 'ঃ', 'ন', 'গ', 'র']],\n [['প', '্', 'র', 'ব', 'ৃ', 'ত', '্', 'ত', 'ি', 'স', 'ম', 'ূ', 'হ']],\n [['অ', 'ব', 'া', 'ন', '্', 'ত', 'র']],\n [['হ', 'া', 'ঁ', 'ট', 'ছ', 'ে', 'ন']],\n [['স', '্', 'ট', '্', 'য', 'া', 'ট', 'ে', 'স', '্', 'ট', 'ি', 'ক', '্', 'স']],\n [['উ', 'ত', 'র', 'ে']],\n [['ন', 'ি', 'ভ', 'ৃ', 'ত', 'ে']],\n [['র', 'ব', 'ি', 'ব', 'া', 'র', 'ে', 'র']],\n [['ব', 'স', 'ো']],\n [['গ', 'ল', 'া', 'ট', 'ি', 'প', 'ে']],\n [['জ', 'া', 'ম', 'া', 'গ', 'ু', 'ল', 'ো', 'ও']],\n [['র', 'া', 'স', 'ূ', 'ল', 'ু', 'ল', '্', 'ল', 'া', 'হ', '্']],\n [['ব', 'ি', 'শ', '্', 'ব', 'া', 'ম', 'ি', 'ত', '্', 'র', 'র']],\n [['চ', 'ে', 'স', '্', 'ট', 'া']],\n [['ল', 'জ', '্', 'জ', 'া', 'র']],\n [['ছ', 'ন', '্', 'দ', 'প', 'ত', 'ন']],\n [['ব', 'ো', 'র', '্']],\n [['ঘ', 'ে', 'থ', 'ে']],\n [['ফ', 'ি', 'র', 'ছ', 'ে', 'ন']],\n [['ল', 'ি', 'খ', 'ু', 'ন']],\n [['প', 'া', 'ণ', '্', 'ড', 'ে', 'য', '়', 'া', 'ই']],\n [['ন', 'ি', 'র', '্', 'দ', 'ে', 'শ', 'ে', 'ই']],\n [['ম', 'ু', 'দ', '্', 'র', 'া', 'ন', 'ী', 'ত', 'ি', 'ত', 'ে', 'ও']],\n [['ব', 'ি', 'ল', 'া', 'প', 'ক', 'া', 'র', 'ী', 'র', 'া']],\n [['ট', 'ি', 'ক', 'ি', 'য', '়', 'ে']],\n [['আ', 'ন', 'ন', '্', 'দ', 'গ', 'া', 'ন', 'ে', 'র']],\n [['ক', '্', 'য', 'া', 'র', 'ি', 'য', '়', 'া', 'র', 'র', 'া']],\n [['ধ', 'র', 'ছ', 'ে', 'ন']],\n [['ব', 'ৈ', 'শ', 'ি', 'ষ', '্', 'ট', '্', 'র', 'ে', 'র']],\n [['গ', '্', 'র', 'া', 'ম', 'ে', 'ই']],\n [['ও', 'য', '়', 'ে', 'ব', 'ড', 'ে', 'স', '্', 'ক', 'ঃ']],\n [['অ', 'র', '্', 'ধ', 'স', 'হ', 'স', '্', 'র', 'া', 'ধ', 'ি', 'ক']],\n [['ম', 'ূ', 'র', '্', 'ত', 'ি', 'প', 'ূ', 'জ', 'া', 'র', 'ী', 'দ', 'ে', 'র']],\n [['ধ', 'া', 'র', 'া', 'গ', 'ু', 'ল', 'ি', 'র']],\n [['ছ',\n   'া',\n   'ত',\n   '্',\n   'র',\n   'ল',\n   'ী',\n   'গ',\n   'ক',\n   'র',\n   '্',\n   'ম',\n   'ী',\n   'ব',\n   'ৃ',\n   'ন',\n   '্',\n   'দ']],\n [['ব', 'ি', 'দ', '্', 'য', 'ে', 'র']],\n [['অ', 'স', '্', 'ব', 'ী', 'ক', 'ৃ', 'ত', 'ি', 'র']],\n [['ন', 'গ', 'র', 'ব', 'া', 'স', 'ী']],\n [['ট', 'ে', 'ক', 'ন', 'ি', 'ক', '্', 'য', 'া', 'ল', 'ে', 'র']],\n [['উ', 'ন', '্', 'ন', 'য', '়', 'ন', 'ে']],\n [['আ', 'শ', 'া', 'য', '়']],\n [['ল', 'ল', 'ে', 'ন', 'ঃ']],\n [['স', '্', 'ত', '্', 'র', 'ী', 'ল', 'ো', 'ক', 'ে', 'র']],\n [['ম', 'ত', 'ি', 'ল', 'া', 'ল', 'ে', 'র', 'া']],\n [['এ', 'য', '়', 'া', 'র', 'ো', 'স', '্', 'প', 'ে', 'স', 'ক', 'ে']],\n [['প', 'ড', '়', 'ু', 'য', '়', 'া']],\n [['জ', 'ম', 'া', 'ন', 'ো']],\n [['ত', 'ি', 'ব', 'া', 'দ', 'ী']],\n [['ক', 'া', 'ম', 'া', 'ন', 'ন', 'গ', 'র', 'ে', 'র']],\n [['এ', 'ক', '্', 'স', 'ি', 'য', '়', 'া', 'র']],\n [['অ', 'ন', '্', 'দ', 'র', 'ম', 'হ', 'ল', 'ে']],\n [['হ', 'য', '়', 'ন', 'া']],\n [['ক',\n   'া',\n   'ম',\n   'ো',\n   'ত',\n   '্',\n   'ত',\n   'ে',\n   'জ',\n   'ক',\n   'ত',\n   'ত',\n   '্',\n   'ত',\n   '্',\n   'ব']],\n [['ব', 'ি', 'দ', '্', 'য', 'া', 'ল', 'য', '়', 'গ', 'ু', 'ল', 'ো', 'ত', 'ে']],\n [['ন', 'ি', 'ভ', 'ৃ', 'ত', 'ে']],\n [['স', '্', 'ট', '্', 'য', 'া', 'ট', 'ে', 'স', '্', 'ট', 'ি', 'ক', '্', 'স']],\n [['চ', 'ু', 'ল', 'ক', 'ে']],\n [['জ', '্', 'ঞ', 'া', 'ন', 'স', 'ম', 'ূ', 'হ', 'ে', 'র']],\n [['ঝ',\n   'া',\n   'ঁ',\n   'ক',\n   'ঝ',\n   'ম',\n   'ক',\n   'প',\n   'ূ',\n   'র',\n   '্',\n   'ণ',\n   'ভ',\n   'া',\n   'ব',\n   'ে']],\n [['ড', 'ো', 'ব', 'র', 'ে', 'ভ']],\n [['অ', 'ভ', 'ি', 'য', 'ো', 'গ', 'ট', 'ি']],\n [['হ', 'ু', 'ড', '়', 'ম', 'ু', 'ড', '়', 'ি', 'য', '়', 'ে']],\n [['ধ', 'র', '্', 'ম', 'া', 'ন', 'ু', 'ষ', '্', 'ঠ', 'া', 'ন', 'ে', 'র']],\n [['জ', 'া', 'য', '়', 'ে', 'জ']],\n [['ম', '্', 'য', 'া', 'গ', 'ি', 'ত', 'ে']],\n [['প', '্', 'র', 'ত', 'ি', 'ব', 'া', 'স', 'ী', 'র', 'া', 'ই']],\n [['ক', 'ো', 'ত', '্', 'থ', 'ে', 'ক', 'ে']],\n [['য', 'ু', 'দ', '্', 'ধ', 'জ', 'ী', 'ব', 'ী', 'র']],\n [['অ', 'ব', 'ি', 'স', '্', 'ম', 'র', 'ণ', 'ী', 'য', '়']],\n [['অ', '্', 'য', 'া', 'ক', '্', 'ট', 'ি', 'ভ', 'ি', 'স']],\n [['ব', 'ল', 'ি', 'ল', 'া', 'ম']],\n [['শ',\n   'ি',\n   'ক',\n   '্',\n   'ষ',\n   'া',\n   'প',\n   '্',\n   'র',\n   'ত',\n   'ি',\n   'ষ',\n   '্',\n   'ঠ',\n   'া',\n   'ন',\n   'স',\n   'ম',\n   'ূ',\n   'হ']],\n [['ন', 'ি', 'ষ', '্', 'প', 'া', 'প']],\n [['ঘ', 'ট', 'ন', 'া', 'স', '্', 'ত', 'ল']],\n [['চ', 'ো', 'ষ', 'া', 'ন', 'ো']],\n [['আ', 'চ', 'র', 'ন']],\n [['ল', 'ড', '়', 'ছ', 'ে', 'ন']],\n [['আ', 'শ', 'ি', 'র', 'প', 'া', 'ড', '়', 'া']],\n [['ম', 'হ', 'া', 'স', 'ড', '়', 'ক', 'ে', 'র']],\n [['খ', 'ু', 'ঁ', 'ত', 'খ', 'ু', 'ঁ', 'ত', 'া', 'ন', 'ি', 'র']],\n [['অ', 'ভ', 'ী', 'ষ', '্', 'ট']],\n [['ভ', 'ন', 'ভ', 'ন']],\n [['ছ', 'া', 'ঁ', 'ট', 'া']],\n [['ম', 'ী', 'ম', 'া', 'ং', 'স', 'া', 'র']],\n [['ঢ', 'া', 'ক', 'ে', 'র']],\n [['চ', 'ি', 'ন', '্', 'ত', 'ে']],\n [['স', '্', 'ব', 'া', 'গ', 'ত', 'ি', 'ক', 'র', 'া']],\n [['শ', 'ো', 'ভ', 'া', 'য', 'া', 'ত', '্', 'র', 'া', 'ট', 'ি']],\n [['চ', 'ো', 'র', 'া', 'ই']],\n [['ড', 'ি', 'উ', 'ট']],\n [['প', '্', 'য', 'া', 'ন', '্', 'ট', '্', 'র', 'ি', 'ত', 'ে', 'ও']],\n [['দ', 'ু', 'দ', 'ি', 'ন', 'ব', '্', 'য', 'া', 'প', 'ি']],\n [['শ', 'ি', 'ল', '্', 'প', 'গ', 'ু', 'ল', 'ো', 'ত', 'ে', 'ও']],\n [['ব', 'ল', 'ব', 'ি']],\n [['ব', 'ি', 'চ', '্', 'ছ', 'ি', 'ন', '্', 'ন', 'ে']],\n [['ন', 'া', 'র', 'ক', 'ী', 'য', '়']],\n [['ন', 'া', 'ব', 'া', 'ল', 'ক']],\n [['প', 'র', 'ি', 'প', '্', 'ল', 'ু', 'ত', 'ম', '্']],\n [['গ', 'া', 'য', '়', 'ি', 'ক', 'া']],\n [['অ', 'ভ', 'ি', 'য', 'ো', 'গ', 'ই']],\n [['অ', '্', 'য', 'া', 'র', 'ো', 'ন', 'ি', 'য', '়', 'া', 'ন']],\n [['ও', 'ঠ', 'া', 'ন', 'া', 'ম', 'া']],\n [['ব', 'ি', 'ত', '্', 'ত', 'ব', 'া', 'ন']],\n [['ক', 'ো', 'র', 'ব', 'া', 'ন', 'ী', 'র']],\n [['এ', 'গ', 'ো', 'ল']],\n [['গ', 'ণ', 'স', 'ং', 'য', 'ো', 'গ', 'ক', 'া', 'র', 'ী', 'দ', 'ে', 'র']],\n [['অ', '্', 'য', 'া', 'ম', '্', 'প', 'ি', 'য', '়', 'া', 'র', 'ে']],\n [['ম', 'া', 'ত', 'ৃ', 'ভ', 'া', 'ষ', 'া', 'র']],\n [['স', 'ো', 'ম', 'স', 'ম', 'ূ', 'হ']],\n [['ব', 'ঙ', '্', 'গ', 'ব', 'ন', '্', 'ধ', 'ু', 'ক', 'ন', '্', 'য', 'া']],\n [['ছ', 'া', 'দ', 'ক']],\n [['প', '্', 'র', 'ত', 'ি', 'ষ', '্', 'ঠ', 'া', 'ন', 'প', 'ন', '্', 'থ', 'ী']],\n [['উ', 'প', 'া', 'র', '্', 'জ', 'ন', 'শ', 'ী', 'ল', 'া']],\n [['ব', 'স', 'ু', '্']],\n [['ই', 'ন', 'ড', 'ি', 'প', 'ে', 'ন', 'ড', 'ে', 'ন', '্', 'ট', 'ক', 'ে']],\n [['ছ', 'ট', 'ফ', 'ট']],\n [['গ', '্', 'র', 'া', 'ম', 'গ', 'ু', 'ল', 'ো', 'ত', 'ে', 'ই']],\n [['স', 'ফ', 'ট', '্', 'অ', 'য', '়', '্', 'য', 'া', 'র']],\n [['ম', 'া', 'ন', 'ি', 'ক', 'শ', 'ো']],\n [['স', 'ম', 'া', 'র', 'া', 'ঢ', '়']],\n [['জ', 'ল', 'ও']],\n [['প', '্', 'র', 'া', 'ন', '্', 'ত', 'ি', 'ক', 'ে']],\n [['অ', 'ধ', 'ি', 'ন', 'া', 'য', '়', 'ক', 'ত', '্', 'ব']],\n [['আ', 'ও', 'র', 'ঙ', '্', 'গ', 'য', 'ে', 'ব']],\n [['প', 'ো', 'ষ', '্', 'ট', 'গ', 'ু', 'ল', 'ো', 'ত', 'ে']],\n [['ত', 'া', 'শ', 'ে', 'ম']],\n [['ক', 'ু', 'র', 'আ', 'ন', 'প', '্', 'র', 'ে', 'ম', 'ী', 'দ', 'ে', 'র']],\n [['ব', 'ি', 'স', '্', 'ত', 'ৃ', 'ত', 'ি']],\n [['ব', 'ে', 'ত', 'া', 'ঙ', '্', 'গ', 'ী']],\n [['ম', 'ি', 'ৎ', 'ব', 'া']],\n [['র', 'ক', '্', 'ষ', 'া', 'য', '়']],\n [['ত', 'ো', 'ল', 'া', 'ব', 'া', 'জ', 'ি']],\n [['আ', 'স', 'ি', 'ব', 'ে']],\n [['ন', 'ি', 'দ', 'র', '্', 'শ', 'ন', 'গ', 'ু', 'ল', 'ো', 'ত', 'ে']],\n [['ন', 'ি', 'জ', 'ে', 'র', 'ই']],\n [['ক', 'র', 'ে', 'ঃ']],\n [['স', '্', 'ন', 'া', 'ন', 'দ', 'ৃ', 'শ', '্', 'য']],\n [['ব', 'া', 'জ', 'া', 'র', 'ম', 'ূ', 'ল', '্', 'য']],\n [['র', 'ো', 'জ', 'ই']],\n [['প', '্', 'র', 'ে', 'ম', 'ী', 'র', 'া', 'ই']],\n [['ব', 'ি', 'ধ', 'া', 'য', '়', 'ক', 'দ', 'ে', 'র']],\n [['আ', 'ন', 'স', 'া', 'র', 'ভ', 'ি', 'ড', 'ি', 'প', 'ি']],\n [['প',\n   '্',\n   'র',\n   'ব',\n   'ৃ',\n   'ত',\n   '্',\n   'ত',\n   'ি',\n   'ব',\n   'ি',\n   'জ',\n   '্',\n   'ঞ',\n   'া',\n   'ন']],\n [['আ', 'র', '্', 'ন', '্', 'ত', 'জ', 'া', 'ত', 'ি', 'ক']],\n [['গ', 'া', 'ঁ', 'জ', 'া', 'স', 'হ']],\n [['প', 'ৌ', 'ঁ', 'ছ', 'য', '়']],\n [['গ', 'ী', 'ত', 'া', 'দ', 'ি', 'ক', 'ে']],\n [['প', '্', 'র', 'ত', '্', 'ন', 'ত', 'ত', '্', 'ত', '্', 'ব', 'ে', 'র']],\n [['আ', 'ব', 'া', 'হ', 'ো']],\n [['প', 'ি', 'ত', 'ৃ']],\n [['স', '্', 'ল', 'ঘ']],\n [['প', '্', 'র', 'ক', 'ৃ', 'ত', 'ি', 'ন', 'ু', 'য', 'া', 'য', '়', 'ী']],\n [['ম', 'ল', 'ল']],\n [['প', '্', 'র', 'ত', 'ি', 'ষ', '্', 'ঠ', 'া', 'ন', 'ে', 'ও']],\n [['ছ', 'ি', 'ট', 'ম', 'হ', 'ল', 'ে', 'র']],\n [['প', '্', 'র', 'য', 'ু', 'ক', '্', 'ত', 'ি', 'স', 'ম', 'ূ', 'হ']],\n [['অ', 'র', '্', 'ড', 'া', 'র', 'গ', 'ু', 'ল', 'ো', 'ত', 'ে']],\n [['ব', 'হ', 'ু', 'দ', '্', 'দ', 'ি', 'ন']],\n [['স', 'র', '্', 'ব', 'া', 'ঙ', '্', 'গ', 'স', 'ম', '্', 'প', 'ন', '্', 'ন']],\n [['গ', 'ব', 'ে', 'ষ', 'ণ', 'া', 'ও']],\n [['ম', 'র', 'স', 'ু', 'ম', 'ে']],\n [['অ', 'প', 'ম', 'ৃ', 'ত', '্', 'য', 'ু']],\n [['গ', 'ব', 'ে', 'ষ', 'ণ', 'া', 'গ', 'া', 'র', 'গ', 'ু', 'ল', 'ি', 'র']],\n [['ব', 'া', 'ড', '়', 'ি', 'য', '়', 'ে', 'ছ', 'ে', 'ই']],\n [['ব', 'ি', 'ক', 'ল', '্', 'প', 'গ', 'ু', 'ল', 'ি', 'ক', 'ে']],\n [['চ', 'ো', 'ষ', 'া']],\n [['প', 'া', 'র', 'স', 'ে', 'ন', '্', 'ট', 'ে', 'র']],\n [['স', 'ং', 'স', '্', 'ক', 'ৃ', 'ত', 'ি', 'স', 'ম', 'ূ', 'হ']],\n [['স', '্', 'থ', 'া', 'ন', 'গ', 'ু', 'ল', 'ো', 'ত', 'ে']],\n [['এ', 'ই', 'চ', 'এ', 'ম']],\n [['এ', 'দ', 'ি', 'ক', 'গ', 'ু', 'ল', 'ো']],\n [['থ', 'া', 'ক', 'ক', 'ঃ']],\n [['ব', 'ে', 'দ', 'খ', 'ল']],\n [['র', 'ে', 'ভ', 'স']],\n [['প', 'া', 'র', 'স', 'ে', 'ন', '্', 'ট', 'ে', 'র']],\n [['চ', 'া', 'ও', 'য', '়', 'া', 'ক', 'ে']],\n [['অ', 'ঁ', 'ত', 'ি']],\n [['ব',\n   'ি',\n   'শ',\n   '্',\n   'ব',\n   'ব',\n   'ি',\n   'দ',\n   '্',\n   'য',\n   'া',\n   'য',\n   '়',\n   'গ',\n   'ু',\n   'ল',\n   'ো',\n   'ক',\n   'ে']],\n [['য', 'ে', 'ম', 'ন', 'ি']],\n ...]"
          },
          "metadata": {}
        }
      ],
      "id": "BIivLq-lbOxD"
    },
    {
      "cell_type": "code",
      "source": [
        "predictions"
      ],
      "metadata": {
        "id": "KBCp131Fbr6L",
        "colab": {
          "base_uri": "https://localhost:8080/"
        },
        "outputId": "95a5d3d2-1bbb-486b-afd7-c831298cd608",
        "execution": {
          "iopub.status.busy": "2024-02-23T18:12:42.972773Z",
          "iopub.execute_input": "2024-02-23T18:12:42.973127Z",
          "iopub.status.idle": "2024-02-23T18:12:43.202729Z",
          "shell.execute_reply.started": "2024-02-23T18:12:42.973096Z",
          "shell.execute_reply": "2024-02-23T18:12:43.201785Z"
        },
        "trusted": true
      },
      "execution_count": null,
      "outputs": [
        {
          "execution_count": 165,
          "output_type": "execute_result",
          "data": {
            "text/plain": "[['প',\n  '্',\n  'র',\n  'ত',\n  'ি',\n  'স',\n  'খ',\n  '্',\n  'য',\n  'া',\n  'ন',\n  'ও',\n  'য',\n  '়',\n  'া',\n  'য',\n  '়'],\n ['অ', 'ত', 'ি', 'ষ', '্', 'ঠ'],\n ['আ', 'ক', 'া', 'ল', 'প', 'ন', 'ি'],\n ['অ', '্', 'য', 'া', 'ন', '্', 'ট', 'া', 'র'],\n ['ছ', 'া', 'ই', 'থ', 'ু', 'ল'],\n ['ব', 'ি', 'প', 'া', 'দ', 'ে', 'স', 'ম', 'ূ', 'র'],\n ['জ', 'ন', '্', 'ম', 'শ', 'ত', 'া', 'ম', 'ি'],\n ['ন', 'া', 'ই', 'য', '়', 'া', 'ক', 'ে', 'দ', 'ে', 'র'],\n ['প', '্', 'র', 'ত', 'ি', 'ষ', '্', 'ট', 'া', 'য', '়'],\n ['ভ', '্', 'য', 'া', 'ল', 'ি', 'ন', 'া', 'ই', 'ল', 'া', 'ম', 'ী', 'দ'],\n ['ো', 'ো', 'ো', 'ো', 'জ', 'া', 'র'],\n ['ন', 'া', 'ম', 'জ', 'া', 'দ', 'া'],\n ['ই', 'ন', 'া', 'ড', 'ি', 'ড', 'ে', 'ন', 'প', 'া', 'ন', '্', 'ট', 'ে', 'ট'],\n ['র', 'া', 'জ', 'প', 'ী', 'র', 'া', 'ব', 'র', 'া', 'হ'],\n ['স', '্', 'ং', 'ং', 'ী', 'ত', 'া', 'দ', 'ে', 'র'],\n ['প', 'গ', 'া', 'ল', 'া', 'র', '্', 'স', 'া', 'ত', '্', 'র', 'ে'],\n ['প', '্', 'র', 'ত', '্', 'য', 'া', 'র', 'ে', 'র'],\n ['র', 'া', 'থ', 'া', 'ল'],\n ['স', '্', 'ব', 'ত', '্', 'ব', 'ি', 'ক'],\n ['ক', '্', 'য', 'া', 'ন', 'ো', 'ো', 'ো', 'ল', 'জ', 'ে'],\n ['আ', 'য', '়', 'া', 'ল', 'ে', 'র'],\n ['ব', 'া', 'ঙ', '্', 'ো', 'ো', 'ো', 'ো', 'ল', 'া', 'জ', 'ি', 'য', '়', 'া'],\n ['আ',\n  'স',\n  'া',\n  'র',\n  'া',\n  'ো',\n  'ো',\n  'ো',\n  'ো',\n  'ো',\n  'ো',\n  'ল',\n  'ু',\n  'ক',\n  'ে',\n  'ও'],\n ['দ', 'ৌ', 'প', 'া', 'দ', 'ি', 'র'],\n ['স', 'া', 'হ', 'া', 'য', 'গ', 'ে', 'ট', 'ি'],\n ['প', 'ু', 'ত', '্', 'র', 'জ', 'ন', '্', 'ম', 'া', 'ন', 'ি'],\n ['ঘ', 'ন', '্', 'ট', 'া', 'র', 'া', 'ও'],\n ['অ', '্', 'য', 'া', 'ড', 'ি', 'শ', 'ন'],\n ['অ', 'ট', 'গ', 'া', 'ক', 'া', 'ল'],\n ['ব', 'ৃ', 'ত', 'ব', 'ল', 'ে'],\n ['ব',\n  'ি',\n  'র',\n  'ধ',\n  'া',\n  'ব',\n  'ি',\n  'ল',\n  'া',\n  'ো',\n  'ো',\n  'ো',\n  'ো',\n  'ড',\n  '়',\n  'ন',\n  'ও'],\n ['ত', 'ং', 'ক', '্', 'য', 'া', 'ঠ', 'া', 'জ', 'ী', 'ব', 'া', 'য', '়'],\n ['স', '্', 'ং', 'ং', 'ত', 'ল', 'া', 'ধ', 'ব', 'া', 'র', 'া'],\n ['অ', '্', 'য', 'া', 'স', '্', 'ট', '্', 'র', 'গ', 'ে'],\n ['চ', 'া', 'র', 'ি', 'ধ', 'া', 'র', 'ে', 'ই'],\n ['র', 'া', 'ক', 'ত', 'া', 'শ', 'া', 'ল', 'া', 'ত'],\n ['জ', 'া', 'ন', 'া', 'য', '়'],\n ['অ', 'ক', '্', 'র'],\n ['প', '্', 'র', 'ি', 'য', '়', 'া', 'ল', 'ে', 'র'],\n ['হ', 'া', 'ল', 'া', 'র', 'ু'],\n ['শ', 'ৃ', 'ঙ', '্', 'থ', 'থ', 'া', 'ল', 'া', 'ও'],\n ['ন',\n  'ি',\n  'য',\n  '়',\n  'ক',\n  'া',\n  'ো',\n  'ো',\n  'ো',\n  'ো',\n  'ো',\n  'ো',\n  'র',\n  'া',\n  'ই',\n  'ড',\n  'া',\n  'জ'],\n ['ফ', 'া', 'ও', 'য', '়', 'া', 'জ', 'ে', 'র'],\n ['ল', 'ে', 'প', 'া', 'ন'],\n ['ক', 'া', 'র', '্', 'প', 'ি', 'ন', 'ি'],\n ['ব',\n  'ি',\n  'ো',\n  'ো',\n  'ো',\n  'ো',\n  'ো',\n  'ো',\n  'ো',\n  'ো',\n  'ো',\n  'ো',\n  'ো',\n  'ো',\n  'ো',\n  'ো',\n  'ো',\n  'ো',\n  'ো',\n  'ো',\n  'ো',\n  'ো',\n  'ো',\n  'ো',\n  'ো',\n  'ো',\n  'ো',\n  'ো',\n  'ো',\n  'ো',\n  'ো',\n  'ো'],\n ['স', 'া', 'র', 'া', 'ং', 'হ', 'ি', 'ত'],\n ['আ', 'ক', '্', 'ক', 'ি', 'ক', 'ে', 'ও'],\n ['স', 'গ', 'া', 'র', '্', 'ড'],\n ['ট', '্', 'র', 'ে', 'ড', 'গ', 'গ'],\n ['উ', 'চ', '্', 'চ', 'ত', 'া', 'য', '়'],\n ['থ', 'ে', 'ল', 'া', 'থ', 'ি', 'ল'],\n ['ম', '্', 'য', 'া', 'ন', 'ি', 'ক', '্', 'স', 'ভ', 'গ', 'গ', 'ু'],\n ['প', 'ৃ', 'ষ', '্', 'ঠ', 'া', 'প', 'া', 'ক', 'া', 'শ', 'ত', 'া'],\n ['ব',\n  'া',\n  'ঙ',\n  '্',\n  'ো',\n  'ো',\n  'ো',\n  'ো',\n  'ো',\n  'ো',\n  'ো',\n  'ো',\n  'ো',\n  'ক',\n  'া',\n  'ল',\n  'ি'],\n ['ন', 'ি', 'শ', 'ি', 'ম', 'ূ', 'র', 'া'],\n ['প', '্', 'য', 'া', 'স', '্', 'প', 'স', '্', 'র', 'গ', 'ট', 'ট'],\n ['স',\n  '্',\n  'য',\n  'া',\n  'জ',\n  'া',\n  'দ',\n  'া',\n  'ক',\n  'ে',\n  'র',\n  '্',\n  'ন',\n  'া',\n  'র',\n  'ী',\n  'ত',\n  'র',\n  'দ',\n  'ক',\n  'ে'],\n ['ো', 'জ', 'ি', 'প', 'ত', '্', 'র', 'ক', 'ৃ', 'ত', 'ি'],\n ['হ', 'ি', 'ন', 'চ', 'া', 'দ', 'ে'],\n ['অ', 'স', 'জ', 'ন', 'ী'],\n ['ল', 'া', 'দ', 'া', 'ই', 'য', '়', 'ে', 'র'],\n ['ক', '্', 'য', 'া', 'ম', 'ে', 'র', 'া', 'ব', 'া', 'ন', '্', 'ড', 'ি'],\n ['ম', 'া', 'ত', 'ৃ', 'জ', 'া', 'ন', 'া', 'ক', 'ে'],\n ['স', 'া', 'র', 'ঞ', '্', 'জ', 'া', 'ম', 'া', 'ই', 'দ', 'ি'],\n ['প',\n  '্',\n  'র',\n  'ত',\n  'ি',\n  'ষ',\n  '্',\n  'ঠ',\n  'া',\n  'ব',\n  'া',\n  'র',\n  '্',\n  'ষ',\n  'ি',\n  'ক',\n  'ী'],\n ['ক', 'ৌ', 'ত', 'হ', 'া', 'য', '়', 'ু', 'ল'],\n ['ন', 'া', 'হ', 'া', 'য', '়'],\n ['প',\n  'র',\n  'ি',\n  'চ',\n  'া',\n  'য',\n  '়',\n  'দ',\n  'া',\n  'ন',\n  'া',\n  'ক',\n  'া',\n  'র',\n  'ী',\n  'ক',\n  'ে'],\n ['আ', 'ো', 'জ', 'ি', 'জ', 'ি'],\n ['উ', 'দ', '্', 'ধ', 'া', 'ধ', 'া', 'ন'],\n ['প', 'র', 'ি', 'ষ', '্', 'ঠ', 'ী', 'ত', 'ি', 'ত', 'ে', 'ই'],\n ['আ', 'ন', 'া', 'ট', 'ি', 'ক', 'ে'],\n ['ল', 'ি', 'থ', 'ল', 'া', 'থ'],\n ['ত', 'া', 'ন', 'ি', 'য', '়', 'া'],\n ['অ', 'য', '়', 'া', 'ন', '্', 'ত', 'ি', 'ক', 'ে', 'র'],\n ['হ', 'া', 'ল', 'া', 'ফ', 'া', 'ন', 'া', 'ম', 'া', 'য', '়'],\n ['ক', 'া', 'ন', '্', 'ন', 'া'],\n ['স',\n  '্',\n  'ট',\n  '্',\n  'র',\n  'ক',\n  '্',\n  'ট',\n  'া',\n  'র',\n  'ু',\n  'ো',\n  'ো',\n  'ো',\n  'ল',\n  'ি',\n  'র'],\n ['প', 'া', 'ন', '্', 'ড', 'া', 'ল', 'গ', 'গ', 'গ', '্', 'ত'],\n ['আ', 'ন', 'ন', '্', 'দ', 'ভ', 'ু', 'ক'],\n ['আ', 'ক', 'া', 'ত', 'া', 'ক', 'ৃ', 'ত', 'র', 'া'],\n ['দ',\n  'ৃ',\n  'ষ',\n  '্',\n  'ট',\n  'ি',\n  'ো',\n  'ো',\n  'ো',\n  'ো',\n  'ো',\n  'ো',\n  'ো',\n  'ো',\n  'ো',\n  'ও'],\n ['ক', 'া', 'র', 'া', 'ন', 'া', 'ও'],\n ['ম', 'া', 'স', 'ু', 'দ', 'জ', 'া', 'দ', 'ু', 'জ', 'ম', 'া', 'ন'],\n ['ছ', 'া', 'ঁ', 'ট', 'া'],\n ['আ', 'য', '়', 'স', '্', 'ত', '্', 'র', 'ক', 'ে'],\n ['প', 'া', 'র', 'ে', 'ক', '্', 'ষ', 'ি', 'র', 'স', '্', 'ং', 'র', 'ে'],\n ['অ', '্', 'য', 'া', 'ন', '্', 'ট', 'ি', 'ক', 'া', 'র'],\n ['ব', 'ে', 'ঙ', '্', 'ো', 'ক', 'ো', 'ও'],\n ['শ', 'ল', 'র'],\n ['স', 'ে', 'ব', 'া', 'ন', 'া'],\n ['ম', 'ু', 'থ', 'ে', 'ও'],\n ['র', 'ি', 'ক', 'া', 'শ', 'া', 'ট', 'া', 'ক', 'ে'],\n ['ব',\n  '্',\n  'য',\n  'া',\n  'ন',\n  '্',\n  'ড',\n  'ো',\n  'ো',\n  'ো',\n  'ল',\n  'ি',\n  'য',\n  '়',\n  'া',\n  'র'],\n ['স', 'ে', 'ই', 'দ', 'া', 'য', '়', 'প', 'ু', 'র'],\n ['ক', 'া', 'র', 'ি', 'স'],\n ['অ', 'জ', 'ু', 'হ', 'া', 'ত', 'ে'],\n ['এ', 'স', '্', 'ট', 'ে', 'ক', '্', 'স'],\n ['ো', 'জ', 'ে', 'শ', 'া', 'ন', 'প', 'ু', 'ও'],\n ['প', '্', 'র', 'য', '়', 'ো', 'ো', 'ো', 'র'],\n ['ব', 'ি', 'ক', '্', 'র', 'য', '়', 'ক', 'া', 'ল', 'ে'],\n ['ফ', 'া', 'ট', 'ও'],\n ['ক', 'ৃ', 'ষ', 'ি', 'ত', 'ে'],\n ['আ', 'ড', 'ভ', 'ে', 'ন', '্', 'ট', 'ু', 'র', 'ে'],\n ['ও', 'ড', 'া', 'ন', 'গ', 'গ', 'গ', 'া'],\n ['অ', '্', 'য', 'া', 'জ', 'ি', 'চ'],\n ['ব',\n  'ি',\n  'ষ',\n  'য',\n  '়',\n  'ো',\n  'ো',\n  'ো',\n  'ো',\n  'ো',\n  'ো',\n  'ো',\n  'ো',\n  'য',\n  '়',\n  'া',\n  'ই'],\n ['উ', 'প', 'া', 'চ', 'া', 'র', 'জ', 'া', 'ক', 'ে'],\n ['স', 'ম', 'া', 'জ', 'ত', 'ন', '্', 'ত', '্', 'র', 'ে', 'র', 'ই'],\n ['ক', 'া', 'ল', 'ি', 'র', 'া', 'ঙ', '্', 'ো', 'ঙ', '্', 'ো'],\n ['প', '্', 'র', 'া', 'ক', '্', 'র', 'ি', 'ত', 'া', 'ন', 'ি'],\n ['চ', 'র', 'ণ', 'া', 'য', '়', 'া', 'ও', 'য', '়', 'া'],\n ['ক', 'া', 'র', 'ে', 'ন', '্', 'ট', 'া', 'র', 'ি'],\n ['ন', 'া', 'দ', 'ি', 'য', '়', 'ে'],\n ['দ', 'ে', 'থ', 'া', 'ব'],\n ['চ', 'া', 'ন', '্', 'দ', 'া', 'ব', 'া', 'জ', 'ি'],\n ['ত', 'া', 'য', '়', 'া', 'ল', 'া', 'র'],\n ['শ', 'ে', 'র', 'শ', '্', 'ব', 'স', 'ং', 'ন', 'ি', 'ত', '্', 'র'],\n ['ব', 'া', 'স', 'ি'],\n ['ব', '্', 'য', 'ব', 'স', '্', 'ং', 'ত', 'া', 'প', 'ে'],\n ['ো', 'হ', '্', 'র', 'া', 'ট', 'া', 'র', 'ো', 'ো', 'জ', 'া', 'ন', 'া', 'ই'],\n ['ক', 'ে', 'ষ', '্', 'ট', 'া', 'ব', 'ি', 'ষ', '্', 'ট', 'ু'],\n ['স', 'ু', 'ব', '্', 'র', 'হ', '্', 'ম', 'ন', 'ভ', '্', 'য', 'া', 'য', '়'],\n ['প', '্', 'র', 'া', 'স', 'র', 'া', 'ব', 'ে', 'র'],\n ['উ',\n  'চ',\n  '্',\n  'চ',\n  'প',\n  '্',\n  'র',\n  'া',\n  'য',\n  '়',\n  'ি',\n  'ক',\n  'ন',\n  'ু',\n  'ত',\n  '্',\n  'র',\n  'ি',\n  'র'],\n ['ক',\n  'ে',\n  'ন',\n  '্',\n  'দ',\n  '্',\n  'র',\n  'া',\n  'ো',\n  'ো',\n  'ো',\n  'ো',\n  'ো',\n  'ল',\n  'ি',\n  'ত',\n  'ে',\n  'ও'],\n ['চ', 'র', 'ি', 'ত', 'ি', 'জ', '্', 'য', 'র', 'স', 'া'],\n ['ো', 'য', '়', 'া', 'ো', 'ক', 'া', 'ট', 'া', 'ল', 'া', 'ও'],\n ['ত', 'ৃ', 'ণ', 'ভ', 'া', 'ম', 'ূ', 'চ', 'ি', 'ো', 'ো', 'ল', 'ু', 'ব', 'ে'],\n ['আ', 'প', 'ে', 'ক', '্', 'ষ', 'া', 'ম', 'া', 'ন'],\n ['শ', 'য', 'া', 'র', 'া', 'র'],\n ['র', 'ং', 'ং', 'ি', 'ব'],\n ['প',\n  'ূ',\n  'র',\n  '্',\n  'ব',\n  'া',\n  'ব',\n  'ত',\n  '্',\n  'য',\n  'া',\n  'র',\n  'ী',\n  'দ',\n  'ে',\n  'র'],\n ['প', 'র', 'ি', 'চ', 'া', 'য', '়', 'ে', 'র'],\n ['ক', 'া', 'ট', 'া', 'ক', 'া', 'ট', 'া'],\n ['ও', 'য', '়', 'া', 'ল', 'ি', 'য', '়', 'া', 'ত', 'ে'],\n ['ত', '্', 'র', 'য', '়', 'দ', 'া', 'শ'],\n ['শ', '্', 'র', 'ী', 'ন', 'ক', '্', 'ষ', 'র', 'ত', 'ল', 'া', 'ও'],\n ['স', '্', 'ব', 'া', 'স', '্', 'ং', 'ং', 'স', '্', 'ং'],\n ['অ', 'ন', '্', 'ত', 'র', '্', 'ক', 'ু', 'ত', '্', 'ব', 'া', 'স'],\n ['আ', 'ব', 'া'],\n ['প', '্', 'র', 'া', 'ব', 'ি', 'র', 'দ', '্', 'ধ'],\n ['চ', 'ে', 'ন', 'া', 'য', 'ু', 'ক', '্', 'ত'],\n ['শ', 'ি', 'শ', 'ু', 'শ', 'ি', 'ল', '্', 'প', 'ী', 'দ', 'ে', 'র'],\n ['ই', 'ন', '্', 'ট', 'া', 'র', 'স', 'ে', 'ন', '্', 'ট', 'ে'],\n ['প', '্', 'র', 'ত', 'ি', 'ষ', '্', 'ঠ', 'া', 'ন', 'ী'],\n ['স', '্', 'ম', 'ৃ', 'ত', 'ি', 'ব', 'ি', 'জ', 'া', 'দ', 'ি', 'ৎ'],\n ['ম', 'া', 'র', 'া', 'চ', 'ে'],\n ['ক', 'া', 'ও', 'য', '়', 'া', 'ব', 'া', 'ত', 'া'],\n ['এ', 'থ', 'থ', 'া', 'ই', 'ন'],\n ['র', 'া', 'থ', 'ি', 'য', '়', 'া'],\n ['ঘ',\n  'া',\n  'ট',\n  'া',\n  'ন',\n  'া',\n  'স',\n  '্',\n  'ং',\n  'ত',\n  'া',\n  'ল',\n  'ু',\n  'ো',\n  'ো',\n  'ো',\n  'ো',\n  'ত',\n  'ে'],\n ['জ', 'গ', 'া', 'ত', 'া', 'খ', 'ো', 'ো', 'র'],\n ['শ', 'গ', 'া', 'ভ', 'া', 'ত', '্', 'র', 'া', 'য', '়'],\n ['আ', 'হ', 'া', 'চ', 'ে', 'ন', 'া'],\n ['ব', '্', 'র', 'া', 'ণ', 'স', 'া', 'ন', 'া', 'স', 'া', 'হ'],\n ['য', 'া', 'স', 'া', 'প', '্', 'য', 'র', 'া', 'জ', 'া', 'ম', 'স', 'ে', 'র'],\n ['স', '্', 'ম', 'ৃ', 'ত', 'ি', 'স', 'ৌ', 'ধ', 'ে'],\n ['ধ', 'া', 'ক', 'া', 'স', 'া', 'হ'],\n ['ছ', 'গ', 'ন', 'া', 'য', '়'],\n ['শ', 'ৃ', 'ঙ', '্', 'থ', 'থ', 'ঙ', 'ও', 'য', '়', 'া', 'ব', 'ে'],\n ['প', 'দ', 'া', 'শ', 'ন', 'া'],\n ['ব', 'দ', 'র', 'ু', 'দ', '্', 'দ', 'ী', 'ন', 'ে', 'র'],\n ['ত', 'ু', 'ষ', '্', 'ট', 'া', 'ন'],\n ['দ', 'ে', 'ব', 'ে', 'ন', '্', 'দ', '্', 'র', 'ে'],\n ['থ', '্', 'র', 'ু'],\n ['ব',\n  'ি',\n  'দ',\n  '্',\n  'য',\n  'ু',\n  'ক',\n  'ে',\n  'ন',\n  '্',\n  'দ',\n  'ু',\n  'র',\n  '্',\n  'ল',\n  'ু',\n  'র'],\n ['ক', 'া', 'ঠ', 'া', 'ব', 'ি', 'ল', 'দ', 'ি', 'ক', 'ে'],\n ['ত', 'প', 'শ', 'ি', 'ত'],\n ['ট', '্', 'র', 'া', 'ন', '্', 'স', 'ি', 'ট'],\n ['ো', 'ড', 'ু', 'ো', 'জ', 'া', 'র'],\n ['ব', 'া', 'স', '্', 'ত', 'ব', 'য', '়', 'ি', 'ত'],\n ['ই', 'ম', '্', 'প', 'র', '্', 'ত', 'া', 'র', 'স', 'া', 'দ', 'ে', 'র'],\n ['শ', 'গ', 'ন', 'ন', 'গ', '্', 'র', 'গ', '্', 'ন'],\n ['স', 'খ', '্', 'ল', 'খ', '্', 'ব', 'জ', '্', 'ঞ', 'ত', 'া'],\n ['আ', 'শ', 'প', 'া', 'র', 'া', 'ো', 'জ', 'া', 'স', 'ে', 'র'],\n ['ম', 'হ', 'া', 'জ', 'া', 'ত', 'গ', 'ণ', 'ব', 'া', 'ন', 'ে'],\n ['ন', 'ি', 'য', '়', 'ে', 'ছ', 'ে', 'হ'],\n ['অ', 'ন', 'ু', 'ভ', 'ূ', 'ত', 'ি', 'ত', 'ে'],\n ['অ', 'ভ', 'ি', 'ন', 'া', 'য', '়', 'ক', 'র', '্', 'ম', 'ে', 'র'],\n ['ো', 'জ', 'া', 'ন', 'া', 'ভ', 'া', 'ন', 'ে', 'র'],\n ['ক', 'প', 'ে'],\n ['প', 'র', 'ে', 'ক', 'শ', 'ী', 'র', '্', 'ং', 'ধ', 'ে'],\n ['প',\n  '্',\n  'র',\n  'শ',\n  'খ',\n  'ন',\n  'া',\n  'স',\n  '্',\n  'য',\n  'া',\n  'ভ',\n  'া',\n  'য',\n  '়',\n  'ে',\n  'ব',\n  'া',\n  'ব',\n  'ে',\n  'ই'],\n ['ম', 'ে', 'র', 'া', 'জ', 'া', 'ন', 'ে', 'র'],\n ['দ', 'ি', 'র', 'ে', 'ক', '্', 'র', 'ত', 'া', 'র', 'া', 'ও'],\n ['প', 'ে', 'শ', 'া', 'জ', 'ী', 'ব', 'ু', 'দ', 'ে', 'র', 'ও'],\n ['শ', 'া', 'হ', 'া', 'জ', 'া', 'ন', 'া'],\n ['প', '্', 'র', 'ত', 'ি', 'ক', '্', 'র', 'ি', 'য', '়', 'া', 'ক', 'ে', 'ই'],\n ['ব', 'া', 'র', 'া', 'ব', 'া', 'র', 'ে', 'র'],\n ['জ', 'গ', 'ি', 'ন', 'া'],\n ['প', 'া', 'দ', 'া', 'ত', 'া', 'ম'],\n ['স', 'ি', 'ল', 'া', 'ই'],\n ['প', '্', 'র', 'ত', 'ি', 'ব', 'া', 'চ', 'া', 'র', 'া', 'ই'],\n ['দ', 'ি', 'য', '়', 'া', 'র', 'া', 'ত', 'ে'],\n ['ো', 'য', 'া', 'ড', 'ি', 'ট', 'া'],\n ['ব',\n  'ক',\n  'স',\n  'া',\n  'ো',\n  'ো',\n  'ো',\n  'ো',\n  'ো',\n  'ো',\n  'ো',\n  'ো',\n  'ো',\n  'ো',\n  'ো',\n  'ো',\n  'ো',\n  'ল',\n  'গ',\n  'ু'],\n ['ক', 'ে', 'ল', 'ে', 'খ', 'ো', 'ো', 'ো', 'র', '্', 'ভ', 'া', 'র'],\n ['ব', 'া', 'র', '্', 'ষ', 'ি', 'ক', 'ি', 'ত', 'ে'],\n ['দ', 'ে', 'শ', 'া', 'দ', '্', 'র', 'গ', 'ি', 'হ'],\n ['ব', 'ন', 'দ', 'ু', 'ক', 'য', 'ু', 'দ', '্', 'ধ', 'ে', 'র'],\n ['ন', 'ি', 'প', 'ে', 'ন', 'ক', 'দ', 'া', 'র', 'ী', 'র', 'া'],\n ['প', 'র', 'ী', 'ক', '্', 'ষ', '্', 'র', 'া', 'ং', 'ক', 'ী', 'র'],\n ['ো', 'প', 'গ', 'া', 'ল', 'া', 'দ', 'া', 'র'],\n ['ত', 'া', 'ন', 'া', 'চ', 'ে'],\n ['প',\n  '্',\n  'র',\n  'া',\n  'জ',\n  'ি',\n  'ক',\n  'প',\n  'ত',\n  '্',\n  'ত',\n  'ু',\n  'র',\n  '্',\n  'য',\n  'া',\n  'চ',\n  '্',\n  'ছ',\n  'ে'],\n ['অ', 'র', '্', 'ং', 'ত', 'া', 'ব', 'া', 'চ', 'া', 'হ', 'ী'],\n ['দ', '্', 'ব', 'ি', 'প', 'র', 'ে', 'জ', 'ি'],\n ['ো', 'ব', 'ে', 'ভ', 'া', 'স', 'ে', 'ন', 'া', 'ো', 'ো', 'ক', 'র', 'া', 'প'],\n ['প', '্', 'র', 'া', 'ম', 'া', 'ো', 'ো', 'ো', 'ো', 'ো'],\n ['ম', 'া', 'ন', 'ু', 'ষ', '্', 'ট', 'া', 'ক', 'ে'],\n ['স', 'া', 'ভ', 'া', 'ত', 'া'],\n ['ক', 'র', '্', 'ম', 'া', 'ধ', '্', 'য', 'ক', '্', 'ষ', 'া'],\n ['ভ', 'া', 'ল', 'ব', 'া', 'স', 'া', 'ত', 'ে', 'ন'],\n ['ব', 'গ', 'ট', 'ে', 'ব', 'ি', 'র', 'ল'],\n ['প', 'ূ', 'র', '্', 'ব', 'ে', 'থ', 'ভ', 'া', 'ন', '্', 'য', 'ে'],\n ['প', 'া', 'ং', 'ং', 'স', 'া'],\n ['ক',\n  'ু',\n  'য',\n  '়',\n  'া',\n  'র',\n  '্',\n  'ট',\n  'ে',\n  'র',\n  'ো',\n  'ো',\n  'ো',\n  'ল',\n  'জ',\n  'া',\n  'ত',\n  'ে'],\n ['র', 'া', 'ঙ', '্', 'ো', 'জ', '্', 'ঞ', 'ে'],\n ['আ', 'জ', 'া', 'ল', 'া', 'ফ', 'া'],\n ['থ', 'া', 'ব', 'থ', 'ু', 'থ', 'া'],\n ['ছ', 'া', 'দ', 'া', 'ন', 'া', 'র'],\n ['ক', 'ি', 'ন', 'া', 'ব', 'ে'],\n ['স', 'ন', '্', 'ত', 'া', 'ন', 'া', 'স', 'া', 'হ'],\n ['ো', 'জ', 'ন', 'ত', '্', 'ব', 'া', 'ত', 'র', 'ু', 'ম', 'ি', 'ন', 'ি', 'ভ'],\n ['চ', 'া', 'ট', 'া', 'চ', 'া', 'ত'],\n ['ক', 'গ', 'া', 'র', 'ণ', 'া', 'প', 'ন', 'ি', 'ধ', 'ে', 'ত', 'ে', 'র'],\n ['ম', 'হ', 'া', 'ত', 'া', 'ব', 'া', 'প', 'ু', 'র', 'ে', 'ও'],\n ['ছ', 'ু', 'ট', 'া', 'ল'],\n ['অ', 'ব', 'র', '্', 'ত', 'ম', 'া', 'ন', 'ে'],\n ['ন', 'ৃ', 'শ', 'া', 'খ', 'ো', 'ো', 'ো', 'স', 'ন', 'া'],\n ['ক', '্', 'য', 'া', 'ন', 'ি', 'র'],\n ['র', 'ু', 'প', 'া', 'ক', 'া', 'ল', '্', 'প'],\n ['ত', 'া', 'প', 'া', 'ন', 'ি', 'ক'],\n ['প', 'া', 'র', '্', 'ং', 'র'],\n ['এ', 'ই', 'ম', 'া', 'ত', '্', 'র'],\n ['আ', 'ই', 'ন', 'শ', 'ৃ', 'ঙ', '্', 'থ', 'ল', 'া'],\n ['ো', 'ো', 'ো', 'ো', 'জ', 'র', 'ি', 'র'],\n ['ব',\n  '্',\n  'য',\n  'ব',\n  'হ',\n  'া',\n  'র',\n  'া',\n  'ক',\n  'া',\n  'র',\n  'ী',\n  'দ',\n  'ে',\n  'র',\n  'ক',\n  'ে',\n  'ও'],\n ['প',\n  '্',\n  'য',\n  'া',\n  'ন',\n  '্',\n  'ড',\n  'ে',\n  'ল',\n  'া',\n  'ো',\n  'ো',\n  'ো',\n  'ো',\n  'ো',\n  'ো',\n  'ো',\n  'ো',\n  'ো',\n  'ো',\n  'ো',\n  'ো',\n  'ো',\n  'ো',\n  'ো',\n  'ো',\n  'ো',\n  'ো',\n  'ো',\n  'ো',\n  'ো',\n  'ক'],\n ['ক', 'া', 'ট', 'া', 'ক', 'া', 'ই', 'ট', 'া', 'র'],\n ['প', 'া', 'র', 'া', 'প', 'া', 'র', 'ে'],\n ['ল', 'া', 'উ', 'র', 'া'],\n ['প', 'র', 'ি', 'ব', 'া', 'শ', 'া', 'য', '়'],\n ['অ', 'ব', 'স', '্', 'ং', 'ত', 'া', 'য', '়'],\n ['ত', 'া', 'শ', 'ে', 'ম'],\n ['ত', 'ত', '্', 'ব', 'ত', 'া'],\n ['দ', 'া', 'ন', '্', 'ড', 'ি', 'য', '়', 'প', 'া', 'ড', '়', 'া', 'য', '়'],\n ['দ', 'া', 'ফ', 'া', 'ন', 'ে', 'র'],\n ['ভ', 'ু', 'ম', 'া'],\n ['স', 'ন', '্', 'ত', 'ি', 'ষ', '্', 'ঠ', 'া', 'ম', 'া', 'ন', 'ে'],\n ['প', '্', 'য', 'া', 'ন', '্', 'ট', 'ো', 'ো', 'ো', 'ো', 'ো', 'ো', 'ো', 'ল'],\n ['য', 'গ', 'া', 'দ', 'া', 'ন', 'া', 'ক', 'া', 'র', 'ী'],\n ['ছ', 'া', 'য', '়', 'া', 'ছ', 'া', 'ব', 'ি'],\n ['স', 'ম', '্', 'প', 'ৌ', 'র', 'ভ', 'া', 'ন', 'ে'],\n ['ব', 'া', 'র', 'া', 'ব', 'া', 'র', 'গ', 'ে', 'স'],\n ['ঝ', 'া', 'প', 'া', 'স', 'া'],\n ['দ', 'া', 'ও', 'য', '়', 'া', 'র'],\n ['আ',\n  'ন',\n  '্',\n  'ত',\n  'ন',\n  'া',\n  'র',\n  '্',\n  'ব',\n  'ি',\n  'র',\n  'শ',\n  'া',\n  'ল',\n  'ত',\n  'া'],\n ['আ', 'স', 'ি', 'ত', 'ে'],\n ['স', 'খ', 'ন', 'স', '্', 'ং', 'জ', 'ী', 'হ'],\n ['ভ', '্', 'র', 'ম', 'ণ', 'ক', 'র', 'ী', 'দ', 'ে', 'র', 'ক', 'ে'],\n ['আ', 'ন', 'া', 'ল', 'ে', 'ন'],\n ['ো', 'য', 'া', 'ম', '্', 'য', 'া', 'জ', 'া', 'ম', 'ি'],\n ['ক', 'ৃ', 'ষ', 'ক', 'া', 'ল', 'ী', 'ো', 'ো', 'ো', 'জ', 'ে', 'র'],\n ['আ', 'ন', 'ু', 'জ', 'া', 'য', '়', 'ী'],\n ['প', '্', 'র', 'া', 'শ', 'ন', 'ত', '্', 'ত', 'া', 'র', 'ে', 'র'],\n ['ক', 'া', 'ট', 'া', 'র'],\n ['ো', 'য', '়', 'া', 'ো', 'ফ', 'া', 'র', 'ট', 'া', 'র', 'ে'],\n ['চ', 'ে', 'ঞ', '্', 'চ', 'া', 'ম', 'ে', 'ছ', 'ি'],\n ['র', 'া', 'থ', 'থ', 'ু', 'থ'],\n ['স', 'ৌ', 'ম', '্', 'য', 'শ', '্', 'চ'],\n ['ত', 'া', 'প', 'া', 'ক', 'া'],\n ['জ', 'ে', 'ল', 'া', 'থ', 'া', 'থ', 'া', 'য', '়', 'া', 'ন'],\n ['ক', 'ে', 'ন', '্', 'দ'],\n ['ফ', 'া', 'ন', '্', 'ড', 'া', 'ট', 'ি', 'র'],\n ['য', 'ু', 'দ', '্', 'ধ', 'া', 'ক', 'া', 'র', 'ী', 'দ', 'ে', 'র'],\n ['ঝ', 'া', 'ম', 'ে', 'ল', 'া', 'র'],\n ['ট', 'া', 'ক', 'া', 'ট', 'ে', 'ই'],\n ['ম', 'া', 'শ', 'া', 'ক'],\n ['ত', 'ি', 'ত', 'ে', 'ই'],\n ['ব', 'ি', 'শ', 'ি', 'ষ', '্', 'ঠ', 'া', 'দ', 'ে', 'র'],\n ['ব', 'া', 'হ', 'ু', 'দ', 'ু', 'র'],\n ['চ', 'া', 'ল', 'া', 'চ', 'া', 'ল', 'ে'],\n ['ক', 'া', 'ং', 'ং', 'ং', 'শ', 'ি', 'ব', 'ে', 'ক', 'ে'],\n ['ই', 'ল', 'ে', 'ক', '্', 'ট', '্', 'র', 'গ', 'ন', 'ি', 'ক'],\n ['ো', 'য', '়', 'া', 'ব', 'া', 'র', 'ু', 'ম', 'া', 'য', '়'],\n ['হ', 'া', 'ন', 'ফ'],\n ['স', '্', 'ম', 'র', 'ণ', 'ী', 'র', 'া'],\n ['ম',\n  'া',\n  'র',\n  '্',\n  'ক',\n  'ে',\n  'ট',\n  'া',\n  'ো',\n  'ো',\n  'ো',\n  'ো',\n  'ো',\n  'ো',\n  'ো',\n  'ল'],\n ['চ', 'া', 'ন', '্', 'দ'],\n ['প',\n  '্',\n  'র',\n  'া',\n  'ত',\n  'ি',\n  'য',\n  'গ',\n  'ি',\n  'ত',\n  'া',\n  'ো',\n  'ো',\n  'ো',\n  'ো',\n  'ো',\n  'ক',\n  'ু',\n  'ল',\n  'ি'],\n ['স', 'া', 'র', 'া', 'ভ', 'া', 'ন'],\n ['ো', 'জ', 'া', 'র', 'ো', 'জ', 'ন', 'া', 'ই'],\n ['স', 'া', 'ক', '্', 'ষ', '্', 'ট', 'া', 'ক', 'া', 'র', 'ী', 'র', 'া'],\n ['ভ', 'া', 'ষ', 'ত', 'ত', '্', 'ত', '্', 'ব', 'ি', 'ক', 'ও'],\n ['স', 'হ', 'ি', 'খ', 'স', 'া', 'ন', 'া', 'য', '়'],\n ['ধ', 'র', '্', 'ম', 'ী', 'য', '়', 'দ', 'ে', 'র', 'ক', 'ে'],\n ['উ',\n  'চ',\n  '্',\n  'চ',\n  'শ',\n  'ি',\n  'ম',\n  'া',\n  'ক',\n  '্',\n  'ষ',\n  'ণ',\n  '্',\n  'ত',\n  '্',\n  'র',\n  'ী'],\n ['প',\n  '্',\n  'র',\n  'ত',\n  'ি',\n  'ষ',\n  '্',\n  'ঠ',\n  'া',\n  'ন',\n  'া',\n  'ো',\n  'প',\n  'ু',\n  'ল',\n  'া',\n  'ভ',\n  'ে'],\n ['র', 'া', 'ম', 'া', 'ভ', 'ক', '্', 'ত', 'ি', 'ক', 'ে'],\n ['ব', 'ৃ', 'হ', 'স', '্', 'ত', 'ি', 'প', 'ব', 'া', 'র', 'ী'],\n ['ত', 'ং', 'ক', '্', 'ষ', 'র', '্', 'য', 'প', 'ূ', 'র', 'ি', 'ক'],\n ['ল', 'ক', '্', 'ষ', 'ণ', 'ী', 'য', '়'],\n ['দ', 'ে', 'থ', 'ি', 'ল'],\n ['য',\n  'া',\n  'ন',\n  'া',\n  'ো',\n  'ো',\n  'ো',\n  'ো',\n  'ো',\n  'ো',\n  'ো',\n  'ো',\n  'ো',\n  'ো',\n  'ো',\n  'ো',\n  'ো',\n  'ো',\n  'ো',\n  'ো',\n  'ো',\n  'ো',\n  'চ',\n  'ে'],\n ['ব', '্', 'র', '্', 'য', 'া', 'ন', '্', 'ড', 'ো', 'ো', 'ো', 'ো', 'ো', 'ল'],\n ['ম',\n  'া',\n  'ম',\n  'া',\n  'ত',\n  'গ',\n  'গ',\n  'গ',\n  'গ',\n  'গ',\n  'গ',\n  'গ',\n  'গ',\n  'গ',\n  'গ',\n  'গ',\n  'গ',\n  'গ',\n  'গ',\n  'গ',\n  'গ',\n  'গ',\n  'গ',\n  'গ',\n  'গ',\n  'গ',\n  'গ',\n  'গ',\n  'গ',\n  'গ',\n  'গ',\n  'গ'],\n ['স', '্', 'ব', 'ল', '্', 'প', 'ন', '্', 'ন', 'ত'],\n ['ঝ', 'া', 'ল', 'া', 'ক', 'া', 'ন', 'ি'],\n ['চ', 'া', 'ই', 'ল', 'া', 'ম'],\n ['শ', '্', 'ল', 'ী', 'ল', 'ত', 'া', 'হ', 'া', 'ন', 'ি'],\n ['আ', 'ধ', 'ি', 'ক', 'া', 'র', 'ি', 'ক', 'া', 'ক', 'ে'],\n ['ম', 'ু', 'ক', 'া', 'দ', 'া', 'স'],\n ['ত', 'র', 'ু', 'ণ', 'প', 'ূ', 'র', '্', 'ত', 'প', '্', 'র', 'ী', 'ম', 'ূ'],\n ['ো', 'জ', 'া', 'ন', 'ো', 'ো', 'জ', '্', 'ঞ', 'া', 'ক', 'া', 'র', 'ু', 'ও'],\n ['প', 'া', 'র', 'ি', 'ছ', 'ে', 'দ'],\n ['ো', 'জ', 'া', 'জ', 'ি', 'য', '়', 'ে'],\n ['ো', 'জ', 'া', 'র', 'া', 'ফ', 'া'],\n ['এ', 'ত', 'া', 'ক', '্', 'ষ', 'ণ'],\n ['ল', 'ি', 'হ'],\n ['অ', 'ভ', 'ি', 'য', '়', 'ো', 'ো', 'ো', 'ো', 'ট', 'া', 'ই'],\n ['প', '্', 'র', 'ে', 'ত', 'া', 'ঘ', 'া', 'ত', 'খ'],\n ['ঘ', 'ু', 'ম', 'া', 'র', 'ে'],\n ['আ', 'ই', 'ন', 'া', 'ট', 'ি', 'র'],\n ['ফ', 'ু', 'ট', 'া', 'ছ', 'ে'],\n ['চ', 'ু', 'র', 'গ', 'ই'],\n ['র',\n  'ব',\n  'ে',\n  'ন',\n  '্',\n  'দ',\n  '্',\n  'র',\n  'া',\n  'ন',\n  'া',\n  'ব',\n  'ত',\n  'া',\n  'হ',\n  'া',\n  'র',\n  'ু'],\n ['স', 'ু', 'ব', 'ি', 'ধ', 'া', 'ভ', 'া', 'ন', 'চ', 'ি', 'ৎ'],\n ['য', 'া', 'স', '্', 'ত', '্', 'র', 'ক', 'ে'],\n ['প',\n  '্',\n  'র',\n  'ত',\n  'ি',\n  'ষ',\n  '্',\n  'ঠ',\n  'া',\n  'ো',\n  'ো',\n  'ো',\n  'ো',\n  'ো',\n  'ো',\n  'ো',\n  'ো',\n  'ো',\n  'ো',\n  'ো',\n  'ো',\n  'ো',\n  'ো',\n  'ল'],\n ['ব', 'া', 'চ', '্', 'চ', 'া', 'ট', 'া'],\n ['ব', 'ি', 'শ', '্', 'ব', 'জ', 'ু', 'দ', 'ে'],\n ['ব', 'ি', 'ত', 'া', 'র', 'া', 'ন', 'ে'],\n ['স', 'া', 'ফ', 'া', 'ত', 'া', 'য', '়', 'া', 'য', '়', 'া', 'র'],\n ['ঘ', 'ু', 'র', 'া', 'প', 'া', 'ক'],\n ['ন', 'ৌ', 'ম', 'ন', '্', 'ত', '্', 'র', 'ী'],\n ['ল', 'ি', 'ন', 'ক', 'ম', '্', 'য', 'া', 'ন', '্', 'ড', 'ে', 'র'],\n ['প', 'া', 'র', 'া', 'ছ', 'ে', 'ন', 'া'],\n ['ন', 'ব', 'া', 'ব', 'া', 'ো', 'ো', 'ো', 'ো'],\n ['ন', 'ে', 'ত', 'া', 'ক', 'র', '্', 'ম', 'ী', 'স'],\n ['দ', '্', 'ব', 'ি', 'ধ', 'া', 'য', '়'],\n ['ক', 'ি', 'ন', 'া', 'ল', 'ে', 'ন'],\n ['উ', 'ভ', 'া', 'য', '়', 'প', 'া', 'ক', '্', 'ষ', 'ে', 'র'],\n ['ছ', 'ত', '্', 'র', 'ক', 'ল', '্', 'য', 'া', 'ণ', 'ে', 'র'],\n ['আ', 'স', 'া', 'খ', 'ন', 'ি', 'দ', 'া', 'ো', 'ব', 'ি', 'ো'],\n ['হ',\n  'া',\n  'ত',\n  'া',\n  'ব',\n  'া',\n  'য',\n  '়',\n  'ো',\n  'ো',\n  'ো',\n  'ো',\n  'প',\n  'া',\n  'ো',\n  'ো',\n  'ো',\n  'ো',\n  'ো',\n  'ো',\n  'ো',\n  'জ',\n  'ু',\n  'ল',\n  'গ'],\n ['ক', 'ি', 'প', 'া', 'র', 'া', 'ও'],\n ['ক', 'ু', 'ন', '্', 'দ', 'ন', 'ন', '্', 'দ', 'ি', 'ন', 'ী'],\n ['আ', 'ত', 'চ', 'া', 'ল', 'া', 'ক'],\n ['ো', 'জ', '্', 'ঞ', 'া', 'র'],\n ['ো', 'য', '়', 'া', 'ো', 'ো', 'ো', 'ল', 'ি', 'য', '়', 'া', 'ন', 'ি', 'র'],\n ['আ', 'ল', 'া', 'ই', 'হ', 'ি', 'স'],\n ['ক', 'া', 'শ', 'ি', 'প', 'া', 'উ'],\n ['আ', 'ত', 'া', 'জ', 'ন', 'ে', 'র'],\n ['ব', 'দ', 'ন', 'া', 'ন', 'া', 'র', 'ু', 'ব', 'ি', 'ল'],\n ['প', '্', 'র', 'শ', 'খ', 'ন', 'ো', 'জ', 'ী', 'য', '়', 'ে'],\n ['ত', 'া', 'ন', 'া', 'জ', 'ু', 'র', 'ু', 'ন', 'ে', 'র'],\n ['প', 'ে', 'ট', 'া', 'ন', 'া', 'র'],\n ['ম', 'ু', 'হ', 'র', '্', 'ত', 'ো', 'ো', 'ো', 'ো', 'ো', 'ো', 'ল'],\n ['আ', 'ন', 'া', 'ব'],\n ['এ', 'ক', 'া', 'ট', 'ি', 'ও'],\n ['ক', 'র', '্', 'ম', 'প', 'র', 'ি', 'ব', 'ে', 'শ'],\n ['য', 'ং', 'ত', 'ে', 'ষ'],\n ['ো', 'ফ', 'ে', 'র', 'া', 'জ', 'া', 'ত', 'ে'],\n ['ধ', 'ে', 'য', '়', 'ে'],\n ['প',\n  '্',\n  'র',\n  'া',\n  'ত',\n  'ি',\n  'য',\n  'গ',\n  'া',\n  'ত',\n  'ি',\n  'ো',\n  'ো',\n  'ো',\n  'ো',\n  'ো',\n  'ো',\n  'ো',\n  'ো',\n  'ো',\n  'ল',\n  'ি',\n  'ত',\n  'ে',\n  'ও'],\n ['ো', 'য', '়', 'া', 'ত', 'া', 'ব', 'া', 'র'],\n ['দ', 'া', 'ক', 'া', 'ত', 'া', 'দ', 'ল'],\n ['অ', 'প', 'া', 'ম', 'া', 'য', '়', 'ন', 'ে'],\n ['ম',\n  'ন',\n  'গ',\n  'ণ',\n  'া',\n  'র',\n  '্',\n  'ন',\n  'য',\n  '়',\n  'ত',\n  'প',\n  '্',\n  'ব',\n  'ী',\n  'হ'],\n ['ল', 'গ', 'া', 'র', 'া'],\n ['ম',\n  'ি',\n  'ত',\n  '্',\n  'র',\n  'শ',\n  'ক',\n  '্',\n  'ত',\n  'ি',\n  'ো',\n  'ো',\n  'ো',\n  'ো',\n  'ো',\n  'ল',\n  'ি',\n  'র'],\n ['স', 'া', 'ক', '্', 'ষ', 'া', 'ৎ', 'ক', 'া', 'র', 'ী', 'র', 'া'],\n ['ত', 'ু', 'র', '্', 'ক', 'ি', 'দ', 'ে', 'র', 'ক', 'ে'],\n ['য', 'া', 'জ', 'া', 'ো', 'ট', 'ি'],\n ['দ',\n  'ু',\n  'র',\n  '্',\n  'ঘ',\n  'া',\n  'ত',\n  'া',\n  'ন',\n  'া',\n  'ো',\n  'ো',\n  'ো',\n  'ো',\n  'ো',\n  'ো',\n  'ল'],\n ['ফ', 'া', 'ট', 'া', 'ও', 'য', '়', 'া'],\n ['দ',\n  'ে',\n  'শ',\n  'া',\n  'ো',\n  'ো',\n  'ো',\n  'ো',\n  'ো',\n  'ো',\n  'ো',\n  'ল',\n  'ু',\n  'ক',\n  'ে',\n  'ও'],\n ['আ', 'ভ', 'ি', 'য', 'ু', 'ক', '্', 'ত', 'া', 'র', 'া'],\n ['ই', 'ভ', 'া', 'ন', 'া', 'হ', 'ু'],\n ['ভ', 'া', 'ব', 'া', 'ই'],\n ['ো', 'জ', 'া', 'র', 'া', 'ফ', 'া'],\n ['থ', 'া', 'থ', 'ল', 'ু', 'ল'],\n ['স', 'ৌ', 'হ', '্', 'য', 'চ', 'ি', 'ত', '্', 'র', 'া', 'চ', 'ত', 'ে', 'ও'],\n ['চ', 'ে', 'ত', 'া', 'ন', 'া', 'য', '়'],\n ['শ', 'া', 'ন', 'ি', 'ত', 'ে'],\n ['ব', '্', 'য', 'ক', '্', 'ত', 'ি', 'ন', 'ি', 'ষ', '্', 'ঠ'],\n ['দ', 'ু', 'ব', 'ৃ', 'ত', '্', 'ত', 'া', 'ম', 'ূ', 'ল', 'ক'],\n ['দ', 'া', 'য', '়', 'া', 'ব', 'দ', '্', 'ধ'],\n ['ব', '্', 'য', 'া', 'থ', '্', 'য', 'া', 'য', '়'],\n ['হ', 'ল', 'া', 'ফ', 'া', 'ন', 'া', 'ম', 'া'],\n ['প', '্', 'র', 'ম', 'া', 'ণ', 'ি', 'ত', 'া'],\n ['ম',\n  'ন',\n  '্',\n  'ত',\n  '্',\n  'র',\n  'া',\n  'ো',\n  'ো',\n  'ো',\n  'ো',\n  'ো',\n  'ো',\n  'ল',\n  'ু',\n  'ত',\n  'ে'],\n ['ই', 'উ', 'ি', 'ক', 'ু', 'ম', 'ি', 'ড', 'ি', 'য', '়', 'া'],\n ['প', 'র', 'ক', 'ি', 'য', '়', 'া', 'র'],\n ['ো', 'ঘ', 'ু', 'শ', 'ি'],\n ['ো',\n  'ব',\n  'ি',\n  'দ',\n  '্',\n  'ঞ',\n  'া',\n  'ন',\n  'ো',\n  'ো',\n  'ো',\n  'ো',\n  'ো',\n  'য',\n  '়',\n  'া',\n  'র',\n  'ে',\n  'র'],\n ['ত', 'ু', 'ল', 'া', 'ব'],\n ['প', 'ু', 'ষ', 'ি', 'য', '়', 'ে'],\n ['স',\n  '্',\n  'ত',\n  '্',\n  'র',\n  'ী',\n  'ক',\n  'ল',\n  'া',\n  'ম',\n  'া',\n  'ত',\n  '্',\n  'র',\n  'ে',\n  'ই'],\n ['ং', 'ং', 'ক', 'ঠ', 'ে'],\n ['আ', 'দ', '্', 'ভ', 'ু', 'ত', 'ু', 'দ', 'ে'],\n ['স', 'ু', 'প', 'া', 'র', 'ভ', 'া', 'ই', 'ট', 'হ', 'া', 'ব', 'ল'],\n ['ম', 'ন', '্', 'ত', 'া', 'ব', '্', 'য', 'স', 'ম', 'ূ', 'হ'],\n ['উ', 'প', 'া', 'ম', 'ক', '্', 'স', 'ি', 'ও', 'য', '়', 'ে', 'ন', 'া', 'র'],\n ['য', 'ন', '্', 'ত', '্', 'র', 'ন', 'া', 'র'],\n ['থ', 'া', 'থ', 'া', 'ব', 'ে'],\n ['ব', 'া', 'ত', 'া', 'ট', 'ি'],\n ['প', '্', 'র', 'ি', 'ত', 'া', 'র', 'ী', 'য', '়'],\n ['স',\n  'খ',\n  '্',\n  'য',\n  'া',\n  'ন',\n  'ম',\n  'দ',\n  '্',\n  'দ',\n  'া',\n  'ম',\n  'ো',\n  'য',\n  '়',\n  'ে',\n  'ই'],\n ['ঘ', 'ে', 'র', 'া', 'ও', 'য', '়', 'া'],\n ['স', 'া', 'ন', '্', 'ধ', 'ী'],\n ['ভ', 'ে', 'ট', 'া', 'র', 'ে', 'ট', 'গ', 'গ', 'ে', 'ও'],\n ['ক', 'ৃ', 'ষ', '্', 'ণ', 'ম', 'ন', '্', 'ত', '্', 'র', 'ী'],\n ['ব', '্', 'র', 'গ', 'ন', 'া', 'ম', 'ি', 'ক', '্', 'ট'],\n ['হ', 'া', 'ই', 'ত', 'ে', 'ই'],\n ['আ', 'শ', 'া', 'ল', 'ী', 'ন'],\n ['ব', 'ি', 'ষ', 'া', 'ক', '্', 'ষ', 'প', '্', 'র', 'া', 'ণ', 'ী'],\n ['উ',\n  'চ',\n  '্',\n  'চ',\n  'শ',\n  'ি',\n  'ব',\n  '্',\n  'য',\n  'ক',\n  '্',\n  'ষ',\n  'া',\n  'স',\n  '্',\n  'ব',\n  'া',\n  'ং'],\n ['ো', 'য', 'া', 'ড', 'ি', 'ব', 'া', 'হ', 'া', 'র', 'ে'],\n ['এ', 'ত', 'া', 'দ', 'ি', 'ন', 'ে', 'র'],\n ['স',\n  '্',\n  'ো',\n  'ো',\n  'ো',\n  'ো',\n  'ো',\n  'ো',\n  'ো',\n  'ো',\n  'ো',\n  'ো',\n  'ো',\n  'ো',\n  'ো',\n  'ো',\n  'ো',\n  'ো',\n  'ো',\n  'ো',\n  'ো',\n  'ো',\n  'ো',\n  'ো',\n  'ো',\n  'ো',\n  'ো',\n  'ো',\n  'ো',\n  'ব',\n  'ো',\n  'ো'],\n ['প', 'া', 'র', 'া', 'ব', 'ি'],\n ['প', '্', 'র', 'া', 'জ', 'ু', 'ক', 'ৃ', 'ত', 'ি', 'ত', 'ে'],\n ['ঐ', 'ক', '্', 'য', 'ফ', '্', 'র', 'ণ', '্', 'ট'],\n ['আ', 'ন', 'ু', 'জ', 'া', 'য', '়', 'ী'],\n ['ম', '্', 'য', 'া', 'ট'],\n ['দ', '্', 'ব', 'ি', 'ষ', 'া', 'স', 'ন'],\n ['ত', 'ি', 'ল', 'ে'],\n ['ন', '্', 'য', 'া', 'শ', 'ন', 'ে', 'ল', 'ে', 'ও'],\n ['ক', 'া', 'ব', 'জ', 'া', 'ব', 'া'],\n ['ম', 'ি', 'ল', 'া', 'ন', 'া', 'য', '়', 'ত', 'ন'],\n ['ো', 'প', 'গ', 'ন', 'ি', 'য', '়', 'ত', 'া'],\n ['প', '্', 'র', 'ে', 'ম', 'ে', 'ন', '্', 'দ', '্', 'র', 'ব', 'া', 'ব', 'ু'],\n ['উ', 'প', 'া', 'দ', '্', 'র', 'ব'],\n ['ত', 'া', 'ত', 'া', 'র', 'া', 'র', 'ু', 'স', 'া'],\n ['ক', 'ে', 'দ', 'ব', 'ল', 'ি', 'উ'],\n ['প', '্', 'র', 'ব', 'ল', 'া', 'প', '্', 'র', 'ি', 'চ', 'া', 'র'],\n ['স', 'র', '্', 'ব', 'া', 'জ', 'ন', 'া', 'প', 'ং', 'ট', 'া', 'র'],\n ['ত', 'গ', 'া', 'র'],\n ['ক', '্', 'ষ', 'ু', 'ত', 'ি', 'ক', 'শ', 'ি', 'ন', '্', 'ত', '্', 'র'],\n ['ন', 'া', 'ত', 'ি', 'র', 'া', 'র'],\n ['জ', 'ন', 'ে', 'র', 'া', 'ই'],\n ['ন',\n  '্',\n  'ত',\n  'ক',\n  'ো',\n  'ো',\n  'র',\n  'ো',\n  'ো',\n  'ো',\n  'ো',\n  'ম',\n  'ে',\n  'র',\n  'া',\n  'ও'],\n ['ধ', 'া', 'র', 'া', 'ব', 'া', 'হ', 'ি', 'ক', 'ত', 'া', 'য', '়'],\n ['জ', 'া', 'ন', 'া', 'ক', 'ে', 'ই'],\n ['স', '্', 'প', 'র', '্', 'ত', 'ি', 'য', '়', 'া', 'র'],\n ['ভ', 'ু', 'ল', 'ি', 'য', '়', 'ে'],\n ['আ', 'ত', 'া', 'ট', 'া', 'র'],\n ['ব', 'া', 'ধ', 'ু', 'র'],\n ['ত', 'র', 'ি', 'জ', 'গ', 'গ', 'গ', 'গ', 'গ', 'া'],\n ['স', 'ম', '্', 'প', 'ৌ', 'র', '্', 'ন', 'ম', 'ক', '্', 'ত'],\n ['ক', 'ৌ', 'ত', 'হ', 'া', 'য', '়', 'া', 'ল', 'ি'],\n ['অ',\n  'ন',\n  '্',\n  'য',\n  'া',\n  'ল',\n  'া',\n  'দ',\n  'া',\n  'ো',\n  'ো',\n  'ো',\n  'ো',\n  'ো',\n  'ক',\n  'গ',\n  'ু',\n  'ই'],\n ['অ',\n  'র',\n  '্',\n  'ং',\n  'হ',\n  'া',\n  'ত',\n  'গ',\n  'গ',\n  'গ',\n  'গ',\n  'গ',\n  'গ',\n  'গ',\n  'গ',\n  'গ',\n  'গ',\n  'গ',\n  'গ',\n  'গ',\n  'া'],\n ['অ', 'ভ', 'ি', 'ন', 'া', 'য', '়', 'শ', 'া', 'ল', 'ী', 'প'],\n ['স', 'ন', '্', 'ত', '্', 'র', 'স', 'ী', 'র', 'া'],\n ['ন', 'া', 'ক', 'া', 'শ', 'া', 'য', '়'],\n ['চ', 'া', 'ঙ', '্', 'ো', 'ঙ', '্', 'ো'],\n ['উ', 'ভ', 'া', 'য', '়', 'প', 'া', 'ক', '্', 'ষ', 'ে', 'র'],\n ['উ', 'চ', '্', 'চ', 'ব', 'ি', 'দ', '্', 'য', 'া', 'ল', 'য', '়'],\n ['স', 'ম', 'া', 'ব', 'ে', 'শ', 'া', 'স', '্', 'ং'],\n ['ব', '্', 'য', 'ব', 'স', '্', 'ং', 'প', 'ঠ', 'া', 'য', '়'],\n ['চ', '্', 'য', 'া', 'উ'],\n ['ভ', 'র', '্', 'ড', 'ো', 'ো', 'ল', 'ি', 'জ', 'ে', 'র', 'ও'],\n ['আ', 'য', '়', 'া', 'ন', '্', 'ত', 'ে', 'র'],\n ['ক', 'া', 'ম', '্', 'প', 'া', 'ন', 'া', 'জ', 'া', 'ত'],\n ['ত', 'ং', 'ো', 'ত', '্', 'য', 'ম', 'ৃ', 'ত', 'ে'],\n ['স', 'ম', '্', 'প', 'ু', 'ন', 'র', '্', 'ভ', 'া', 'ব', 'ে'],\n ['এ',\n  'ক',\n  '্',\n  'স',\n  'প',\n  '্',\n  'র',\n  'ে',\n  'স',\n  'ো',\n  'ো',\n  'ো',\n  'ো',\n  'ল',\n  'ি',\n  'ত',\n  'ে'],\n ['দ', 'ে', 'থ', 'া', 'চ', '্', 'ছ', 'ি', 'ল'],\n ['আ', 'চ', 'ম', 'া', 'ক', 'া', 'ই'],\n ['স', 'ৈ', 'য', '়', 'া', 'দ', 'প', 'ু', 'র'],\n ['ব', '্', 'য', 'ভ', 'ি', 'চ', 'া', 'র'],\n ['ঝ', 'া', 'ল', 'া', 'ম', 'ল'],\n ['প', 'ি', 'শ', 'ে'],\n ['ো',\n  'ো',\n  'ো',\n  'ো',\n  'ো',\n  'ো',\n  'ো',\n  'ো',\n  'ো',\n  'ো',\n  'ো',\n  'ো',\n  'ো',\n  'ো',\n  'ো',\n  'ো',\n  'ো',\n  'ো',\n  'ো',\n  'ো',\n  'ো',\n  'ো',\n  'ো',\n  'ো',\n  'ো',\n  'ো',\n  'ো',\n  'ো',\n  'ো',\n  'ো',\n  'ো',\n  'ো'],\n ['য', 'ু', 'ক', '্', 'ত', 'ি', 'ব', 'ু', 'দ', '্', 'ধ', 'ি'],\n ['ো', 'ল', '্', 'প', 'া', 'জ', 'া', 'ই'],\n ['প',\n  '্',\n  'র',\n  'ত',\n  'ি',\n  'ন',\n  'ি',\n  'ধ',\n  'া',\n  'র',\n  'ি',\n  'ত',\n  '্',\n  'ব',\n  'ক',\n  'ি',\n  'দ',\n  'ে',\n  'র'],\n ['ম',\n  'ধ',\n  '্',\n  'য',\n  'ম',\n  'ো',\n  'ো',\n  'ো',\n  'ো',\n  'ো',\n  'ো',\n  'ো',\n  'ো',\n  'র',\n  '্',\n  'জ',\n  'া',\n  'র',\n  'ে',\n  'ই'],\n ['ো', 'জ', 'া', 'প', 'ন', 'র', 'া', 'হ', 'ি', 'ব', 'া', 'ন', 'ে'],\n ['ভ', 'ী', 'ম', 'র', 'জ', 'ু', 'ন', 'ক', 'ে'],\n ['চ', 'ি', 'র', 'প', '্', 'র', 'দ', 'ৃ', 'ত', '্', 'ব', 'ন', '্', 'দ', 'ী'],\n ['ন', 'া', 'ত', 'ন', 'ি'],\n ['প',\n  '্',\n  'র',\n  'া',\n  'প',\n  '্',\n  'ত',\n  'ি',\n  'ো',\n  'ো',\n  'ো',\n  'ো',\n  'ো',\n  'ব',\n  'ু',\n  'ও'],\n ['আ',\n  'র',\n  '্',\n  'ড',\n  'া',\n  'র',\n  'া',\n  'ো',\n  'ো',\n  'ো',\n  'ো',\n  'ো',\n  'ো',\n  'ো',\n  'ল',\n  'ি',\n  'ত',\n  'ে'],\n ['দ', 'ি', 'য', '়', 'া', 'ত'],\n ['শ', 'ু', 'ন', 'া', 'ন', 'ি', 'র'],\n ['ম', 'া', 'র', 'া', 'ফ', 'ু', 'ভ', 'া', 'ব', 'ে'],\n ['প', 'র', 'ি', 'দ', 'র', '্', 'শ', 'ন', 'া', 'স', 'হ'],\n ['য', 'গ', 'া'],\n ['শ', 'ব', '্', 'দ', 'ব', 'া', 'জ', 'ি'],\n ['ম', 'ু', 'ক', '্', 'ত', 'া', 'প', 'া', 'থ', 'ি'],\n ['ো', 'ো', 'ো', 'ো', 'ক', 'ে'],\n ['জ', 'ন', 'ি', 'য', '়', 'ে', 'ছ', 'ি'],\n ['শ', 'া', 'স', 'ু', 'দ', 'ি', 'ক', 'ে'],\n ['প', '্', 'র', 'য', '়', 'া', 'জ', 'ন', 'ি', 'য', '়', 'ত', 'া', 'র'],\n ['শ', 'ি', 'ক', '্', 'ষ', 'া', 'প', '্', 'র', 'চ', 'া', 'র', 'ে', 'র'],\n ['এ',\n  'ক',\n  '্',\n  'স',\n  'া',\n  'প',\n  '্',\n  'র',\n  'ে',\n  'শ',\n  'ন',\n  'া',\n  'ো',\n  'ো',\n  'ো',\n  'ো',\n  'ো',\n  'ো',\n  'ো',\n  'ল',\n  'ি',\n  'ত',\n  'ে'],\n ['প',\n  '্',\n  'র',\n  'ত',\n  'ি',\n  'ব',\n  'া',\n  'দ',\n  'ক',\n  'র',\n  'ী',\n  'দ',\n  'ে',\n  'র',\n  'া',\n  'ই'],\n ['ক', 'া', 'ঁ', 'ক', 'ু', 'ই', 'ড', 'ি', 'য', '়', 'া'],\n ['জ', '্', 'ব', 'জ', 'া', 'ল', 'ব', 'া', 'ল'],\n ['দ', 'ে', 'শ', 'া', 'ত'],\n ['হ',\n  'া',\n  'স',\n  'া',\n  'প',\n  'া',\n  'ত',\n  'ল',\n  'ো',\n  'ো',\n  'ো',\n  'ো',\n  'ো',\n  'ো',\n  'ো',\n  'ো',\n  'ো',\n  'ো',\n  'ো',\n  'ো',\n  'ো',\n  'ো',\n  'ো',\n  'ো',\n  'ো',\n  'ো',\n  'ো',\n  'ক',\n  'ে',\n  'ল'],\n ['প',\n  '্',\n  'র',\n  'া',\n  'ভ',\n  'ৃ',\n  'ত',\n  '্',\n  'ত',\n  'ি',\n  'ো',\n  'ো',\n  'ো',\n  'ো',\n  'ো',\n  'ো',\n  'ো',\n  'ল',\n  'ও',\n  'ই',\n  'ভ',\n  '়',\n  'ে'],\n ['স', '্', 'ং', 'ং', 'ত', 'ল', 'ি', 'ক', 'ি', 'ষ', '্', 'ক'],\n ['ক', 'া', 'ন', 'া', 'দ', 'া', 'ত', 'ে'],\n ['জ', 'া', 'দ', 'া', 'ব', 'প', 'ু', 'র', 'ে', 'র'],\n ['ন', 'া', 'উ', 'স', 'ে', 'ন', 'া'],\n ['ো', 'য', 'া', 'ট', 'া', 'র', 'া', 'ত', 'ে'],\n ['প', '্', 'র', 'া', 'জ', 'ী', 'ক', 'ত', 'ু', 'স', 'ম', 'ূ', 'হ'],\n ['উ',\n  'প',\n  'জ',\n  'ে',\n  'য',\n  '়',\n  'া',\n  'ল',\n  'া',\n  'প',\n  '্',\n  'র',\n  'া',\n  'য',\n  '়',\n  'া',\n  'র'],\n ['ক', 'া', 'প', 'া', 'দ', 'ে', 'ই'],\n ['ধ', 'র', '্', 'ম', 'প', '্', 'র', 'ব', 'র', '্', 'ত', 'ন', 'ে', 'র'],\n ['ধ', 'ল', 'ি', 'য', '়', 'া', 'ল', 'া', 'র'],\n ['ব',\n  'ি',\n  'ষ',\n  'ে',\n  'শ',\n  'া',\n  'ো',\n  'ো',\n  'ো',\n  'ো',\n  'ো',\n  'ো',\n  'ো',\n  'ো',\n  'জ',\n  'হ',\n  'া',\n  'ন',\n  'া',\n  'র',\n  'া'],\n ['স', 'া', 'র', 'া', 'ক', 'া', 'র', 'া', 'দ', 'া', 'ল', 'ি', 'য', '়', 'ে'],\n ['ন', 'া', 'ও', 'দ', 'গ', 'র'],\n ['ধ', 'ী', 'ম', 'ল'],\n ['ও', 'ল', 'া', 'ফ'],\n ['ব',\n  'া',\n  'হ',\n  'ি',\n  'ন',\n  'ী',\n  'ো',\n  'ো',\n  'ো',\n  'ো',\n  'ো',\n  'ল',\n  'ী',\n  'ক',\n  'ে',\n  'ও'],\n ['শ', '্', 'ন', 'া', 'ল', 'া', 'ম'],\n ['ম', 'ি', 'স', '্', 'ট', 'া', 'র', 'দ', 'ে', 'র'],\n ['ব',\n  '্',\n  'য',\n  'ব',\n  'স',\n  '্',\n  'ং',\n  'ত',\n  'া',\n  'ো',\n  'ো',\n  'ো',\n  'ো',\n  'ো',\n  'ো',\n  'ো',\n  'ো',\n  'ো',\n  'ো',\n  'ো',\n  'ো',\n  'ো',\n  'ো',\n  'ো',\n  'ো',\n  'ো',\n  'ো',\n  'ো',\n  'ো',\n  'ো',\n  'ো',\n  'ো'],\n ['ক', 'ে', 'ন', '্', 'দ', '্', 'র', 'স', 'খ', 'খ', 'ো', 'জ', 'খ'],\n ['ন', 'ব', 'জ', 'া', 'ত', 'ক', 'া', 'ক', 'ে'],\n ['প', '্', 'র', 'স', 'া', 'র', 'ন', 'ে', 'র'],\n ['ন', 'ি', 'র', '্', 'ব', 'া', 'স', 'ী', 'দ', 'ে', 'র'],\n ['শ', 'ু', 'ট', 'ে'],\n ['প', 'া', 'দ', 'ু', 'য', '়', 'া', 'ক', 'ে'],\n ['ক',\n  'র',\n  '্',\n  'ম',\n  'স',\n  'ূ',\n  'চ',\n  'ো',\n  'ো',\n  'ো',\n  'ো',\n  'ো',\n  'ো',\n  'ো',\n  'ো',\n  'ো',\n  'ো',\n  'ো',\n  'ো',\n  'ো',\n  'ো',\n  'ো',\n  'ো',\n  'ো',\n  'ো',\n  'ো',\n  'ো',\n  'ো',\n  'ো',\n  'ো',\n  'ো',\n  'ো'],\n ['উ', 'ঝ', 'ে', 'ন'],\n ['য', 'ু', 'ক', '্', 'ত', 'ি', 'প', 'র', '্', 'ণ', 'ভ', 'া', 'ব', 'ে'],\n ['জ', 'ী', 'ব', 'া', 'স', 'া', 'ম', 'ু', 'হ', 'গ', 'গ', 'গ', 'ে', 'ও'],\n ['হ', 'া', 'ন', 'শ'],\n ['ন', 'ি', 'শ', '্', 'চ', 'া', 'য', '়', 'ত', 'া'],\n ['ত', 'া', 'ই'],\n ['ব', 'গ', 'ন'],\n ['ন', 'ু', 'য', '়', 'ে'],\n ['স', 'থ', 'থ', 'া', 'ল', 'া'],\n ['ম', '্', 'য', 'া', 'ট', '্', 'র', 'ি', 'ক', 'ো', 'ো', 'ো', 'জ', 'ি'],\n ['ব', '্', 'য', 'ক', '্', 'ত', 'ি', 'ন', 'ি', 'ষ', '্', 'ঠ'],\n ['য', 'ৌ', 'ত', 'ু', 'ক', 'ে', 'র'],\n ['ব', 'ি', 'ষ', '্', 'ণ', 'ু', 'প', '্', 'র', 'ি', 'য', '়', 'া', 'ক', 'ে'],\n ['স', 'ি', 'র', 'ি', 'ন'],\n ['ব',\n  'া',\n  'র',\n  '্',\n  'ক',\n  'া',\n  'ো',\n  'ত',\n  '্',\n  'ব',\n  'ে',\n  'ক',\n  'র',\n  'া',\n  'হ',\n  'া',\n  'য',\n  '়'],\n ['দ', 'ু', 'প', 'ু', 'র', 'ে', 'ই'],\n ['দ', 'ে', 'থ', 'া', 'ল', 'ও'],\n ['হ', 'া', 'র', 'া', 'শ', 'ঙ', '্', 'ক', 'া', 'র', 'ে', 'ক', 'ে'],\n ['চ', 'া', 'ই', 'ল', 'গ', 'গ', 'গ', '্', 'র', 'ণ'],\n ['র', 'া', 'ম', 'ে', 'ল', 'ি'],\n ['ক',\n  'য',\n  '়',\n  'া',\n  'র',\n  'ত',\n  'া',\n  'ো',\n  'র',\n  'া',\n  'ো',\n  'ো',\n  'ো',\n  'ো',\n  'ল',\n  'গ',\n  'ে'],\n ['ো', 'ো', 'র', '্', 'ফ', 'ি', 'ভ', 'ি', 'ন', '্', 'ড', 'ে', 'র', 'ে', 'র'],\n ['ক', 'া', 'র', 'া', 'ল', 'া', 'ব', 'া', 'দ', 'া', 'ন', 'া'],\n ['স', '্', 'ব', 'চ', 'ক', '্', 'ষ', 'ে'],\n ['ব', 'া', 'ই', 'ম', 'ি', 'ক', 'া', 'য', '়'],\n ['চ',\n  'ি',\n  'ত',\n  '্',\n  'র',\n  'ক',\n  'ল',\n  '্',\n  'প',\n  'ো',\n  'ো',\n  'ো',\n  'ো',\n  'ো',\n  'ল',\n  'ি'],\n ['ছ', 'ে', 'ন', 'ক', 'ে'],\n ['ঝ',\n  'া',\n  'ো',\n  'ো',\n  'ো',\n  'ো',\n  'ো',\n  'ো',\n  'ো',\n  'ো',\n  'ো',\n  'ো',\n  'ো',\n  'ো',\n  'জ',\n  'া',\n  'দ',\n  'া',\n  'ত',\n  'ে',\n  'ই'],\n ['ক', 'া', 'র', 'ে', 'ন', '্', 'ত', 'া', 'ব', 'া', 'হ', 'ী'],\n ['প', '্', 'র', 'ফ', 'ে', 'শ', 'ন', 'ক', 'ে'],\n ['প', 'হ', 'া', 'ল', 'ে', 'ই'],\n ['প', '্', 'র', 'ফ', 'ে', 'শ', 'া', 'ন', 'া', 'ক', 'ে'],\n ['স', '্', 'ক', 'ু', 'ল', 'ে', 'জ', 'ে', 'র'],\n ['স', 'ম', '্', 'প', 'র', '্', 'ক', 'ও'],\n ['আ',\n  'প',\n  '্',\n  'র',\n  'া',\n  'ো',\n  'ো',\n  'ট',\n  'ি',\n  'ো',\n  'ো',\n  'ক',\n  'া',\n  'ই',\n  'ট',\n  'ো',\n  'ো',\n  'জ',\n  'া',\n  'ম',\n  'া',\n  'ল'],\n ['চ', 'া', 'ল', 'া', 'ক', 'া', 'ক', 'ে'],\n ['র', 'া', 'র', 'ি', 'চ', 'া', 'র'],\n ['ব', 'ু', 'ন', 'া', 'দ', 'ে', 'শ', 'া', 'র', 'ত'],\n ['ন', 'ি', 'জ', 'ে', 'র', 'া', 'ফ', 'ন', 'ে'],\n ['শ',\n  'ি',\n  'ক',\n  '্',\n  'ষ',\n  'া',\n  'ো',\n  'ো',\n  'ো',\n  'ো',\n  'ো',\n  'ো',\n  'ো',\n  'ক',\n  'ু',\n  'ই'],\n ['স', 'ম', 'য', '়', 'স', 'ম', 'ে', 'র'],\n ['স',\n  'ঙ',\n  '্',\n  'ো',\n  'ো',\n  'ো',\n  'ো',\n  'ো',\n  'ো',\n  'ো',\n  'ো',\n  'ো',\n  'ো',\n  'ো',\n  'ো',\n  'ো',\n  'ো',\n  'ং',\n  'ং',\n  'হ',\n  'া',\n  'ক',\n  'া',\n  'ত',\n  'ে',\n  'ত',\n  'ে'],\n ['প',\n  '্',\n  'র',\n  'ত',\n  'ি',\n  'ষ',\n  '্',\n  'ঠ',\n  'া',\n  'ন',\n  'া',\n  'ক',\n  '্',\n  'র',\n  'স',\n  'খ',\n  'ন',\n  'া'],\n ['স', 'খ', 'স', 'ন', 'ি', 'দ', 'ে'],\n ['প', '্', 'র', 'ং', 'হ', 'া', 'ম', 'স', '্', 'ত', '্', 'র', 'ে', 'র'],\n ['ভ', '্', 'য', 'া', 'ম', 'া', 'ক'],\n ['র', 'া', 'স', '্', 'ত', 'া', 'ত', 'ে', 'ই'],\n ['ব', 'ে', 'র', 'ে', 'ক', 'ে', 'ট'],\n ['ব', 'া', 'ল', 'া', 'ক', 'গ', 'গ', 'গ'],\n ['আ', 'ত', 'া', 'খ', 'ো', 'খ', 'ে'],\n ['জ', 'ে', 'ত', 'া', 'ন', 'গ', 'গ', 'গ', 'গ', 'ৌ', 'র', 'ও'],\n ['ব', '্', 'র', 'া', 'ই', 'ক', 'শ', 'র', 'ু', 'র', 'ি', 'প'],\n ['ত', '্', 'র', 'া', 'য', '়', 'ক', 'ো', 'ো', 'ো', 'ো', 'ো', 'ল', 'ু', 'র'],\n ['প', '্', 'র', 'ত', 'ে', 'ক', '্', 'ষ', 'া', 'র', 'ী', 'ক', 'ে'],\n ['ধ', 'া', 'র', 'া', 'য', '়'],\n ['ো', 'জ', 'া', 'ভ', 'ন', '্', 'য', 'ত', 'া', 'ং'],\n ['ল', 'ে', 'থ', 'া', 'থ', 'া', 'প', 'া'],\n ['ব', 'ি', 'দ', '্', 'ব', 'ে', 'শ', 'ী'],\n ['ঘ', 'া', 'ট', 'া', 'ট', 'া'],\n ['স',\n  'া',\n  'ক',\n  'া',\n  'ব',\n  'ে',\n  'ল',\n  'গ',\n  'গ',\n  'গ',\n  'গ',\n  'গ',\n  'গ',\n  'গ',\n  'গ',\n  'গ',\n  'গ',\n  'গ',\n  'গ',\n  'গ',\n  'গ',\n  'গ',\n  'গ',\n  'গ',\n  'গ',\n  'গ',\n  'গ',\n  'গ',\n  'গ',\n  'গ',\n  'গ',\n  'গ'],\n ['আ',\n  'ন',\n  '্',\n  'ত',\n  'ন',\n  'া',\n  'র',\n  '্',\n  'ব',\n  'ি',\n  'র',\n  'শ',\n  'া',\n  'ল',\n  'ত',\n  'া'],\n ['স', 'ু', 'ম', 'া', 'র', 'া'],\n ['ব', 'া', 'র', '্', 'ষ', 'া', 'ব', 'র', 'ণ', 'ে', 'র'],\n ['দ', 'া', 'ও', 'য', '়', 'া', 'র'],\n ['স', 'ে', 'ই', 'থ', 'া', 'ন', 'ে'],\n ['প', 'া', 'ছ', 'া', 'ত', 'ে', 'ই'],\n ['ধ', 'া', 'ক', 'া', 'য', '়'],\n ['জ', 'ী', 'ব', 'ন', 'ন', '্', 'দ', 'ভ', 'া', 'র', 'ে'],\n ['ন', 'া', 'স', '্', 'য', 'া', 'ট'],\n ['ো', 'প', 'জ', 'া', 'ন', 'ে'],\n ['ন', 'ি', 'র', '্', 'জ', 'ী', 'ব', 'ে', 'র'],\n ['স',\n  '্',\n  'ব',\n  'র',\n  '্',\n  'ো',\n  'ো',\n  'ো',\n  'ো',\n  'ো',\n  'ো',\n  'ো',\n  'ো',\n  'ো',\n  'ো',\n  'জ',\n  'া',\n  'র',\n  '্',\n  'য',\n  'া',\n  'য',\n  '়'],\n ['ই', 'ত', 'ধ', 'া', 'ধ'],\n ['ক', 'ি', 'ম', 'া'],\n ['দ', 'ু', 'প', 'া', 'ক', '্', 'ষ', 'ে', 'র'],\n ['প',\n  '্',\n  'র',\n  'া',\n  'ত',\n  'ি',\n  'য',\n  'গ',\n  'া',\n  'ত',\n  'ি',\n  'ো',\n  'ো',\n  'ো',\n  'ো',\n  'ো',\n  'ো',\n  'ো',\n  'ো',\n  'ো',\n  'ো',\n  'ো',\n  'ক',\n  'া',\n  'ই',\n  'ল'],\n ['অ', 'ভ', 'ি', 'ভ', 'া', 'ব', 'ক', 'া', 'র', 'া'],\n ['ব', 'া', 'য', '়', 'া', 'ন', 'ে'],\n ['স', 'খ', '্', 'য', 'া', 'স', 'ৃ', 'ঙ', '্', 'ক', 'ট', 'ি', 'ও'],\n ['প', '্', 'র', 'শ', '্', 'ন', 'ও'],\n ['জ',\n  'ন',\n  'শ',\n  '্',\n  'র',\n  'প',\n  'ত',\n  '্',\n  'ত',\n  'া',\n  'ন',\n  'ি',\n  'হ',\n  'া',\n  'স',\n  'া',\n  'ম',\n  'ু',\n  'চ',\n  'া',\n  'ম',\n  'ে'],\n ['ক', 'ি', 'ন', 'ে', 'ছ', 'ি'],\n ['স', '্', 'ট', '্', 'য', 'া', 'ট', 'ি', 'স', '্', 'ট', 'ে', 'ক', '্', 'স'],\n ['প', 'া', 'ড', '়', 'া', 'য', '়'],\n ['স', 'া', 'ত', 'ে', 'ক'],\n ['ব', 'া', 'স', 'া', 'ব'],\n ['র', 'হ', 'ম', 'ত', 'ু', 'ল', '্', 'ল', 'া', 'হ'],\n ['ক', 'ি', 'ছ', 'ু', 'দ', 'ে', 'র'],\n ['জ', 'ে', 'ড', '়', 'ি', 'র', 'া'],\n ['ম', 'ৌ', 'ল', 'ো', 'ো', 'ো', 'ো', 'ো', 'ো', 'ল', 'ু'],\n ['ক',\n  '্',\n  'য',\n  'া',\n  'র',\n  'ি',\n  'য',\n  '়',\n  'া',\n  'ো',\n  'ো',\n  'র',\n  'ি',\n  'ক',\n  'ে',\n  'র'],\n ['স', 'দ', 'া', 'ক', 'া', 'ট', 'ি', 'র'],\n ['ঝ',\n  'া',\n  'ো',\n  'ো',\n  'ো',\n  'ো',\n  'ো',\n  'ো',\n  'ো',\n  'ো',\n  'ো',\n  'ো',\n  'ো',\n  'ো',\n  'ো',\n  'ো',\n  'ো',\n  'ো',\n  'ো',\n  'ো',\n  'ো',\n  'ো',\n  'ো',\n  'ো',\n  'ো',\n  'ো',\n  'ো',\n  'ো',\n  'ো',\n  'ো',\n  'ো',\n  'ো'],\n ['জ', 'া', 'ং', 'চ', 'ে', 'ঠ'],\n ['স', 'া', 'র', 'া', 'দ', 'ি', 'ন', 'ে', 'র'],\n ['ক', 'ু', 'র', 'া', 'ন', 'া', 'প', '্', 'র', 'ে', 'ম', 'ী', 'দ', 'ে', 'র'],\n ['স', 'ু', 'য', 'গ', 'া', 'ক', 'ে'],\n ['শ', 'ি', 'ষ', '্', 'য', 'র', 'া'],\n ['প', 'া', 'ল', 'ি', 'য', '়', 'ে', 'ছ', 'ে'],\n ['ও',\n  'র',\n  'ি',\n  'য',\n  '়',\n  'ে',\n  'ট',\n  'ল',\n  'া',\n  'ন',\n  '্',\n  'স',\n  'ট',\n  'ি',\n  'র',\n  'া'],\n ['স', 'ৌ', 'র', 'ে', 'শ', 'া', 'চ', 'ন', '্', 'দ', '্', 'র'],\n ['হ', 'ে', 'ন', 'া', 'স', '্', 'ত', 'া', 'র'],\n ['প', '্', 'য', 'া', 'ন', '্', 'ড', 'ে', 'ল'],\n ['ন', 'ি', 'য', '়', 'ম', 'ে', 'ই'],\n ['দ', 'ু', 'র', '্', 'ন', 'ে', 'ত', 'ি', 'ব', 'া', 'জ', 'া', 'দ', 'ে', 'র'],\n ['ক', 'া', 'ল', 'ি', 'র', 'া', 'ঙ', '্', 'ো', 'জ', 'া'],\n ['ত', 'া', 'দ', 'ি', 'ঘ', 'া', 'ড', '়', 'ি'],\n ['স', 'ে', 'হ', 'ে', 'ন', 'া'],\n ['দ', 'ু', 'ঃ', 'স', 'ম', 'য', '়', 'ে'],\n ['ধ', 'া', 'ন', 'ে'],\n ['স',\n  'ম',\n  '্',\n  'প',\n  '্',\n  'র',\n  'ো',\n  'ম',\n  'জ',\n  'া',\n  'ো',\n  'জ',\n  'ি',\n  'ন',\n  'ে',\n  'ত',\n  'ে'],\n ['অ', '্', 'য', 'া', 'ড', 'ে', 'ভ', 'ে', 'ন', 'া', 'র'],\n ['প', '্', 'র', 'ত', 'ি', 'ষ', '্', 'ঠ', 'ি', 'ত', 'া'],\n ['ঘ', 'র', 'া', 'ট', 'া'],\n ['শ', 'া', 'র', 'া', 'উ', 'প', 'া', 'ই'],\n ['প',\n  '্',\n  'র',\n  'শ',\n  'ী',\n  'ক',\n  '্',\n  'ষ',\n  'া',\n  'র',\n  '্',\n  'ং',\n  'ি',\n  'প',\n  'ে',\n  'র'],\n ['অ', 'ন', '্', 'ধ', 'র', 'ক', 'া', 'র'],\n ['ন', 'া', 'ং', 'ত', 'া', 'স'],\n ['জ', '্', 'ঞ', 'া', 'ন', 'া', 'শ', 'য', '়', 'ন', 'ে', 'র'],\n ['ও', 'ম', 'ি', 'জ', 'ি', 'ড'],\n ['প', 'র', 'ী', 'ক', '্', 'ষ', 'া', 'য', '়'],\n ['ভ', 'ি', 'ম', '্', 'য', 'া', 'প', 'প', '্', 'য', 'া'],\n ['দ', 'ু', 'র', '্', 'ন', 'ী', 'ত', 'ি', 'ত', 'ে'],\n ['ত', 'া', 'ন', 'ো', 'ো', 'জ', 'গ', 'গ', 'গ', 'গ', 'গ', 'ন', 'ও'],\n ['ল', 'া', 'ল', 'া', 'স', 'া'],\n ['আ', 'ক', 'া', 'র', 'শ', 'ন', 'ী'],\n ['ব',\n  '্',\n  'য',\n  'ব',\n  'স',\n  '্',\n  'ং',\n  'ত',\n  'া',\n  'ো',\n  'ো',\n  'ো',\n  'ো',\n  'ো',\n  'ো',\n  'ো',\n  'ো',\n  'ো',\n  'ো',\n  'ো',\n  'ো',\n  'ো',\n  'ো',\n  'ো',\n  'ো',\n  'ো',\n  'ো',\n  'ো',\n  'ো',\n  'ো',\n  'ো',\n  'ো'],\n ['ন', 'ি', 'উ', 'ই', 'য', '়', 'ে', 'র', 'ক', 'া', 'ই'],\n ['র', 'া', 'ষ', '্', 'ট', '্', 'র', 'ধ', 'র', '্', 'ম', 'ে'],\n ['ফ', 'ি', 'ত', 'ে', 'ো', 'ো', 'ো', 'ো', 'ো'],\n ['ো',\n  'ল',\n  'া',\n  'ো',\n  'ো',\n  'ো',\n  'ো',\n  'ো',\n  'ো',\n  'ো',\n  'ো',\n  'ো',\n  'ো',\n  'ো',\n  'ো',\n  'জ',\n  'া',\n  'ই'],\n ['জ', 'ন', 'জ', 'া', 'ো', 'ো', 'ো', 'ো', 'ো', 'জ'],\n ['উ', 'ৎ', 'ক', '্', 'ষ', 'ে', 'প', 'া', 'ন', 'ে', 'র'],\n ['ন', 'ে', 'ক', 'া', 'স'],\n ['হ', 'ু', 'শ', 'ি', 'য', '়', 'া', 'র', 'ি'],\n ['দ', '্', 'ব', 'ু', 'প', '্', 'য', 'া', 'প', 'ন', 'ি', 'স', 'ম', 'ু', 'থ'],\n ['ো', 'জ', 'া', 'প', 'ি', 'ন', 'া', 'চ', 'ু', 'ল', 'ি'],\n ['ব', 'ন', '্', 'ধ', 'ু', 'ক', 'ধ', 'া', 'র', 'ী', 'দ', 'ে', 'র'],\n ['ন', 'ি', 'য', '়', 'ম', 'া', 'ক'],\n ['প',\n  '্',\n  'র',\n  'া',\n  'স',\n  '্',\n  'ত',\n  'া',\n  'ব',\n  'া',\n  'ো',\n  'ো',\n  'ো',\n  'ো',\n  'ো',\n  'ল',\n  'ী',\n  'ক',\n  'ে'],\n ['ধ', 'র', '্', 'ম', 'ো', 'ো', 'ো', 'ো', 'ো', 'ো', 'ো', 'ল', 'গ', 'ত', 'ে'],\n ['হ', 'ৃ', 'ত', 'প', 'ি', 'ন', '্', 'দ'],\n ['প', 'ৌ', 'ঁ', 'ছ', 'া', 'ন'],\n ['অ',\n  'খ',\n  'ন',\n  'ো',\n  'ো',\n  'ো',\n  'ো',\n  'ো',\n  'ো',\n  'ো',\n  'ো',\n  'ো',\n  'ো',\n  'ো',\n  'ো',\n  'ো',\n  'ো',\n  'ো',\n  'ো',\n  'ো',\n  'র',\n  'ো',\n  'ো',\n  'ো',\n  'ো',\n  'ো',\n  'ো',\n  'ো',\n  'ো',\n  'ো',\n  'ো',\n  'ো'],\n ['ট', 'া', 'ক', 'া', 'প', 'া', 'য', '়', 'স', 'া'],\n ['ট', 'ু', 'ং', 'ট', 'ে', 'জ'],\n ['ধ', 'ে', 'য', '়', 'া', 'র', 'ি'],\n ['ব',\n  'ি',\n  'দ',\n  '্',\n  'য',\n  'া',\n  'ল',\n  'য',\n  '়',\n  'ো',\n  'ো',\n  'ো',\n  'ো',\n  'ো',\n  'ল',\n  'া',\n  'ক',\n  'ে',\n  'ই'],\n ['প', 'র', 'ি', 'চ', '্', 'ছ', 'ে', 'দ', 'া', 'হ', 'ু', 'ল', 'গ', 'র', 'ও'],\n ['ত', 'ি', 'দ', 'ি', 'ন'],\n ['শ', 'র', 'ক', 'র', 'া', 'র'],\n ['ব',\n  '্',\n  'য',\n  'ব',\n  'স',\n  '্',\n  'ং',\n  'ত',\n  'া',\n  'ো',\n  'ো',\n  'ো',\n  'ো',\n  'ও',\n  'য',\n  '়',\n  'ও'],\n ['ভ',\n  'া',\n  'ো',\n  'ো',\n  'ো',\n  'ো',\n  'ো',\n  'য',\n  '়',\n  'ে',\n  'জ',\n  'ন',\n  '্',\n  'ন',\n  'া',\n  'য',\n  '়'],\n ['ব', 'ি', 'ন', 'ি', 'য', '়', 'গ', 'া', 'ক', 'া', 'র', 'ী'],\n ['জ', 'ি', 'ন', 'ি', 'শ'],\n ['ো', 'ো', 'ো', 'ো', 'ো', 'ো', 'ো', 'ো', 'ো', 'জ', 'ি', 'র'],\n ['অ', 'ব', 'স', '্', 'ং', 'ত', 'ঃ', 'প', 'া', 'য', '়'],\n ['র', 'া', 'ত', 'া', 'ন', 'া'],\n ['ব',\n  'ি',\n  'দ',\n  '্',\n  'য',\n  'ু',\n  'ৎ',\n  'ক',\n  'ে',\n  'ন',\n  '্',\n  'দ',\n  '্',\n  'র',\n  'ো',\n  'ো',\n  'ো',\n  'ো',\n  'ো',\n  'ো',\n  'ো',\n  'ো',\n  'ল'],\n ['প', '্', 'র', 'ত', '্', 'য', 'া'],\n ['স', '্', 'ব', 'গ', 'ত', '্', 'য', 'া', 'র', 'া', 'ট', 'ি'],\n ['ম', 'া', 'হ', 'া', 'দ', 'া'],\n ['প',\n  '্',\n  'র',\n  'া',\n  'জ',\n  'ি',\n  'ক',\n  'ত',\n  'া',\n  'ো',\n  'ো',\n  'ো',\n  'ক',\n  'া',\n  'ো',\n  'ত',\n  'ে',\n  'ভ',\n  'ূ',\n  'ল',\n  'ে',\n  'ই'],\n ['এ', 'ত', 'া', 'স', 'ব'],\n ['ব', 'ি', 'শ', '্', 'ব', 'ব', 'া', 'য', 'ন', 'ি', 'দ', '্', 'য', 'ে', 'র'],\n ['ক',\n  'ু',\n  'য',\n  '়',\n  'া',\n  'র',\n  'ম',\n  'া',\n  'ন',\n  'ব',\n  'ৃ',\n  'ন',\n  '্',\n  'দ',\n  'ক',\n  'া',\n  'র',\n  'ে'],\n ['ত', 'া', 'ল', 'ি', 'ক', 'া', 'ভ', 'ু', 'ক', 'ি', 'ত', 'ু', 'ক'],\n ['দ', 'া', 'ঁ', 'ত', 'া', 'ল'],\n ['প', 'দ', 'ক', '্', 'ষ', 'ে', 'প', 'া', 'ট', 'ু', 'ক', 'ু'],\n ['দ', 'ে', 'থ', 'ি', 'য', '়', 'ে', 'ই'],\n ['অ',\n  '্',\n  'য',\n  'া',\n  'ন',\n  '্',\n  'ট',\n  'ি',\n  'ক',\n  'ি',\n  'স',\n  '্',\n  'ড',\n  'ে',\n  'ন',\n  '্',\n  'ট'],\n ['ব', 'ি', 'ব', 'া', 'হ', 'া', 'ট', 'ি'],\n ['ক', 'া', 'র', 'া', 'ন', 'ি'],\n ['ক', 'ু', 'য', '়', 'া', 'শ', 'া', 'য', '়'],\n ['ব',\n  '্',\n  'য',\n  'া',\n  'ব',\n  'স',\n  'ি',\n  'ত',\n  'া',\n  'প',\n  '্',\n  'র',\n  'শ',\n  '্',\n  'য',\n  'া',\n  'ন'],\n ['ম', 'ে', 'য', '়', 'ে', 'ট', 'ি', 'ক', 'ে'],\n ['দ', 'া', 'ব', 'া', 'ন', 'া', 'ল', 'া', 'ক', 'ে', 'ই'],\n ['ও', 'স', 'া', 'ম', 'া', 'ন', 'ি'],\n ['প', 'ৌ', 'ঁ', 'ছ', 'া', 'ন'],\n ['চ',\n  'ন',\n  '্',\n  'দ',\n  '্',\n  'র',\n  'া',\n  'ন',\n  'া',\n  'ং',\n  'শ',\n  'ব',\n  'ত',\n  'ূ',\n  'ভ',\n  'ে'],\n ['প', 'া', 'ন', 'হ', 'া', 'ছ', 'ে'],\n ['ন', 'ে', 'দ', 'া', 'প', 'া', 'ড', '়', 'া'],\n ['আ', 'য', '়', 'দ', 'া', 'শ', 'ন', 'া', 'য', '়'],\n ['ক', 'া', 'ল', 'ি', 'ক', 'া', 'ব', 'া', 'দ', 'ি'],\n ['য',\n  'া',\n  'য',\n  '়',\n  'া',\n  'র',\n  '্',\n  'ত',\n  'ু',\n  'ো',\n  'ো',\n  'ো',\n  'ো',\n  'ব',\n  'গ',\n  'ু',\n  'র'],\n ['শ', 'া', 'ন', 'ি', 'ব', 'া'],\n ['স', '্', 'ব', 'র', 'ূ', 'প', 'ে'],\n ['প', 'দ', 'ক', '্', 'ষ', '্', 'প', 'ত', 'ে', 'ু', 'ক', 'ু'],\n ['জ', 'া', 'ন', 'া', 'ই', 'ছ', 'ে'],\n ['ম', '্', 'প', 'ভ', 'ু', 'ক', '্', 'ত', 'া'],\n ['প', '্', 'র', 'ত', 'ি', 'ব', 'ে', 'দ', 'ক', 'া'],\n ['য', 'ু', 'দ', '্', 'ধ', 'জ', 'ী', 'ব', 'ে', 'র'],\n ['থ', 'ে', 'ই', 'য', '়', 'ে', 'ছ', 'ে', 'ল', 'ে', 'ন'],\n ['অ', 'ব', 'ি', 'শ', '্', 'ব', 'া', 'স', 'ে', 'র'],\n ['স',\n  'হ',\n  'ি',\n  'খ',\n  'স',\n  'া',\n  'ো',\n  'ম',\n  'া',\n  'ো',\n  'জ',\n  'া',\n  'ল',\n  'া',\n  'ক',\n  'া'],\n ['ত', 'র', 'ু', 'ণ', 'ী', 'দ', 'ে', 'র'],\n ['ব', '্', 'য', 'া', 'ক', 'া', 'র', 'ে', 'ট'],\n ['প', '্', 'র', 'া', 'ণ', 'া', 'প', 'া', 'ন', 'ে'],\n ['শ', 'র', 'ণ', 'া', 'র', '্', 'ং', 'ি', 'র'],\n ['ো', 'প', 'ু', 'ট', 'ি', 'য', '়', 'া', 'ক', 'ে', 'ক'],\n ['ন', 'ি', 'শ', 'া', 'ধ'],\n ['আ', 'ধ', 'া', 'ঘ', 'া', 'ঁ', 'ট', 'া'],\n ['ম', 'া', 'ট', 'া', 'স', 'ু', 'র', 'া'],\n ['প', 'া', 'খ', 'ন', 'া', 'ো', 'ো', 'ক', 'া', 'ম'],\n ['ফ', 'া', 'ল', 'া', 'ম', 'ে', 'ন', 'শ', 'ু', 'ত', 'ে'],\n ['চ', 'ি', 'ট', 'ফ', 'ু', 'ন', '্', 'ড'],\n ['ব',\n  '্',\n  'য',\n  'ক',\n  '্',\n  'ত',\n  'ি',\n  'য',\n  '়',\n  'ে',\n  'র',\n  'া',\n  'ো',\n  'ো',\n  'ো',\n  'ো',\n  'ো',\n  'ক',\n  'ু',\n  'ই',\n  'ল'],\n ['অ',\n  'র',\n  '্',\n  'ং',\n  'হ',\n  'ত',\n  'ি',\n  'য',\n  '়',\n  'ে',\n  'ট',\n  'ি',\n  'ো',\n  'ক',\n  'ে',\n  'ও'],\n ['ই', 'ন', '্', 'ট', 'া', 'র', 'ম', '্', 'য', 'া', 'ট', 'ে'],\n ['ক', '্', 'য', 'া', 'র', 'ি', 'র', 'ো', 'ো', 'ো', 'ো', 'ল', 'ি', 'র'],\n ['এ', 'ন', 'ি', 'ম', 'া', 'র', 'ি'],\n ['স', 'া', 'য', '়', 'ে'],\n ['ব', 'ন', '্', 'ধ', 'ু', 'ব', 'ন', '্', 'ধ', 'ব'],\n ['শ',\n  '্',\n  'র',\n  'ে',\n  'ষ',\n  '্',\n  'ঠ',\n  'া',\n  'ব',\n  'ত',\n  'া',\n  'দ',\n  'া',\n  'ভ',\n  'ি',\n  'দ',\n  'ে',\n  'র'],\n ['অ', '্', 'য', 'া', 'প', 'া', 'ক', '্', 'র', 'া', 'ম'],\n ['আ', 'ক', '্', 'ষ', 'ে', 'প', 'ে', 'র'],\n ['এ', 'র', 'া', 'ত', 'ে'],\n ['দ', '্', 'ব', 'ি', 'ত', 'ী', 'য', '়', 'ব', 'া', 'র'],\n ['শ', 'ি', 'ক', '্', 'ষ', 'া', 'ন', 'ব', 'া', 'ধ', 'ু', 'র', 'া'],\n ['চ', 'া', 'র', 'া', 'ো', 'ো', 'ো', 'ো', 'ো', 'ো', 'ল', 'ি'],\n ['ন', 'ি', 'র', '্', 'দ', 'ে', 'শ', 'া', 'ও'],\n ['ম', 'া', 'দ', 'ক', 'া', 'ব', 'া', 'র', 'ক', 'া', 'র', 'া', 'স', 'হ'],\n ['ল', 'া', 'ল', 'ু', 'প', '্', 'র', 'স', 'া', 'দ'],\n ['র', 'ক', '্', 'ত', 'ব', 'া', 'হ'],\n ['ন', 'া', 'ট', 'া'],\n ['আ', 'র', 'ে', 'জ', 'ক', 'া', 'ন', 'া', 'ক', 'ে'],\n ['প',\n  'ূ',\n  'র',\n  '্',\n  'ণ',\n  'চ',\n  'ন',\n  '্',\n  'দ',\n  '্',\n  'র',\n  'ব',\n  'া',\n  'ব',\n  'ু',\n  'ক',\n  'ে'],\n ['ফ', 'া', 'র', '্', 'স', 'া'],\n ['ক', 'ি', 'ম', 'া', 'ক', 'ি', 'ম', 'া'],\n ['প',\n  '্',\n  'র',\n  'ত',\n  'ি',\n  'ষ',\n  '্',\n  'ঠ',\n  'া',\n  'ম',\n  'ন',\n  'ে',\n  'স',\n  'র',\n  'া',\n  'ও',\n  'য',\n  '়',\n  'া',\n  'র'],\n ['স', 'প', '্', 'ত', 'থ', 'থ', 'ে', 'থ', 'ঙ', '্', 'ক', 'ে'],\n ['র', 'া', 'ষ', '্', 'ট', '্', 'র', 'প', 'ক', '্', 'ষ'],\n ['স', '্', 'ম', 'ৃ', 'ত', 'ি', 'ো', 'ো', 'ো', 'ো', 'ো', 'ো', 'ো', 'ো', 'ল'],\n ['ব', 'ি', 'ক', '্', 'র', 'য', '়', 'ে', 'র'],\n ['ছ', 'া', 'দ', 'গ', 'গ', 'গ', 'গ', 'গ', 'গ', 'গ', 'া'],\n ['ট',\n  '্',\n  'র',\n  '্',\n  'য',\n  'া',\n  'ক',\n  'ো',\n  'ো',\n  'ো',\n  'ো',\n  'ো',\n  'ল',\n  'গ',\n  'গ',\n  'ৈ',\n  'র',\n  'ও'],\n ['হ', 'া', 'ফ', 'া', 'স', 'ে', 'ন', 'চ', 'ু', 'র', 'ি'],\n ['ব', 'া', 'ঞ', '্', 'চ', 'ি'],\n ['স', 'া', 'ম', 'ি', 'ক', '্', 'ষ', 'ে'],\n ['ঘ', 'া', 'ট', 'ু', 'ক'],\n ['প', 'ু', 'ত', '্', 'র', 'ব', 'া', 'ধ', 'ও'],\n ['চ', 'া', 'ন', '্', 'দ', 'া', 'ব', 'া', 'জ', 'ি', 'র'],\n ['চ', 'ে', 'ষ', '্', 'ট', 'া', 'য', '়'],\n ['ন', 'া', 'ত', 'া', 'ন', 'ু'],\n ['চ',\n  'ৌ',\n  'ধ',\n  'ি',\n  'র',\n  'ি',\n  'ো',\n  'ো',\n  'ো',\n  'ো',\n  'ো',\n  'র',\n  'ো',\n  'হ',\n  'া',\n  'ই',\n  'ন'],\n ['জ', 'ম', 'ি', 'ও', 'য', '়', 'া', 'ল', 'া'],\n ['চ', 'া', 'ই', 'ছ', 'ি', 'ল', 'া', 'ম'],\n ['ক', 'া', 'র', '্', 'ম', 'ী', 'দ', 'ে', 'র', 'ক', 'ে'],\n ['ম', 'া', 'র', '্', 'ক', 'ে', 'ট', 'ো', 'ো', 'ো', 'ো', 'ো', 'ো', 'ল'],\n ['স', 'া', 'ম', 'ি', 'ক', '্', 'ষ', 'ে'],\n ['চ', 'া', 'ল', 'ি', 'য', '়', 'ে', 'ছ', 'ি', 'ল'],\n ['চ',\n  'ু',\n  'প',\n  'া',\n  'স',\n  'া',\n  'ন',\n  'গ',\n  'গ',\n  'গ',\n  'গ',\n  'গ',\n  'গ',\n  'গ',\n  'গ',\n  'ে',\n  'ও'],\n ['ব', 'ি', 'জ', '্', 'ঞ', 'া', 'ন', 'ী', 'ত', 'ে'],\n ['থ', 'া', 'ক', 'ি', 'ব', 'া'],\n ['প',\n  'ু',\n  'ষ',\n  '্',\n  'ট',\n  'ি',\n  'ো',\n  'ো',\n  'ো',\n  'ো',\n  'ো',\n  'ো',\n  'ো',\n  'ো',\n  'ো',\n  'র',\n  'ো',\n  'হ',\n  'া',\n  'ন',\n  'ে',\n  'র'],\n ['জ', 'া', 'ন', 'ে', 'হ'],\n ['এ', 'ত', 'ি', 'ম', 'ে', 'র'],\n ['প', '্', 'র', 'ধ', 'া', 'ন', 'ন', 'ম', 'া', 'র', '্', 'ত', '্', 'র', 'া'],\n ['এ', 'র', 'া', 'জ', 'ে'],\n ['ো',\n  'ো',\n  'ো',\n  'জ',\n  'র',\n  'া',\n  'ন',\n  'া',\n  'ো',\n  'র',\n  'ি',\n  'য',\n  'গ',\n  'গ',\n  'া',\n  'ত',\n  'া',\n  'উ',\n  'ন'],\n ['ক', 'ং', 'ং', 'ত', 'া', 'ব', 'া', 'ব', 'ে'],\n ['ব', '্', 'র', 'ন', 'ি', 'ম', 'ক', 'ড'],\n ['অ', 'ব', 'ন', 'া', 'ট', 'ি', 'র'],\n ['ত', 'গ', 'া', 'দ', 'া'],\n ['অ', 'ন', 'ু', 'ম', 'া', 'ত', 'ি', 'ত', 'ে'],\n ['ম', 'া', 'র', 'া', 'য', '়', 'া', 'র', 'া', 'র'],\n ['জ', 'ি', 'ল', 'া', 'হ', 'জ', '্', 'জ'],\n ['ল', 'া', 'ত', 'া', 'র', 'ি', 'স', 'হ'],\n ['উ', 'দ', '্', 'ব', 'ধ', 'া', 'ন', 'া', 'ক', 'া', 'ব', 'ে', 'ল'],\n ['প', '্', 'র', 'ত', 'ি', 'ক', '্', 'র', 'ি', 'য', '়', 'া', 'ত', 'ে', 'ই'],\n ['ন', 'ি', 'উ', 'য', '়', 'গ', '্', 'র', 'ি', 'ক', 'ি'],\n ['দ', 'া', 'ব', 'ী', 'ো', 'ো', 'ো', 'ো', 'ো', 'ো', 'ল', 'ী', 'ক', 'ে'],\n ['ত', 'ং', 'ত', '্', 'ং', 'য', '়', 'া', 'ম', 'ি', 'দ', '্', 'র', 'ে', 'র'],\n ['ব', 'ি', 'আ', 'ই', 'আ', 'ন'],\n ['র', 'ু', 'দ', '্', 'ধ', 'া', 'শ', '্', 'ব', 'া', 'স'],\n ['ই', 'হ', 'া', 'ক', 'ে'],\n ['ও',\n  'য',\n  '়',\n  'া',\n  'র',\n  '্',\n  'ড',\n  'া',\n  'ো',\n  'ো',\n  'ো',\n  'ো',\n  'ল',\n  'ি',\n  'ত',\n  'ে',\n  'ও'],\n ['ব', 'ু', 'দ', 'ম', 'া', 'ন', 'ু', 'শ', 'া', 'দ', 'ে', 'র'],\n ['র', 'া', 'ষ', '্', 'ট', '্', 'র', 'প', 'ক', '্', 'ষ'],\n ['ং', 'ং', 'ং', 'ক', '্', 'ত', 'ে'],\n ['ত', 'া', 'ক', 'া', 'ল'],\n ['অ', 'য', '়', 'ক', '্', 'র', 'া', 'ব', 'ে', 'ছ', 'ি', 'ত', 'ে', 'র'],\n ['প', 'া', 'দ', 'ু', 'ক'],\n ['প', '্', 'র', 'া', 'র', 'গ', 'া', 'থ', 'া', 'ন', 'া'],\n ['য', 'ু', 'ক', '্', 'ত', 'ি', 'ব', 'গ', 'ঠ', 'া', 'ড', '়', 'া', 'ই'],\n ['ধ', 'স', '্', 'ং', 'ট', 'ধ', 'ট', 'ি'],\n ['প', 'া', 'ঠ', 'া', 'ব', 'ে', 'ন'],\n ['আ', 'ন', '্', 'ত', 'ঃ', 'ন', 'ো', 'ো', 'ো', 'র'],\n ['প', '্', 'র', 'া', 'ব', 'ৃ', 'ত', '্', 'ত', 'ি', 'স', 'ম', 'ূ', 'হ'],\n ['অ', 'ব', 'া', 'ন', '্', 'ত', 'র'],\n ['হ', 'া', 'ন', '্', 'ত', 'া', 'ছ', 'ে', 'ন'],\n ['স', '্', 'ট', 'ে', 'ট', 'স', '্', 'ট', 'ি', 'ক', 'স'],\n ['উ', 'ত', 'া', 'র', 'ে'],\n ['ন', 'ি', 'ভ', '্', 'র', 'ু', 'ত', 'ে'],\n ['র', 'ব', 'ি', 'ব', 'া', 'র', 'ে', 'র'],\n ['ব', 'া', 'স', 'গ', 'গ', 'া'],\n ['ো', 'ল', 'া', 'জ', 'া', 'প', 'ি', 'ত', 'ে'],\n ['জ', 'া', 'ম', 'া', 'ো', 'ো', 'ো', 'ো', 'ো', 'ো', 'ো', 'ল', 'ি', 'ও'],\n ['র', 'া', 'স', 'ু', 'ল', 'ু', 'ল', '্', 'ল', 'া', 'হ'],\n ['ব', 'ি', 'শ', '্', 'ব', 'ম', 'ি', 'ত', '্', 'র', 'া', 'র'],\n ['চ', 'ে', 'ষ', '্', 'ট', 'া'],\n ['ল', 'জ', '্', 'জ', 'া', 'র'],\n ['ছ', 'ন', '্', 'দ', 'প', 'ত', 'ন'],\n ['ব', 'গ', 'া', 'র'],\n ['ঘ', 'ে', 'ং'],\n ['ফ', 'ি', 'র', 'া', 'ছ', 'ে', 'ন'],\n ['ল', 'ি', 'থ', 'ু', 'ন'],\n ['প', 'া', 'ন', '্', 'ড', 'ে', 'ই', 'য', '়', 'া', 'ই'],\n ['ন', 'ি', 'র', '্', 'দ', 'ে', 'শ', 'ে', 'ই'],\n ['ম', 'ু', 'দ', '্', 'র', 'া', 'ন', 'ী', 'ত', 'ি', 'ত', 'ে', 'ও'],\n ['ব', 'ি', 'ল', 'া', 'প', 'া', 'ক', 'া', 'র', 'ী', 'র', 'া'],\n ['ট', 'ি', 'ক', 'ি', 'য', '়', 'ে'],\n ['আ', 'ন', 'ন', '্', 'দ', 'ো', 'ো', 'ো', 'ো', 'য', '়', 'া', 'ন', 'ে', 'র'],\n ['ক', '্', 'য', 'া', 'র', 'ি', 'য', '়', 'া', 'র', 'া', 'র', 'া'],\n ['ধ', 'র', 'ে', 'ছ', 'ে', 'ন'],\n ['ব', 'ি', 'ষ', 'ে', 'ষ', '্', 'ট', '্', 'র', 'ে', 'র'],\n ['ো', 'ো', 'র', '্', 'ম', 'ে', 'ই'],\n ['ও', 'য', '়', 'ে', 'ব', 'ড', 'ে', 'স'],\n ['অ', 'র', '্', 'ধ', 'স', 'া', 'হ', 'স', 'র', '্', 'ধ', 'ি', 'ক'],\n ['ম', 'ু', 'র', '্', 'ত', 'ি', 'য', '়', 'প', 'া', 'র', 'ি', 'দ', 'ে', 'র'],\n ['ধ', 'া', 'র', 'া', 'ো', 'ো', 'ো', 'ো', 'ো', 'ো', 'ল', 'ি'],\n ['ছ',\n  'া',\n  'ত',\n  'র',\n  'ে',\n  'জ',\n  'া',\n  'ম',\n  '্',\n  'ব',\n  'ি',\n  'ক',\n  'া',\n  'ল',\n  'র',\n  '্',\n  'র',\n  'ী',\n  'দ',\n  '্',\n  'ব',\n  'ী',\n  'ন'],\n ['ব', 'ি', 'দ', '্', 'য', 'ে', 'র'],\n ['অ', 'স', '্', 'ব', 'ী', 'ক', 'ৃ', 'ত', 'ি', 'র'],\n ['ন',\n  'ো',\n  'ো',\n  'ো',\n  'ো',\n  'ো',\n  'ো',\n  'ো',\n  'ো',\n  'ো',\n  'ো',\n  'ো',\n  'ো',\n  'ো',\n  'ো',\n  'ো',\n  'ো',\n  'ো',\n  'ো',\n  'ো',\n  'ো',\n  'ো',\n  'ো',\n  'ো',\n  'ো',\n  'ো',\n  'ো',\n  'ো',\n  'ো',\n  'ো',\n  'ো',\n  'ো'],\n ['ট', 'ে', 'ক', 'া', 'ন', 'ি', 'ক', '্', 'য', 'া', 'ল', 'ে', 'র'],\n ['উ', 'ন', '্', 'ন', 'য', '়', 'ে', 'ন'],\n ['আ', 'শ', 'া', 'য', '়'],\n ['ল', 'া', 'ল', 'ে', 'ন'],\n ['স', '্', 'ট', '্', 'র', 'া', 'ল', 'ক', 'ে', 'র'],\n ['ম', 'া', 'ত', 'ি', 'ল', 'া', 'ল', 'ে', 'র', 'া'],\n ['অ', '্', 'য', 'া', 'র', 'ে', 'স', 'প', 'ে', 'ক', 'ে'],\n ['প', 'া', 'দ', 'ু', 'য', '়', 'া'],\n ['জ', 'া', 'ম', 'া', 'ন', 'গ', 'গ', 'গ', '্', 'ত'],\n ['ত', 'ি', 'ব', 'া', 'দ', 'ি'],\n ['ক',\n  'া',\n  'ম',\n  'া',\n  'ন',\n  'া',\n  'ন',\n  'ো',\n  'ো',\n  'ো',\n  'ো',\n  'জ',\n  'া',\n  'র',\n  'ে',\n  'র'],\n ['এ', 'ক', '্', 'স', 'ি', 'য', '়', 'া', 'র'],\n ['আ', 'ন', '্', 'দ', 'র', 'ম', 'হ', 'ল', 'ে'],\n ['হ', 'া', 'য', '়', 'া', 'ন', 'া'],\n ['ক',\n  'া',\n  'ম',\n  'ত',\n  '্',\n  'ত',\n  'ে',\n  'জ',\n  'া',\n  'ক',\n  '্',\n  'ষ',\n  'ত',\n  'ত',\n  '্',\n  'ত',\n  '্',\n  'ব'],\n ['ব',\n  'ি',\n  'দ',\n  '্',\n  'য',\n  'া',\n  'ল',\n  'য',\n  '়',\n  'ো',\n  'ো',\n  'ো',\n  'ো',\n  'ো',\n  'ো',\n  'ল',\n  'গ',\n  'ে'],\n ['ন', 'ি', 'ভ', '্', 'র', 'ী', 'ত', 'ে'],\n ['স', '্', 'ট', '্', 'য', 'া', 'ট', 'ে', 'স', '্', 'ট', 'ি', 'ক', '্', 'স'],\n ['চ', 'ু', 'ল', 'া', 'ক', 'ে'],\n ['জ', '্', 'য', 'া', 'ন', 'া', 'স', 'ম', 'ূ', 'হ', 'ে', 'র'],\n ['ঝ',\n  'া',\n  'ঁ',\n  'ক',\n  'া',\n  'ম',\n  'ক',\n  '্',\n  'ষ',\n  '্',\n  'য',\n  'ো',\n  'ো',\n  'র',\n  'প',\n  'া',\n  'ো',\n  'ো',\n  'ন',\n  'ো',\n  'ো',\n  'ভ',\n  'া',\n  'ব',\n  'ে'],\n ['ড', 'ব', '্', 'র', 'ে', 'ভ'],\n ['অ', 'ভ', 'ি', 'য', 'গ', 'ু', 'ট', 'ি'],\n ['হ', 'ু', 'দ', 'া', 'ম', 'ু', 'দ', 'ি', 'য', '়', 'ে'],\n ['ধ', 'র', '্', 'ম', 'ন', 'ু', 'ষ', '্', 'ঠ', 'া', 'ন', 'ে', 'র'],\n ['জ', 'া', 'ই', 'জ'],\n ['ম', '্', 'য', 'া', 'জ', 'ি', 'জ', 'ে'],\n ['প', '্', 'র', 'ত', 'ি', 'ব', 'া', 'স', 'ী', 'র', 'া', 'ই'],\n ['ক', 'গ', '্', 'ং', 'ত', '্', 'ত', 'ে'],\n ['য', 'ু', 'দ', '্', 'ধ', 'া', 'জ', 'ী', 'ব', 'ে', 'র'],\n ['অ', 'ব', 'ি', 'স', '্', 'ম', 'র', 'ণ', 'ী'],\n ['অ', '্', 'য', 'া', 'ক', '্', 'ট', 'ি', 'ভ', 'ি', 'স'],\n ['ব', 'ল', 'ি', 'ল', 'া', 'ম'],\n ['শ',\n  'ি',\n  'ক',\n  '্',\n  'ষ',\n  'া',\n  'প',\n  '্',\n  'র',\n  'া',\n  'থ',\n  'থ',\n  'ি',\n  'ক',\n  'া',\n  'স',\n  'া',\n  'য',\n  '়',\n  'া',\n  'থ',\n  'ূ',\n  'ন'],\n ['ন', 'ি', 'ষ', '্', 'প', 'া', 'প'],\n ['ঘ', 'ট', 'ন', 'া', 'স', '্', 'ত', 'া', 'ল'],\n ['চ', 'গ', 'া', 'ন', 'গ', 'গ', 'গ', 'গ', 'গ', 'গ', 'গ', 'গ', '্', 'ত'],\n ['আ', 'চ', 'া', 'র', 'া', 'ন'],\n ['ল', 'া', 'দ', 'ে', 'ছ', 'ে', 'ন'],\n ['আ', 'শ', 'ি', 'র', 'া', 'প', 'া', 'ড', '়', 'া'],\n ['ম', 'হ', 'া', 'স', 'া', 'দ', 'ক', 'ে', 'র'],\n ['ক', '্', 'ষ', 'ু', 'ণ', 'ু', 'থ', 'থ', 'ন', 'থ', 'া', 'ন', 'ী', 'র'],\n ['অ', '্', 'য', 'া', 'ভ', 'ি', 'শ', 'ট'],\n ['ভ', 'া', 'ন', 'া', 'ভ', 'া', 'ন'],\n ['ছ', 'া', 'ঁ', 'ট', 'া'],\n ['ম', 'ী', 'ম', 'া', 'খ', 'ো', 'খ', 'া', 'র'],\n ['ধ', 'া', 'ক', 'ে', 'র'],\n ['চ', 'ি', 'ন', '্', 'ত', 'ে'],\n ['স',\n  '্',\n  'ব',\n  'ো',\n  'ো',\n  'ো',\n  'ো',\n  'ো',\n  'ো',\n  'ো',\n  'ো',\n  'ো',\n  'ো',\n  'ো',\n  'ো',\n  'ো',\n  'ো',\n  'ো',\n  'ো',\n  'ো',\n  'ো',\n  'ক',\n  'া',\n  'ম',\n  'া',\n  'ই',\n  'র',\n  'া'],\n ['স', '্', 'ব', 'গ', 'া', 'জ', 'া', 'ত', '্', 'র', 'া', 'ট', 'া', 'ই'],\n ['চ', 'গ', 'া', 'র', 'ি'],\n ['ড', 'ু', 'ট', 'ি'],\n ['প', '্', 'য', 'া', 'ন', '্', 'ট', '্', 'র', 'ি', 'ট', 'ে', 'ও'],\n ['দ', 'ু', 'দ', 'ি', 'ন', 'া', 'ব', '্', 'য', 'া', 'প', 'ী'],\n ['শ',\n  'ি',\n  'ল',\n  '্',\n  'প',\n  'া',\n  'ো',\n  'ো',\n  'ো',\n  'ো',\n  'ো',\n  'ো',\n  'ো',\n  'ো',\n  'ল',\n  'গ',\n  'ত',\n  'ে'],\n ['ব', 'া', 'ল', 'া', 'ব', 'ি'],\n ['ব', 'ি', 'চ', '্', 'ছ', 'ি', 'ন', '্', 'ন', 'ে'],\n ['ন', 'া', 'র', 'া', 'ক', 'ী', 'য', '়'],\n ['ন', 'া', 'ব', 'া', 'ল', 'া', 'ক'],\n ['প', 'র', 'ি', 'প', '্', 'ল', 'ু', 'ত', 'ম', '্'],\n ['ো', 'য', 'া', 'ক', 'ি', 'য', '়', 'া'],\n ['অ', 'ভ', 'ি', 'য', 'গ', 'া', 'ই'],\n ['অ', '্', 'য', 'া', 'র', 'গ', 'ি', 'ন', 'া', 'ন'],\n ['ও', 'ঠ', 'া', 'ন', 'া', 'ম', 'া'],\n ['ব', 'ি', 'ত', '্', 'ত', 'ব', 'া', 'ন'],\n ['ক', 'গ', 'া', 'র', 'া', 'ন', 'ী', 'র'],\n ['এ', 'ো', 'ো', 'ো', 'ো', 'ল', 'গ'],\n ['ো',\n  'জ',\n  'া',\n  'ন',\n  'া',\n  'স',\n  'া',\n  'ো',\n  'ো',\n  'ো',\n  'ো',\n  'ো',\n  'ো',\n  'ো',\n  'ো',\n  'ো',\n  'ো',\n  'ো',\n  'ো',\n  'ো',\n  'ো',\n  'ো',\n  'ো',\n  'ো',\n  'ো',\n  'ো',\n  'ো',\n  'ো',\n  'ো',\n  'ো',\n  'ো',\n  'ো'],\n ['অ', '্', 'য', 'া', 'ম', '্', 'প', 'ে', 'র', 'ে'],\n ['ম', 'া', 'ত', '্', 'র', 'ী', 'ভ', 'া', 'ষ', 'া', 'র'],\n ['স', 'গ', 'া', 'ম', 'া', 'স', 'হ', 'ু', 'ম', 'া'],\n ['ব',\n  'ঙ',\n  '্',\n  'ো',\n  'ো',\n  'ক',\n  'া',\n  'ধ',\n  'ন',\n  'ব',\n  'া',\n  'ো',\n  'খ',\n  '্',\n  'য',\n  'া',\n  'ন',\n  'া'],\n ['ছ', 'ড', '়', 'ক'],\n ['প', '্', 'র', 'ত', 'ি', 'ষ', '্', 'ঠ', 'া', 'ন', 'প', 'ন', '্', 'ং', 'ি'],\n ['উ', 'প', 'া', 'র', '্', 'জ', 'া', 'ন', 'শ', 'ী', 'ল', 'া'],\n ['ব', 'া', 'স', 'ু'],\n ['ই',\n  'ন',\n  '্',\n  'ড',\n  'ি',\n  'প',\n  'ে',\n  'ন',\n  '্',\n  'ড',\n  'ে',\n  'ন',\n  '্',\n  'ট',\n  'ক',\n  'ে'],\n ['ছ', 'া', 'ত', 'া', 'ফ', 'া', 'ত'],\n ['ো',\n  '্',\n  'য',\n  'া',\n  'র',\n  'ো',\n  'ো',\n  'ো',\n  'ো',\n  'ো',\n  'ো',\n  'ো',\n  'ো',\n  'ক',\n  'া',\n  'ম',\n  'ে',\n  'ই'],\n ['স', 'ফ', 'ত', 'া', 'র', 'ে'],\n ['ম',\n  'া',\n  'ন',\n  'ি',\n  'ক',\n  'া',\n  'শ',\n  'গ',\n  'গ',\n  'গ',\n  'গ',\n  'গ',\n  'গ',\n  'গ',\n  'গ',\n  'গ',\n  'গ',\n  'া'],\n ['স', 'ম', 'র', 'া', 'ধ'],\n ['জ', 'া', 'ল', 'া', 'ও'],\n ['প', '্', 'র', 'া', 'ন', '্', 'ত', 'ি', 'ক', 'ে'],\n ['অ', 'ধ', 'ি', 'ন', 'া', 'য', '়', 'ক', 'ত', '্', 'ব'],\n ['আ', 'উ', 'র', 'া', 'জ', 'জ', 'ে', 'ব'],\n ['প', 'গ', 'স', '্', 'ট', 'ু', 'ল', 'গ', 'ত', 'ে'],\n ['ত', 'া', 'শ', 'ে', 'ম'],\n ['ক',\n  'ু',\n  'র',\n  'া',\n  'ব',\n  'া',\n  'ন',\n  'ু',\n  'প',\n  '্',\n  'র',\n  'ে',\n  'ম',\n  'ে',\n  'দ',\n  'ে',\n  'র'],\n ['ব', 'ি', 'স', '্', 'ত', '্', 'র', 'ী', 'ত', 'ি'],\n ['ব', 'ে', 'ট', 'া', 'খ', 'ো', 'ই'],\n ['ম', 'ি', 'ট', 'ব', 'া'],\n ['র', 'া', 'ক', '্', 'ষ', 'া', 'য', '়'],\n ['ত', 'ল', 'া', 'ল', 'া', 'ব', 'া', 'জ', 'ি'],\n ['আ', 'স', 'ি', 'ব', 'ে'],\n ['ন',\n  'ি',\n  'দ',\n  'া',\n  'র',\n  '্',\n  'ন',\n  'শ',\n  'া',\n  'ো',\n  'ো',\n  'ো',\n  'ো',\n  'ো',\n  'ল',\n  'ু',\n  'ত',\n  'ে'],\n ['ন', 'ি', 'জ', 'ে', 'র', 'া', 'ই'],\n ['ল', 'া', 'র', 'ে', 'হ'],\n ['স', '্', 'ন', 'া', 'ন', 'া', 'দ', 'ৃ', 'শ', '্', 'য'],\n ['ব', 'া', 'জ', 'া', 'র', 'া', 'ম', 'ি', 'য', '়', 'ু', 'ল', 'া'],\n ['র', 'গ', 'া', 'ই'],\n ['প', '্', 'র', 'ে', 'ম', 'ে', 'র', 'া', 'ই'],\n ['ব', 'ি', 'ধ', 'া', 'য', '়', 'ক', 'া', 'দ', 'ে', 'র'],\n ['আ', 'ন', 'া', 'স', 'া', 'র', 'া', 'ভ', 'ি', 'দ', 'ী', 'প', 'ি'],\n ['প',\n  '্',\n  'র',\n  'ব',\n  'ৃ',\n  'ত',\n  '্',\n  'ত',\n  'ি',\n  'ব',\n  'ি',\n  'জ',\n  '্',\n  'ঞ',\n  'া',\n  'ন'],\n ['আ', 'ন', '্', 'ত', 'র', '্', 'জ', 'া', 'ত', 'ি', 'ক'],\n ['ো', 'য', 'া', 'ঞ', '্', 'জ', 'া', 'স'],\n ['প', 'ৌ', 'ঁ', 'ছ', 'া', 'য', '়'],\n ['ও', 'য', '়', 'ে', 'র'],\n ['প', '্', 'র', 'ত', '্', 'ন', 'ত', 'ত', '্', 'ত', '্', 'ব', 'ে', 'র'],\n ['আ', 'ব', 'া', 'হ'],\n ['প', 'ি', 'ত', '্', 'র', 'ি'],\n ['স', '্', 'ল', 'া', 'ো', 'ো', 'জ'],\n ['প',\n  '্',\n  'র',\n  'া',\n  'ক',\n  '্',\n  'র',\n  'ি',\n  'য',\n  '়',\n  'ত',\n  'া',\n  'ন',\n  'ু',\n  'জ',\n  'ি',\n  'য',\n  '়',\n  'ে'],\n ['ম', 'া', 'ল', 'া', 'ল'],\n ['প', '্', 'র', 'ত', 'ি', 'ষ', '্', 'ঠ', 'া', 'ন', 'ে', 'ও'],\n ['ছ', 'ি', 'ত', 'া', 'ম', 'হ', 'ল', 'ে', 'র'],\n ['প', '্', 'র', 'া', 'ত', '্', 'য', 'ু', 'ক', 'ি', 'স', 'ম', 'ূ', 'হ'],\n ['অ', 'র', '্', 'ড', 'া', 'র', 'ো', 'ো', 'ো', 'ো', 'ো', 'ল'],\n ['ব', 'হ', 'ু', 'দ', '্', 'দ', 'ি', 'ন'],\n ['স',\n  'র',\n  '্',\n  'ব',\n  'া',\n  'ঙ',\n  '্',\n  'ো',\n  'ো',\n  'ো',\n  'ো',\n  'ো',\n  'ো',\n  'ো',\n  'ো',\n  'ো',\n  'ো',\n  'ো',\n  'ো',\n  'ো',\n  'ো',\n  'ো',\n  'ো',\n  'ো',\n  'ো',\n  'জ',\n  'স',\n  'ম',\n  '্',\n  'ন'],\n ['ো', 'ব', 'ে', 'জ', 'শ', 'ন', 'া', 'ও'],\n ['ম', 'া', 'র', 'া', 'স', 'ু', 'ম', 'ে'],\n ['অ', 'প', 'ম', 'ৃ', 'ত', '্', 'য', 'ু'],\n ['ো',\n  'ব',\n  'ে',\n  'স',\n  'া',\n  'ঘ',\n  'া',\n  'ো',\n  'ো',\n  'ন',\n  'া',\n  'ো',\n  'ো',\n  'ো',\n  'ো',\n  'ো',\n  'ো',\n  'ো',\n  'ো',\n  'ো',\n  'ো',\n  'ো',\n  'ো',\n  'ো',\n  'ো',\n  'ো',\n  'ো',\n  'ো',\n  'ো',\n  'ো',\n  'ো',\n  'ো'],\n ['ব', 'া', 'দ', 'ি', 'য', '়', 'ে', 'ছ', 'ে', 'ই'],\n ['ব',\n  'ি',\n  'ক',\n  'ল',\n  '্',\n  'প',\n  'ো',\n  'ো',\n  'ো',\n  'ো',\n  'ো',\n  'ো',\n  'ো',\n  'ো',\n  'ো',\n  'ো',\n  'ো',\n  'ক',\n  'ে',\n  'ই'],\n ['চ', 'গ', 'া'],\n ['প', 'া', 'র', 'া', 'স', 'ে', 'ন', '্', 'ট', 'ে', 'র'],\n ['স',\n  'খ',\n  '্',\n  '্',\n  'য',\n  'া',\n  'স',\n  'ি',\n  'খ',\n  '্',\n  'র',\n  'স',\n  'ম',\n  'ী',\n  'ো',\n  'ো',\n  'ো',\n  'ভ'],\n ['স', '্', 'ং', 'ং', 'ং', 'ত', 'ে', 'ত', 'ে'],\n ['হ', '্', 'য', 'া', 'ম', 'গ', 'া'],\n ['এ', 'ড', '়', 'ি', 'ক', 'া', 'ো', 'ো', 'ো', 'ো', 'ো', 'ো', 'ল', 'ও'],\n ['ং', 'ক', 'ঠ', 'ক'],\n ['ব', 'ে', 'দ', 'া', 'থ', 'া', 'ল'],\n ['র', 'ে', 'ভ', 'া', 'স'],\n ['প', 'া', 'র', '্', 'স', 'ে', 'ন', '্', 'ট', 'ে', 'র'],\n ['চ', 'ৌ', 'য', '়', 'া', 'ক', 'ে'],\n ['আ', 'ন', '্', 'ত', 'ি'],\n ['ব',\n  'ি',\n  'শ',\n  '্',\n  'ব',\n  'া',\n  'ব',\n  'ি',\n  'য',\n  'গ',\n  'া',\n  'দ',\n  'ু',\n  'ল',\n  'গ',\n  'ে'],\n ['জ', 'ে', 'ম', 'া', 'ন', 'ি'],\n ...]"
          },
          "metadata": {}
        }
      ],
      "id": "KBCp131Fbr6L"
    },
    {
      "cell_type": "code",
      "source": [
        "bleu = load_metric(\"bleu\")\n",
        "bleu.compute(predictions = predictions, references = true_labels)\n"
      ],
      "metadata": {
        "id": "oEB3e-Drby01",
        "colab": {
          "base_uri": "https://localhost:8080/",
          "height": 292,
          "referenced_widgets": [
            "c8cc9de66fa14b95b57a9acdade4baf1",
            "1f5f7cbd9de14a65851d62a87d8bd84c",
            "e1c8250365754267ae6c257227ea4acd",
            "b633ea13dff14111b29ba519a7f0f43c",
            "8091a685eebe4fef973f380c58770d62",
            "843ea56843444b3a97829fb899e539e4",
            "0e16ac91161d4d27b5f0a094182c0eb1",
            "9cc5c5185e494216ac5b62054a98ca2f",
            "3e364f15d446450fa5f915d61c415a96",
            "83502dd5f8844cb7b54e177f8cc850e9",
            "5e368d234a024ab8b5f8b6870eeca721",
            "3e8d4806a4da402da42c1d6b66346379",
            "c8d8ed90bc734ca8b53aeda584bedf3b",
            "6a407062e1e247c09b1958ea4c11cdf8",
            "08d91759c959440dbcc6afbdcf34ca0f",
            "ad3517e2a5e743619907fe8497c7ddc0",
            "5529be532b2a4d3b9bd08cc19e0166fa",
            "21c43c7ce3344d208791838ee614fca1",
            "f139b187d92d47b68a7885e7c67637f0",
            "998ff364d75e4387a07b718d2937c84b",
            "55a3cfc292ab482aa3c997a2e196892f",
            "dc0dbb7f3fc543bc801cefcfffb28413"
          ]
        },
        "outputId": "d69a7047-8221-4afa-e9d4-723e834b6bb9",
        "execution": {
          "iopub.status.busy": "2024-02-23T18:12:43.204242Z",
          "iopub.execute_input": "2024-02-23T18:12:43.204576Z",
          "iopub.status.idle": "2024-02-23T18:12:44.234710Z",
          "shell.execute_reply.started": "2024-02-23T18:12:43.204545Z",
          "shell.execute_reply": "2024-02-23T18:12:44.233746Z"
        },
        "trusted": true
      },
      "execution_count": null,
      "outputs": [
        {
          "execution_count": 166,
          "output_type": "execute_result",
          "data": {
            "text/plain": "{'bleu': 0.4456544625954141,\n 'precisions': [0.7042406437603781,\n  0.49618590196355417,\n  0.3798388370990678,\n  0.29718587560494714],\n 'brevity_penalty': 1.0,\n 'length_ratio': 1.154123977297855,\n 'translation_length': 15658,\n 'reference_length': 13567}"
          },
          "metadata": {}
        }
      ],
      "id": "oEB3e-Drby01"
    },
    {
      "cell_type": "code",
      "source": [
        "def transliterate(source_word_in_padded_int_seq):\n",
        "  #list_pred_words = []\n",
        "  start_token = np.zeros((1, 1))\n",
        "  start_token[0] = ass_tokenizer.word_index['\\t']\n",
        "  #print(start_token)\n",
        "\n",
        "  #for x in tqdm(range(len(list_source_words_in_padded_int_seq))):\n",
        "  source_seq = start_token\n",
        "  pred_word = ''\n",
        "  #v = np.reshape(source_word_in_padded_int_seq, (1, -1))\n",
        "  next_h, next_c = encoder.predict(source_word_in_padded_int_seq,verbose=0)\n",
        "  for i in range(max_decoder_seq_length_ass):\n",
        "    output, next_h, next_c = decoder.predict([source_seq] + [next_h, next_c],verbose=0)\n",
        "    next_token = np.argmax(output[0, 0, :])\n",
        "    next_char = reverse_target_char_index[next_token]\n",
        "    if next_char == '\\n':\n",
        "      break\n",
        "    else:\n",
        "      pred_word += next_char\n",
        "      source_seq = np.zeros((1, 1))\n",
        "      source_seq[0] = next_token\n",
        "  #list_pred_words.append(pred_word)\n",
        "  return pred_word\n",
        "\n",
        "input_word = input(\"\\nEnter a romanized word: \")\n",
        "input_word_in_ids = roman_tokenizer.texts_to_sequences([input_word])\n",
        "\n",
        "input_word_in_ids_padded = post_padding(input_word_in_ids, max_encoder_seq_length_roman)\n",
        "\n",
        "print(f\"\\nTransliterated word : {transliterate(input_word_in_ids_padded)}\")\n"
      ],
      "metadata": {
        "id": "K10l-cYEb76c",
        "colab": {
          "base_uri": "https://localhost:8080/"
        },
        "outputId": "79df06b9-b8ff-4aeb-aa94-36be11b0b46f",
        "execution": {
          "iopub.status.busy": "2024-02-23T18:32:07.309734Z",
          "iopub.execute_input": "2024-02-23T18:32:07.310633Z",
          "iopub.status.idle": "2024-02-23T18:32:12.380810Z",
          "shell.execute_reply.started": "2024-02-23T18:32:07.310598Z",
          "shell.execute_reply": "2024-02-23T18:32:12.379870Z"
        },
        "trusted": true
      },
      "execution_count": null,
      "outputs": [
        {
          "output_type": "stream",
          "name": "stdin",
          "text": "\nEnter a romanized word:  Abhijit\n"
        },
        {
          "name": "stdout",
          "text": "\nTransliterated word : অভিজিৎ\n",
          "output_type": "stream"
        }
      ],
      "id": "K10l-cYEb76c"
    },
    {
      "cell_type": "code",
      "source": [],
      "metadata": {
        "id": "gTbtmEBWcNGE"
      },
      "execution_count": null,
      "outputs": [],
      "id": "gTbtmEBWcNGE"
    }
  ]
}